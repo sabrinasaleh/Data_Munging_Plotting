{
 "cells": [
  {
   "cell_type": "code",
   "execution_count": 43,
   "metadata": {},
   "outputs": [
    {
     "name": "stdout",
     "output_type": "stream",
     "text": [
      "The lab_black extension is already loaded. To reload it, use:\n",
      "  %reload_ext lab_black\n"
     ]
    }
   ],
   "source": [
    "# Dependencies and Setup\n",
    "%load_ext lab_black\n",
    "import pandas as pd\n",
    "import numpy as np\n",
    "import requests\n",
    "import json\n",
    "import world_bank_data as wb\n",
    "import plotly\n",
    "import plotly.express as px"
   ]
  },
  {
   "cell_type": "code",
   "execution_count": 44,
   "metadata": {},
   "outputs": [
    {
     "data": {
      "text/plain": [
       "Country\n",
       "ARB    2.772025e+12\n",
       "CSS    7.345916e+10\n",
       "CEB    1.637175e+12\n",
       "EAR    1.163520e+13\n",
       "EAS    2.634698e+13\n",
       "           ...     \n",
       "VIR             NaN\n",
       "PSE    1.461590e+10\n",
       "YEM    2.759126e+10\n",
       "ZMB    2.700524e+10\n",
       "ZWE    2.431156e+10\n",
       "Name: NY.GDP.MKTP.CD, Length: 264, dtype: float64"
      ]
     },
     "execution_count": 44,
     "metadata": {},
     "output_type": "execute_result"
    }
   ],
   "source": [
    "# Extracting GDP_2018 data from World Bank using wrapped api\n",
    "GDP_WB = wb.get_series(\n",
    "    \"NY.GDP.MKTP.CD\", date=\"2018\", id_or_value=\"id\", simplify_index=True\n",
    ")\n",
    "GDP_WB"
   ]
  },
  {
   "cell_type": "code",
   "execution_count": 45,
   "metadata": {},
   "outputs": [
    {
     "data": {
      "text/html": [
       "<div>\n",
       "<style scoped>\n",
       "    .dataframe tbody tr th:only-of-type {\n",
       "        vertical-align: middle;\n",
       "    }\n",
       "\n",
       "    .dataframe tbody tr th {\n",
       "        vertical-align: top;\n",
       "    }\n",
       "\n",
       "    .dataframe thead th {\n",
       "        text-align: right;\n",
       "    }\n",
       "</style>\n",
       "<table border=\"1\" class=\"dataframe\">\n",
       "  <thead>\n",
       "    <tr style=\"text-align: right;\">\n",
       "      <th></th>\n",
       "      <th>Country</th>\n",
       "      <th>NY.GDP.MKTP.CD</th>\n",
       "    </tr>\n",
       "  </thead>\n",
       "  <tbody>\n",
       "    <tr>\n",
       "      <th>0</th>\n",
       "      <td>ARB</td>\n",
       "      <td>2.772025e+12</td>\n",
       "    </tr>\n",
       "    <tr>\n",
       "      <th>1</th>\n",
       "      <td>CSS</td>\n",
       "      <td>7.345916e+10</td>\n",
       "    </tr>\n",
       "    <tr>\n",
       "      <th>2</th>\n",
       "      <td>CEB</td>\n",
       "      <td>1.637175e+12</td>\n",
       "    </tr>\n",
       "    <tr>\n",
       "      <th>3</th>\n",
       "      <td>EAR</td>\n",
       "      <td>1.163520e+13</td>\n",
       "    </tr>\n",
       "    <tr>\n",
       "      <th>4</th>\n",
       "      <td>EAS</td>\n",
       "      <td>2.634698e+13</td>\n",
       "    </tr>\n",
       "    <tr>\n",
       "      <th>...</th>\n",
       "      <td>...</td>\n",
       "      <td>...</td>\n",
       "    </tr>\n",
       "    <tr>\n",
       "      <th>259</th>\n",
       "      <td>VIR</td>\n",
       "      <td>NaN</td>\n",
       "    </tr>\n",
       "    <tr>\n",
       "      <th>260</th>\n",
       "      <td>PSE</td>\n",
       "      <td>1.461590e+10</td>\n",
       "    </tr>\n",
       "    <tr>\n",
       "      <th>261</th>\n",
       "      <td>YEM</td>\n",
       "      <td>2.759126e+10</td>\n",
       "    </tr>\n",
       "    <tr>\n",
       "      <th>262</th>\n",
       "      <td>ZMB</td>\n",
       "      <td>2.700524e+10</td>\n",
       "    </tr>\n",
       "    <tr>\n",
       "      <th>263</th>\n",
       "      <td>ZWE</td>\n",
       "      <td>2.431156e+10</td>\n",
       "    </tr>\n",
       "  </tbody>\n",
       "</table>\n",
       "<p>264 rows × 2 columns</p>\n",
       "</div>"
      ],
      "text/plain": [
       "    Country  NY.GDP.MKTP.CD\n",
       "0       ARB    2.772025e+12\n",
       "1       CSS    7.345916e+10\n",
       "2       CEB    1.637175e+12\n",
       "3       EAR    1.163520e+13\n",
       "4       EAS    2.634698e+13\n",
       "..      ...             ...\n",
       "259     VIR             NaN\n",
       "260     PSE    1.461590e+10\n",
       "261     YEM    2.759126e+10\n",
       "262     ZMB    2.700524e+10\n",
       "263     ZWE    2.431156e+10\n",
       "\n",
       "[264 rows x 2 columns]"
      ]
     },
     "execution_count": 45,
     "metadata": {},
     "output_type": "execute_result"
    }
   ],
   "source": [
    "# Creating data frame for World Bank's GDP_2018 data: df_GDP\n",
    "df_GDP = pd.DataFrame(GDP_WB).reset_index()\n",
    "df_GDP"
   ]
  },
  {
   "cell_type": "code",
   "execution_count": 46,
   "metadata": {},
   "outputs": [
    {
     "data": {
      "text/plain": [
       "264"
      ]
     },
     "execution_count": 46,
     "metadata": {},
     "output_type": "execute_result"
    }
   ],
   "source": [
    "# Converting GDP-USD (NY.GDP.MKTP.CD) data to million\n",
    "GDP_2018_million = np.array(df_GDP[\"NY.GDP.MKTP.CD\"] / 1000000)\n",
    "len(GDP_2018_million)"
   ]
  },
  {
   "cell_type": "code",
   "execution_count": 47,
   "metadata": {},
   "outputs": [
    {
     "data": {
      "text/html": [
       "<div>\n",
       "<style scoped>\n",
       "    .dataframe tbody tr th:only-of-type {\n",
       "        vertical-align: middle;\n",
       "    }\n",
       "\n",
       "    .dataframe tbody tr th {\n",
       "        vertical-align: top;\n",
       "    }\n",
       "\n",
       "    .dataframe thead th {\n",
       "        text-align: right;\n",
       "    }\n",
       "</style>\n",
       "<table border=\"1\" class=\"dataframe\">\n",
       "  <thead>\n",
       "    <tr style=\"text-align: right;\">\n",
       "      <th></th>\n",
       "      <th>Country</th>\n",
       "      <th>NY.GDP.MKTP.CD</th>\n",
       "      <th>GDP_2018 (million)</th>\n",
       "    </tr>\n",
       "  </thead>\n",
       "  <tbody>\n",
       "    <tr>\n",
       "      <th>0</th>\n",
       "      <td>ARB</td>\n",
       "      <td>2.772025e+12</td>\n",
       "      <td>2.772025e+06</td>\n",
       "    </tr>\n",
       "    <tr>\n",
       "      <th>1</th>\n",
       "      <td>CSS</td>\n",
       "      <td>7.345916e+10</td>\n",
       "      <td>7.345916e+04</td>\n",
       "    </tr>\n",
       "    <tr>\n",
       "      <th>2</th>\n",
       "      <td>CEB</td>\n",
       "      <td>1.637175e+12</td>\n",
       "      <td>1.637175e+06</td>\n",
       "    </tr>\n",
       "    <tr>\n",
       "      <th>3</th>\n",
       "      <td>EAR</td>\n",
       "      <td>1.163520e+13</td>\n",
       "      <td>1.163520e+07</td>\n",
       "    </tr>\n",
       "    <tr>\n",
       "      <th>4</th>\n",
       "      <td>EAS</td>\n",
       "      <td>2.634698e+13</td>\n",
       "      <td>2.634698e+07</td>\n",
       "    </tr>\n",
       "    <tr>\n",
       "      <th>...</th>\n",
       "      <td>...</td>\n",
       "      <td>...</td>\n",
       "      <td>...</td>\n",
       "    </tr>\n",
       "    <tr>\n",
       "      <th>259</th>\n",
       "      <td>VIR</td>\n",
       "      <td>NaN</td>\n",
       "      <td>NaN</td>\n",
       "    </tr>\n",
       "    <tr>\n",
       "      <th>260</th>\n",
       "      <td>PSE</td>\n",
       "      <td>1.461590e+10</td>\n",
       "      <td>1.461590e+04</td>\n",
       "    </tr>\n",
       "    <tr>\n",
       "      <th>261</th>\n",
       "      <td>YEM</td>\n",
       "      <td>2.759126e+10</td>\n",
       "      <td>2.759126e+04</td>\n",
       "    </tr>\n",
       "    <tr>\n",
       "      <th>262</th>\n",
       "      <td>ZMB</td>\n",
       "      <td>2.700524e+10</td>\n",
       "      <td>2.700524e+04</td>\n",
       "    </tr>\n",
       "    <tr>\n",
       "      <th>263</th>\n",
       "      <td>ZWE</td>\n",
       "      <td>2.431156e+10</td>\n",
       "      <td>2.431156e+04</td>\n",
       "    </tr>\n",
       "  </tbody>\n",
       "</table>\n",
       "<p>264 rows × 3 columns</p>\n",
       "</div>"
      ],
      "text/plain": [
       "    Country  NY.GDP.MKTP.CD  GDP_2018 (million)\n",
       "0       ARB    2.772025e+12        2.772025e+06\n",
       "1       CSS    7.345916e+10        7.345916e+04\n",
       "2       CEB    1.637175e+12        1.637175e+06\n",
       "3       EAR    1.163520e+13        1.163520e+07\n",
       "4       EAS    2.634698e+13        2.634698e+07\n",
       "..      ...             ...                 ...\n",
       "259     VIR             NaN                 NaN\n",
       "260     PSE    1.461590e+10        1.461590e+04\n",
       "261     YEM    2.759126e+10        2.759126e+04\n",
       "262     ZMB    2.700524e+10        2.700524e+04\n",
       "263     ZWE    2.431156e+10        2.431156e+04\n",
       "\n",
       "[264 rows x 3 columns]"
      ]
     },
     "execution_count": 47,
     "metadata": {},
     "output_type": "execute_result"
    }
   ],
   "source": [
    "# Adding a new column \"GDP_2018 (million)\" to data frame df_GDP\n",
    "df_GDP[\"GDP_2018 (million)\"] = GDP_2018_million\n",
    "df_GDP"
   ]
  },
  {
   "cell_type": "code",
   "execution_count": 48,
   "metadata": {},
   "outputs": [],
   "source": [
    "# Exporting & saving df_GDP data to csv file\n",
    "# df_GDP.to_csv(\"Resources/GDP_WB.csv\", index=False)"
   ]
  },
  {
   "cell_type": "code",
   "execution_count": 49,
   "metadata": {},
   "outputs": [],
   "source": [
    "# Reading the csv files for independent and dependent variables\n",
    "GDP_2018 = pd.read_csv(\"Resources/GDP_WB.csv\")\n",
    "innov_tech_2018 = pd.read_csv(\"Resources/Innovation&Technology_WB.csv\")\n",
    "doing_busn_2018 = pd.read_csv(\"Resources/DoingBusiness_WB.csv\")\n",
    "capital_lat_lng = pd.read_csv(\"Resources/Capital_Lat_Lng.csv\")\n",
    "FDI_USA_2018 = pd.read_csv(\"Resources/InwardFDI_USA_BeaGOV.csv\")"
   ]
  },
  {
   "cell_type": "code",
   "execution_count": 50,
   "metadata": {},
   "outputs": [
    {
     "data": {
      "text/html": [
       "<div>\n",
       "<style scoped>\n",
       "    .dataframe tbody tr th:only-of-type {\n",
       "        vertical-align: middle;\n",
       "    }\n",
       "\n",
       "    .dataframe tbody tr th {\n",
       "        vertical-align: top;\n",
       "    }\n",
       "\n",
       "    .dataframe thead th {\n",
       "        text-align: right;\n",
       "    }\n",
       "</style>\n",
       "<table border=\"1\" class=\"dataframe\">\n",
       "  <thead>\n",
       "    <tr style=\"text-align: right;\">\n",
       "      <th></th>\n",
       "      <th>Country</th>\n",
       "      <th>country_name</th>\n",
       "    </tr>\n",
       "  </thead>\n",
       "  <tbody>\n",
       "    <tr>\n",
       "      <th>0</th>\n",
       "      <td>ARB</td>\n",
       "      <td>Arab World</td>\n",
       "    </tr>\n",
       "    <tr>\n",
       "      <th>1</th>\n",
       "      <td>CSS</td>\n",
       "      <td>Caribbean small states</td>\n",
       "    </tr>\n",
       "    <tr>\n",
       "      <th>2</th>\n",
       "      <td>CEB</td>\n",
       "      <td>NaN</td>\n",
       "    </tr>\n",
       "    <tr>\n",
       "      <th>3</th>\n",
       "      <td>EAR</td>\n",
       "      <td>NaN</td>\n",
       "    </tr>\n",
       "    <tr>\n",
       "      <th>4</th>\n",
       "      <td>EAS</td>\n",
       "      <td>NaN</td>\n",
       "    </tr>\n",
       "    <tr>\n",
       "      <th>...</th>\n",
       "      <td>...</td>\n",
       "      <td>...</td>\n",
       "    </tr>\n",
       "    <tr>\n",
       "      <th>259</th>\n",
       "      <td>VIR</td>\n",
       "      <td>NaN</td>\n",
       "    </tr>\n",
       "    <tr>\n",
       "      <th>260</th>\n",
       "      <td>PSE</td>\n",
       "      <td>West Bank and Gaza</td>\n",
       "    </tr>\n",
       "    <tr>\n",
       "      <th>261</th>\n",
       "      <td>YEM</td>\n",
       "      <td>Yemen, Rep.</td>\n",
       "    </tr>\n",
       "    <tr>\n",
       "      <th>262</th>\n",
       "      <td>ZMB</td>\n",
       "      <td>Zambia</td>\n",
       "    </tr>\n",
       "    <tr>\n",
       "      <th>263</th>\n",
       "      <td>ZWE</td>\n",
       "      <td>Zimbabwe</td>\n",
       "    </tr>\n",
       "  </tbody>\n",
       "</table>\n",
       "<p>264 rows × 2 columns</p>\n",
       "</div>"
      ],
      "text/plain": [
       "    Country            country_name\n",
       "0       ARB              Arab World\n",
       "1       CSS  Caribbean small states\n",
       "2       CEB                     NaN\n",
       "3       EAR                     NaN\n",
       "4       EAS                     NaN\n",
       "..      ...                     ...\n",
       "259     VIR                     NaN\n",
       "260     PSE      West Bank and Gaza\n",
       "261     YEM             Yemen, Rep.\n",
       "262     ZMB                  Zambia\n",
       "263     ZWE                Zimbabwe\n",
       "\n",
       "[264 rows x 2 columns]"
      ]
     },
     "execution_count": 50,
     "metadata": {},
     "output_type": "execute_result"
    }
   ],
   "source": [
    "# Merging GDP_2018 and innov_tech_2018 for Country and country_name\n",
    "df_1 = pd.merge(GDP_2018, innov_tech_2018, on=\"Country\", how=\"outer\").drop(\n",
    "    [\n",
    "        \"NY.GDP.MKTP.CD\",\n",
    "        \"GDP_2018 (million)\",\n",
    "        \"indicator_name\",\n",
    "        \"indicator_code\",\n",
    "        \"tech_export_2017 (million)\",\n",
    "        \"tech_export_2018 (million)\",\n",
    "        \"tech_export_2019 (million)\",\n",
    "    ],\n",
    "    axis=1,\n",
    ")\n",
    "\n",
    "df_1"
   ]
  },
  {
   "cell_type": "code",
   "execution_count": 51,
   "metadata": {},
   "outputs": [
    {
     "data": {
      "text/html": [
       "<div>\n",
       "<style scoped>\n",
       "    .dataframe tbody tr th:only-of-type {\n",
       "        vertical-align: middle;\n",
       "    }\n",
       "\n",
       "    .dataframe tbody tr th {\n",
       "        vertical-align: top;\n",
       "    }\n",
       "\n",
       "    .dataframe thead th {\n",
       "        text-align: right;\n",
       "    }\n",
       "</style>\n",
       "<table border=\"1\" class=\"dataframe\">\n",
       "  <thead>\n",
       "    <tr style=\"text-align: right;\">\n",
       "      <th></th>\n",
       "      <th>Country</th>\n",
       "      <th>country_name</th>\n",
       "      <th>capital_city</th>\n",
       "      <th>lat</th>\n",
       "      <th>lng</th>\n",
       "    </tr>\n",
       "  </thead>\n",
       "  <tbody>\n",
       "    <tr>\n",
       "      <th>0</th>\n",
       "      <td>ARB</td>\n",
       "      <td>Arab World</td>\n",
       "      <td>NaN</td>\n",
       "      <td>NaN</td>\n",
       "      <td>NaN</td>\n",
       "    </tr>\n",
       "    <tr>\n",
       "      <th>1</th>\n",
       "      <td>CSS</td>\n",
       "      <td>Caribbean small states</td>\n",
       "      <td>Kralendijk</td>\n",
       "      <td>12.1500</td>\n",
       "      <td>-68.2667</td>\n",
       "    </tr>\n",
       "    <tr>\n",
       "      <th>2</th>\n",
       "      <td>CEB</td>\n",
       "      <td>NaN</td>\n",
       "      <td>NaN</td>\n",
       "      <td>NaN</td>\n",
       "      <td>NaN</td>\n",
       "    </tr>\n",
       "    <tr>\n",
       "      <th>3</th>\n",
       "      <td>EAR</td>\n",
       "      <td>NaN</td>\n",
       "      <td>NaN</td>\n",
       "      <td>NaN</td>\n",
       "      <td>NaN</td>\n",
       "    </tr>\n",
       "    <tr>\n",
       "      <th>4</th>\n",
       "      <td>EAS</td>\n",
       "      <td>NaN</td>\n",
       "      <td>NaN</td>\n",
       "      <td>NaN</td>\n",
       "      <td>NaN</td>\n",
       "    </tr>\n",
       "    <tr>\n",
       "      <th>...</th>\n",
       "      <td>...</td>\n",
       "      <td>...</td>\n",
       "      <td>...</td>\n",
       "      <td>...</td>\n",
       "      <td>...</td>\n",
       "    </tr>\n",
       "    <tr>\n",
       "      <th>286</th>\n",
       "      <td>NaN</td>\n",
       "      <td>Turks and Caicos Islands</td>\n",
       "      <td>Cockburn Town</td>\n",
       "      <td>21.4612</td>\n",
       "      <td>-71.1419</td>\n",
       "    </tr>\n",
       "    <tr>\n",
       "      <th>287</th>\n",
       "      <td>NaN</td>\n",
       "      <td>United States of America</td>\n",
       "      <td>Washington, D.C.</td>\n",
       "      <td>38.8951</td>\n",
       "      <td>-77.0364</td>\n",
       "    </tr>\n",
       "    <tr>\n",
       "      <th>288</th>\n",
       "      <td>NaN</td>\n",
       "      <td>Virgin Islands (U.S.)</td>\n",
       "      <td>Charlotte Amalie</td>\n",
       "      <td>18.3419</td>\n",
       "      <td>-64.9307</td>\n",
       "    </tr>\n",
       "    <tr>\n",
       "      <th>289</th>\n",
       "      <td>NaN</td>\n",
       "      <td>Wallis and Futuna Islands</td>\n",
       "      <td>Matu-Utu</td>\n",
       "      <td>-13.2816</td>\n",
       "      <td>-176.1745</td>\n",
       "    </tr>\n",
       "    <tr>\n",
       "      <th>290</th>\n",
       "      <td>NaN</td>\n",
       "      <td>Western Sahara</td>\n",
       "      <td>El Aaiún</td>\n",
       "      <td>27.1532</td>\n",
       "      <td>-13.2014</td>\n",
       "    </tr>\n",
       "  </tbody>\n",
       "</table>\n",
       "<p>291 rows × 5 columns</p>\n",
       "</div>"
      ],
      "text/plain": [
       "    Country               country_name      capital_city      lat       lng\n",
       "0       ARB                 Arab World               NaN      NaN       NaN\n",
       "1       CSS     Caribbean small states        Kralendijk  12.1500  -68.2667\n",
       "2       CEB                        NaN               NaN      NaN       NaN\n",
       "3       EAR                        NaN               NaN      NaN       NaN\n",
       "4       EAS                        NaN               NaN      NaN       NaN\n",
       "..      ...                        ...               ...      ...       ...\n",
       "286     NaN   Turks and Caicos Islands     Cockburn Town  21.4612  -71.1419\n",
       "287     NaN   United States of America  Washington, D.C.  38.8951  -77.0364\n",
       "288     NaN      Virgin Islands (U.S.)  Charlotte Amalie  18.3419  -64.9307\n",
       "289     NaN  Wallis and Futuna Islands          Matu-Utu -13.2816 -176.1745\n",
       "290     NaN             Western Sahara          El Aaiún  27.1532  -13.2014\n",
       "\n",
       "[291 rows x 5 columns]"
      ]
     },
     "execution_count": 51,
     "metadata": {},
     "output_type": "execute_result"
    }
   ],
   "source": [
    "# Merging for capital_city, lat, and lng\n",
    "df_2 = pd.merge(df_1, capital_lat_lng, on=\"country_name\", how=\"outer\")\n",
    "df_2"
   ]
  },
  {
   "cell_type": "code",
   "execution_count": 52,
   "metadata": {},
   "outputs": [
    {
     "data": {
      "text/html": [
       "<div>\n",
       "<style scoped>\n",
       "    .dataframe tbody tr th:only-of-type {\n",
       "        vertical-align: middle;\n",
       "    }\n",
       "\n",
       "    .dataframe tbody tr th {\n",
       "        vertical-align: top;\n",
       "    }\n",
       "\n",
       "    .dataframe thead th {\n",
       "        text-align: right;\n",
       "    }\n",
       "</style>\n",
       "<table border=\"1\" class=\"dataframe\">\n",
       "  <thead>\n",
       "    <tr style=\"text-align: right;\">\n",
       "      <th></th>\n",
       "      <th>Country</th>\n",
       "      <th>country_name</th>\n",
       "      <th>capital_city</th>\n",
       "      <th>lat</th>\n",
       "      <th>lng</th>\n",
       "      <th>GDP_2018 (million)</th>\n",
       "    </tr>\n",
       "  </thead>\n",
       "  <tbody>\n",
       "    <tr>\n",
       "      <th>0</th>\n",
       "      <td>ARB</td>\n",
       "      <td>Arab World</td>\n",
       "      <td>NaN</td>\n",
       "      <td>NaN</td>\n",
       "      <td>NaN</td>\n",
       "      <td>2.772025e+06</td>\n",
       "    </tr>\n",
       "    <tr>\n",
       "      <th>1</th>\n",
       "      <td>CSS</td>\n",
       "      <td>Caribbean small states</td>\n",
       "      <td>Kralendijk</td>\n",
       "      <td>12.1500</td>\n",
       "      <td>-68.2667</td>\n",
       "      <td>7.345916e+04</td>\n",
       "    </tr>\n",
       "    <tr>\n",
       "      <th>2</th>\n",
       "      <td>CEB</td>\n",
       "      <td>NaN</td>\n",
       "      <td>NaN</td>\n",
       "      <td>NaN</td>\n",
       "      <td>NaN</td>\n",
       "      <td>1.637175e+06</td>\n",
       "    </tr>\n",
       "    <tr>\n",
       "      <th>3</th>\n",
       "      <td>EAR</td>\n",
       "      <td>NaN</td>\n",
       "      <td>NaN</td>\n",
       "      <td>NaN</td>\n",
       "      <td>NaN</td>\n",
       "      <td>1.163520e+07</td>\n",
       "    </tr>\n",
       "    <tr>\n",
       "      <th>4</th>\n",
       "      <td>EAS</td>\n",
       "      <td>NaN</td>\n",
       "      <td>NaN</td>\n",
       "      <td>NaN</td>\n",
       "      <td>NaN</td>\n",
       "      <td>2.634698e+07</td>\n",
       "    </tr>\n",
       "    <tr>\n",
       "      <th>...</th>\n",
       "      <td>...</td>\n",
       "      <td>...</td>\n",
       "      <td>...</td>\n",
       "      <td>...</td>\n",
       "      <td>...</td>\n",
       "      <td>...</td>\n",
       "    </tr>\n",
       "    <tr>\n",
       "      <th>286</th>\n",
       "      <td>NaN</td>\n",
       "      <td>Turks and Caicos Islands</td>\n",
       "      <td>Cockburn Town</td>\n",
       "      <td>21.4612</td>\n",
       "      <td>-71.1419</td>\n",
       "      <td>NaN</td>\n",
       "    </tr>\n",
       "    <tr>\n",
       "      <th>287</th>\n",
       "      <td>NaN</td>\n",
       "      <td>United States of America</td>\n",
       "      <td>Washington, D.C.</td>\n",
       "      <td>38.8951</td>\n",
       "      <td>-77.0364</td>\n",
       "      <td>NaN</td>\n",
       "    </tr>\n",
       "    <tr>\n",
       "      <th>288</th>\n",
       "      <td>NaN</td>\n",
       "      <td>Virgin Islands (U.S.)</td>\n",
       "      <td>Charlotte Amalie</td>\n",
       "      <td>18.3419</td>\n",
       "      <td>-64.9307</td>\n",
       "      <td>NaN</td>\n",
       "    </tr>\n",
       "    <tr>\n",
       "      <th>289</th>\n",
       "      <td>NaN</td>\n",
       "      <td>Wallis and Futuna Islands</td>\n",
       "      <td>Matu-Utu</td>\n",
       "      <td>-13.2816</td>\n",
       "      <td>-176.1745</td>\n",
       "      <td>NaN</td>\n",
       "    </tr>\n",
       "    <tr>\n",
       "      <th>290</th>\n",
       "      <td>NaN</td>\n",
       "      <td>Western Sahara</td>\n",
       "      <td>El Aaiún</td>\n",
       "      <td>27.1532</td>\n",
       "      <td>-13.2014</td>\n",
       "      <td>NaN</td>\n",
       "    </tr>\n",
       "  </tbody>\n",
       "</table>\n",
       "<p>291 rows × 6 columns</p>\n",
       "</div>"
      ],
      "text/plain": [
       "    Country               country_name      capital_city      lat       lng  \\\n",
       "0       ARB                 Arab World               NaN      NaN       NaN   \n",
       "1       CSS     Caribbean small states        Kralendijk  12.1500  -68.2667   \n",
       "2       CEB                        NaN               NaN      NaN       NaN   \n",
       "3       EAR                        NaN               NaN      NaN       NaN   \n",
       "4       EAS                        NaN               NaN      NaN       NaN   \n",
       "..      ...                        ...               ...      ...       ...   \n",
       "286     NaN   Turks and Caicos Islands     Cockburn Town  21.4612  -71.1419   \n",
       "287     NaN   United States of America  Washington, D.C.  38.8951  -77.0364   \n",
       "288     NaN      Virgin Islands (U.S.)  Charlotte Amalie  18.3419  -64.9307   \n",
       "289     NaN  Wallis and Futuna Islands          Matu-Utu -13.2816 -176.1745   \n",
       "290     NaN             Western Sahara          El Aaiún  27.1532  -13.2014   \n",
       "\n",
       "     GDP_2018 (million)  \n",
       "0          2.772025e+06  \n",
       "1          7.345916e+04  \n",
       "2          1.637175e+06  \n",
       "3          1.163520e+07  \n",
       "4          2.634698e+07  \n",
       "..                  ...  \n",
       "286                 NaN  \n",
       "287                 NaN  \n",
       "288                 NaN  \n",
       "289                 NaN  \n",
       "290                 NaN  \n",
       "\n",
       "[291 rows x 6 columns]"
      ]
     },
     "execution_count": 52,
     "metadata": {},
     "output_type": "execute_result"
    }
   ],
   "source": [
    "# Merging for GDP_2018 (million)\n",
    "df_3 = pd.merge(df_2, GDP_2018, on=\"Country\", how=\"outer\").drop(\n",
    "    [\"NY.GDP.MKTP.CD\"], axis=1,\n",
    ")\n",
    "df_3"
   ]
  },
  {
   "cell_type": "code",
   "execution_count": 53,
   "metadata": {},
   "outputs": [
    {
     "data": {
      "text/html": [
       "<div>\n",
       "<style scoped>\n",
       "    .dataframe tbody tr th:only-of-type {\n",
       "        vertical-align: middle;\n",
       "    }\n",
       "\n",
       "    .dataframe tbody tr th {\n",
       "        vertical-align: top;\n",
       "    }\n",
       "\n",
       "    .dataframe thead th {\n",
       "        text-align: right;\n",
       "    }\n",
       "</style>\n",
       "<table border=\"1\" class=\"dataframe\">\n",
       "  <thead>\n",
       "    <tr style=\"text-align: right;\">\n",
       "      <th></th>\n",
       "      <th>country_code</th>\n",
       "      <th>country_name</th>\n",
       "      <th>capital_city</th>\n",
       "      <th>lat</th>\n",
       "      <th>lng</th>\n",
       "      <th>GDP_2018 (million)</th>\n",
       "      <th>tech_export_2018 (million)</th>\n",
       "    </tr>\n",
       "  </thead>\n",
       "  <tbody>\n",
       "    <tr>\n",
       "      <th>0</th>\n",
       "      <td>ARB</td>\n",
       "      <td>Arab World</td>\n",
       "      <td>NaN</td>\n",
       "      <td>NaN</td>\n",
       "      <td>NaN</td>\n",
       "      <td>2.772025e+06</td>\n",
       "      <td>NaN</td>\n",
       "    </tr>\n",
       "    <tr>\n",
       "      <th>1</th>\n",
       "      <td>CSS</td>\n",
       "      <td>Caribbean small states</td>\n",
       "      <td>Kralendijk</td>\n",
       "      <td>12.1500</td>\n",
       "      <td>-68.2667</td>\n",
       "      <td>7.345916e+04</td>\n",
       "      <td>NaN</td>\n",
       "    </tr>\n",
       "    <tr>\n",
       "      <th>2</th>\n",
       "      <td>CEB</td>\n",
       "      <td>NaN</td>\n",
       "      <td>NaN</td>\n",
       "      <td>NaN</td>\n",
       "      <td>NaN</td>\n",
       "      <td>1.637175e+06</td>\n",
       "      <td>NaN</td>\n",
       "    </tr>\n",
       "    <tr>\n",
       "      <th>3</th>\n",
       "      <td>EAR</td>\n",
       "      <td>NaN</td>\n",
       "      <td>NaN</td>\n",
       "      <td>NaN</td>\n",
       "      <td>NaN</td>\n",
       "      <td>1.163520e+07</td>\n",
       "      <td>NaN</td>\n",
       "    </tr>\n",
       "    <tr>\n",
       "      <th>4</th>\n",
       "      <td>EAS</td>\n",
       "      <td>NaN</td>\n",
       "      <td>NaN</td>\n",
       "      <td>NaN</td>\n",
       "      <td>NaN</td>\n",
       "      <td>2.634698e+07</td>\n",
       "      <td>NaN</td>\n",
       "    </tr>\n",
       "    <tr>\n",
       "      <th>...</th>\n",
       "      <td>...</td>\n",
       "      <td>...</td>\n",
       "      <td>...</td>\n",
       "      <td>...</td>\n",
       "      <td>...</td>\n",
       "      <td>...</td>\n",
       "      <td>...</td>\n",
       "    </tr>\n",
       "    <tr>\n",
       "      <th>286</th>\n",
       "      <td>NaN</td>\n",
       "      <td>Turks and Caicos Islands</td>\n",
       "      <td>Cockburn Town</td>\n",
       "      <td>21.4612</td>\n",
       "      <td>-71.1419</td>\n",
       "      <td>NaN</td>\n",
       "      <td>NaN</td>\n",
       "    </tr>\n",
       "    <tr>\n",
       "      <th>287</th>\n",
       "      <td>NaN</td>\n",
       "      <td>United States of America</td>\n",
       "      <td>Washington, D.C.</td>\n",
       "      <td>38.8951</td>\n",
       "      <td>-77.0364</td>\n",
       "      <td>NaN</td>\n",
       "      <td>NaN</td>\n",
       "    </tr>\n",
       "    <tr>\n",
       "      <th>288</th>\n",
       "      <td>NaN</td>\n",
       "      <td>Virgin Islands (U.S.)</td>\n",
       "      <td>Charlotte Amalie</td>\n",
       "      <td>18.3419</td>\n",
       "      <td>-64.9307</td>\n",
       "      <td>NaN</td>\n",
       "      <td>NaN</td>\n",
       "    </tr>\n",
       "    <tr>\n",
       "      <th>289</th>\n",
       "      <td>NaN</td>\n",
       "      <td>Wallis and Futuna Islands</td>\n",
       "      <td>Matu-Utu</td>\n",
       "      <td>-13.2816</td>\n",
       "      <td>-176.1745</td>\n",
       "      <td>NaN</td>\n",
       "      <td>NaN</td>\n",
       "    </tr>\n",
       "    <tr>\n",
       "      <th>290</th>\n",
       "      <td>NaN</td>\n",
       "      <td>Western Sahara</td>\n",
       "      <td>El Aaiún</td>\n",
       "      <td>27.1532</td>\n",
       "      <td>-13.2014</td>\n",
       "      <td>NaN</td>\n",
       "      <td>NaN</td>\n",
       "    </tr>\n",
       "  </tbody>\n",
       "</table>\n",
       "<p>291 rows × 7 columns</p>\n",
       "</div>"
      ],
      "text/plain": [
       "    country_code               country_name      capital_city      lat  \\\n",
       "0            ARB                 Arab World               NaN      NaN   \n",
       "1            CSS     Caribbean small states        Kralendijk  12.1500   \n",
       "2            CEB                        NaN               NaN      NaN   \n",
       "3            EAR                        NaN               NaN      NaN   \n",
       "4            EAS                        NaN               NaN      NaN   \n",
       "..           ...                        ...               ...      ...   \n",
       "286          NaN   Turks and Caicos Islands     Cockburn Town  21.4612   \n",
       "287          NaN   United States of America  Washington, D.C.  38.8951   \n",
       "288          NaN      Virgin Islands (U.S.)  Charlotte Amalie  18.3419   \n",
       "289          NaN  Wallis and Futuna Islands          Matu-Utu -13.2816   \n",
       "290          NaN             Western Sahara          El Aaiún  27.1532   \n",
       "\n",
       "          lng  GDP_2018 (million)  tech_export_2018 (million)  \n",
       "0         NaN        2.772025e+06                         NaN  \n",
       "1    -68.2667        7.345916e+04                         NaN  \n",
       "2         NaN        1.637175e+06                         NaN  \n",
       "3         NaN        1.163520e+07                         NaN  \n",
       "4         NaN        2.634698e+07                         NaN  \n",
       "..        ...                 ...                         ...  \n",
       "286  -71.1419                 NaN                         NaN  \n",
       "287  -77.0364                 NaN                         NaN  \n",
       "288  -64.9307                 NaN                         NaN  \n",
       "289 -176.1745                 NaN                         NaN  \n",
       "290  -13.2014                 NaN                         NaN  \n",
       "\n",
       "[291 rows x 7 columns]"
      ]
     },
     "execution_count": 53,
     "metadata": {},
     "output_type": "execute_result"
    }
   ],
   "source": [
    "# Merging for tech_export_2018 (million)\n",
    "df_4 = (\n",
    "    pd.merge(df_3, innov_tech_2018, on=\"country_name\", how=\"outer\")\n",
    "    .drop(\n",
    "        [\n",
    "            \"Country_y\",\n",
    "            \"indicator_name\",\n",
    "            \"indicator_code\",\n",
    "            \"tech_export_2017 (million)\",\n",
    "            \"tech_export_2019 (million)\",\n",
    "        ],\n",
    "        axis=1,\n",
    "    )\n",
    "    .rename(columns={\"Country_x\": \"country_code\"})\n",
    ")\n",
    "\n",
    "df_4"
   ]
  },
  {
   "cell_type": "code",
   "execution_count": 54,
   "metadata": {},
   "outputs": [
    {
     "data": {
      "text/html": [
       "<div>\n",
       "<style scoped>\n",
       "    .dataframe tbody tr th:only-of-type {\n",
       "        vertical-align: middle;\n",
       "    }\n",
       "\n",
       "    .dataframe tbody tr th {\n",
       "        vertical-align: top;\n",
       "    }\n",
       "\n",
       "    .dataframe thead th {\n",
       "        text-align: right;\n",
       "    }\n",
       "</style>\n",
       "<table border=\"1\" class=\"dataframe\">\n",
       "  <thead>\n",
       "    <tr style=\"text-align: right;\">\n",
       "      <th></th>\n",
       "      <th>country_code</th>\n",
       "      <th>country_name</th>\n",
       "      <th>capital_city</th>\n",
       "      <th>lat</th>\n",
       "      <th>lng</th>\n",
       "      <th>GDP_2018 (million)</th>\n",
       "      <th>tech_export_2018 (million)</th>\n",
       "      <th>doing_business_2018</th>\n",
       "    </tr>\n",
       "  </thead>\n",
       "  <tbody>\n",
       "    <tr>\n",
       "      <th>0</th>\n",
       "      <td>ARB</td>\n",
       "      <td>Arab World</td>\n",
       "      <td>NaN</td>\n",
       "      <td>NaN</td>\n",
       "      <td>NaN</td>\n",
       "      <td>2.772025e+06</td>\n",
       "      <td>NaN</td>\n",
       "      <td>NaN</td>\n",
       "    </tr>\n",
       "    <tr>\n",
       "      <th>1</th>\n",
       "      <td>CSS</td>\n",
       "      <td>Caribbean small states</td>\n",
       "      <td>Kralendijk</td>\n",
       "      <td>12.1500</td>\n",
       "      <td>-68.2667</td>\n",
       "      <td>7.345916e+04</td>\n",
       "      <td>NaN</td>\n",
       "      <td>NaN</td>\n",
       "    </tr>\n",
       "    <tr>\n",
       "      <th>2</th>\n",
       "      <td>CEB</td>\n",
       "      <td>NaN</td>\n",
       "      <td>NaN</td>\n",
       "      <td>NaN</td>\n",
       "      <td>NaN</td>\n",
       "      <td>1.637175e+06</td>\n",
       "      <td>NaN</td>\n",
       "      <td>NaN</td>\n",
       "    </tr>\n",
       "    <tr>\n",
       "      <th>3</th>\n",
       "      <td>EAR</td>\n",
       "      <td>NaN</td>\n",
       "      <td>NaN</td>\n",
       "      <td>NaN</td>\n",
       "      <td>NaN</td>\n",
       "      <td>1.163520e+07</td>\n",
       "      <td>NaN</td>\n",
       "      <td>NaN</td>\n",
       "    </tr>\n",
       "    <tr>\n",
       "      <th>4</th>\n",
       "      <td>EAS</td>\n",
       "      <td>NaN</td>\n",
       "      <td>NaN</td>\n",
       "      <td>NaN</td>\n",
       "      <td>NaN</td>\n",
       "      <td>2.634698e+07</td>\n",
       "      <td>NaN</td>\n",
       "      <td>NaN</td>\n",
       "    </tr>\n",
       "    <tr>\n",
       "      <th>...</th>\n",
       "      <td>...</td>\n",
       "      <td>...</td>\n",
       "      <td>...</td>\n",
       "      <td>...</td>\n",
       "      <td>...</td>\n",
       "      <td>...</td>\n",
       "      <td>...</td>\n",
       "      <td>...</td>\n",
       "    </tr>\n",
       "    <tr>\n",
       "      <th>286</th>\n",
       "      <td>NaN</td>\n",
       "      <td>Turks and Caicos Islands</td>\n",
       "      <td>Cockburn Town</td>\n",
       "      <td>21.4612</td>\n",
       "      <td>-71.1419</td>\n",
       "      <td>NaN</td>\n",
       "      <td>NaN</td>\n",
       "      <td>NaN</td>\n",
       "    </tr>\n",
       "    <tr>\n",
       "      <th>287</th>\n",
       "      <td>NaN</td>\n",
       "      <td>United States of America</td>\n",
       "      <td>Washington, D.C.</td>\n",
       "      <td>38.8951</td>\n",
       "      <td>-77.0364</td>\n",
       "      <td>NaN</td>\n",
       "      <td>NaN</td>\n",
       "      <td>NaN</td>\n",
       "    </tr>\n",
       "    <tr>\n",
       "      <th>288</th>\n",
       "      <td>NaN</td>\n",
       "      <td>Virgin Islands (U.S.)</td>\n",
       "      <td>Charlotte Amalie</td>\n",
       "      <td>18.3419</td>\n",
       "      <td>-64.9307</td>\n",
       "      <td>NaN</td>\n",
       "      <td>NaN</td>\n",
       "      <td>NaN</td>\n",
       "    </tr>\n",
       "    <tr>\n",
       "      <th>289</th>\n",
       "      <td>NaN</td>\n",
       "      <td>Wallis and Futuna Islands</td>\n",
       "      <td>Matu-Utu</td>\n",
       "      <td>-13.2816</td>\n",
       "      <td>-176.1745</td>\n",
       "      <td>NaN</td>\n",
       "      <td>NaN</td>\n",
       "      <td>NaN</td>\n",
       "    </tr>\n",
       "    <tr>\n",
       "      <th>290</th>\n",
       "      <td>NaN</td>\n",
       "      <td>Western Sahara</td>\n",
       "      <td>El Aaiún</td>\n",
       "      <td>27.1532</td>\n",
       "      <td>-13.2014</td>\n",
       "      <td>NaN</td>\n",
       "      <td>NaN</td>\n",
       "      <td>NaN</td>\n",
       "    </tr>\n",
       "  </tbody>\n",
       "</table>\n",
       "<p>291 rows × 8 columns</p>\n",
       "</div>"
      ],
      "text/plain": [
       "    country_code               country_name      capital_city      lat  \\\n",
       "0            ARB                 Arab World               NaN      NaN   \n",
       "1            CSS     Caribbean small states        Kralendijk  12.1500   \n",
       "2            CEB                        NaN               NaN      NaN   \n",
       "3            EAR                        NaN               NaN      NaN   \n",
       "4            EAS                        NaN               NaN      NaN   \n",
       "..           ...                        ...               ...      ...   \n",
       "286          NaN   Turks and Caicos Islands     Cockburn Town  21.4612   \n",
       "287          NaN   United States of America  Washington, D.C.  38.8951   \n",
       "288          NaN      Virgin Islands (U.S.)  Charlotte Amalie  18.3419   \n",
       "289          NaN  Wallis and Futuna Islands          Matu-Utu -13.2816   \n",
       "290          NaN             Western Sahara          El Aaiún  27.1532   \n",
       "\n",
       "          lng  GDP_2018 (million)  tech_export_2018 (million)  \\\n",
       "0         NaN        2.772025e+06                         NaN   \n",
       "1    -68.2667        7.345916e+04                         NaN   \n",
       "2         NaN        1.637175e+06                         NaN   \n",
       "3         NaN        1.163520e+07                         NaN   \n",
       "4         NaN        2.634698e+07                         NaN   \n",
       "..        ...                 ...                         ...   \n",
       "286  -71.1419                 NaN                         NaN   \n",
       "287  -77.0364                 NaN                         NaN   \n",
       "288  -64.9307                 NaN                         NaN   \n",
       "289 -176.1745                 NaN                         NaN   \n",
       "290  -13.2014                 NaN                         NaN   \n",
       "\n",
       "     doing_business_2018  \n",
       "0                    NaN  \n",
       "1                    NaN  \n",
       "2                    NaN  \n",
       "3                    NaN  \n",
       "4                    NaN  \n",
       "..                   ...  \n",
       "286                  NaN  \n",
       "287                  NaN  \n",
       "288                  NaN  \n",
       "289                  NaN  \n",
       "290                  NaN  \n",
       "\n",
       "[291 rows x 8 columns]"
      ]
     },
     "execution_count": 54,
     "metadata": {},
     "output_type": "execute_result"
    }
   ],
   "source": [
    "# Merging for doing_business_2018\n",
    "df_5 = pd.merge(df_4, doing_busn_2018, on=\"country_name\", how=\"outer\").drop(\n",
    "    [\"doing_business_2017\", \"doing_business_2019\"], axis=1,\n",
    ")\n",
    "df_5"
   ]
  },
  {
   "cell_type": "code",
   "execution_count": 55,
   "metadata": {},
   "outputs": [
    {
     "data": {
      "text/html": [
       "<div>\n",
       "<style scoped>\n",
       "    .dataframe tbody tr th:only-of-type {\n",
       "        vertical-align: middle;\n",
       "    }\n",
       "\n",
       "    .dataframe tbody tr th {\n",
       "        vertical-align: top;\n",
       "    }\n",
       "\n",
       "    .dataframe thead th {\n",
       "        text-align: right;\n",
       "    }\n",
       "</style>\n",
       "<table border=\"1\" class=\"dataframe\">\n",
       "  <thead>\n",
       "    <tr style=\"text-align: right;\">\n",
       "      <th></th>\n",
       "      <th>country_name</th>\n",
       "      <th>region</th>\n",
       "      <th>fdi_USA_2018 (million)</th>\n",
       "    </tr>\n",
       "  </thead>\n",
       "  <tbody>\n",
       "    <tr>\n",
       "      <th>0</th>\n",
       "      <td>Afghanistan</td>\n",
       "      <td>Asia</td>\n",
       "      <td>1.0</td>\n",
       "    </tr>\n",
       "    <tr>\n",
       "      <th>1</th>\n",
       "      <td>Albania</td>\n",
       "      <td>Europe</td>\n",
       "      <td>0.0</td>\n",
       "    </tr>\n",
       "    <tr>\n",
       "      <th>3</th>\n",
       "      <td>Andorra</td>\n",
       "      <td>Europe</td>\n",
       "      <td>0.0</td>\n",
       "    </tr>\n",
       "    <tr>\n",
       "      <th>6</th>\n",
       "      <td>Antigua and Barbuda</td>\n",
       "      <td>Latin America</td>\n",
       "      <td>3.0</td>\n",
       "    </tr>\n",
       "    <tr>\n",
       "      <th>7</th>\n",
       "      <td>Argentina</td>\n",
       "      <td>Latin America</td>\n",
       "      <td>822.0</td>\n",
       "    </tr>\n",
       "    <tr>\n",
       "      <th>...</th>\n",
       "      <td>...</td>\n",
       "      <td>...</td>\n",
       "      <td>...</td>\n",
       "    </tr>\n",
       "    <tr>\n",
       "      <th>201</th>\n",
       "      <td>Vietnam</td>\n",
       "      <td>Asia</td>\n",
       "      <td>59.0</td>\n",
       "    </tr>\n",
       "    <tr>\n",
       "      <th>202</th>\n",
       "      <td>Western Sahara</td>\n",
       "      <td>Africa</td>\n",
       "      <td>0.0</td>\n",
       "    </tr>\n",
       "    <tr>\n",
       "      <th>203</th>\n",
       "      <td>Yemen, Rep.</td>\n",
       "      <td>Asia</td>\n",
       "      <td>0.0</td>\n",
       "    </tr>\n",
       "    <tr>\n",
       "      <th>204</th>\n",
       "      <td>Zambia</td>\n",
       "      <td>Africa</td>\n",
       "      <td>-6.0</td>\n",
       "    </tr>\n",
       "    <tr>\n",
       "      <th>205</th>\n",
       "      <td>Zimbabwe</td>\n",
       "      <td>Africa</td>\n",
       "      <td>-3.0</td>\n",
       "    </tr>\n",
       "  </tbody>\n",
       "</table>\n",
       "<p>180 rows × 3 columns</p>\n",
       "</div>"
      ],
      "text/plain": [
       "            country_name         region  fdi_USA_2018 (million)\n",
       "0            Afghanistan           Asia                     1.0\n",
       "1                Albania        Europe                      0.0\n",
       "3                Andorra        Europe                      0.0\n",
       "6    Antigua and Barbuda  Latin America                     3.0\n",
       "7              Argentina  Latin America                   822.0\n",
       "..                   ...            ...                     ...\n",
       "201              Vietnam           Asia                    59.0\n",
       "202       Western Sahara         Africa                     0.0\n",
       "203          Yemen, Rep.           Asia                     0.0\n",
       "204               Zambia         Africa                    -6.0\n",
       "205             Zimbabwe         Africa                    -3.0\n",
       "\n",
       "[180 rows x 3 columns]"
      ]
     },
     "execution_count": 55,
     "metadata": {},
     "output_type": "execute_result"
    }
   ],
   "source": [
    "# Dependent Variable = FDI in USA; extracting FDI in USA data for 2018 and cleaning for null values\n",
    "df_6 = FDI_USA_2018.drop(\n",
    "    [\"fdi_USA_2017 (million)\", \"fdi_USA_2019 (million)\"], axis=1,\n",
    ").dropna()\n",
    "\n",
    "df_6"
   ]
  },
  {
   "cell_type": "code",
   "execution_count": 56,
   "metadata": {},
   "outputs": [
    {
     "data": {
      "text/html": [
       "<div>\n",
       "<style scoped>\n",
       "    .dataframe tbody tr th:only-of-type {\n",
       "        vertical-align: middle;\n",
       "    }\n",
       "\n",
       "    .dataframe tbody tr th {\n",
       "        vertical-align: top;\n",
       "    }\n",
       "\n",
       "    .dataframe thead th {\n",
       "        text-align: right;\n",
       "    }\n",
       "</style>\n",
       "<table border=\"1\" class=\"dataframe\">\n",
       "  <thead>\n",
       "    <tr style=\"text-align: right;\">\n",
       "      <th></th>\n",
       "      <th>country_code</th>\n",
       "      <th>country_name</th>\n",
       "      <th>capital_city</th>\n",
       "      <th>lat</th>\n",
       "      <th>lng</th>\n",
       "      <th>GDP_2018 (million)</th>\n",
       "      <th>tech_export_2018 (million)</th>\n",
       "      <th>doing_business_2018</th>\n",
       "      <th>region</th>\n",
       "      <th>fdi_USA_2018 (million)</th>\n",
       "    </tr>\n",
       "  </thead>\n",
       "  <tbody>\n",
       "    <tr>\n",
       "      <th>0</th>\n",
       "      <td>AFG</td>\n",
       "      <td>Afghanistan</td>\n",
       "      <td>Kabul</td>\n",
       "      <td>34.5289</td>\n",
       "      <td>69.1725</td>\n",
       "      <td>19484.384937</td>\n",
       "      <td>NaN</td>\n",
       "      <td>37.1</td>\n",
       "      <td>Asia</td>\n",
       "      <td>1.0</td>\n",
       "    </tr>\n",
       "    <tr>\n",
       "      <th>1</th>\n",
       "      <td>ALB</td>\n",
       "      <td>Albania</td>\n",
       "      <td>Tiranë (Tirana)</td>\n",
       "      <td>41.3275</td>\n",
       "      <td>19.8189</td>\n",
       "      <td>15147.020535</td>\n",
       "      <td>0.5917</td>\n",
       "      <td>66.8</td>\n",
       "      <td>Europe</td>\n",
       "      <td>0.0</td>\n",
       "    </tr>\n",
       "    <tr>\n",
       "      <th>2</th>\n",
       "      <td>AND</td>\n",
       "      <td>Andorra</td>\n",
       "      <td>Andorra la Vella</td>\n",
       "      <td>42.5078</td>\n",
       "      <td>1.5211</td>\n",
       "      <td>3218.316013</td>\n",
       "      <td>33.9135</td>\n",
       "      <td>NaN</td>\n",
       "      <td>Europe</td>\n",
       "      <td>0.0</td>\n",
       "    </tr>\n",
       "    <tr>\n",
       "      <th>3</th>\n",
       "      <td>ATG</td>\n",
       "      <td>Antigua and Barbuda</td>\n",
       "      <td>St. John's</td>\n",
       "      <td>17.1172</td>\n",
       "      <td>-61.8457</td>\n",
       "      <td>1610.574074</td>\n",
       "      <td>0.0114</td>\n",
       "      <td>59.8</td>\n",
       "      <td>Latin America</td>\n",
       "      <td>3.0</td>\n",
       "    </tr>\n",
       "    <tr>\n",
       "      <th>4</th>\n",
       "      <td>ARG</td>\n",
       "      <td>Argentina</td>\n",
       "      <td>Buenos Aires</td>\n",
       "      <td>-34.6051</td>\n",
       "      <td>-58.4004</td>\n",
       "      <td>519871.519808</td>\n",
       "      <td>647.1724</td>\n",
       "      <td>57.3</td>\n",
       "      <td>Latin America</td>\n",
       "      <td>822.0</td>\n",
       "    </tr>\n",
       "    <tr>\n",
       "      <th>...</th>\n",
       "      <td>...</td>\n",
       "      <td>...</td>\n",
       "      <td>...</td>\n",
       "      <td>...</td>\n",
       "      <td>...</td>\n",
       "      <td>...</td>\n",
       "      <td>...</td>\n",
       "      <td>...</td>\n",
       "      <td>...</td>\n",
       "      <td>...</td>\n",
       "    </tr>\n",
       "    <tr>\n",
       "      <th>175</th>\n",
       "      <td>NaN</td>\n",
       "      <td>Taiwan</td>\n",
       "      <td>Taibei</td>\n",
       "      <td>25.0470</td>\n",
       "      <td>121.5457</td>\n",
       "      <td>NaN</td>\n",
       "      <td>NaN</td>\n",
       "      <td>80.7</td>\n",
       "      <td>Asia</td>\n",
       "      <td>10512.0</td>\n",
       "    </tr>\n",
       "    <tr>\n",
       "      <th>176</th>\n",
       "      <td>NaN</td>\n",
       "      <td>Western Sahara</td>\n",
       "      <td>El Aaiún</td>\n",
       "      <td>27.1532</td>\n",
       "      <td>-13.2014</td>\n",
       "      <td>NaN</td>\n",
       "      <td>NaN</td>\n",
       "      <td>NaN</td>\n",
       "      <td>Africa</td>\n",
       "      <td>0.0</td>\n",
       "    </tr>\n",
       "    <tr>\n",
       "      <th>177</th>\n",
       "      <td>NaN</td>\n",
       "      <td>Curacao</td>\n",
       "      <td>NaN</td>\n",
       "      <td>NaN</td>\n",
       "      <td>NaN</td>\n",
       "      <td>NaN</td>\n",
       "      <td>NaN</td>\n",
       "      <td>NaN</td>\n",
       "      <td>Latin America</td>\n",
       "      <td>1335.0</td>\n",
       "    </tr>\n",
       "    <tr>\n",
       "      <th>178</th>\n",
       "      <td>NaN</td>\n",
       "      <td>Sudan</td>\n",
       "      <td>NaN</td>\n",
       "      <td>NaN</td>\n",
       "      <td>NaN</td>\n",
       "      <td>NaN</td>\n",
       "      <td>NaN</td>\n",
       "      <td>NaN</td>\n",
       "      <td>Africa</td>\n",
       "      <td>0.0</td>\n",
       "    </tr>\n",
       "    <tr>\n",
       "      <th>179</th>\n",
       "      <td>NaN</td>\n",
       "      <td>Vatican City</td>\n",
       "      <td>NaN</td>\n",
       "      <td>NaN</td>\n",
       "      <td>NaN</td>\n",
       "      <td>NaN</td>\n",
       "      <td>NaN</td>\n",
       "      <td>NaN</td>\n",
       "      <td>Europe</td>\n",
       "      <td>0.0</td>\n",
       "    </tr>\n",
       "  </tbody>\n",
       "</table>\n",
       "<p>180 rows × 10 columns</p>\n",
       "</div>"
      ],
      "text/plain": [
       "    country_code         country_name      capital_city      lat       lng  \\\n",
       "0            AFG          Afghanistan             Kabul  34.5289   69.1725   \n",
       "1            ALB              Albania   Tiranë (Tirana)  41.3275   19.8189   \n",
       "2            AND              Andorra  Andorra la Vella  42.5078    1.5211   \n",
       "3            ATG  Antigua and Barbuda        St. John's  17.1172  -61.8457   \n",
       "4            ARG            Argentina      Buenos Aires -34.6051  -58.4004   \n",
       "..           ...                  ...               ...      ...       ...   \n",
       "175          NaN               Taiwan            Taibei  25.0470  121.5457   \n",
       "176          NaN       Western Sahara          El Aaiún  27.1532  -13.2014   \n",
       "177          NaN             Curacao                NaN      NaN       NaN   \n",
       "178          NaN               Sudan                NaN      NaN       NaN   \n",
       "179          NaN         Vatican City               NaN      NaN       NaN   \n",
       "\n",
       "     GDP_2018 (million)  tech_export_2018 (million)  doing_business_2018  \\\n",
       "0          19484.384937                         NaN                 37.1   \n",
       "1          15147.020535                      0.5917                 66.8   \n",
       "2           3218.316013                     33.9135                  NaN   \n",
       "3           1610.574074                      0.0114                 59.8   \n",
       "4         519871.519808                    647.1724                 57.3   \n",
       "..                  ...                         ...                  ...   \n",
       "175                 NaN                         NaN                 80.7   \n",
       "176                 NaN                         NaN                  NaN   \n",
       "177                 NaN                         NaN                  NaN   \n",
       "178                 NaN                         NaN                  NaN   \n",
       "179                 NaN                         NaN                  NaN   \n",
       "\n",
       "            region  fdi_USA_2018 (million)  \n",
       "0             Asia                     1.0  \n",
       "1          Europe                      0.0  \n",
       "2          Europe                      0.0  \n",
       "3    Latin America                     3.0  \n",
       "4    Latin America                   822.0  \n",
       "..             ...                     ...  \n",
       "175           Asia                 10512.0  \n",
       "176         Africa                     0.0  \n",
       "177  Latin America                  1335.0  \n",
       "178         Africa                     0.0  \n",
       "179        Europe                      0.0  \n",
       "\n",
       "[180 rows x 10 columns]"
      ]
     },
     "execution_count": 56,
     "metadata": {},
     "output_type": "execute_result"
    }
   ],
   "source": [
    "# Creating the clean dataset for analysis\n",
    "clean_data = pd.merge(df_5, df_6, on=\"country_name\", how=\"right\")\n",
    "clean_data"
   ]
  },
  {
   "cell_type": "markdown",
   "metadata": {},
   "source": [
    "# Begin Eds Work"
   ]
  },
  {
   "cell_type": "code",
   "execution_count": null,
   "metadata": {},
   "outputs": [],
   "source": []
  },
  {
   "cell_type": "code",
   "execution_count": 57,
   "metadata": {},
   "outputs": [
    {
     "data": {
      "text/html": [
       "<div>\n",
       "<style scoped>\n",
       "    .dataframe tbody tr th:only-of-type {\n",
       "        vertical-align: middle;\n",
       "    }\n",
       "\n",
       "    .dataframe tbody tr th {\n",
       "        vertical-align: top;\n",
       "    }\n",
       "\n",
       "    .dataframe thead th {\n",
       "        text-align: right;\n",
       "    }\n",
       "</style>\n",
       "<table border=\"1\" class=\"dataframe\">\n",
       "  <thead>\n",
       "    <tr style=\"text-align: right;\">\n",
       "      <th></th>\n",
       "      <th>country_code</th>\n",
       "      <th>country_name</th>\n",
       "      <th>capital_city</th>\n",
       "      <th>lat</th>\n",
       "      <th>lng</th>\n",
       "      <th>GDP_2018 (million)</th>\n",
       "      <th>tech_export_2018 (million)</th>\n",
       "      <th>doing_business_2018</th>\n",
       "      <th>region</th>\n",
       "      <th>fdi_USA_2018 (million)</th>\n",
       "    </tr>\n",
       "  </thead>\n",
       "  <tbody>\n",
       "    <tr>\n",
       "      <th>1</th>\n",
       "      <td>ALB</td>\n",
       "      <td>Albania</td>\n",
       "      <td>Tiranë (Tirana)</td>\n",
       "      <td>41.3275</td>\n",
       "      <td>19.8189</td>\n",
       "      <td>15147.020535</td>\n",
       "      <td>0.5917</td>\n",
       "      <td>66.8</td>\n",
       "      <td>Europe</td>\n",
       "      <td>0.0</td>\n",
       "    </tr>\n",
       "    <tr>\n",
       "      <th>2</th>\n",
       "      <td>AND</td>\n",
       "      <td>Andorra</td>\n",
       "      <td>Andorra la Vella</td>\n",
       "      <td>42.5078</td>\n",
       "      <td>1.5211</td>\n",
       "      <td>3218.316013</td>\n",
       "      <td>33.9135</td>\n",
       "      <td>NaN</td>\n",
       "      <td>Europe</td>\n",
       "      <td>0.0</td>\n",
       "    </tr>\n",
       "    <tr>\n",
       "      <th>5</th>\n",
       "      <td>ARM</td>\n",
       "      <td>Armenia</td>\n",
       "      <td>Yerevan</td>\n",
       "      <td>40.1820</td>\n",
       "      <td>44.5146</td>\n",
       "      <td>12457.941907</td>\n",
       "      <td>36.2933</td>\n",
       "      <td>71.5</td>\n",
       "      <td>Europe</td>\n",
       "      <td>3.0</td>\n",
       "    </tr>\n",
       "    <tr>\n",
       "      <th>8</th>\n",
       "      <td>AUT</td>\n",
       "      <td>Austria</td>\n",
       "      <td>Wien (Vienna)</td>\n",
       "      <td>48.2064</td>\n",
       "      <td>16.3707</td>\n",
       "      <td>455508.255028</td>\n",
       "      <td>16687.4995</td>\n",
       "      <td>78.7</td>\n",
       "      <td>Europe</td>\n",
       "      <td>12392.0</td>\n",
       "    </tr>\n",
       "    <tr>\n",
       "      <th>9</th>\n",
       "      <td>AZE</td>\n",
       "      <td>Azerbaijan</td>\n",
       "      <td>Baku</td>\n",
       "      <td>40.3777</td>\n",
       "      <td>49.8920</td>\n",
       "      <td>47112.941176</td>\n",
       "      <td>21.1780</td>\n",
       "      <td>66.8</td>\n",
       "      <td>Europe</td>\n",
       "      <td>-2.0</td>\n",
       "    </tr>\n",
       "  </tbody>\n",
       "</table>\n",
       "</div>"
      ],
      "text/plain": [
       "  country_code country_name      capital_city      lat      lng  \\\n",
       "1          ALB      Albania   Tiranë (Tirana)  41.3275  19.8189   \n",
       "2          AND      Andorra  Andorra la Vella  42.5078   1.5211   \n",
       "5          ARM      Armenia           Yerevan  40.1820  44.5146   \n",
       "8          AUT      Austria     Wien (Vienna)  48.2064  16.3707   \n",
       "9          AZE   Azerbaijan              Baku  40.3777  49.8920   \n",
       "\n",
       "   GDP_2018 (million)  tech_export_2018 (million)  doing_business_2018  \\\n",
       "1        15147.020535                      0.5917                 66.8   \n",
       "2         3218.316013                     33.9135                  NaN   \n",
       "5        12457.941907                     36.2933                 71.5   \n",
       "8       455508.255028                  16687.4995                 78.7   \n",
       "9        47112.941176                     21.1780                 66.8   \n",
       "\n",
       "    region  fdi_USA_2018 (million)  \n",
       "1  Europe                      0.0  \n",
       "2  Europe                      0.0  \n",
       "5  Europe                      3.0  \n",
       "8  Europe                  12392.0  \n",
       "9  Europe                     -2.0  "
      ]
     },
     "execution_count": 57,
     "metadata": {},
     "output_type": "execute_result"
    }
   ],
   "source": [
    "europe = clean_data[clean_data.region == \"Europe \"]\n",
    "\n",
    "\n",
    "europe.head()"
   ]
  },
  {
   "cell_type": "code",
   "execution_count": 67,
   "metadata": {},
   "outputs": [
    {
     "data": {
      "application/vnd.plotly.v1+json": {
       "config": {
        "plotlyServerURL": "https://plot.ly"
       },
       "data": [
        {
         "hovertemplate": "Country=Albania<br>FDI USA (million)=%{x}<br>GDP (million)=%{y}<extra></extra>",
         "legendgroup": "Albania",
         "marker": {
          "color": "#636efa",
          "symbol": "circle"
         },
         "mode": "markers",
         "name": "Albania",
         "orientation": "v",
         "showlegend": true,
         "type": "scatter",
         "x": [
          0
         ],
         "xaxis": "x",
         "y": [
          15147.020535386899
         ],
         "yaxis": "y"
        },
        {
         "hovertemplate": "Country=Andorra<br>FDI USA (million)=%{x}<br>GDP (million)=%{y}<extra></extra>",
         "legendgroup": "Andorra",
         "marker": {
          "color": "#EF553B",
          "symbol": "circle"
         },
         "mode": "markers",
         "name": "Andorra",
         "orientation": "v",
         "showlegend": true,
         "type": "scatter",
         "x": [
          0
         ],
         "xaxis": "x",
         "y": [
          3218.3160132262606
         ],
         "yaxis": "y"
        },
        {
         "hovertemplate": "Country=Armenia<br>FDI USA (million)=%{x}<br>GDP (million)=%{y}<extra></extra>",
         "legendgroup": "Armenia",
         "marker": {
          "color": "#00cc96",
          "symbol": "circle"
         },
         "mode": "markers",
         "name": "Armenia",
         "orientation": "v",
         "showlegend": true,
         "type": "scatter",
         "x": [
          3
         ],
         "xaxis": "x",
         "y": [
          12457.9419070333
         ],
         "yaxis": "y"
        },
        {
         "hovertemplate": "Country=Austria<br>FDI USA (million)=%{x}<br>GDP (million)=%{y}<extra></extra>",
         "legendgroup": "Austria",
         "marker": {
          "color": "#ab63fa",
          "symbol": "circle"
         },
         "mode": "markers",
         "name": "Austria",
         "orientation": "v",
         "showlegend": true,
         "type": "scatter",
         "x": [
          12392
         ],
         "xaxis": "x",
         "y": [
          455508.25502821896
         ],
         "yaxis": "y"
        },
        {
         "hovertemplate": "Country=Azerbaijan<br>FDI USA (million)=%{x}<br>GDP (million)=%{y}<extra></extra>",
         "legendgroup": "Azerbaijan",
         "marker": {
          "color": "#FFA15A",
          "symbol": "circle"
         },
         "mode": "markers",
         "name": "Azerbaijan",
         "orientation": "v",
         "showlegend": true,
         "type": "scatter",
         "x": [
          -2
         ],
         "xaxis": "x",
         "y": [
          47112.941176470595
         ],
         "yaxis": "y"
        },
        {
         "hovertemplate": "Country=Belarus<br>FDI USA (million)=%{x}<br>GDP (million)=%{y}<extra></extra>",
         "legendgroup": "Belarus",
         "marker": {
          "color": "#19d3f3",
          "symbol": "circle"
         },
         "mode": "markers",
         "name": "Belarus",
         "orientation": "v",
         "showlegend": true,
         "type": "scatter",
         "x": [
          4
         ],
         "xaxis": "x",
         "y": [
          60031.262269336505
         ],
         "yaxis": "y"
        },
        {
         "hovertemplate": "Country=Belgium<br>FDI USA (million)=%{x}<br>GDP (million)=%{y}<extra></extra>",
         "legendgroup": "Belgium",
         "marker": {
          "color": "#FF6692",
          "symbol": "circle"
         },
         "mode": "markers",
         "name": "Belgium",
         "orientation": "v",
         "showlegend": true,
         "type": "scatter",
         "x": [
          64661
         ],
         "xaxis": "x",
         "y": [
          542685.915417411
         ],
         "yaxis": "y"
        },
        {
         "hovertemplate": "Country=Bosnia and Herzegovina<br>FDI USA (million)=%{x}<br>GDP (million)=%{y}<extra></extra>",
         "legendgroup": "Bosnia and Herzegovina",
         "marker": {
          "color": "#B6E880",
          "symbol": "circle"
         },
         "mode": "markers",
         "name": "Bosnia and Herzegovina",
         "orientation": "v",
         "showlegend": true,
         "type": "scatter",
         "x": [
          0
         ],
         "xaxis": "x",
         "y": [
          20183.4984912492
         ],
         "yaxis": "y"
        },
        {
         "hovertemplate": "Country=Croatia<br>FDI USA (million)=%{x}<br>GDP (million)=%{y}<extra></extra>",
         "legendgroup": "Croatia",
         "marker": {
          "color": "#FF97FF",
          "symbol": "circle"
         },
         "mode": "markers",
         "name": "Croatia",
         "orientation": "v",
         "showlegend": true,
         "type": "scatter",
         "x": [
          19
         ],
         "xaxis": "x",
         "y": [
          60991.399904443395
         ],
         "yaxis": "y"
        },
        {
         "hovertemplate": "Country=Cyprus<br>FDI USA (million)=%{x}<br>GDP (million)=%{y}<extra></extra>",
         "legendgroup": "Cyprus",
         "marker": {
          "color": "#FECB52",
          "symbol": "circle"
         },
         "mode": "markers",
         "name": "Cyprus",
         "orientation": "v",
         "showlegend": true,
         "type": "scatter",
         "x": [
          323
         ],
         "xaxis": "x",
         "y": [
          24961.995748701
         ],
         "yaxis": "y"
        },
        {
         "hovertemplate": "Country=Denmark<br>FDI USA (million)=%{x}<br>GDP (million)=%{y}<extra></extra>",
         "legendgroup": "Denmark",
         "marker": {
          "color": "#636efa",
          "symbol": "circle"
         },
         "mode": "markers",
         "name": "Denmark",
         "orientation": "v",
         "showlegend": true,
         "type": "scatter",
         "x": [
          20654
         ],
         "xaxis": "x",
         "y": [
          355675.329085952
         ],
         "yaxis": "y"
        },
        {
         "hovertemplate": "Country=Finland<br>FDI USA (million)=%{x}<br>GDP (million)=%{y}<extra></extra>",
         "legendgroup": "Finland",
         "marker": {
          "color": "#EF553B",
          "symbol": "circle"
         },
         "mode": "markers",
         "name": "Finland",
         "orientation": "v",
         "showlegend": true,
         "type": "scatter",
         "x": [
          14464
         ],
         "xaxis": "x",
         "y": [
          275893.68135589204
         ],
         "yaxis": "y"
        },
        {
         "hovertemplate": "Country=France<br>FDI USA (million)=%{x}<br>GDP (million)=%{y}<extra></extra>",
         "legendgroup": "France",
         "marker": {
          "color": "#00cc96",
          "symbol": "circle"
         },
         "mode": "markers",
         "name": "France",
         "orientation": "v",
         "showlegend": true,
         "type": "scatter",
         "x": [
          268169
         ],
         "xaxis": "x",
         "y": [
          2787863.9588854904
         ],
         "yaxis": "y"
        },
        {
         "hovertemplate": "Country=Georgia<br>FDI USA (million)=%{x}<br>GDP (million)=%{y}<extra></extra>",
         "legendgroup": "Georgia",
         "marker": {
          "color": "#ab63fa",
          "symbol": "circle"
         },
         "mode": "markers",
         "name": "Georgia",
         "orientation": "v",
         "showlegend": true,
         "type": "scatter",
         "x": [
          0
         ],
         "xaxis": "x",
         "y": [
          17599.700090762002
         ],
         "yaxis": "y"
        },
        {
         "hovertemplate": "Country=Germany<br>FDI USA (million)=%{x}<br>GDP (million)=%{y}<extra></extra>",
         "legendgroup": "Germany",
         "marker": {
          "color": "#FFA15A",
          "symbol": "circle"
         },
         "mode": "markers",
         "name": "Germany",
         "orientation": "v",
         "showlegend": true,
         "type": "scatter",
         "x": [
          328124
         ],
         "xaxis": "x",
         "y": [
          3949548.83395294
         ],
         "yaxis": "y"
        },
        {
         "hovertemplate": "Country=Gibraltar<br>FDI USA (million)=%{x}<br>GDP (million)=%{y}<extra></extra>",
         "legendgroup": "Gibraltar",
         "marker": {
          "color": "#19d3f3",
          "symbol": "circle"
         },
         "mode": "markers",
         "name": "Gibraltar",
         "orientation": "v",
         "showlegend": true,
         "type": "scatter",
         "x": [
          9367
         ],
         "xaxis": "x",
         "y": [
          null
         ],
         "yaxis": "y"
        },
        {
         "hovertemplate": "Country=Greece<br>FDI USA (million)=%{x}<br>GDP (million)=%{y}<extra></extra>",
         "legendgroup": "Greece",
         "marker": {
          "color": "#FF6692",
          "symbol": "circle"
         },
         "mode": "markers",
         "name": "Greece",
         "orientation": "v",
         "showlegend": true,
         "type": "scatter",
         "x": [
          639
         ],
         "xaxis": "x",
         "y": [
          218138.36744499
         ],
         "yaxis": "y"
        },
        {
         "hovertemplate": "Country=Hungary<br>FDI USA (million)=%{x}<br>GDP (million)=%{y}<extra></extra>",
         "legendgroup": "Hungary",
         "marker": {
          "color": "#B6E880",
          "symbol": "circle"
         },
         "mode": "markers",
         "name": "Hungary",
         "orientation": "v",
         "showlegend": true,
         "type": "scatter",
         "x": [
          31730
         ],
         "xaxis": "x",
         "y": [
          157882.91277825402
         ],
         "yaxis": "y"
        },
        {
         "hovertemplate": "Country=Ireland<br>FDI USA (million)=%{x}<br>GDP (million)=%{y}<extra></extra>",
         "legendgroup": "Ireland",
         "marker": {
          "color": "#FF97FF",
          "symbol": "circle"
         },
         "mode": "markers",
         "name": "Ireland",
         "orientation": "v",
         "showlegend": true,
         "type": "scatter",
         "x": [
          265004
         ],
         "xaxis": "x",
         "y": [
          382674.36076634104
         ],
         "yaxis": "y"
        },
        {
         "hovertemplate": "Country=Italy<br>FDI USA (million)=%{x}<br>GDP (million)=%{y}<extra></extra>",
         "legendgroup": "Italy",
         "marker": {
          "color": "#FECB52",
          "symbol": "circle"
         },
         "mode": "markers",
         "name": "Italy",
         "orientation": "v",
         "showlegend": true,
         "type": "scatter",
         "x": [
          30749
         ],
         "xaxis": "x",
         "y": [
          2085764.30086227
         ],
         "yaxis": "y"
        },
        {
         "hovertemplate": "Country=Kazakhstan<br>FDI USA (million)=%{x}<br>GDP (million)=%{y}<extra></extra>",
         "legendgroup": "Kazakhstan",
         "marker": {
          "color": "#636efa",
          "symbol": "circle"
         },
         "mode": "markers",
         "name": "Kazakhstan",
         "orientation": "v",
         "showlegend": true,
         "type": "scatter",
         "x": [
          0
         ],
         "xaxis": "x",
         "y": [
          179339.994859384
         ],
         "yaxis": "y"
        },
        {
         "hovertemplate": "Country=Kosovo<br>FDI USA (million)=%{x}<br>GDP (million)=%{y}<extra></extra>",
         "legendgroup": "Kosovo",
         "marker": {
          "color": "#EF553B",
          "symbol": "circle"
         },
         "mode": "markers",
         "name": "Kosovo",
         "orientation": "v",
         "showlegend": true,
         "type": "scatter",
         "x": [
          0
         ],
         "xaxis": "x",
         "y": [
          7942.961738308931
         ],
         "yaxis": "y"
        },
        {
         "hovertemplate": "Country=Kyrgyz Republic<br>FDI USA (million)=%{x}<br>GDP (million)=%{y}<extra></extra>",
         "legendgroup": "Kyrgyz Republic",
         "marker": {
          "color": "#00cc96",
          "symbol": "circle"
         },
         "mode": "markers",
         "name": "Kyrgyz Republic",
         "orientation": "v",
         "showlegend": true,
         "type": "scatter",
         "x": [
          0
         ],
         "xaxis": "x",
         "y": [
          8271.10863839931
         ],
         "yaxis": "y"
        },
        {
         "hovertemplate": "Country=Lithuania<br>FDI USA (million)=%{x}<br>GDP (million)=%{y}<extra></extra>",
         "legendgroup": "Lithuania",
         "marker": {
          "color": "#ab63fa",
          "symbol": "circle"
         },
         "mode": "markers",
         "name": "Lithuania",
         "orientation": "v",
         "showlegend": true,
         "type": "scatter",
         "x": [
          -4
         ],
         "xaxis": "x",
         "y": [
          53455.170033519404
         ],
         "yaxis": "y"
        },
        {
         "hovertemplate": "Country=Luxembourg<br>FDI USA (million)=%{x}<br>GDP (million)=%{y}<extra></extra>",
         "legendgroup": "Luxembourg",
         "marker": {
          "color": "#FFA15A",
          "symbol": "circle"
         },
         "mode": "markers",
         "name": "Luxembourg",
         "orientation": "v",
         "showlegend": true,
         "type": "scatter",
         "x": [
          312976
         ],
         "xaxis": "x",
         "y": [
          70919.95801552472
         ],
         "yaxis": "y"
        },
        {
         "hovertemplate": "Country=Malta<br>FDI USA (million)=%{x}<br>GDP (million)=%{y}<extra></extra>",
         "legendgroup": "Malta",
         "marker": {
          "color": "#19d3f3",
          "symbol": "circle"
         },
         "mode": "markers",
         "name": "Malta",
         "orientation": "v",
         "showlegend": true,
         "type": "scatter",
         "x": [
          1557
         ],
         "xaxis": "x",
         "y": [
          14603.581712328798
         ],
         "yaxis": "y"
        },
        {
         "hovertemplate": "Country=Moldova<br>FDI USA (million)=%{x}<br>GDP (million)=%{y}<extra></extra>",
         "legendgroup": "Moldova",
         "marker": {
          "color": "#FF6692",
          "symbol": "circle"
         },
         "mode": "markers",
         "name": "Moldova",
         "orientation": "v",
         "showlegend": true,
         "type": "scatter",
         "x": [
          0
         ],
         "xaxis": "x",
         "y": [
          11457.4102641932
         ],
         "yaxis": "y"
        },
        {
         "hovertemplate": "Country=Monaco<br>FDI USA (million)=%{x}<br>GDP (million)=%{y}<extra></extra>",
         "legendgroup": "Monaco",
         "marker": {
          "color": "#B6E880",
          "symbol": "circle"
         },
         "mode": "markers",
         "name": "Monaco",
         "orientation": "v",
         "showlegend": true,
         "type": "scatter",
         "x": [
          -26
         ],
         "xaxis": "x",
         "y": [
          7188.23807274445
         ],
         "yaxis": "y"
        },
        {
         "hovertemplate": "Country=Montenegro<br>FDI USA (million)=%{x}<br>GDP (million)=%{y}<extra></extra>",
         "legendgroup": "Montenegro",
         "marker": {
          "color": "#FF97FF",
          "symbol": "circle"
         },
         "mode": "markers",
         "name": "Montenegro",
         "orientation": "v",
         "showlegend": true,
         "type": "scatter",
         "x": [
          0
         ],
         "xaxis": "x",
         "y": [
          5506.766650921109
         ],
         "yaxis": "y"
        },
        {
         "hovertemplate": "Country=Netherlands<br>FDI USA (million)=%{x}<br>GDP (million)=%{y}<extra></extra>",
         "legendgroup": "Netherlands",
         "marker": {
          "color": "#FECB52",
          "symbol": "circle"
         },
         "mode": "markers",
         "name": "Netherlands",
         "orientation": "v",
         "showlegend": true,
         "type": "scatter",
         "x": [
          462303
         ],
         "xaxis": "x",
         "y": [
          914104.847814117
         ],
         "yaxis": "y"
        },
        {
         "hovertemplate": "Country=North Macedonia<br>FDI USA (million)=%{x}<br>GDP (million)=%{y}<extra></extra>",
         "legendgroup": "North Macedonia",
         "marker": {
          "color": "#636efa",
          "symbol": "circle"
         },
         "mode": "markers",
         "name": "North Macedonia",
         "orientation": "v",
         "showlegend": true,
         "type": "scatter",
         "x": [
          -1
         ],
         "xaxis": "x",
         "y": [
          12628.8548009772
         ],
         "yaxis": "y"
        },
        {
         "hovertemplate": "Country=Norway<br>FDI USA (million)=%{x}<br>GDP (million)=%{y}<extra></extra>",
         "legendgroup": "Norway",
         "marker": {
          "color": "#EF553B",
          "symbol": "circle"
         },
         "mode": "markers",
         "name": "Norway",
         "orientation": "v",
         "showlegend": true,
         "type": "scatter",
         "x": [
          26007
         ],
         "xaxis": "x",
         "y": [
          434166.615431909
         ],
         "yaxis": "y"
        },
        {
         "hovertemplate": "Country=Portugal<br>FDI USA (million)=%{x}<br>GDP (million)=%{y}<extra></extra>",
         "legendgroup": "Portugal",
         "marker": {
          "color": "#00cc96",
          "symbol": "circle"
         },
         "mode": "markers",
         "name": "Portugal",
         "orientation": "v",
         "showlegend": true,
         "type": "scatter",
         "x": [
          1056
         ],
         "xaxis": "x",
         "y": [
          241274.628877362
         ],
         "yaxis": "y"
        },
        {
         "hovertemplate": "Country=Romania<br>FDI USA (million)=%{x}<br>GDP (million)=%{y}<extra></extra>",
         "legendgroup": "Romania",
         "marker": {
          "color": "#ab63fa",
          "symbol": "circle"
         },
         "mode": "markers",
         "name": "Romania",
         "orientation": "v",
         "showlegend": true,
         "type": "scatter",
         "x": [
          3
         ],
         "xaxis": "x",
         "y": [
          241626.953521413
         ],
         "yaxis": "y"
        },
        {
         "hovertemplate": "Country=Russian Federation<br>FDI USA (million)=%{x}<br>GDP (million)=%{y}<extra></extra>",
         "legendgroup": "Russian Federation",
         "marker": {
          "color": "#FFA15A",
          "symbol": "circle"
         },
         "mode": "markers",
         "name": "Russian Federation",
         "orientation": "v",
         "showlegend": true,
         "type": "scatter",
         "x": [
          4455
         ],
         "xaxis": "x",
         "y": [
          1669583.08932296
         ],
         "yaxis": "y"
        },
        {
         "hovertemplate": "Country=San Marino<br>FDI USA (million)=%{x}<br>GDP (million)=%{y}<extra></extra>",
         "legendgroup": "San Marino",
         "marker": {
          "color": "#19d3f3",
          "symbol": "circle"
         },
         "mode": "markers",
         "name": "San Marino",
         "orientation": "v",
         "showlegend": true,
         "type": "scatter",
         "x": [
          0
         ],
         "xaxis": "x",
         "y": [
          1637.93103448276
         ],
         "yaxis": "y"
        },
        {
         "hovertemplate": "Country=Serbia<br>FDI USA (million)=%{x}<br>GDP (million)=%{y}<extra></extra>",
         "legendgroup": "Serbia",
         "marker": {
          "color": "#FF6692",
          "symbol": "circle"
         },
         "mode": "markers",
         "name": "Serbia",
         "orientation": "v",
         "showlegend": true,
         "type": "scatter",
         "x": [
          3
         ],
         "xaxis": "x",
         "y": [
          50597.28914670409
         ],
         "yaxis": "y"
        },
        {
         "hovertemplate": "Country=Slovak Republic<br>FDI USA (million)=%{x}<br>GDP (million)=%{y}<extra></extra>",
         "legendgroup": "Slovak Republic",
         "marker": {
          "color": "#B6E880",
          "symbol": "circle"
         },
         "mode": "markers",
         "name": "Slovak Republic",
         "orientation": "v",
         "showlegend": true,
         "type": "scatter",
         "x": [
          14
         ],
         "xaxis": "x",
         "y": [
          105820.499976721
         ],
         "yaxis": "y"
        },
        {
         "hovertemplate": "Country=Slovenia<br>FDI USA (million)=%{x}<br>GDP (million)=%{y}<extra></extra>",
         "legendgroup": "Slovenia",
         "marker": {
          "color": "#FF97FF",
          "symbol": "circle"
         },
         "mode": "markers",
         "name": "Slovenia",
         "orientation": "v",
         "showlegend": true,
         "type": "scatter",
         "x": [
          6
         ],
         "xaxis": "x",
         "y": [
          54034.3585442622
         ],
         "yaxis": "y"
        },
        {
         "hovertemplate": "Country=Spain<br>FDI USA (million)=%{x}<br>GDP (million)=%{y}<extra></extra>",
         "legendgroup": "Spain",
         "marker": {
          "color": "#FECB52",
          "symbol": "circle"
         },
         "mode": "markers",
         "name": "Spain",
         "orientation": "v",
         "showlegend": true,
         "type": "scatter",
         "x": [
          83379
         ],
         "xaxis": "x",
         "y": [
          1419735.2450046998
         ],
         "yaxis": "y"
        },
        {
         "hovertemplate": "Country=Sweden<br>FDI USA (million)=%{x}<br>GDP (million)=%{y}<extra></extra>",
         "legendgroup": "Sweden",
         "marker": {
          "color": "#636efa",
          "symbol": "circle"
         },
         "mode": "markers",
         "name": "Sweden",
         "orientation": "v",
         "showlegend": true,
         "type": "scatter",
         "x": [
          49546
         ],
         "xaxis": "x",
         "y": [
          555455.371487089
         ],
         "yaxis": "y"
        },
        {
         "hovertemplate": "Country=Switzerland<br>FDI USA (million)=%{x}<br>GDP (million)=%{y}<extra></extra>",
         "legendgroup": "Switzerland",
         "marker": {
          "color": "#EF553B",
          "symbol": "circle"
         },
         "mode": "markers",
         "name": "Switzerland",
         "orientation": "v",
         "showlegend": true,
         "type": "scatter",
         "x": [
          295783
         ],
         "xaxis": "x",
         "y": [
          705140.6200466999
         ],
         "yaxis": "y"
        },
        {
         "hovertemplate": "Country=Tajikistan<br>FDI USA (million)=%{x}<br>GDP (million)=%{y}<extra></extra>",
         "legendgroup": "Tajikistan",
         "marker": {
          "color": "#00cc96",
          "symbol": "circle"
         },
         "mode": "markers",
         "name": "Tajikistan",
         "orientation": "v",
         "showlegend": true,
         "type": "scatter",
         "x": [
          0
         ],
         "xaxis": "x",
         "y": [
          7522.947810123259
         ],
         "yaxis": "y"
        },
        {
         "hovertemplate": "Country=Turkey<br>FDI USA (million)=%{x}<br>GDP (million)=%{y}<extra></extra>",
         "legendgroup": "Turkey",
         "marker": {
          "color": "#ab63fa",
          "symbol": "circle"
         },
         "mode": "markers",
         "name": "Turkey",
         "orientation": "v",
         "showlegend": true,
         "type": "scatter",
         "x": [
          2175
         ],
         "xaxis": "x",
         "y": [
          771350.3313727111
         ],
         "yaxis": "y"
        },
        {
         "hovertemplate": "Country=Turkmenistan<br>FDI USA (million)=%{x}<br>GDP (million)=%{y}<extra></extra>",
         "legendgroup": "Turkmenistan",
         "marker": {
          "color": "#FFA15A",
          "symbol": "circle"
         },
         "mode": "markers",
         "name": "Turkmenistan",
         "orientation": "v",
         "showlegend": true,
         "type": "scatter",
         "x": [
          0
         ],
         "xaxis": "x",
         "y": [
          40761.1428571429
         ],
         "yaxis": "y"
        },
        {
         "hovertemplate": "Country=Ukraine<br>FDI USA (million)=%{x}<br>GDP (million)=%{y}<extra></extra>",
         "legendgroup": "Ukraine",
         "marker": {
          "color": "#19d3f3",
          "symbol": "circle"
         },
         "mode": "markers",
         "name": "Ukraine",
         "orientation": "v",
         "showlegend": true,
         "type": "scatter",
         "x": [
          -3
         ],
         "xaxis": "x",
         "y": [
          130901.85842172
         ],
         "yaxis": "y"
        },
        {
         "hovertemplate": "Country=United Kingdom<br>FDI USA (million)=%{x}<br>GDP (million)=%{y}<extra></extra>",
         "legendgroup": "United Kingdom",
         "marker": {
          "color": "#FF6692",
          "symbol": "circle"
         },
         "mode": "markers",
         "name": "United Kingdom",
         "orientation": "v",
         "showlegend": true,
         "type": "scatter",
         "x": [
          496622
         ],
         "xaxis": "x",
         "y": [
          2860667.72755197
         ],
         "yaxis": "y"
        },
        {
         "hovertemplate": "Country=Uzbekistan<br>FDI USA (million)=%{x}<br>GDP (million)=%{y}<extra></extra>",
         "legendgroup": "Uzbekistan",
         "marker": {
          "color": "#B6E880",
          "symbol": "circle"
         },
         "mode": "markers",
         "name": "Uzbekistan",
         "orientation": "v",
         "showlegend": true,
         "type": "scatter",
         "x": [
          0
         ],
         "xaxis": "x",
         "y": [
          50392.6077582324
         ],
         "yaxis": "y"
        },
        {
         "hovertemplate": "Country=Vatican City<br>FDI USA (million)=%{x}<br>GDP (million)=%{y}<extra></extra>",
         "legendgroup": "Vatican City",
         "marker": {
          "color": "#FF97FF",
          "symbol": "circle"
         },
         "mode": "markers",
         "name": "Vatican City",
         "orientation": "v",
         "showlegend": true,
         "type": "scatter",
         "x": [
          0
         ],
         "xaxis": "x",
         "y": [
          null
         ],
         "yaxis": "y"
        }
       ],
       "layout": {
        "autosize": true,
        "legend": {
         "title": {
          "text": "Country"
         },
         "tracegroupgap": 0
        },
        "template": {
         "data": {
          "bar": [
           {
            "error_x": {
             "color": "#2a3f5f"
            },
            "error_y": {
             "color": "#2a3f5f"
            },
            "marker": {
             "line": {
              "color": "#E5ECF6",
              "width": 0.5
             }
            },
            "type": "bar"
           }
          ],
          "barpolar": [
           {
            "marker": {
             "line": {
              "color": "#E5ECF6",
              "width": 0.5
             }
            },
            "type": "barpolar"
           }
          ],
          "carpet": [
           {
            "aaxis": {
             "endlinecolor": "#2a3f5f",
             "gridcolor": "white",
             "linecolor": "white",
             "minorgridcolor": "white",
             "startlinecolor": "#2a3f5f"
            },
            "baxis": {
             "endlinecolor": "#2a3f5f",
             "gridcolor": "white",
             "linecolor": "white",
             "minorgridcolor": "white",
             "startlinecolor": "#2a3f5f"
            },
            "type": "carpet"
           }
          ],
          "choropleth": [
           {
            "colorbar": {
             "outlinewidth": 0,
             "ticks": ""
            },
            "type": "choropleth"
           }
          ],
          "contour": [
           {
            "colorbar": {
             "outlinewidth": 0,
             "ticks": ""
            },
            "colorscale": [
             [
              0,
              "#0d0887"
             ],
             [
              0.1111111111111111,
              "#46039f"
             ],
             [
              0.2222222222222222,
              "#7201a8"
             ],
             [
              0.3333333333333333,
              "#9c179e"
             ],
             [
              0.4444444444444444,
              "#bd3786"
             ],
             [
              0.5555555555555556,
              "#d8576b"
             ],
             [
              0.6666666666666666,
              "#ed7953"
             ],
             [
              0.7777777777777778,
              "#fb9f3a"
             ],
             [
              0.8888888888888888,
              "#fdca26"
             ],
             [
              1,
              "#f0f921"
             ]
            ],
            "type": "contour"
           }
          ],
          "contourcarpet": [
           {
            "colorbar": {
             "outlinewidth": 0,
             "ticks": ""
            },
            "type": "contourcarpet"
           }
          ],
          "heatmap": [
           {
            "colorbar": {
             "outlinewidth": 0,
             "ticks": ""
            },
            "colorscale": [
             [
              0,
              "#0d0887"
             ],
             [
              0.1111111111111111,
              "#46039f"
             ],
             [
              0.2222222222222222,
              "#7201a8"
             ],
             [
              0.3333333333333333,
              "#9c179e"
             ],
             [
              0.4444444444444444,
              "#bd3786"
             ],
             [
              0.5555555555555556,
              "#d8576b"
             ],
             [
              0.6666666666666666,
              "#ed7953"
             ],
             [
              0.7777777777777778,
              "#fb9f3a"
             ],
             [
              0.8888888888888888,
              "#fdca26"
             ],
             [
              1,
              "#f0f921"
             ]
            ],
            "type": "heatmap"
           }
          ],
          "heatmapgl": [
           {
            "colorbar": {
             "outlinewidth": 0,
             "ticks": ""
            },
            "colorscale": [
             [
              0,
              "#0d0887"
             ],
             [
              0.1111111111111111,
              "#46039f"
             ],
             [
              0.2222222222222222,
              "#7201a8"
             ],
             [
              0.3333333333333333,
              "#9c179e"
             ],
             [
              0.4444444444444444,
              "#bd3786"
             ],
             [
              0.5555555555555556,
              "#d8576b"
             ],
             [
              0.6666666666666666,
              "#ed7953"
             ],
             [
              0.7777777777777778,
              "#fb9f3a"
             ],
             [
              0.8888888888888888,
              "#fdca26"
             ],
             [
              1,
              "#f0f921"
             ]
            ],
            "type": "heatmapgl"
           }
          ],
          "histogram": [
           {
            "marker": {
             "colorbar": {
              "outlinewidth": 0,
              "ticks": ""
             }
            },
            "type": "histogram"
           }
          ],
          "histogram2d": [
           {
            "colorbar": {
             "outlinewidth": 0,
             "ticks": ""
            },
            "colorscale": [
             [
              0,
              "#0d0887"
             ],
             [
              0.1111111111111111,
              "#46039f"
             ],
             [
              0.2222222222222222,
              "#7201a8"
             ],
             [
              0.3333333333333333,
              "#9c179e"
             ],
             [
              0.4444444444444444,
              "#bd3786"
             ],
             [
              0.5555555555555556,
              "#d8576b"
             ],
             [
              0.6666666666666666,
              "#ed7953"
             ],
             [
              0.7777777777777778,
              "#fb9f3a"
             ],
             [
              0.8888888888888888,
              "#fdca26"
             ],
             [
              1,
              "#f0f921"
             ]
            ],
            "type": "histogram2d"
           }
          ],
          "histogram2dcontour": [
           {
            "colorbar": {
             "outlinewidth": 0,
             "ticks": ""
            },
            "colorscale": [
             [
              0,
              "#0d0887"
             ],
             [
              0.1111111111111111,
              "#46039f"
             ],
             [
              0.2222222222222222,
              "#7201a8"
             ],
             [
              0.3333333333333333,
              "#9c179e"
             ],
             [
              0.4444444444444444,
              "#bd3786"
             ],
             [
              0.5555555555555556,
              "#d8576b"
             ],
             [
              0.6666666666666666,
              "#ed7953"
             ],
             [
              0.7777777777777778,
              "#fb9f3a"
             ],
             [
              0.8888888888888888,
              "#fdca26"
             ],
             [
              1,
              "#f0f921"
             ]
            ],
            "type": "histogram2dcontour"
           }
          ],
          "mesh3d": [
           {
            "colorbar": {
             "outlinewidth": 0,
             "ticks": ""
            },
            "type": "mesh3d"
           }
          ],
          "parcoords": [
           {
            "line": {
             "colorbar": {
              "outlinewidth": 0,
              "ticks": ""
             }
            },
            "type": "parcoords"
           }
          ],
          "pie": [
           {
            "automargin": true,
            "type": "pie"
           }
          ],
          "scatter": [
           {
            "marker": {
             "colorbar": {
              "outlinewidth": 0,
              "ticks": ""
             }
            },
            "type": "scatter"
           }
          ],
          "scatter3d": [
           {
            "line": {
             "colorbar": {
              "outlinewidth": 0,
              "ticks": ""
             }
            },
            "marker": {
             "colorbar": {
              "outlinewidth": 0,
              "ticks": ""
             }
            },
            "type": "scatter3d"
           }
          ],
          "scattercarpet": [
           {
            "marker": {
             "colorbar": {
              "outlinewidth": 0,
              "ticks": ""
             }
            },
            "type": "scattercarpet"
           }
          ],
          "scattergeo": [
           {
            "marker": {
             "colorbar": {
              "outlinewidth": 0,
              "ticks": ""
             }
            },
            "type": "scattergeo"
           }
          ],
          "scattergl": [
           {
            "marker": {
             "colorbar": {
              "outlinewidth": 0,
              "ticks": ""
             }
            },
            "type": "scattergl"
           }
          ],
          "scattermapbox": [
           {
            "marker": {
             "colorbar": {
              "outlinewidth": 0,
              "ticks": ""
             }
            },
            "type": "scattermapbox"
           }
          ],
          "scatterpolar": [
           {
            "marker": {
             "colorbar": {
              "outlinewidth": 0,
              "ticks": ""
             }
            },
            "type": "scatterpolar"
           }
          ],
          "scatterpolargl": [
           {
            "marker": {
             "colorbar": {
              "outlinewidth": 0,
              "ticks": ""
             }
            },
            "type": "scatterpolargl"
           }
          ],
          "scatterternary": [
           {
            "marker": {
             "colorbar": {
              "outlinewidth": 0,
              "ticks": ""
             }
            },
            "type": "scatterternary"
           }
          ],
          "surface": [
           {
            "colorbar": {
             "outlinewidth": 0,
             "ticks": ""
            },
            "colorscale": [
             [
              0,
              "#0d0887"
             ],
             [
              0.1111111111111111,
              "#46039f"
             ],
             [
              0.2222222222222222,
              "#7201a8"
             ],
             [
              0.3333333333333333,
              "#9c179e"
             ],
             [
              0.4444444444444444,
              "#bd3786"
             ],
             [
              0.5555555555555556,
              "#d8576b"
             ],
             [
              0.6666666666666666,
              "#ed7953"
             ],
             [
              0.7777777777777778,
              "#fb9f3a"
             ],
             [
              0.8888888888888888,
              "#fdca26"
             ],
             [
              1,
              "#f0f921"
             ]
            ],
            "type": "surface"
           }
          ],
          "table": [
           {
            "cells": {
             "fill": {
              "color": "#EBF0F8"
             },
             "line": {
              "color": "white"
             }
            },
            "header": {
             "fill": {
              "color": "#C8D4E3"
             },
             "line": {
              "color": "white"
             }
            },
            "type": "table"
           }
          ]
         },
         "layout": {
          "annotationdefaults": {
           "arrowcolor": "#2a3f5f",
           "arrowhead": 0,
           "arrowwidth": 1
          },
          "coloraxis": {
           "colorbar": {
            "outlinewidth": 0,
            "ticks": ""
           }
          },
          "colorscale": {
           "diverging": [
            [
             0,
             "#8e0152"
            ],
            [
             0.1,
             "#c51b7d"
            ],
            [
             0.2,
             "#de77ae"
            ],
            [
             0.3,
             "#f1b6da"
            ],
            [
             0.4,
             "#fde0ef"
            ],
            [
             0.5,
             "#f7f7f7"
            ],
            [
             0.6,
             "#e6f5d0"
            ],
            [
             0.7,
             "#b8e186"
            ],
            [
             0.8,
             "#7fbc41"
            ],
            [
             0.9,
             "#4d9221"
            ],
            [
             1,
             "#276419"
            ]
           ],
           "sequential": [
            [
             0,
             "#0d0887"
            ],
            [
             0.1111111111111111,
             "#46039f"
            ],
            [
             0.2222222222222222,
             "#7201a8"
            ],
            [
             0.3333333333333333,
             "#9c179e"
            ],
            [
             0.4444444444444444,
             "#bd3786"
            ],
            [
             0.5555555555555556,
             "#d8576b"
            ],
            [
             0.6666666666666666,
             "#ed7953"
            ],
            [
             0.7777777777777778,
             "#fb9f3a"
            ],
            [
             0.8888888888888888,
             "#fdca26"
            ],
            [
             1,
             "#f0f921"
            ]
           ],
           "sequentialminus": [
            [
             0,
             "#0d0887"
            ],
            [
             0.1111111111111111,
             "#46039f"
            ],
            [
             0.2222222222222222,
             "#7201a8"
            ],
            [
             0.3333333333333333,
             "#9c179e"
            ],
            [
             0.4444444444444444,
             "#bd3786"
            ],
            [
             0.5555555555555556,
             "#d8576b"
            ],
            [
             0.6666666666666666,
             "#ed7953"
            ],
            [
             0.7777777777777778,
             "#fb9f3a"
            ],
            [
             0.8888888888888888,
             "#fdca26"
            ],
            [
             1,
             "#f0f921"
            ]
           ]
          },
          "colorway": [
           "#636efa",
           "#EF553B",
           "#00cc96",
           "#ab63fa",
           "#FFA15A",
           "#19d3f3",
           "#FF6692",
           "#B6E880",
           "#FF97FF",
           "#FECB52"
          ],
          "font": {
           "color": "#2a3f5f"
          },
          "geo": {
           "bgcolor": "white",
           "lakecolor": "white",
           "landcolor": "#E5ECF6",
           "showlakes": true,
           "showland": true,
           "subunitcolor": "white"
          },
          "hoverlabel": {
           "align": "left"
          },
          "hovermode": "closest",
          "mapbox": {
           "style": "light"
          },
          "paper_bgcolor": "white",
          "plot_bgcolor": "#E5ECF6",
          "polar": {
           "angularaxis": {
            "gridcolor": "white",
            "linecolor": "white",
            "ticks": ""
           },
           "bgcolor": "#E5ECF6",
           "radialaxis": {
            "gridcolor": "white",
            "linecolor": "white",
            "ticks": ""
           }
          },
          "scene": {
           "xaxis": {
            "backgroundcolor": "#E5ECF6",
            "gridcolor": "white",
            "gridwidth": 2,
            "linecolor": "white",
            "showbackground": true,
            "ticks": "",
            "zerolinecolor": "white"
           },
           "yaxis": {
            "backgroundcolor": "#E5ECF6",
            "gridcolor": "white",
            "gridwidth": 2,
            "linecolor": "white",
            "showbackground": true,
            "ticks": "",
            "zerolinecolor": "white"
           },
           "zaxis": {
            "backgroundcolor": "#E5ECF6",
            "gridcolor": "white",
            "gridwidth": 2,
            "linecolor": "white",
            "showbackground": true,
            "ticks": "",
            "zerolinecolor": "white"
           }
          },
          "shapedefaults": {
           "line": {
            "color": "#2a3f5f"
           }
          },
          "ternary": {
           "aaxis": {
            "gridcolor": "white",
            "linecolor": "white",
            "ticks": ""
           },
           "baxis": {
            "gridcolor": "white",
            "linecolor": "white",
            "ticks": ""
           },
           "bgcolor": "#E5ECF6",
           "caxis": {
            "gridcolor": "white",
            "linecolor": "white",
            "ticks": ""
           }
          },
          "title": {
           "x": 0.05
          },
          "xaxis": {
           "automargin": true,
           "gridcolor": "white",
           "linecolor": "white",
           "ticks": "",
           "title": {
            "standoff": 15
           },
           "zerolinecolor": "white",
           "zerolinewidth": 2
          },
          "yaxis": {
           "automargin": true,
           "gridcolor": "white",
           "linecolor": "white",
           "ticks": "",
           "title": {
            "standoff": 15
           },
           "zerolinecolor": "white",
           "zerolinewidth": 2
          }
         }
        },
        "title": {
         "text": "2018 FDI/GDP for European Countries"
        },
        "xaxis": {
         "anchor": "y",
         "autorange": true,
         "domain": [
          0,
          1
         ],
         "range": [
          -31556.955263658867,
          528152.9552636589
         ],
         "title": {
          "text": "FDI USA (million)"
         },
         "type": "linear"
        },
        "yaxis": {
         "anchor": "x",
         "autorange": true,
         "domain": [
          0,
          1
         ],
         "range": [
          -287540.2561219647,
          4238727.021109387
         ],
         "title": {
          "text": "GDP (million)"
         },
         "type": "linear"
        }
       }
      },
      "image/png": "[encoded data removed]",
      "text/html": [
       "<div>                            <div id=\"c135cd4c-ec12-4ad1-843b-27ecc3ad9751\" class=\"plotly-graph-div\" style=\"height:525px; width:100%;\"></div>            <script type=\"text/javascript\">                require([\"plotly\"], function(Plotly) {                    window.PLOTLYENV=window.PLOTLYENV || {};                                    if (document.getElementById(\"c135cd4c-ec12-4ad1-843b-27ecc3ad9751\")) {                    Plotly.newPlot(                        \"c135cd4c-ec12-4ad1-843b-27ecc3ad9751\",                        [{\"hovertemplate\": \"Country=Albania<br>FDI USA (million)=%{x}<br>GDP (million)=%{y}<extra></extra>\", \"legendgroup\": \"Albania\", \"marker\": {\"color\": \"#636efa\", \"symbol\": \"circle\"}, \"mode\": \"markers\", \"name\": \"Albania\", \"orientation\": \"v\", \"showlegend\": true, \"type\": \"scatter\", \"x\": [0.0], \"xaxis\": \"x\", \"y\": [15147.020535386899], \"yaxis\": \"y\"}, {\"hovertemplate\": \"Country=Andorra<br>FDI USA (million)=%{x}<br>GDP (million)=%{y}<extra></extra>\", \"legendgroup\": \"Andorra\", \"marker\": {\"color\": \"#EF553B\", \"symbol\": \"circle\"}, \"mode\": \"markers\", \"name\": \"Andorra\", \"orientation\": \"v\", \"showlegend\": true, \"type\": \"scatter\", \"x\": [0.0], \"xaxis\": \"x\", \"y\": [3218.3160132262606], \"yaxis\": \"y\"}, {\"hovertemplate\": \"Country=Armenia<br>FDI USA (million)=%{x}<br>GDP (million)=%{y}<extra></extra>\", \"legendgroup\": \"Armenia\", \"marker\": {\"color\": \"#00cc96\", \"symbol\": \"circle\"}, \"mode\": \"markers\", \"name\": \"Armenia\", \"orientation\": \"v\", \"showlegend\": true, \"type\": \"scatter\", \"x\": [3.0], \"xaxis\": \"x\", \"y\": [12457.9419070333], \"yaxis\": \"y\"}, {\"hovertemplate\": \"Country=Austria<br>FDI USA (million)=%{x}<br>GDP (million)=%{y}<extra></extra>\", \"legendgroup\": \"Austria\", \"marker\": {\"color\": \"#ab63fa\", \"symbol\": \"circle\"}, \"mode\": \"markers\", \"name\": \"Austria\", \"orientation\": \"v\", \"showlegend\": true, \"type\": \"scatter\", \"x\": [12392.0], \"xaxis\": \"x\", \"y\": [455508.25502821896], \"yaxis\": \"y\"}, {\"hovertemplate\": \"Country=Azerbaijan<br>FDI USA (million)=%{x}<br>GDP (million)=%{y}<extra></extra>\", \"legendgroup\": \"Azerbaijan\", \"marker\": {\"color\": \"#FFA15A\", \"symbol\": \"circle\"}, \"mode\": \"markers\", \"name\": \"Azerbaijan\", \"orientation\": \"v\", \"showlegend\": true, \"type\": \"scatter\", \"x\": [-2.0], \"xaxis\": \"x\", \"y\": [47112.941176470595], \"yaxis\": \"y\"}, {\"hovertemplate\": \"Country=Belarus<br>FDI USA (million)=%{x}<br>GDP (million)=%{y}<extra></extra>\", \"legendgroup\": \"Belarus\", \"marker\": {\"color\": \"#19d3f3\", \"symbol\": \"circle\"}, \"mode\": \"markers\", \"name\": \"Belarus\", \"orientation\": \"v\", \"showlegend\": true, \"type\": \"scatter\", \"x\": [4.0], \"xaxis\": \"x\", \"y\": [60031.262269336505], \"yaxis\": \"y\"}, {\"hovertemplate\": \"Country=Belgium<br>FDI USA (million)=%{x}<br>GDP (million)=%{y}<extra></extra>\", \"legendgroup\": \"Belgium\", \"marker\": {\"color\": \"#FF6692\", \"symbol\": \"circle\"}, \"mode\": \"markers\", \"name\": \"Belgium\", \"orientation\": \"v\", \"showlegend\": true, \"type\": \"scatter\", \"x\": [64661.0], \"xaxis\": \"x\", \"y\": [542685.915417411], \"yaxis\": \"y\"}, {\"hovertemplate\": \"Country=Bosnia and Herzegovina<br>FDI USA (million)=%{x}<br>GDP (million)=%{y}<extra></extra>\", \"legendgroup\": \"Bosnia and Herzegovina\", \"marker\": {\"color\": \"#B6E880\", \"symbol\": \"circle\"}, \"mode\": \"markers\", \"name\": \"Bosnia and Herzegovina\", \"orientation\": \"v\", \"showlegend\": true, \"type\": \"scatter\", \"x\": [0.0], \"xaxis\": \"x\", \"y\": [20183.4984912492], \"yaxis\": \"y\"}, {\"hovertemplate\": \"Country=Croatia<br>FDI USA (million)=%{x}<br>GDP (million)=%{y}<extra></extra>\", \"legendgroup\": \"Croatia\", \"marker\": {\"color\": \"#FF97FF\", \"symbol\": \"circle\"}, \"mode\": \"markers\", \"name\": \"Croatia\", \"orientation\": \"v\", \"showlegend\": true, \"type\": \"scatter\", \"x\": [19.0], \"xaxis\": \"x\", \"y\": [60991.399904443395], \"yaxis\": \"y\"}, {\"hovertemplate\": \"Country=Cyprus<br>FDI USA (million)=%{x}<br>GDP (million)=%{y}<extra></extra>\", \"legendgroup\": \"Cyprus\", \"marker\": {\"color\": \"#FECB52\", \"symbol\": \"circle\"}, \"mode\": \"markers\", \"name\": \"Cyprus\", \"orientation\": \"v\", \"showlegend\": true, \"type\": \"scatter\", \"x\": [323.0], \"xaxis\": \"x\", \"y\": [24961.995748701], \"yaxis\": \"y\"}, {\"hovertemplate\": \"Country=Denmark<br>FDI USA (million)=%{x}<br>GDP (million)=%{y}<extra></extra>\", \"legendgroup\": \"Denmark\", \"marker\": {\"color\": \"#636efa\", \"symbol\": \"circle\"}, \"mode\": \"markers\", \"name\": \"Denmark\", \"orientation\": \"v\", \"showlegend\": true, \"type\": \"scatter\", \"x\": [20654.0], \"xaxis\": \"x\", \"y\": [355675.329085952], \"yaxis\": \"y\"}, {\"hovertemplate\": \"Country=Finland<br>FDI USA (million)=%{x}<br>GDP (million)=%{y}<extra></extra>\", \"legendgroup\": \"Finland\", \"marker\": {\"color\": \"#EF553B\", \"symbol\": \"circle\"}, \"mode\": \"markers\", \"name\": \"Finland\", \"orientation\": \"v\", \"showlegend\": true, \"type\": \"scatter\", \"x\": [14464.0], \"xaxis\": \"x\", \"y\": [275893.68135589204], \"yaxis\": \"y\"}, {\"hovertemplate\": \"Country=France<br>FDI USA (million)=%{x}<br>GDP (million)=%{y}<extra></extra>\", \"legendgroup\": \"France\", \"marker\": {\"color\": \"#00cc96\", \"symbol\": \"circle\"}, \"mode\": \"markers\", \"name\": \"France\", \"orientation\": \"v\", \"showlegend\": true, \"type\": \"scatter\", \"x\": [268169.0], \"xaxis\": \"x\", \"y\": [2787863.9588854904], \"yaxis\": \"y\"}, {\"hovertemplate\": \"Country=Georgia<br>FDI USA (million)=%{x}<br>GDP (million)=%{y}<extra></extra>\", \"legendgroup\": \"Georgia\", \"marker\": {\"color\": \"#ab63fa\", \"symbol\": \"circle\"}, \"mode\": \"markers\", \"name\": \"Georgia\", \"orientation\": \"v\", \"showlegend\": true, \"type\": \"scatter\", \"x\": [0.0], \"xaxis\": \"x\", \"y\": [17599.700090762002], \"yaxis\": \"y\"}, {\"hovertemplate\": \"Country=Germany<br>FDI USA (million)=%{x}<br>GDP (million)=%{y}<extra></extra>\", \"legendgroup\": \"Germany\", \"marker\": {\"color\": \"#FFA15A\", \"symbol\": \"circle\"}, \"mode\": \"markers\", \"name\": \"Germany\", \"orientation\": \"v\", \"showlegend\": true, \"type\": \"scatter\", \"x\": [328124.0], \"xaxis\": \"x\", \"y\": [3949548.83395294], \"yaxis\": \"y\"}, {\"hovertemplate\": \"Country=Gibraltar<br>FDI USA (million)=%{x}<br>GDP (million)=%{y}<extra></extra>\", \"legendgroup\": \"Gibraltar\", \"marker\": {\"color\": \"#19d3f3\", \"symbol\": \"circle\"}, \"mode\": \"markers\", \"name\": \"Gibraltar\", \"orientation\": \"v\", \"showlegend\": true, \"type\": \"scatter\", \"x\": [9367.0], \"xaxis\": \"x\", \"y\": [null], \"yaxis\": \"y\"}, {\"hovertemplate\": \"Country=Greece<br>FDI USA (million)=%{x}<br>GDP (million)=%{y}<extra></extra>\", \"legendgroup\": \"Greece\", \"marker\": {\"color\": \"#FF6692\", \"symbol\": \"circle\"}, \"mode\": \"markers\", \"name\": \"Greece\", \"orientation\": \"v\", \"showlegend\": true, \"type\": \"scatter\", \"x\": [639.0], \"xaxis\": \"x\", \"y\": [218138.36744499], \"yaxis\": \"y\"}, {\"hovertemplate\": \"Country=Hungary<br>FDI USA (million)=%{x}<br>GDP (million)=%{y}<extra></extra>\", \"legendgroup\": \"Hungary\", \"marker\": {\"color\": \"#B6E880\", \"symbol\": \"circle\"}, \"mode\": \"markers\", \"name\": \"Hungary\", \"orientation\": \"v\", \"showlegend\": true, \"type\": \"scatter\", \"x\": [31730.0], \"xaxis\": \"x\", \"y\": [157882.91277825402], \"yaxis\": \"y\"}, {\"hovertemplate\": \"Country=Ireland<br>FDI USA (million)=%{x}<br>GDP (million)=%{y}<extra></extra>\", \"legendgroup\": \"Ireland\", \"marker\": {\"color\": \"#FF97FF\", \"symbol\": \"circle\"}, \"mode\": \"markers\", \"name\": \"Ireland\", \"orientation\": \"v\", \"showlegend\": true, \"type\": \"scatter\", \"x\": [265004.0], \"xaxis\": \"x\", \"y\": [382674.36076634104], \"yaxis\": \"y\"}, {\"hovertemplate\": \"Country=Italy<br>FDI USA (million)=%{x}<br>GDP (million)=%{y}<extra></extra>\", \"legendgroup\": \"Italy\", \"marker\": {\"color\": \"#FECB52\", \"symbol\": \"circle\"}, \"mode\": \"markers\", \"name\": \"Italy\", \"orientation\": \"v\", \"showlegend\": true, \"type\": \"scatter\", \"x\": [30749.0], \"xaxis\": \"x\", \"y\": [2085764.30086227], \"yaxis\": \"y\"}, {\"hovertemplate\": \"Country=Kazakhstan<br>FDI USA (million)=%{x}<br>GDP (million)=%{y}<extra></extra>\", \"legendgroup\": \"Kazakhstan\", \"marker\": {\"color\": \"#636efa\", \"symbol\": \"circle\"}, \"mode\": \"markers\", \"name\": \"Kazakhstan\", \"orientation\": \"v\", \"showlegend\": true, \"type\": \"scatter\", \"x\": [0.0], \"xaxis\": \"x\", \"y\": [179339.994859384], \"yaxis\": \"y\"}, {\"hovertemplate\": \"Country=Kosovo<br>FDI USA (million)=%{x}<br>GDP (million)=%{y}<extra></extra>\", \"legendgroup\": \"Kosovo\", \"marker\": {\"color\": \"#EF553B\", \"symbol\": \"circle\"}, \"mode\": \"markers\", \"name\": \"Kosovo\", \"orientation\": \"v\", \"showlegend\": true, \"type\": \"scatter\", \"x\": [0.0], \"xaxis\": \"x\", \"y\": [7942.961738308931], \"yaxis\": \"y\"}, {\"hovertemplate\": \"Country=Kyrgyz Republic<br>FDI USA (million)=%{x}<br>GDP (million)=%{y}<extra></extra>\", \"legendgroup\": \"Kyrgyz Republic\", \"marker\": {\"color\": \"#00cc96\", \"symbol\": \"circle\"}, \"mode\": \"markers\", \"name\": \"Kyrgyz Republic\", \"orientation\": \"v\", \"showlegend\": true, \"type\": \"scatter\", \"x\": [0.0], \"xaxis\": \"x\", \"y\": [8271.10863839931], \"yaxis\": \"y\"}, {\"hovertemplate\": \"Country=Lithuania<br>FDI USA (million)=%{x}<br>GDP (million)=%{y}<extra></extra>\", \"legendgroup\": \"Lithuania\", \"marker\": {\"color\": \"#ab63fa\", \"symbol\": \"circle\"}, \"mode\": \"markers\", \"name\": \"Lithuania\", \"orientation\": \"v\", \"showlegend\": true, \"type\": \"scatter\", \"x\": [-4.0], \"xaxis\": \"x\", \"y\": [53455.170033519404], \"yaxis\": \"y\"}, {\"hovertemplate\": \"Country=Luxembourg<br>FDI USA (million)=%{x}<br>GDP (million)=%{y}<extra></extra>\", \"legendgroup\": \"Luxembourg\", \"marker\": {\"color\": \"#FFA15A\", \"symbol\": \"circle\"}, \"mode\": \"markers\", \"name\": \"Luxembourg\", \"orientation\": \"v\", \"showlegend\": true, \"type\": \"scatter\", \"x\": [312976.0], \"xaxis\": \"x\", \"y\": [70919.95801552472], \"yaxis\": \"y\"}, {\"hovertemplate\": \"Country=Malta<br>FDI USA (million)=%{x}<br>GDP (million)=%{y}<extra></extra>\", \"legendgroup\": \"Malta\", \"marker\": {\"color\": \"#19d3f3\", \"symbol\": \"circle\"}, \"mode\": \"markers\", \"name\": \"Malta\", \"orientation\": \"v\", \"showlegend\": true, \"type\": \"scatter\", \"x\": [1557.0], \"xaxis\": \"x\", \"y\": [14603.581712328798], \"yaxis\": \"y\"}, {\"hovertemplate\": \"Country=Moldova<br>FDI USA (million)=%{x}<br>GDP (million)=%{y}<extra></extra>\", \"legendgroup\": \"Moldova\", \"marker\": {\"color\": \"#FF6692\", \"symbol\": \"circle\"}, \"mode\": \"markers\", \"name\": \"Moldova\", \"orientation\": \"v\", \"showlegend\": true, \"type\": \"scatter\", \"x\": [0.0], \"xaxis\": \"x\", \"y\": [11457.4102641932], \"yaxis\": \"y\"}, {\"hovertemplate\": \"Country=Monaco<br>FDI USA (million)=%{x}<br>GDP (million)=%{y}<extra></extra>\", \"legendgroup\": \"Monaco\", \"marker\": {\"color\": \"#B6E880\", \"symbol\": \"circle\"}, \"mode\": \"markers\", \"name\": \"Monaco\", \"orientation\": \"v\", \"showlegend\": true, \"type\": \"scatter\", \"x\": [-26.0], \"xaxis\": \"x\", \"y\": [7188.23807274445], \"yaxis\": \"y\"}, {\"hovertemplate\": \"Country=Montenegro<br>FDI USA (million)=%{x}<br>GDP (million)=%{y}<extra></extra>\", \"legendgroup\": \"Montenegro\", \"marker\": {\"color\": \"#FF97FF\", \"symbol\": \"circle\"}, \"mode\": \"markers\", \"name\": \"Montenegro\", \"orientation\": \"v\", \"showlegend\": true, \"type\": \"scatter\", \"x\": [0.0], \"xaxis\": \"x\", \"y\": [5506.766650921109], \"yaxis\": \"y\"}, {\"hovertemplate\": \"Country=Netherlands<br>FDI USA (million)=%{x}<br>GDP (million)=%{y}<extra></extra>\", \"legendgroup\": \"Netherlands\", \"marker\": {\"color\": \"#FECB52\", \"symbol\": \"circle\"}, \"mode\": \"markers\", \"name\": \"Netherlands\", \"orientation\": \"v\", \"showlegend\": true, \"type\": \"scatter\", \"x\": [462303.0], \"xaxis\": \"x\", \"y\": [914104.847814117], \"yaxis\": \"y\"}, {\"hovertemplate\": \"Country=North Macedonia<br>FDI USA (million)=%{x}<br>GDP (million)=%{y}<extra></extra>\", \"legendgroup\": \"North Macedonia\", \"marker\": {\"color\": \"#636efa\", \"symbol\": \"circle\"}, \"mode\": \"markers\", \"name\": \"North Macedonia\", \"orientation\": \"v\", \"showlegend\": true, \"type\": \"scatter\", \"x\": [-1.0], \"xaxis\": \"x\", \"y\": [12628.8548009772], \"yaxis\": \"y\"}, {\"hovertemplate\": \"Country=Norway<br>FDI USA (million)=%{x}<br>GDP (million)=%{y}<extra></extra>\", \"legendgroup\": \"Norway\", \"marker\": {\"color\": \"#EF553B\", \"symbol\": \"circle\"}, \"mode\": \"markers\", \"name\": \"Norway\", \"orientation\": \"v\", \"showlegend\": true, \"type\": \"scatter\", \"x\": [26007.0], \"xaxis\": \"x\", \"y\": [434166.615431909], \"yaxis\": \"y\"}, {\"hovertemplate\": \"Country=Portugal<br>FDI USA (million)=%{x}<br>GDP (million)=%{y}<extra></extra>\", \"legendgroup\": \"Portugal\", \"marker\": {\"color\": \"#00cc96\", \"symbol\": \"circle\"}, \"mode\": \"markers\", \"name\": \"Portugal\", \"orientation\": \"v\", \"showlegend\": true, \"type\": \"scatter\", \"x\": [1056.0], \"xaxis\": \"x\", \"y\": [241274.628877362], \"yaxis\": \"y\"}, {\"hovertemplate\": \"Country=Romania<br>FDI USA (million)=%{x}<br>GDP (million)=%{y}<extra></extra>\", \"legendgroup\": \"Romania\", \"marker\": {\"color\": \"#ab63fa\", \"symbol\": \"circle\"}, \"mode\": \"markers\", \"name\": \"Romania\", \"orientation\": \"v\", \"showlegend\": true, \"type\": \"scatter\", \"x\": [3.0], \"xaxis\": \"x\", \"y\": [241626.953521413], \"yaxis\": \"y\"}, {\"hovertemplate\": \"Country=Russian Federation<br>FDI USA (million)=%{x}<br>GDP (million)=%{y}<extra></extra>\", \"legendgroup\": \"Russian Federation\", \"marker\": {\"color\": \"#FFA15A\", \"symbol\": \"circle\"}, \"mode\": \"markers\", \"name\": \"Russian Federation\", \"orientation\": \"v\", \"showlegend\": true, \"type\": \"scatter\", \"x\": [4455.0], \"xaxis\": \"x\", \"y\": [1669583.08932296], \"yaxis\": \"y\"}, {\"hovertemplate\": \"Country=San Marino<br>FDI USA (million)=%{x}<br>GDP (million)=%{y}<extra></extra>\", \"legendgroup\": \"San Marino\", \"marker\": {\"color\": \"#19d3f3\", \"symbol\": \"circle\"}, \"mode\": \"markers\", \"name\": \"San Marino\", \"orientation\": \"v\", \"showlegend\": true, \"type\": \"scatter\", \"x\": [0.0], \"xaxis\": \"x\", \"y\": [1637.93103448276], \"yaxis\": \"y\"}, {\"hovertemplate\": \"Country=Serbia<br>FDI USA (million)=%{x}<br>GDP (million)=%{y}<extra></extra>\", \"legendgroup\": \"Serbia\", \"marker\": {\"color\": \"#FF6692\", \"symbol\": \"circle\"}, \"mode\": \"markers\", \"name\": \"Serbia\", \"orientation\": \"v\", \"showlegend\": true, \"type\": \"scatter\", \"x\": [3.0], \"xaxis\": \"x\", \"y\": [50597.28914670409], \"yaxis\": \"y\"}, {\"hovertemplate\": \"Country=Slovak Republic<br>FDI USA (million)=%{x}<br>GDP (million)=%{y}<extra></extra>\", \"legendgroup\": \"Slovak Republic\", \"marker\": {\"color\": \"#B6E880\", \"symbol\": \"circle\"}, \"mode\": \"markers\", \"name\": \"Slovak Republic\", \"orientation\": \"v\", \"showlegend\": true, \"type\": \"scatter\", \"x\": [14.0], \"xaxis\": \"x\", \"y\": [105820.499976721], \"yaxis\": \"y\"}, {\"hovertemplate\": \"Country=Slovenia<br>FDI USA (million)=%{x}<br>GDP (million)=%{y}<extra></extra>\", \"legendgroup\": \"Slovenia\", \"marker\": {\"color\": \"#FF97FF\", \"symbol\": \"circle\"}, \"mode\": \"markers\", \"name\": \"Slovenia\", \"orientation\": \"v\", \"showlegend\": true, \"type\": \"scatter\", \"x\": [6.0], \"xaxis\": \"x\", \"y\": [54034.3585442622], \"yaxis\": \"y\"}, {\"hovertemplate\": \"Country=Spain<br>FDI USA (million)=%{x}<br>GDP (million)=%{y}<extra></extra>\", \"legendgroup\": \"Spain\", \"marker\": {\"color\": \"#FECB52\", \"symbol\": \"circle\"}, \"mode\": \"markers\", \"name\": \"Spain\", \"orientation\": \"v\", \"showlegend\": true, \"type\": \"scatter\", \"x\": [83379.0], \"xaxis\": \"x\", \"y\": [1419735.2450046998], \"yaxis\": \"y\"}, {\"hovertemplate\": \"Country=Sweden<br>FDI USA (million)=%{x}<br>GDP (million)=%{y}<extra></extra>\", \"legendgroup\": \"Sweden\", \"marker\": {\"color\": \"#636efa\", \"symbol\": \"circle\"}, \"mode\": \"markers\", \"name\": \"Sweden\", \"orientation\": \"v\", \"showlegend\": true, \"type\": \"scatter\", \"x\": [49546.0], \"xaxis\": \"x\", \"y\": [555455.371487089], \"yaxis\": \"y\"}, {\"hovertemplate\": \"Country=Switzerland<br>FDI USA (million)=%{x}<br>GDP (million)=%{y}<extra></extra>\", \"legendgroup\": \"Switzerland\", \"marker\": {\"color\": \"#EF553B\", \"symbol\": \"circle\"}, \"mode\": \"markers\", \"name\": \"Switzerland\", \"orientation\": \"v\", \"showlegend\": true, \"type\": \"scatter\", \"x\": [295783.0], \"xaxis\": \"x\", \"y\": [705140.6200466999], \"yaxis\": \"y\"}, {\"hovertemplate\": \"Country=Tajikistan<br>FDI USA (million)=%{x}<br>GDP (million)=%{y}<extra></extra>\", \"legendgroup\": \"Tajikistan\", \"marker\": {\"color\": \"#00cc96\", \"symbol\": \"circle\"}, \"mode\": \"markers\", \"name\": \"Tajikistan\", \"orientation\": \"v\", \"showlegend\": true, \"type\": \"scatter\", \"x\": [0.0], \"xaxis\": \"x\", \"y\": [7522.947810123259], \"yaxis\": \"y\"}, {\"hovertemplate\": \"Country=Turkey<br>FDI USA (million)=%{x}<br>GDP (million)=%{y}<extra></extra>\", \"legendgroup\": \"Turkey\", \"marker\": {\"color\": \"#ab63fa\", \"symbol\": \"circle\"}, \"mode\": \"markers\", \"name\": \"Turkey\", \"orientation\": \"v\", \"showlegend\": true, \"type\": \"scatter\", \"x\": [2175.0], \"xaxis\": \"x\", \"y\": [771350.3313727111], \"yaxis\": \"y\"}, {\"hovertemplate\": \"Country=Turkmenistan<br>FDI USA (million)=%{x}<br>GDP (million)=%{y}<extra></extra>\", \"legendgroup\": \"Turkmenistan\", \"marker\": {\"color\": \"#FFA15A\", \"symbol\": \"circle\"}, \"mode\": \"markers\", \"name\": \"Turkmenistan\", \"orientation\": \"v\", \"showlegend\": true, \"type\": \"scatter\", \"x\": [0.0], \"xaxis\": \"x\", \"y\": [40761.1428571429], \"yaxis\": \"y\"}, {\"hovertemplate\": \"Country=Ukraine<br>FDI USA (million)=%{x}<br>GDP (million)=%{y}<extra></extra>\", \"legendgroup\": \"Ukraine\", \"marker\": {\"color\": \"#19d3f3\", \"symbol\": \"circle\"}, \"mode\": \"markers\", \"name\": \"Ukraine\", \"orientation\": \"v\", \"showlegend\": true, \"type\": \"scatter\", \"x\": [-3.0], \"xaxis\": \"x\", \"y\": [130901.85842172], \"yaxis\": \"y\"}, {\"hovertemplate\": \"Country=United Kingdom<br>FDI USA (million)=%{x}<br>GDP (million)=%{y}<extra></extra>\", \"legendgroup\": \"United Kingdom\", \"marker\": {\"color\": \"#FF6692\", \"symbol\": \"circle\"}, \"mode\": \"markers\", \"name\": \"United Kingdom\", \"orientation\": \"v\", \"showlegend\": true, \"type\": \"scatter\", \"x\": [496622.0], \"xaxis\": \"x\", \"y\": [2860667.72755197], \"yaxis\": \"y\"}, {\"hovertemplate\": \"Country=Uzbekistan<br>FDI USA (million)=%{x}<br>GDP (million)=%{y}<extra></extra>\", \"legendgroup\": \"Uzbekistan\", \"marker\": {\"color\": \"#B6E880\", \"symbol\": \"circle\"}, \"mode\": \"markers\", \"name\": \"Uzbekistan\", \"orientation\": \"v\", \"showlegend\": true, \"type\": \"scatter\", \"x\": [0.0], \"xaxis\": \"x\", \"y\": [50392.6077582324], \"yaxis\": \"y\"}, {\"hovertemplate\": \"Country=Vatican City<br>FDI USA (million)=%{x}<br>GDP (million)=%{y}<extra></extra>\", \"legendgroup\": \"Vatican City\", \"marker\": {\"color\": \"#FF97FF\", \"symbol\": \"circle\"}, \"mode\": \"markers\", \"name\": \"Vatican City\", \"orientation\": \"v\", \"showlegend\": true, \"type\": \"scatter\", \"x\": [0.0], \"xaxis\": \"x\", \"y\": [null], \"yaxis\": \"y\"}],                        {\"legend\": {\"title\": {\"text\": \"Country\"}, \"tracegroupgap\": 0}, \"template\": {\"data\": {\"bar\": [{\"error_x\": {\"color\": \"#2a3f5f\"}, \"error_y\": {\"color\": \"#2a3f5f\"}, \"marker\": {\"line\": {\"color\": \"#E5ECF6\", \"width\": 0.5}}, \"type\": \"bar\"}], \"barpolar\": [{\"marker\": {\"line\": {\"color\": \"#E5ECF6\", \"width\": 0.5}}, \"type\": \"barpolar\"}], \"carpet\": [{\"aaxis\": {\"endlinecolor\": \"#2a3f5f\", \"gridcolor\": \"white\", \"linecolor\": \"white\", \"minorgridcolor\": \"white\", \"startlinecolor\": \"#2a3f5f\"}, \"baxis\": {\"endlinecolor\": \"#2a3f5f\", \"gridcolor\": \"white\", \"linecolor\": \"white\", \"minorgridcolor\": \"white\", \"startlinecolor\": \"#2a3f5f\"}, \"type\": \"carpet\"}], \"choropleth\": [{\"colorbar\": {\"outlinewidth\": 0, \"ticks\": \"\"}, \"type\": \"choropleth\"}], \"contour\": [{\"colorbar\": {\"outlinewidth\": 0, \"ticks\": \"\"}, \"colorscale\": [[0.0, \"#0d0887\"], [0.1111111111111111, \"#46039f\"], [0.2222222222222222, \"#7201a8\"], [0.3333333333333333, \"#9c179e\"], [0.4444444444444444, \"#bd3786\"], [0.5555555555555556, \"#d8576b\"], [0.6666666666666666, \"#ed7953\"], [0.7777777777777778, \"#fb9f3a\"], [0.8888888888888888, \"#fdca26\"], [1.0, \"#f0f921\"]], \"type\": \"contour\"}], \"contourcarpet\": [{\"colorbar\": {\"outlinewidth\": 0, \"ticks\": \"\"}, \"type\": \"contourcarpet\"}], \"heatmap\": [{\"colorbar\": {\"outlinewidth\": 0, \"ticks\": \"\"}, \"colorscale\": [[0.0, \"#0d0887\"], [0.1111111111111111, \"#46039f\"], [0.2222222222222222, \"#7201a8\"], [0.3333333333333333, \"#9c179e\"], [0.4444444444444444, \"#bd3786\"], [0.5555555555555556, \"#d8576b\"], [0.6666666666666666, \"#ed7953\"], [0.7777777777777778, \"#fb9f3a\"], [0.8888888888888888, \"#fdca26\"], [1.0, \"#f0f921\"]], \"type\": \"heatmap\"}], \"heatmapgl\": [{\"colorbar\": {\"outlinewidth\": 0, \"ticks\": \"\"}, \"colorscale\": [[0.0, \"#0d0887\"], [0.1111111111111111, \"#46039f\"], [0.2222222222222222, \"#7201a8\"], [0.3333333333333333, \"#9c179e\"], [0.4444444444444444, \"#bd3786\"], [0.5555555555555556, \"#d8576b\"], [0.6666666666666666, \"#ed7953\"], [0.7777777777777778, \"#fb9f3a\"], [0.8888888888888888, \"#fdca26\"], [1.0, \"#f0f921\"]], \"type\": \"heatmapgl\"}], \"histogram\": [{\"marker\": {\"colorbar\": {\"outlinewidth\": 0, \"ticks\": \"\"}}, \"type\": \"histogram\"}], \"histogram2d\": [{\"colorbar\": {\"outlinewidth\": 0, \"ticks\": \"\"}, \"colorscale\": [[0.0, \"#0d0887\"], [0.1111111111111111, \"#46039f\"], [0.2222222222222222, \"#7201a8\"], [0.3333333333333333, \"#9c179e\"], [0.4444444444444444, \"#bd3786\"], [0.5555555555555556, \"#d8576b\"], [0.6666666666666666, \"#ed7953\"], [0.7777777777777778, \"#fb9f3a\"], [0.8888888888888888, \"#fdca26\"], [1.0, \"#f0f921\"]], \"type\": \"histogram2d\"}], \"histogram2dcontour\": [{\"colorbar\": {\"outlinewidth\": 0, \"ticks\": \"\"}, \"colorscale\": [[0.0, \"#0d0887\"], [0.1111111111111111, \"#46039f\"], [0.2222222222222222, \"#7201a8\"], [0.3333333333333333, \"#9c179e\"], [0.4444444444444444, \"#bd3786\"], [0.5555555555555556, \"#d8576b\"], [0.6666666666666666, \"#ed7953\"], [0.7777777777777778, \"#fb9f3a\"], [0.8888888888888888, \"#fdca26\"], [1.0, \"#f0f921\"]], \"type\": \"histogram2dcontour\"}], \"mesh3d\": [{\"colorbar\": {\"outlinewidth\": 0, \"ticks\": \"\"}, \"type\": \"mesh3d\"}], \"parcoords\": [{\"line\": {\"colorbar\": {\"outlinewidth\": 0, \"ticks\": \"\"}}, \"type\": \"parcoords\"}], \"pie\": [{\"automargin\": true, \"type\": \"pie\"}], \"scatter\": [{\"marker\": {\"colorbar\": {\"outlinewidth\": 0, \"ticks\": \"\"}}, \"type\": \"scatter\"}], \"scatter3d\": [{\"line\": {\"colorbar\": {\"outlinewidth\": 0, \"ticks\": \"\"}}, \"marker\": {\"colorbar\": {\"outlinewidth\": 0, \"ticks\": \"\"}}, \"type\": \"scatter3d\"}], \"scattercarpet\": [{\"marker\": {\"colorbar\": {\"outlinewidth\": 0, \"ticks\": \"\"}}, \"type\": \"scattercarpet\"}], \"scattergeo\": [{\"marker\": {\"colorbar\": {\"outlinewidth\": 0, \"ticks\": \"\"}}, \"type\": \"scattergeo\"}], \"scattergl\": [{\"marker\": {\"colorbar\": {\"outlinewidth\": 0, \"ticks\": \"\"}}, \"type\": \"scattergl\"}], \"scattermapbox\": [{\"marker\": {\"colorbar\": {\"outlinewidth\": 0, \"ticks\": \"\"}}, \"type\": \"scattermapbox\"}], \"scatterpolar\": [{\"marker\": {\"colorbar\": {\"outlinewidth\": 0, \"ticks\": \"\"}}, \"type\": \"scatterpolar\"}], \"scatterpolargl\": [{\"marker\": {\"colorbar\": {\"outlinewidth\": 0, \"ticks\": \"\"}}, \"type\": \"scatterpolargl\"}], \"scatterternary\": [{\"marker\": {\"colorbar\": {\"outlinewidth\": 0, \"ticks\": \"\"}}, \"type\": \"scatterternary\"}], \"surface\": [{\"colorbar\": {\"outlinewidth\": 0, \"ticks\": \"\"}, \"colorscale\": [[0.0, \"#0d0887\"], [0.1111111111111111, \"#46039f\"], [0.2222222222222222, \"#7201a8\"], [0.3333333333333333, \"#9c179e\"], [0.4444444444444444, \"#bd3786\"], [0.5555555555555556, \"#d8576b\"], [0.6666666666666666, \"#ed7953\"], [0.7777777777777778, \"#fb9f3a\"], [0.8888888888888888, \"#fdca26\"], [1.0, \"#f0f921\"]], \"type\": \"surface\"}], \"table\": [{\"cells\": {\"fill\": {\"color\": \"#EBF0F8\"}, \"line\": {\"color\": \"white\"}}, \"header\": {\"fill\": {\"color\": \"#C8D4E3\"}, \"line\": {\"color\": \"white\"}}, \"type\": \"table\"}]}, \"layout\": {\"annotationdefaults\": {\"arrowcolor\": \"#2a3f5f\", \"arrowhead\": 0, \"arrowwidth\": 1}, \"coloraxis\": {\"colorbar\": {\"outlinewidth\": 0, \"ticks\": \"\"}}, \"colorscale\": {\"diverging\": [[0, \"#8e0152\"], [0.1, \"#c51b7d\"], [0.2, \"#de77ae\"], [0.3, \"#f1b6da\"], [0.4, \"#fde0ef\"], [0.5, \"#f7f7f7\"], [0.6, \"#e6f5d0\"], [0.7, \"#b8e186\"], [0.8, \"#7fbc41\"], [0.9, \"#4d9221\"], [1, \"#276419\"]], \"sequential\": [[0.0, \"#0d0887\"], [0.1111111111111111, \"#46039f\"], [0.2222222222222222, \"#7201a8\"], [0.3333333333333333, \"#9c179e\"], [0.4444444444444444, \"#bd3786\"], [0.5555555555555556, \"#d8576b\"], [0.6666666666666666, \"#ed7953\"], [0.7777777777777778, \"#fb9f3a\"], [0.8888888888888888, \"#fdca26\"], [1.0, \"#f0f921\"]], \"sequentialminus\": [[0.0, \"#0d0887\"], [0.1111111111111111, \"#46039f\"], [0.2222222222222222, \"#7201a8\"], [0.3333333333333333, \"#9c179e\"], [0.4444444444444444, \"#bd3786\"], [0.5555555555555556, \"#d8576b\"], [0.6666666666666666, \"#ed7953\"], [0.7777777777777778, \"#fb9f3a\"], [0.8888888888888888, \"#fdca26\"], [1.0, \"#f0f921\"]]}, \"colorway\": [\"#636efa\", \"#EF553B\", \"#00cc96\", \"#ab63fa\", \"#FFA15A\", \"#19d3f3\", \"#FF6692\", \"#B6E880\", \"#FF97FF\", \"#FECB52\"], \"font\": {\"color\": \"#2a3f5f\"}, \"geo\": {\"bgcolor\": \"white\", \"lakecolor\": \"white\", \"landcolor\": \"#E5ECF6\", \"showlakes\": true, \"showland\": true, \"subunitcolor\": \"white\"}, \"hoverlabel\": {\"align\": \"left\"}, \"hovermode\": \"closest\", \"mapbox\": {\"style\": \"light\"}, \"paper_bgcolor\": \"white\", \"plot_bgcolor\": \"#E5ECF6\", \"polar\": {\"angularaxis\": {\"gridcolor\": \"white\", \"linecolor\": \"white\", \"ticks\": \"\"}, \"bgcolor\": \"#E5ECF6\", \"radialaxis\": {\"gridcolor\": \"white\", \"linecolor\": \"white\", \"ticks\": \"\"}}, \"scene\": {\"xaxis\": {\"backgroundcolor\": \"#E5ECF6\", \"gridcolor\": \"white\", \"gridwidth\": 2, \"linecolor\": \"white\", \"showbackground\": true, \"ticks\": \"\", \"zerolinecolor\": \"white\"}, \"yaxis\": {\"backgroundcolor\": \"#E5ECF6\", \"gridcolor\": \"white\", \"gridwidth\": 2, \"linecolor\": \"white\", \"showbackground\": true, \"ticks\": \"\", \"zerolinecolor\": \"white\"}, \"zaxis\": {\"backgroundcolor\": \"#E5ECF6\", \"gridcolor\": \"white\", \"gridwidth\": 2, \"linecolor\": \"white\", \"showbackground\": true, \"ticks\": \"\", \"zerolinecolor\": \"white\"}}, \"shapedefaults\": {\"line\": {\"color\": \"#2a3f5f\"}}, \"ternary\": {\"aaxis\": {\"gridcolor\": \"white\", \"linecolor\": \"white\", \"ticks\": \"\"}, \"baxis\": {\"gridcolor\": \"white\", \"linecolor\": \"white\", \"ticks\": \"\"}, \"bgcolor\": \"#E5ECF6\", \"caxis\": {\"gridcolor\": \"white\", \"linecolor\": \"white\", \"ticks\": \"\"}}, \"title\": {\"x\": 0.05}, \"xaxis\": {\"automargin\": true, \"gridcolor\": \"white\", \"linecolor\": \"white\", \"ticks\": \"\", \"title\": {\"standoff\": 15}, \"zerolinecolor\": \"white\", \"zerolinewidth\": 2}, \"yaxis\": {\"automargin\": true, \"gridcolor\": \"white\", \"linecolor\": \"white\", \"ticks\": \"\", \"title\": {\"standoff\": 15}, \"zerolinecolor\": \"white\", \"zerolinewidth\": 2}}}, \"title\": {\"text\": \"2018 FDI/GDP for European Countries\"}, \"xaxis\": {\"anchor\": \"y\", \"domain\": [0.0, 1.0], \"title\": {\"text\": \"FDI USA (million)\"}}, \"yaxis\": {\"anchor\": \"x\", \"domain\": [0.0, 1.0], \"title\": {\"text\": \"GDP (million)\"}}},                        {\"responsive\": true}                    ).then(function(){\n",
       "                            \n",
       "var gd = document.getElementById('c135cd4c-ec12-4ad1-843b-27ecc3ad9751');\n",
       "var x = new MutationObserver(function (mutations, observer) {{\n",
       "        var display = window.getComputedStyle(gd).display;\n",
       "        if (!display || display === 'none') {{\n",
       "            console.log([gd, 'removed!']);\n",
       "            Plotly.purge(gd);\n",
       "            observer.disconnect();\n",
       "        }}\n",
       "}});\n",
       "\n",
       "// Listen for the removal of the full notebook cells\n",
       "var notebookContainer = gd.closest('#notebook-container');\n",
       "if (notebookContainer) {{\n",
       "    x.observe(notebookContainer, {childList: true});\n",
       "}}\n",
       "\n",
       "// Listen for the clearing of the current output cell\n",
       "var outputEl = gd.closest('.output');\n",
       "if (outputEl) {{\n",
       "    x.observe(outputEl, {childList: true});\n",
       "}}\n",
       "\n",
       "                        })                };                });            </script>        </div>"
      ]
     },
     "metadata": {},
     "output_type": "display_data"
    }
   ],
   "source": [
    "europe_format_name = europe.rename(\n",
    "    columns={\n",
    "        \"country_name\": \"Country\",\n",
    "        \"GDP_2018 (million)\": \"GDP (million)\",\n",
    "        \"tech_export_2018 (million)\": \"Tech Export (million)\",\n",
    "        \"doing_business_2018\": \"Doing Business\",\n",
    "        \"fdi_USA_2018 (million)\": \"FDI USA (million)\",\n",
    "    }\n",
    ")\n",
    "px.scatter(\n",
    "    europe_format_name,\n",
    "    x=\"FDI USA (million)\",\n",
    "    y=\"GDP (million)\",\n",
    "    title=\"2018 FDI/GDP for European Countries\",\n",
    "    color=\"Country\",\n",
    ")"
   ]
  },
  {
   "cell_type": "code",
   "execution_count": 70,
   "metadata": {},
   "outputs": [
    {
     "data": {
      "application/vnd.plotly.v1+json": {
       "config": {
        "plotlyServerURL": "https://plot.ly"
       },
       "data": [
        {
         "hovertemplate": "Country=Albania<br>FDI USA (million)=%{x}<br>GDP (million)=%{y}<br>Doing Business=%{z}<extra></extra>",
         "legendgroup": "Albania",
         "marker": {
          "color": "#636efa",
          "symbol": "circle"
         },
         "mode": "markers",
         "name": "Albania",
         "scene": "scene",
         "showlegend": true,
         "type": "scatter3d",
         "x": [
          0
         ],
         "y": [
          15147.020535386899
         ],
         "z": [
          66.8
         ]
        },
        {
         "hovertemplate": "Country=Andorra<br>FDI USA (million)=%{x}<br>GDP (million)=%{y}<br>Doing Business=%{z}<extra></extra>",
         "legendgroup": "Andorra",
         "marker": {
          "color": "#EF553B",
          "symbol": "circle"
         },
         "mode": "markers",
         "name": "Andorra",
         "scene": "scene",
         "showlegend": true,
         "type": "scatter3d",
         "x": [
          0
         ],
         "y": [
          3218.3160132262606
         ],
         "z": [
          null
         ]
        },
        {
         "hovertemplate": "Country=Armenia<br>FDI USA (million)=%{x}<br>GDP (million)=%{y}<br>Doing Business=%{z}<extra></extra>",
         "legendgroup": "Armenia",
         "marker": {
          "color": "#00cc96",
          "symbol": "circle"
         },
         "mode": "markers",
         "name": "Armenia",
         "scene": "scene",
         "showlegend": true,
         "type": "scatter3d",
         "x": [
          3
         ],
         "y": [
          12457.9419070333
         ],
         "z": [
          71.5
         ]
        },
        {
         "hovertemplate": "Country=Austria<br>FDI USA (million)=%{x}<br>GDP (million)=%{y}<br>Doing Business=%{z}<extra></extra>",
         "legendgroup": "Austria",
         "marker": {
          "color": "#ab63fa",
          "symbol": "circle"
         },
         "mode": "markers",
         "name": "Austria",
         "scene": "scene",
         "showlegend": true,
         "type": "scatter3d",
         "x": [
          12392
         ],
         "y": [
          455508.25502821896
         ],
         "z": [
          78.7
         ]
        },
        {
         "hovertemplate": "Country=Azerbaijan<br>FDI USA (million)=%{x}<br>GDP (million)=%{y}<br>Doing Business=%{z}<extra></extra>",
         "legendgroup": "Azerbaijan",
         "marker": {
          "color": "#FFA15A",
          "symbol": "circle"
         },
         "mode": "markers",
         "name": "Azerbaijan",
         "scene": "scene",
         "showlegend": true,
         "type": "scatter3d",
         "x": [
          -2
         ],
         "y": [
          47112.941176470595
         ],
         "z": [
          66.8
         ]
        },
        {
         "hovertemplate": "Country=Belarus<br>FDI USA (million)=%{x}<br>GDP (million)=%{y}<br>Doing Business=%{z}<extra></extra>",
         "legendgroup": "Belarus",
         "marker": {
          "color": "#19d3f3",
          "symbol": "circle"
         },
         "mode": "markers",
         "name": "Belarus",
         "scene": "scene",
         "showlegend": true,
         "type": "scatter3d",
         "x": [
          4
         ],
         "y": [
          60031.262269336505
         ],
         "z": [
          73.6
         ]
        },
        {
         "hovertemplate": "Country=Belgium<br>FDI USA (million)=%{x}<br>GDP (million)=%{y}<br>Doing Business=%{z}<extra></extra>",
         "legendgroup": "Belgium",
         "marker": {
          "color": "#FF6692",
          "symbol": "circle"
         },
         "mode": "markers",
         "name": "Belgium",
         "scene": "scene",
         "showlegend": true,
         "type": "scatter3d",
         "x": [
          64661
         ],
         "y": [
          542685.915417411
         ],
         "z": [
          72.2
         ]
        },
        {
         "hovertemplate": "Country=Bosnia and Herzegovina<br>FDI USA (million)=%{x}<br>GDP (million)=%{y}<br>Doing Business=%{z}<extra></extra>",
         "legendgroup": "Bosnia and Herzegovina",
         "marker": {
          "color": "#B6E880",
          "symbol": "circle"
         },
         "mode": "markers",
         "name": "Bosnia and Herzegovina",
         "scene": "scene",
         "showlegend": true,
         "type": "scatter3d",
         "x": [
          0
         ],
         "y": [
          20183.4984912492
         ],
         "z": [
          65.2
         ]
        },
        {
         "hovertemplate": "Country=Croatia<br>FDI USA (million)=%{x}<br>GDP (million)=%{y}<br>Doing Business=%{z}<extra></extra>",
         "legendgroup": "Croatia",
         "marker": {
          "color": "#FF97FF",
          "symbol": "circle"
         },
         "mode": "markers",
         "name": "Croatia",
         "scene": "scene",
         "showlegend": true,
         "type": "scatter3d",
         "x": [
          19
         ],
         "y": [
          60991.399904443395
         ],
         "z": [
          72.6
         ]
        },
        {
         "hovertemplate": "Country=Cyprus<br>FDI USA (million)=%{x}<br>GDP (million)=%{y}<br>Doing Business=%{z}<extra></extra>",
         "legendgroup": "Cyprus",
         "marker": {
          "color": "#FECB52",
          "symbol": "circle"
         },
         "mode": "markers",
         "name": "Cyprus",
         "scene": "scene",
         "showlegend": true,
         "type": "scatter3d",
         "x": [
          323
         ],
         "y": [
          24961.995748701
         ],
         "z": [
          72.3
         ]
        },
        {
         "hovertemplate": "Country=Denmark<br>FDI USA (million)=%{x}<br>GDP (million)=%{y}<br>Doing Business=%{z}<extra></extra>",
         "legendgroup": "Denmark",
         "marker": {
          "color": "#636efa",
          "symbol": "circle"
         },
         "mode": "markers",
         "name": "Denmark",
         "scene": "scene",
         "showlegend": true,
         "type": "scatter3d",
         "x": [
          20654
         ],
         "y": [
          355675.329085952
         ],
         "z": [
          84.6
         ]
        },
        {
         "hovertemplate": "Country=Finland<br>FDI USA (million)=%{x}<br>GDP (million)=%{y}<br>Doing Business=%{z}<extra></extra>",
         "legendgroup": "Finland",
         "marker": {
          "color": "#EF553B",
          "symbol": "circle"
         },
         "mode": "markers",
         "name": "Finland",
         "scene": "scene",
         "showlegend": true,
         "type": "scatter3d",
         "x": [
          14464
         ],
         "y": [
          275893.68135589204
         ],
         "z": [
          80
         ]
        },
        {
         "hovertemplate": "Country=France<br>FDI USA (million)=%{x}<br>GDP (million)=%{y}<br>Doing Business=%{z}<extra></extra>",
         "legendgroup": "France",
         "marker": {
          "color": "#00cc96",
          "symbol": "circle"
         },
         "mode": "markers",
         "name": "France",
         "scene": "scene",
         "showlegend": true,
         "type": "scatter3d",
         "x": [
          268169
         ],
         "y": [
          2787863.9588854904
         ],
         "z": [
          76
         ]
        },
        {
         "hovertemplate": "Country=Georgia<br>FDI USA (million)=%{x}<br>GDP (million)=%{y}<br>Doing Business=%{z}<extra></extra>",
         "legendgroup": "Georgia",
         "marker": {
          "color": "#ab63fa",
          "symbol": "circle"
         },
         "mode": "markers",
         "name": "Georgia",
         "scene": "scene",
         "showlegend": true,
         "type": "scatter3d",
         "x": [
          0
         ],
         "y": [
          17599.700090762002
         ],
         "z": [
          83
         ]
        },
        {
         "hovertemplate": "Country=Germany<br>FDI USA (million)=%{x}<br>GDP (million)=%{y}<br>Doing Business=%{z}<extra></extra>",
         "legendgroup": "Germany",
         "marker": {
          "color": "#FFA15A",
          "symbol": "circle"
         },
         "mode": "markers",
         "name": "Germany",
         "scene": "scene",
         "showlegend": true,
         "type": "scatter3d",
         "x": [
          328124
         ],
         "y": [
          3949548.83395294
         ],
         "z": [
          79.3
         ]
        },
        {
         "hovertemplate": "Country=Gibraltar<br>FDI USA (million)=%{x}<br>GDP (million)=%{y}<br>Doing Business=%{z}<extra></extra>",
         "legendgroup": "Gibraltar",
         "marker": {
          "color": "#19d3f3",
          "symbol": "circle"
         },
         "mode": "markers",
         "name": "Gibraltar",
         "scene": "scene",
         "showlegend": true,
         "type": "scatter3d",
         "x": [
          9367
         ],
         "y": [
          null
         ],
         "z": [
          null
         ]
        },
        {
         "hovertemplate": "Country=Greece<br>FDI USA (million)=%{x}<br>GDP (million)=%{y}<br>Doing Business=%{z}<extra></extra>",
         "legendgroup": "Greece",
         "marker": {
          "color": "#FF6692",
          "symbol": "circle"
         },
         "mode": "markers",
         "name": "Greece",
         "scene": "scene",
         "showlegend": true,
         "type": "scatter3d",
         "x": [
          639
         ],
         "y": [
          218138.36744499
         ],
         "z": [
          67.1
         ]
        },
        {
         "hovertemplate": "Country=Hungary<br>FDI USA (million)=%{x}<br>GDP (million)=%{y}<br>Doing Business=%{z}<extra></extra>",
         "legendgroup": "Hungary",
         "marker": {
          "color": "#B6E880",
          "symbol": "circle"
         },
         "mode": "markers",
         "name": "Hungary",
         "scene": "scene",
         "showlegend": true,
         "type": "scatter3d",
         "x": [
          31730
         ],
         "y": [
          157882.91277825402
         ],
         "z": [
          72.7
         ]
        },
        {
         "hovertemplate": "Country=Ireland<br>FDI USA (million)=%{x}<br>GDP (million)=%{y}<br>Doing Business=%{z}<extra></extra>",
         "legendgroup": "Ireland",
         "marker": {
          "color": "#FF97FF",
          "symbol": "circle"
         },
         "mode": "markers",
         "name": "Ireland",
         "scene": "scene",
         "showlegend": true,
         "type": "scatter3d",
         "x": [
          265004
         ],
         "y": [
          382674.36076634104
         ],
         "z": [
          80.1
         ]
        },
        {
         "hovertemplate": "Country=Italy<br>FDI USA (million)=%{x}<br>GDP (million)=%{y}<br>Doing Business=%{z}<extra></extra>",
         "legendgroup": "Italy",
         "marker": {
          "color": "#FECB52",
          "symbol": "circle"
         },
         "mode": "markers",
         "name": "Italy",
         "scene": "scene",
         "showlegend": true,
         "type": "scatter3d",
         "x": [
          30749
         ],
         "y": [
          2085764.30086227
         ],
         "z": [
          73.2
         ]
        },
        {
         "hovertemplate": "Country=Kazakhstan<br>FDI USA (million)=%{x}<br>GDP (million)=%{y}<br>Doing Business=%{z}<extra></extra>",
         "legendgroup": "Kazakhstan",
         "marker": {
          "color": "#636efa",
          "symbol": "circle"
         },
         "mode": "markers",
         "name": "Kazakhstan",
         "scene": "scene",
         "showlegend": true,
         "type": "scatter3d",
         "x": [
          0
         ],
         "y": [
          179339.994859384
         ],
         "z": [
          76.9
         ]
        },
        {
         "hovertemplate": "Country=Kosovo<br>FDI USA (million)=%{x}<br>GDP (million)=%{y}<br>Doing Business=%{z}<extra></extra>",
         "legendgroup": "Kosovo",
         "marker": {
          "color": "#EF553B",
          "symbol": "circle"
         },
         "mode": "markers",
         "name": "Kosovo",
         "scene": "scene",
         "showlegend": true,
         "type": "scatter3d",
         "x": [
          0
         ],
         "y": [
          7942.961738308931
         ],
         "z": [
          70.5
         ]
        },
        {
         "hovertemplate": "Country=Kyrgyz Republic<br>FDI USA (million)=%{x}<br>GDP (million)=%{y}<br>Doing Business=%{z}<extra></extra>",
         "legendgroup": "Kyrgyz Republic",
         "marker": {
          "color": "#00cc96",
          "symbol": "circle"
         },
         "mode": "markers",
         "name": "Kyrgyz Republic",
         "scene": "scene",
         "showlegend": true,
         "type": "scatter3d",
         "x": [
          0
         ],
         "y": [
          8271.10863839931
         ],
         "z": [
          62.4
         ]
        },
        {
         "hovertemplate": "Country=Lithuania<br>FDI USA (million)=%{x}<br>GDP (million)=%{y}<br>Doing Business=%{z}<extra></extra>",
         "legendgroup": "Lithuania",
         "marker": {
          "color": "#ab63fa",
          "symbol": "circle"
         },
         "mode": "markers",
         "name": "Lithuania",
         "scene": "scene",
         "showlegend": true,
         "type": "scatter3d",
         "x": [
          -4
         ],
         "y": [
          53455.170033519404
         ],
         "z": [
          80.6
         ]
        },
        {
         "hovertemplate": "Country=Luxembourg<br>FDI USA (million)=%{x}<br>GDP (million)=%{y}<br>Doing Business=%{z}<extra></extra>",
         "legendgroup": "Luxembourg",
         "marker": {
          "color": "#FFA15A",
          "symbol": "circle"
         },
         "mode": "markers",
         "name": "Luxembourg",
         "scene": "scene",
         "showlegend": true,
         "type": "scatter3d",
         "x": [
          312976
         ],
         "y": [
          70919.95801552472
         ],
         "z": [
          69.6
         ]
        },
        {
         "hovertemplate": "Country=Malta<br>FDI USA (million)=%{x}<br>GDP (million)=%{y}<br>Doing Business=%{z}<extra></extra>",
         "legendgroup": "Malta",
         "marker": {
          "color": "#19d3f3",
          "symbol": "circle"
         },
         "mode": "markers",
         "name": "Malta",
         "scene": "scene",
         "showlegend": true,
         "type": "scatter3d",
         "x": [
          1557
         ],
         "y": [
          14603.581712328798
         ],
         "z": [
          65.2
         ]
        },
        {
         "hovertemplate": "Country=Moldova<br>FDI USA (million)=%{x}<br>GDP (million)=%{y}<br>Doing Business=%{z}<extra></extra>",
         "legendgroup": "Moldova",
         "marker": {
          "color": "#FF6692",
          "symbol": "circle"
         },
         "mode": "markers",
         "name": "Moldova",
         "scene": "scene",
         "showlegend": true,
         "type": "scatter3d",
         "x": [
          0
         ],
         "y": [
          11457.4102641932
         ],
         "z": [
          72.7
         ]
        },
        {
         "hovertemplate": "Country=Monaco<br>FDI USA (million)=%{x}<br>GDP (million)=%{y}<br>Doing Business=%{z}<extra></extra>",
         "legendgroup": "Monaco",
         "marker": {
          "color": "#B6E880",
          "symbol": "circle"
         },
         "mode": "markers",
         "name": "Monaco",
         "scene": "scene",
         "showlegend": true,
         "type": "scatter3d",
         "x": [
          -26
         ],
         "y": [
          7188.23807274445
         ],
         "z": [
          null
         ]
        },
        {
         "hovertemplate": "Country=Montenegro<br>FDI USA (million)=%{x}<br>GDP (million)=%{y}<br>Doing Business=%{z}<extra></extra>",
         "legendgroup": "Montenegro",
         "marker": {
          "color": "#FF97FF",
          "symbol": "circle"
         },
         "mode": "markers",
         "name": "Montenegro",
         "scene": "scene",
         "showlegend": true,
         "type": "scatter3d",
         "x": [
          0
         ],
         "y": [
          5506.766650921109
         ],
         "z": [
          73.8
         ]
        },
        {
         "hovertemplate": "Country=Netherlands<br>FDI USA (million)=%{x}<br>GDP (million)=%{y}<br>Doing Business=%{z}<extra></extra>",
         "legendgroup": "Netherlands",
         "marker": {
          "color": "#FECB52",
          "symbol": "circle"
         },
         "mode": "markers",
         "name": "Netherlands",
         "scene": "scene",
         "showlegend": true,
         "type": "scatter3d",
         "x": [
          462303
         ],
         "y": [
          914104.847814117
         ],
         "z": [
          76.1
         ]
        },
        {
         "hovertemplate": "Country=North Macedonia<br>FDI USA (million)=%{x}<br>GDP (million)=%{y}<br>Doing Business=%{z}<extra></extra>",
         "legendgroup": "North Macedonia",
         "marker": {
          "color": "#636efa",
          "symbol": "circle"
         },
         "mode": "markers",
         "name": "North Macedonia",
         "scene": "scene",
         "showlegend": true,
         "type": "scatter3d",
         "x": [
          -1
         ],
         "y": [
          12628.8548009772
         ],
         "z": [
          80.3
         ]
        },
        {
         "hovertemplate": "Country=Norway<br>FDI USA (million)=%{x}<br>GDP (million)=%{y}<br>Doing Business=%{z}<extra></extra>",
         "legendgroup": "Norway",
         "marker": {
          "color": "#EF553B",
          "symbol": "circle"
         },
         "mode": "markers",
         "name": "Norway",
         "scene": "scene",
         "showlegend": true,
         "type": "scatter3d",
         "x": [
          26007
         ],
         "y": [
          434166.615431909
         ],
         "z": [
          82.7
         ]
        },
        {
         "hovertemplate": "Country=Portugal<br>FDI USA (million)=%{x}<br>GDP (million)=%{y}<br>Doing Business=%{z}<extra></extra>",
         "legendgroup": "Portugal",
         "marker": {
          "color": "#00cc96",
          "symbol": "circle"
         },
         "mode": "markers",
         "name": "Portugal",
         "scene": "scene",
         "showlegend": true,
         "type": "scatter3d",
         "x": [
          1056
         ],
         "y": [
          241274.628877362
         ],
         "z": [
          76.5
         ]
        },
        {
         "hovertemplate": "Country=Romania<br>FDI USA (million)=%{x}<br>GDP (million)=%{y}<br>Doing Business=%{z}<extra></extra>",
         "legendgroup": "Romania",
         "marker": {
          "color": "#ab63fa",
          "symbol": "circle"
         },
         "mode": "markers",
         "name": "Romania",
         "scene": "scene",
         "showlegend": true,
         "type": "scatter3d",
         "x": [
          3
         ],
         "y": [
          241626.953521413
         ],
         "z": [
          73
         ]
        },
        {
         "hovertemplate": "Country=Russian Federation<br>FDI USA (million)=%{x}<br>GDP (million)=%{y}<br>Doing Business=%{z}<extra></extra>",
         "legendgroup": "Russian Federation",
         "marker": {
          "color": "#FFA15A",
          "symbol": "circle"
         },
         "mode": "markers",
         "name": "Russian Federation",
         "scene": "scene",
         "showlegend": true,
         "type": "scatter3d",
         "x": [
          4455
         ],
         "y": [
          1669583.08932296
         ],
         "z": [
          76.5
         ]
        },
        {
         "hovertemplate": "Country=San Marino<br>FDI USA (million)=%{x}<br>GDP (million)=%{y}<br>Doing Business=%{z}<extra></extra>",
         "legendgroup": "San Marino",
         "marker": {
          "color": "#19d3f3",
          "symbol": "circle"
         },
         "mode": "markers",
         "name": "San Marino",
         "scene": "scene",
         "showlegend": true,
         "type": "scatter3d",
         "x": [
          0
         ],
         "y": [
          1637.93103448276
         ],
         "z": [
          61.9
         ]
        },
        {
         "hovertemplate": "Country=Serbia<br>FDI USA (million)=%{x}<br>GDP (million)=%{y}<br>Doing Business=%{z}<extra></extra>",
         "legendgroup": "Serbia",
         "marker": {
          "color": "#FF6692",
          "symbol": "circle"
         },
         "mode": "markers",
         "name": "Serbia",
         "scene": "scene",
         "showlegend": true,
         "type": "scatter3d",
         "x": [
          3
         ],
         "y": [
          50597.28914670409
         ],
         "z": [
          73.8
         ]
        },
        {
         "hovertemplate": "Country=Slovak Republic<br>FDI USA (million)=%{x}<br>GDP (million)=%{y}<br>Doing Business=%{z}<extra></extra>",
         "legendgroup": "Slovak Republic",
         "marker": {
          "color": "#B6E880",
          "symbol": "circle"
         },
         "mode": "markers",
         "name": "Slovak Republic",
         "scene": "scene",
         "showlegend": true,
         "type": "scatter3d",
         "x": [
          14
         ],
         "y": [
          105820.499976721
         ],
         "z": [
          75.2
         ]
        },
        {
         "hovertemplate": "Country=Slovenia<br>FDI USA (million)=%{x}<br>GDP (million)=%{y}<br>Doing Business=%{z}<extra></extra>",
         "legendgroup": "Slovenia",
         "marker": {
          "color": "#FF97FF",
          "symbol": "circle"
         },
         "mode": "markers",
         "name": "Slovenia",
         "scene": "scene",
         "showlegend": true,
         "type": "scatter3d",
         "x": [
          6
         ],
         "y": [
          54034.3585442622
         ],
         "z": [
          76.4
         ]
        },
        {
         "hovertemplate": "Country=Spain<br>FDI USA (million)=%{x}<br>GDP (million)=%{y}<br>Doing Business=%{z}<extra></extra>",
         "legendgroup": "Spain",
         "marker": {
          "color": "#FECB52",
          "symbol": "circle"
         },
         "mode": "markers",
         "name": "Spain",
         "scene": "scene",
         "showlegend": true,
         "type": "scatter3d",
         "x": [
          83379
         ],
         "y": [
          1419735.2450046998
         ],
         "z": [
          77.6
         ]
        },
        {
         "hovertemplate": "Country=Sweden<br>FDI USA (million)=%{x}<br>GDP (million)=%{y}<br>Doing Business=%{z}<extra></extra>",
         "legendgroup": "Sweden",
         "marker": {
          "color": "#636efa",
          "symbol": "circle"
         },
         "mode": "markers",
         "name": "Sweden",
         "scene": "scene",
         "showlegend": true,
         "type": "scatter3d",
         "x": [
          49546
         ],
         "y": [
          555455.371487089
         ],
         "z": [
          82.2
         ]
        },
        {
         "hovertemplate": "Country=Switzerland<br>FDI USA (million)=%{x}<br>GDP (million)=%{y}<br>Doing Business=%{z}<extra></extra>",
         "legendgroup": "Switzerland",
         "marker": {
          "color": "#EF553B",
          "symbol": "circle"
         },
         "mode": "markers",
         "name": "Switzerland",
         "scene": "scene",
         "showlegend": true,
         "type": "scatter3d",
         "x": [
          295783
         ],
         "y": [
          705140.6200466999
         ],
         "z": [
          76.6
         ]
        },
        {
         "hovertemplate": "Country=Tajikistan<br>FDI USA (million)=%{x}<br>GDP (million)=%{y}<br>Doing Business=%{z}<extra></extra>",
         "legendgroup": "Tajikistan",
         "marker": {
          "color": "#00cc96",
          "symbol": "circle"
         },
         "mode": "markers",
         "name": "Tajikistan",
         "scene": "scene",
         "showlegend": true,
         "type": "scatter3d",
         "x": [
          0
         ],
         "y": [
          7522.947810123259
         ],
         "z": [
          54.3
         ]
        },
        {
         "hovertemplate": "Country=Turkey<br>FDI USA (million)=%{x}<br>GDP (million)=%{y}<br>Doing Business=%{z}<extra></extra>",
         "legendgroup": "Turkey",
         "marker": {
          "color": "#ab63fa",
          "symbol": "circle"
         },
         "mode": "markers",
         "name": "Turkey",
         "scene": "scene",
         "showlegend": true,
         "type": "scatter3d",
         "x": [
          2175
         ],
         "y": [
          771350.3313727111
         ],
         "z": [
          70.9
         ]
        },
        {
         "hovertemplate": "Country=Turkmenistan<br>FDI USA (million)=%{x}<br>GDP (million)=%{y}<br>Doing Business=%{z}<extra></extra>",
         "legendgroup": "Turkmenistan",
         "marker": {
          "color": "#FFA15A",
          "symbol": "circle"
         },
         "mode": "markers",
         "name": "Turkmenistan",
         "scene": "scene",
         "showlegend": true,
         "type": "scatter3d",
         "x": [
          0
         ],
         "y": [
          40761.1428571429
         ],
         "z": [
          null
         ]
        },
        {
         "hovertemplate": "Country=Ukraine<br>FDI USA (million)=%{x}<br>GDP (million)=%{y}<br>Doing Business=%{z}<extra></extra>",
         "legendgroup": "Ukraine",
         "marker": {
          "color": "#19d3f3",
          "symbol": "circle"
         },
         "mode": "markers",
         "name": "Ukraine",
         "scene": "scene",
         "showlegend": true,
         "type": "scatter3d",
         "x": [
          -3
         ],
         "y": [
          130901.85842172
         ],
         "z": [
          68.1
         ]
        },
        {
         "hovertemplate": "Country=United Kingdom<br>FDI USA (million)=%{x}<br>GDP (million)=%{y}<br>Doing Business=%{z}<extra></extra>",
         "legendgroup": "United Kingdom",
         "marker": {
          "color": "#FF6692",
          "symbol": "circle"
         },
         "mode": "markers",
         "name": "United Kingdom",
         "scene": "scene",
         "showlegend": true,
         "type": "scatter3d",
         "x": [
          496622
         ],
         "y": [
          2860667.72755197
         ],
         "z": [
          83.2
         ]
        },
        {
         "hovertemplate": "Country=Uzbekistan<br>FDI USA (million)=%{x}<br>GDP (million)=%{y}<br>Doing Business=%{z}<extra></extra>",
         "legendgroup": "Uzbekistan",
         "marker": {
          "color": "#B6E880",
          "symbol": "circle"
         },
         "mode": "markers",
         "name": "Uzbekistan",
         "scene": "scene",
         "showlegend": true,
         "type": "scatter3d",
         "x": [
          0
         ],
         "y": [
          50392.6077582324
         ],
         "z": [
          66.6
         ]
        },
        {
         "hovertemplate": "Country=Vatican City<br>FDI USA (million)=%{x}<br>GDP (million)=%{y}<br>Doing Business=%{z}<extra></extra>",
         "legendgroup": "Vatican City",
         "marker": {
          "color": "#FF97FF",
          "symbol": "circle"
         },
         "mode": "markers",
         "name": "Vatican City",
         "scene": "scene",
         "showlegend": true,
         "type": "scatter3d",
         "x": [
          0
         ],
         "y": [
          null
         ],
         "z": [
          null
         ]
        }
       ],
       "layout": {
        "autosize": true,
        "legend": {
         "title": {
          "text": "Country"
         },
         "tracegroupgap": 0
        },
        "scene": {
         "aspectmode": "auto",
         "aspectratio": {
          "x": 1,
          "y": 1,
          "z": 1
         },
         "camera": {
          "center": {
           "x": 0,
           "y": 0,
           "z": 0
          },
          "eye": {
           "x": 0.5495997215143729,
           "y": 0.9518533999394119,
           "z": 0.9239828934652728
          },
          "projection": {
           "type": "perspective"
          },
          "up": {
           "x": 0,
           "y": 0,
           "z": 1
          }
         },
         "domain": {
          "x": [
           0,
           1
          ],
          "y": [
           0,
           1
          ]
         },
         "xaxis": {
          "title": {
           "text": "FDI USA (million)"
          },
          "type": "linear"
         },
         "yaxis": {
          "title": {
           "text": "GDP (million)"
          },
          "type": "linear"
         },
         "zaxis": {
          "title": {
           "text": "Doing Business"
          },
          "type": "linear"
         }
        },
        "template": {
         "data": {
          "bar": [
           {
            "error_x": {
             "color": "#2a3f5f"
            },
            "error_y": {
             "color": "#2a3f5f"
            },
            "marker": {
             "line": {
              "color": "#E5ECF6",
              "width": 0.5
             }
            },
            "type": "bar"
           }
          ],
          "barpolar": [
           {
            "marker": {
             "line": {
              "color": "#E5ECF6",
              "width": 0.5
             }
            },
            "type": "barpolar"
           }
          ],
          "carpet": [
           {
            "aaxis": {
             "endlinecolor": "#2a3f5f",
             "gridcolor": "white",
             "linecolor": "white",
             "minorgridcolor": "white",
             "startlinecolor": "#2a3f5f"
            },
            "baxis": {
             "endlinecolor": "#2a3f5f",
             "gridcolor": "white",
             "linecolor": "white",
             "minorgridcolor": "white",
             "startlinecolor": "#2a3f5f"
            },
            "type": "carpet"
           }
          ],
          "choropleth": [
           {
            "colorbar": {
             "outlinewidth": 0,
             "ticks": ""
            },
            "type": "choropleth"
           }
          ],
          "contour": [
           {
            "colorbar": {
             "outlinewidth": 0,
             "ticks": ""
            },
            "colorscale": [
             [
              0,
              "#0d0887"
             ],
             [
              0.1111111111111111,
              "#46039f"
             ],
             [
              0.2222222222222222,
              "#7201a8"
             ],
             [
              0.3333333333333333,
              "#9c179e"
             ],
             [
              0.4444444444444444,
              "#bd3786"
             ],
             [
              0.5555555555555556,
              "#d8576b"
             ],
             [
              0.6666666666666666,
              "#ed7953"
             ],
             [
              0.7777777777777778,
              "#fb9f3a"
             ],
             [
              0.8888888888888888,
              "#fdca26"
             ],
             [
              1,
              "#f0f921"
             ]
            ],
            "type": "contour"
           }
          ],
          "contourcarpet": [
           {
            "colorbar": {
             "outlinewidth": 0,
             "ticks": ""
            },
            "type": "contourcarpet"
           }
          ],
          "heatmap": [
           {
            "colorbar": {
             "outlinewidth": 0,
             "ticks": ""
            },
            "colorscale": [
             [
              0,
              "#0d0887"
             ],
             [
              0.1111111111111111,
              "#46039f"
             ],
             [
              0.2222222222222222,
              "#7201a8"
             ],
             [
              0.3333333333333333,
              "#9c179e"
             ],
             [
              0.4444444444444444,
              "#bd3786"
             ],
             [
              0.5555555555555556,
              "#d8576b"
             ],
             [
              0.6666666666666666,
              "#ed7953"
             ],
             [
              0.7777777777777778,
              "#fb9f3a"
             ],
             [
              0.8888888888888888,
              "#fdca26"
             ],
             [
              1,
              "#f0f921"
             ]
            ],
            "type": "heatmap"
           }
          ],
          "heatmapgl": [
           {
            "colorbar": {
             "outlinewidth": 0,
             "ticks": ""
            },
            "colorscale": [
             [
              0,
              "#0d0887"
             ],
             [
              0.1111111111111111,
              "#46039f"
             ],
             [
              0.2222222222222222,
              "#7201a8"
             ],
             [
              0.3333333333333333,
              "#9c179e"
             ],
             [
              0.4444444444444444,
              "#bd3786"
             ],
             [
              0.5555555555555556,
              "#d8576b"
             ],
             [
              0.6666666666666666,
              "#ed7953"
             ],
             [
              0.7777777777777778,
              "#fb9f3a"
             ],
             [
              0.8888888888888888,
              "#fdca26"
             ],
             [
              1,
              "#f0f921"
             ]
            ],
            "type": "heatmapgl"
           }
          ],
          "histogram": [
           {
            "marker": {
             "colorbar": {
              "outlinewidth": 0,
              "ticks": ""
             }
            },
            "type": "histogram"
           }
          ],
          "histogram2d": [
           {
            "colorbar": {
             "outlinewidth": 0,
             "ticks": ""
            },
            "colorscale": [
             [
              0,
              "#0d0887"
             ],
             [
              0.1111111111111111,
              "#46039f"
             ],
             [
              0.2222222222222222,
              "#7201a8"
             ],
             [
              0.3333333333333333,
              "#9c179e"
             ],
             [
              0.4444444444444444,
              "#bd3786"
             ],
             [
              0.5555555555555556,
              "#d8576b"
             ],
             [
              0.6666666666666666,
              "#ed7953"
             ],
             [
              0.7777777777777778,
              "#fb9f3a"
             ],
             [
              0.8888888888888888,
              "#fdca26"
             ],
             [
              1,
              "#f0f921"
             ]
            ],
            "type": "histogram2d"
           }
          ],
          "histogram2dcontour": [
           {
            "colorbar": {
             "outlinewidth": 0,
             "ticks": ""
            },
            "colorscale": [
             [
              0,
              "#0d0887"
             ],
             [
              0.1111111111111111,
              "#46039f"
             ],
             [
              0.2222222222222222,
              "#7201a8"
             ],
             [
              0.3333333333333333,
              "#9c179e"
             ],
             [
              0.4444444444444444,
              "#bd3786"
             ],
             [
              0.5555555555555556,
              "#d8576b"
             ],
             [
              0.6666666666666666,
              "#ed7953"
             ],
             [
              0.7777777777777778,
              "#fb9f3a"
             ],
             [
              0.8888888888888888,
              "#fdca26"
             ],
             [
              1,
              "#f0f921"
             ]
            ],
            "type": "histogram2dcontour"
           }
          ],
          "mesh3d": [
           {
            "colorbar": {
             "outlinewidth": 0,
             "ticks": ""
            },
            "type": "mesh3d"
           }
          ],
          "parcoords": [
           {
            "line": {
             "colorbar": {
              "outlinewidth": 0,
              "ticks": ""
             }
            },
            "type": "parcoords"
           }
          ],
          "pie": [
           {
            "automargin": true,
            "type": "pie"
           }
          ],
          "scatter": [
           {
            "marker": {
             "colorbar": {
              "outlinewidth": 0,
              "ticks": ""
             }
            },
            "type": "scatter"
           }
          ],
          "scatter3d": [
           {
            "line": {
             "colorbar": {
              "outlinewidth": 0,
              "ticks": ""
             }
            },
            "marker": {
             "colorbar": {
              "outlinewidth": 0,
              "ticks": ""
             }
            },
            "type": "scatter3d"
           }
          ],
          "scattercarpet": [
           {
            "marker": {
             "colorbar": {
              "outlinewidth": 0,
              "ticks": ""
             }
            },
            "type": "scattercarpet"
           }
          ],
          "scattergeo": [
           {
            "marker": {
             "colorbar": {
              "outlinewidth": 0,
              "ticks": ""
             }
            },
            "type": "scattergeo"
           }
          ],
          "scattergl": [
           {
            "marker": {
             "colorbar": {
              "outlinewidth": 0,
              "ticks": ""
             }
            },
            "type": "scattergl"
           }
          ],
          "scattermapbox": [
           {
            "marker": {
             "colorbar": {
              "outlinewidth": 0,
              "ticks": ""
             }
            },
            "type": "scattermapbox"
           }
          ],
          "scatterpolar": [
           {
            "marker": {
             "colorbar": {
              "outlinewidth": 0,
              "ticks": ""
             }
            },
            "type": "scatterpolar"
           }
          ],
          "scatterpolargl": [
           {
            "marker": {
             "colorbar": {
              "outlinewidth": 0,
              "ticks": ""
             }
            },
            "type": "scatterpolargl"
           }
          ],
          "scatterternary": [
           {
            "marker": {
             "colorbar": {
              "outlinewidth": 0,
              "ticks": ""
             }
            },
            "type": "scatterternary"
           }
          ],
          "surface": [
           {
            "colorbar": {
             "outlinewidth": 0,
             "ticks": ""
            },
            "colorscale": [
             [
              0,
              "#0d0887"
             ],
             [
              0.1111111111111111,
              "#46039f"
             ],
             [
              0.2222222222222222,
              "#7201a8"
             ],
             [
              0.3333333333333333,
              "#9c179e"
             ],
             [
              0.4444444444444444,
              "#bd3786"
             ],
             [
              0.5555555555555556,
              "#d8576b"
             ],
             [
              0.6666666666666666,
              "#ed7953"
             ],
             [
              0.7777777777777778,
              "#fb9f3a"
             ],
             [
              0.8888888888888888,
              "#fdca26"
             ],
             [
              1,
              "#f0f921"
             ]
            ],
            "type": "surface"
           }
          ],
          "table": [
           {
            "cells": {
             "fill": {
              "color": "#EBF0F8"
             },
             "line": {
              "color": "white"
             }
            },
            "header": {
             "fill": {
              "color": "#C8D4E3"
             },
             "line": {
              "color": "white"
             }
            },
            "type": "table"
           }
          ]
         },
         "layout": {
          "annotationdefaults": {
           "arrowcolor": "#2a3f5f",
           "arrowhead": 0,
           "arrowwidth": 1
          },
          "coloraxis": {
           "colorbar": {
            "outlinewidth": 0,
            "ticks": ""
           }
          },
          "colorscale": {
           "diverging": [
            [
             0,
             "#8e0152"
            ],
            [
             0.1,
             "#c51b7d"
            ],
            [
             0.2,
             "#de77ae"
            ],
            [
             0.3,
             "#f1b6da"
            ],
            [
             0.4,
             "#fde0ef"
            ],
            [
             0.5,
             "#f7f7f7"
            ],
            [
             0.6,
             "#e6f5d0"
            ],
            [
             0.7,
             "#b8e186"
            ],
            [
             0.8,
             "#7fbc41"
            ],
            [
             0.9,
             "#4d9221"
            ],
            [
             1,
             "#276419"
            ]
           ],
           "sequential": [
            [
             0,
             "#0d0887"
            ],
            [
             0.1111111111111111,
             "#46039f"
            ],
            [
             0.2222222222222222,
             "#7201a8"
            ],
            [
             0.3333333333333333,
             "#9c179e"
            ],
            [
             0.4444444444444444,
             "#bd3786"
            ],
            [
             0.5555555555555556,
             "#d8576b"
            ],
            [
             0.6666666666666666,
             "#ed7953"
            ],
            [
             0.7777777777777778,
             "#fb9f3a"
            ],
            [
             0.8888888888888888,
             "#fdca26"
            ],
            [
             1,
             "#f0f921"
            ]
           ],
           "sequentialminus": [
            [
             0,
             "#0d0887"
            ],
            [
             0.1111111111111111,
             "#46039f"
            ],
            [
             0.2222222222222222,
             "#7201a8"
            ],
            [
             0.3333333333333333,
             "#9c179e"
            ],
            [
             0.4444444444444444,
             "#bd3786"
            ],
            [
             0.5555555555555556,
             "#d8576b"
            ],
            [
             0.6666666666666666,
             "#ed7953"
            ],
            [
             0.7777777777777778,
             "#fb9f3a"
            ],
            [
             0.8888888888888888,
             "#fdca26"
            ],
            [
             1,
             "#f0f921"
            ]
           ]
          },
          "colorway": [
           "#636efa",
           "#EF553B",
           "#00cc96",
           "#ab63fa",
           "#FFA15A",
           "#19d3f3",
           "#FF6692",
           "#B6E880",
           "#FF97FF",
           "#FECB52"
          ],
          "font": {
           "color": "#2a3f5f"
          },
          "geo": {
           "bgcolor": "white",
           "lakecolor": "white",
           "landcolor": "#E5ECF6",
           "showlakes": true,
           "showland": true,
           "subunitcolor": "white"
          },
          "hoverlabel": {
           "align": "left"
          },
          "hovermode": "closest",
          "mapbox": {
           "style": "light"
          },
          "paper_bgcolor": "white",
          "plot_bgcolor": "#E5ECF6",
          "polar": {
           "angularaxis": {
            "gridcolor": "white",
            "linecolor": "white",
            "ticks": ""
           },
           "bgcolor": "#E5ECF6",
           "radialaxis": {
            "gridcolor": "white",
            "linecolor": "white",
            "ticks": ""
           }
          },
          "scene": {
           "xaxis": {
            "backgroundcolor": "#E5ECF6",
            "gridcolor": "white",
            "gridwidth": 2,
            "linecolor": "white",
            "showbackground": true,
            "ticks": "",
            "zerolinecolor": "white"
           },
           "yaxis": {
            "backgroundcolor": "#E5ECF6",
            "gridcolor": "white",
            "gridwidth": 2,
            "linecolor": "white",
            "showbackground": true,
            "ticks": "",
            "zerolinecolor": "white"
           },
           "zaxis": {
            "backgroundcolor": "#E5ECF6",
            "gridcolor": "white",
            "gridwidth": 2,
            "linecolor": "white",
            "showbackground": true,
            "ticks": "",
            "zerolinecolor": "white"
           }
          },
          "shapedefaults": {
           "line": {
            "color": "#2a3f5f"
           }
          },
          "ternary": {
           "aaxis": {
            "gridcolor": "white",
            "linecolor": "white",
            "ticks": ""
           },
           "baxis": {
            "gridcolor": "white",
            "linecolor": "white",
            "ticks": ""
           },
           "bgcolor": "#E5ECF6",
           "caxis": {
            "gridcolor": "white",
            "linecolor": "white",
            "ticks": ""
           }
          },
          "title": {
           "x": 0.05
          },
          "xaxis": {
           "automargin": true,
           "gridcolor": "white",
           "linecolor": "white",
           "ticks": "",
           "title": {
            "standoff": 15
           },
           "zerolinecolor": "white",
           "zerolinewidth": 2
          },
          "yaxis": {
           "automargin": true,
           "gridcolor": "white",
           "linecolor": "white",
           "ticks": "",
           "title": {
            "standoff": 15
           },
           "zerolinecolor": "white",
           "zerolinewidth": 2
          }
         }
        },
        "title": {
         "text": "2018 FDI/GDP/Doing Business - European Countries"
        }
       }
      },
      "image/png": "[encoded data removed]",
      "text/html": [
       "<div>                            <div id=\"6391016d-cdc1-4e5f-82e6-87a595bb6752\" class=\"plotly-graph-div\" style=\"height:525px; width:100%;\"></div>            <script type=\"text/javascript\">                require([\"plotly\"], function(Plotly) {                    window.PLOTLYENV=window.PLOTLYENV || {};                                    if (document.getElementById(\"6391016d-cdc1-4e5f-82e6-87a595bb6752\")) {                    Plotly.newPlot(                        \"6391016d-cdc1-4e5f-82e6-87a595bb6752\",                        [{\"hovertemplate\": \"Country=Albania<br>FDI USA (million)=%{x}<br>GDP (million)=%{y}<br>Doing Business=%{z}<extra></extra>\", \"legendgroup\": \"Albania\", \"marker\": {\"color\": \"#636efa\", \"symbol\": \"circle\"}, \"mode\": \"markers\", \"name\": \"Albania\", \"scene\": \"scene\", \"showlegend\": true, \"type\": \"scatter3d\", \"x\": [0.0], \"y\": [15147.020535386899], \"z\": [66.8]}, {\"hovertemplate\": \"Country=Andorra<br>FDI USA (million)=%{x}<br>GDP (million)=%{y}<br>Doing Business=%{z}<extra></extra>\", \"legendgroup\": \"Andorra\", \"marker\": {\"color\": \"#EF553B\", \"symbol\": \"circle\"}, \"mode\": \"markers\", \"name\": \"Andorra\", \"scene\": \"scene\", \"showlegend\": true, \"type\": \"scatter3d\", \"x\": [0.0], \"y\": [3218.3160132262606], \"z\": [null]}, {\"hovertemplate\": \"Country=Armenia<br>FDI USA (million)=%{x}<br>GDP (million)=%{y}<br>Doing Business=%{z}<extra></extra>\", \"legendgroup\": \"Armenia\", \"marker\": {\"color\": \"#00cc96\", \"symbol\": \"circle\"}, \"mode\": \"markers\", \"name\": \"Armenia\", \"scene\": \"scene\", \"showlegend\": true, \"type\": \"scatter3d\", \"x\": [3.0], \"y\": [12457.9419070333], \"z\": [71.5]}, {\"hovertemplate\": \"Country=Austria<br>FDI USA (million)=%{x}<br>GDP (million)=%{y}<br>Doing Business=%{z}<extra></extra>\", \"legendgroup\": \"Austria\", \"marker\": {\"color\": \"#ab63fa\", \"symbol\": \"circle\"}, \"mode\": \"markers\", \"name\": \"Austria\", \"scene\": \"scene\", \"showlegend\": true, \"type\": \"scatter3d\", \"x\": [12392.0], \"y\": [455508.25502821896], \"z\": [78.7]}, {\"hovertemplate\": \"Country=Azerbaijan<br>FDI USA (million)=%{x}<br>GDP (million)=%{y}<br>Doing Business=%{z}<extra></extra>\", \"legendgroup\": \"Azerbaijan\", \"marker\": {\"color\": \"#FFA15A\", \"symbol\": \"circle\"}, \"mode\": \"markers\", \"name\": \"Azerbaijan\", \"scene\": \"scene\", \"showlegend\": true, \"type\": \"scatter3d\", \"x\": [-2.0], \"y\": [47112.941176470595], \"z\": [66.8]}, {\"hovertemplate\": \"Country=Belarus<br>FDI USA (million)=%{x}<br>GDP (million)=%{y}<br>Doing Business=%{z}<extra></extra>\", \"legendgroup\": \"Belarus\", \"marker\": {\"color\": \"#19d3f3\", \"symbol\": \"circle\"}, \"mode\": \"markers\", \"name\": \"Belarus\", \"scene\": \"scene\", \"showlegend\": true, \"type\": \"scatter3d\", \"x\": [4.0], \"y\": [60031.262269336505], \"z\": [73.6]}, {\"hovertemplate\": \"Country=Belgium<br>FDI USA (million)=%{x}<br>GDP (million)=%{y}<br>Doing Business=%{z}<extra></extra>\", \"legendgroup\": \"Belgium\", \"marker\": {\"color\": \"#FF6692\", \"symbol\": \"circle\"}, \"mode\": \"markers\", \"name\": \"Belgium\", \"scene\": \"scene\", \"showlegend\": true, \"type\": \"scatter3d\", \"x\": [64661.0], \"y\": [542685.915417411], \"z\": [72.2]}, {\"hovertemplate\": \"Country=Bosnia and Herzegovina<br>FDI USA (million)=%{x}<br>GDP (million)=%{y}<br>Doing Business=%{z}<extra></extra>\", \"legendgroup\": \"Bosnia and Herzegovina\", \"marker\": {\"color\": \"#B6E880\", \"symbol\": \"circle\"}, \"mode\": \"markers\", \"name\": \"Bosnia and Herzegovina\", \"scene\": \"scene\", \"showlegend\": true, \"type\": \"scatter3d\", \"x\": [0.0], \"y\": [20183.4984912492], \"z\": [65.2]}, {\"hovertemplate\": \"Country=Croatia<br>FDI USA (million)=%{x}<br>GDP (million)=%{y}<br>Doing Business=%{z}<extra></extra>\", \"legendgroup\": \"Croatia\", \"marker\": {\"color\": \"#FF97FF\", \"symbol\": \"circle\"}, \"mode\": \"markers\", \"name\": \"Croatia\", \"scene\": \"scene\", \"showlegend\": true, \"type\": \"scatter3d\", \"x\": [19.0], \"y\": [60991.399904443395], \"z\": [72.6]}, {\"hovertemplate\": \"Country=Cyprus<br>FDI USA (million)=%{x}<br>GDP (million)=%{y}<br>Doing Business=%{z}<extra></extra>\", \"legendgroup\": \"Cyprus\", \"marker\": {\"color\": \"#FECB52\", \"symbol\": \"circle\"}, \"mode\": \"markers\", \"name\": \"Cyprus\", \"scene\": \"scene\", \"showlegend\": true, \"type\": \"scatter3d\", \"x\": [323.0], \"y\": [24961.995748701], \"z\": [72.3]}, {\"hovertemplate\": \"Country=Denmark<br>FDI USA (million)=%{x}<br>GDP (million)=%{y}<br>Doing Business=%{z}<extra></extra>\", \"legendgroup\": \"Denmark\", \"marker\": {\"color\": \"#636efa\", \"symbol\": \"circle\"}, \"mode\": \"markers\", \"name\": \"Denmark\", \"scene\": \"scene\", \"showlegend\": true, \"type\": \"scatter3d\", \"x\": [20654.0], \"y\": [355675.329085952], \"z\": [84.6]}, {\"hovertemplate\": \"Country=Finland<br>FDI USA (million)=%{x}<br>GDP (million)=%{y}<br>Doing Business=%{z}<extra></extra>\", \"legendgroup\": \"Finland\", \"marker\": {\"color\": \"#EF553B\", \"symbol\": \"circle\"}, \"mode\": \"markers\", \"name\": \"Finland\", \"scene\": \"scene\", \"showlegend\": true, \"type\": \"scatter3d\", \"x\": [14464.0], \"y\": [275893.68135589204], \"z\": [80.0]}, {\"hovertemplate\": \"Country=France<br>FDI USA (million)=%{x}<br>GDP (million)=%{y}<br>Doing Business=%{z}<extra></extra>\", \"legendgroup\": \"France\", \"marker\": {\"color\": \"#00cc96\", \"symbol\": \"circle\"}, \"mode\": \"markers\", \"name\": \"France\", \"scene\": \"scene\", \"showlegend\": true, \"type\": \"scatter3d\", \"x\": [268169.0], \"y\": [2787863.9588854904], \"z\": [76.0]}, {\"hovertemplate\": \"Country=Georgia<br>FDI USA (million)=%{x}<br>GDP (million)=%{y}<br>Doing Business=%{z}<extra></extra>\", \"legendgroup\": \"Georgia\", \"marker\": {\"color\": \"#ab63fa\", \"symbol\": \"circle\"}, \"mode\": \"markers\", \"name\": \"Georgia\", \"scene\": \"scene\", \"showlegend\": true, \"type\": \"scatter3d\", \"x\": [0.0], \"y\": [17599.700090762002], \"z\": [83.0]}, {\"hovertemplate\": \"Country=Germany<br>FDI USA (million)=%{x}<br>GDP (million)=%{y}<br>Doing Business=%{z}<extra></extra>\", \"legendgroup\": \"Germany\", \"marker\": {\"color\": \"#FFA15A\", \"symbol\": \"circle\"}, \"mode\": \"markers\", \"name\": \"Germany\", \"scene\": \"scene\", \"showlegend\": true, \"type\": \"scatter3d\", \"x\": [328124.0], \"y\": [3949548.83395294], \"z\": [79.3]}, {\"hovertemplate\": \"Country=Gibraltar<br>FDI USA (million)=%{x}<br>GDP (million)=%{y}<br>Doing Business=%{z}<extra></extra>\", \"legendgroup\": \"Gibraltar\", \"marker\": {\"color\": \"#19d3f3\", \"symbol\": \"circle\"}, \"mode\": \"markers\", \"name\": \"Gibraltar\", \"scene\": \"scene\", \"showlegend\": true, \"type\": \"scatter3d\", \"x\": [9367.0], \"y\": [null], \"z\": [null]}, {\"hovertemplate\": \"Country=Greece<br>FDI USA (million)=%{x}<br>GDP (million)=%{y}<br>Doing Business=%{z}<extra></extra>\", \"legendgroup\": \"Greece\", \"marker\": {\"color\": \"#FF6692\", \"symbol\": \"circle\"}, \"mode\": \"markers\", \"name\": \"Greece\", \"scene\": \"scene\", \"showlegend\": true, \"type\": \"scatter3d\", \"x\": [639.0], \"y\": [218138.36744499], \"z\": [67.1]}, {\"hovertemplate\": \"Country=Hungary<br>FDI USA (million)=%{x}<br>GDP (million)=%{y}<br>Doing Business=%{z}<extra></extra>\", \"legendgroup\": \"Hungary\", \"marker\": {\"color\": \"#B6E880\", \"symbol\": \"circle\"}, \"mode\": \"markers\", \"name\": \"Hungary\", \"scene\": \"scene\", \"showlegend\": true, \"type\": \"scatter3d\", \"x\": [31730.0], \"y\": [157882.91277825402], \"z\": [72.7]}, {\"hovertemplate\": \"Country=Ireland<br>FDI USA (million)=%{x}<br>GDP (million)=%{y}<br>Doing Business=%{z}<extra></extra>\", \"legendgroup\": \"Ireland\", \"marker\": {\"color\": \"#FF97FF\", \"symbol\": \"circle\"}, \"mode\": \"markers\", \"name\": \"Ireland\", \"scene\": \"scene\", \"showlegend\": true, \"type\": \"scatter3d\", \"x\": [265004.0], \"y\": [382674.36076634104], \"z\": [80.1]}, {\"hovertemplate\": \"Country=Italy<br>FDI USA (million)=%{x}<br>GDP (million)=%{y}<br>Doing Business=%{z}<extra></extra>\", \"legendgroup\": \"Italy\", \"marker\": {\"color\": \"#FECB52\", \"symbol\": \"circle\"}, \"mode\": \"markers\", \"name\": \"Italy\", \"scene\": \"scene\", \"showlegend\": true, \"type\": \"scatter3d\", \"x\": [30749.0], \"y\": [2085764.30086227], \"z\": [73.2]}, {\"hovertemplate\": \"Country=Kazakhstan<br>FDI USA (million)=%{x}<br>GDP (million)=%{y}<br>Doing Business=%{z}<extra></extra>\", \"legendgroup\": \"Kazakhstan\", \"marker\": {\"color\": \"#636efa\", \"symbol\": \"circle\"}, \"mode\": \"markers\", \"name\": \"Kazakhstan\", \"scene\": \"scene\", \"showlegend\": true, \"type\": \"scatter3d\", \"x\": [0.0], \"y\": [179339.994859384], \"z\": [76.9]}, {\"hovertemplate\": \"Country=Kosovo<br>FDI USA (million)=%{x}<br>GDP (million)=%{y}<br>Doing Business=%{z}<extra></extra>\", \"legendgroup\": \"Kosovo\", \"marker\": {\"color\": \"#EF553B\", \"symbol\": \"circle\"}, \"mode\": \"markers\", \"name\": \"Kosovo\", \"scene\": \"scene\", \"showlegend\": true, \"type\": \"scatter3d\", \"x\": [0.0], \"y\": [7942.961738308931], \"z\": [70.5]}, {\"hovertemplate\": \"Country=Kyrgyz Republic<br>FDI USA (million)=%{x}<br>GDP (million)=%{y}<br>Doing Business=%{z}<extra></extra>\", \"legendgroup\": \"Kyrgyz Republic\", \"marker\": {\"color\": \"#00cc96\", \"symbol\": \"circle\"}, \"mode\": \"markers\", \"name\": \"Kyrgyz Republic\", \"scene\": \"scene\", \"showlegend\": true, \"type\": \"scatter3d\", \"x\": [0.0], \"y\": [8271.10863839931], \"z\": [62.4]}, {\"hovertemplate\": \"Country=Lithuania<br>FDI USA (million)=%{x}<br>GDP (million)=%{y}<br>Doing Business=%{z}<extra></extra>\", \"legendgroup\": \"Lithuania\", \"marker\": {\"color\": \"#ab63fa\", \"symbol\": \"circle\"}, \"mode\": \"markers\", \"name\": \"Lithuania\", \"scene\": \"scene\", \"showlegend\": true, \"type\": \"scatter3d\", \"x\": [-4.0], \"y\": [53455.170033519404], \"z\": [80.6]}, {\"hovertemplate\": \"Country=Luxembourg<br>FDI USA (million)=%{x}<br>GDP (million)=%{y}<br>Doing Business=%{z}<extra></extra>\", \"legendgroup\": \"Luxembourg\", \"marker\": {\"color\": \"#FFA15A\", \"symbol\": \"circle\"}, \"mode\": \"markers\", \"name\": \"Luxembourg\", \"scene\": \"scene\", \"showlegend\": true, \"type\": \"scatter3d\", \"x\": [312976.0], \"y\": [70919.95801552472], \"z\": [69.6]}, {\"hovertemplate\": \"Country=Malta<br>FDI USA (million)=%{x}<br>GDP (million)=%{y}<br>Doing Business=%{z}<extra></extra>\", \"legendgroup\": \"Malta\", \"marker\": {\"color\": \"#19d3f3\", \"symbol\": \"circle\"}, \"mode\": \"markers\", \"name\": \"Malta\", \"scene\": \"scene\", \"showlegend\": true, \"type\": \"scatter3d\", \"x\": [1557.0], \"y\": [14603.581712328798], \"z\": [65.2]}, {\"hovertemplate\": \"Country=Moldova<br>FDI USA (million)=%{x}<br>GDP (million)=%{y}<br>Doing Business=%{z}<extra></extra>\", \"legendgroup\": \"Moldova\", \"marker\": {\"color\": \"#FF6692\", \"symbol\": \"circle\"}, \"mode\": \"markers\", \"name\": \"Moldova\", \"scene\": \"scene\", \"showlegend\": true, \"type\": \"scatter3d\", \"x\": [0.0], \"y\": [11457.4102641932], \"z\": [72.7]}, {\"hovertemplate\": \"Country=Monaco<br>FDI USA (million)=%{x}<br>GDP (million)=%{y}<br>Doing Business=%{z}<extra></extra>\", \"legendgroup\": \"Monaco\", \"marker\": {\"color\": \"#B6E880\", \"symbol\": \"circle\"}, \"mode\": \"markers\", \"name\": \"Monaco\", \"scene\": \"scene\", \"showlegend\": true, \"type\": \"scatter3d\", \"x\": [-26.0], \"y\": [7188.23807274445], \"z\": [null]}, {\"hovertemplate\": \"Country=Montenegro<br>FDI USA (million)=%{x}<br>GDP (million)=%{y}<br>Doing Business=%{z}<extra></extra>\", \"legendgroup\": \"Montenegro\", \"marker\": {\"color\": \"#FF97FF\", \"symbol\": \"circle\"}, \"mode\": \"markers\", \"name\": \"Montenegro\", \"scene\": \"scene\", \"showlegend\": true, \"type\": \"scatter3d\", \"x\": [0.0], \"y\": [5506.766650921109], \"z\": [73.8]}, {\"hovertemplate\": \"Country=Netherlands<br>FDI USA (million)=%{x}<br>GDP (million)=%{y}<br>Doing Business=%{z}<extra></extra>\", \"legendgroup\": \"Netherlands\", \"marker\": {\"color\": \"#FECB52\", \"symbol\": \"circle\"}, \"mode\": \"markers\", \"name\": \"Netherlands\", \"scene\": \"scene\", \"showlegend\": true, \"type\": \"scatter3d\", \"x\": [462303.0], \"y\": [914104.847814117], \"z\": [76.1]}, {\"hovertemplate\": \"Country=North Macedonia<br>FDI USA (million)=%{x}<br>GDP (million)=%{y}<br>Doing Business=%{z}<extra></extra>\", \"legendgroup\": \"North Macedonia\", \"marker\": {\"color\": \"#636efa\", \"symbol\": \"circle\"}, \"mode\": \"markers\", \"name\": \"North Macedonia\", \"scene\": \"scene\", \"showlegend\": true, \"type\": \"scatter3d\", \"x\": [-1.0], \"y\": [12628.8548009772], \"z\": [80.3]}, {\"hovertemplate\": \"Country=Norway<br>FDI USA (million)=%{x}<br>GDP (million)=%{y}<br>Doing Business=%{z}<extra></extra>\", \"legendgroup\": \"Norway\", \"marker\": {\"color\": \"#EF553B\", \"symbol\": \"circle\"}, \"mode\": \"markers\", \"name\": \"Norway\", \"scene\": \"scene\", \"showlegend\": true, \"type\": \"scatter3d\", \"x\": [26007.0], \"y\": [434166.615431909], \"z\": [82.7]}, {\"hovertemplate\": \"Country=Portugal<br>FDI USA (million)=%{x}<br>GDP (million)=%{y}<br>Doing Business=%{z}<extra></extra>\", \"legendgroup\": \"Portugal\", \"marker\": {\"color\": \"#00cc96\", \"symbol\": \"circle\"}, \"mode\": \"markers\", \"name\": \"Portugal\", \"scene\": \"scene\", \"showlegend\": true, \"type\": \"scatter3d\", \"x\": [1056.0], \"y\": [241274.628877362], \"z\": [76.5]}, {\"hovertemplate\": \"Country=Romania<br>FDI USA (million)=%{x}<br>GDP (million)=%{y}<br>Doing Business=%{z}<extra></extra>\", \"legendgroup\": \"Romania\", \"marker\": {\"color\": \"#ab63fa\", \"symbol\": \"circle\"}, \"mode\": \"markers\", \"name\": \"Romania\", \"scene\": \"scene\", \"showlegend\": true, \"type\": \"scatter3d\", \"x\": [3.0], \"y\": [241626.953521413], \"z\": [73.0]}, {\"hovertemplate\": \"Country=Russian Federation<br>FDI USA (million)=%{x}<br>GDP (million)=%{y}<br>Doing Business=%{z}<extra></extra>\", \"legendgroup\": \"Russian Federation\", \"marker\": {\"color\": \"#FFA15A\", \"symbol\": \"circle\"}, \"mode\": \"markers\", \"name\": \"Russian Federation\", \"scene\": \"scene\", \"showlegend\": true, \"type\": \"scatter3d\", \"x\": [4455.0], \"y\": [1669583.08932296], \"z\": [76.5]}, {\"hovertemplate\": \"Country=San Marino<br>FDI USA (million)=%{x}<br>GDP (million)=%{y}<br>Doing Business=%{z}<extra></extra>\", \"legendgroup\": \"San Marino\", \"marker\": {\"color\": \"#19d3f3\", \"symbol\": \"circle\"}, \"mode\": \"markers\", \"name\": \"San Marino\", \"scene\": \"scene\", \"showlegend\": true, \"type\": \"scatter3d\", \"x\": [0.0], \"y\": [1637.93103448276], \"z\": [61.9]}, {\"hovertemplate\": \"Country=Serbia<br>FDI USA (million)=%{x}<br>GDP (million)=%{y}<br>Doing Business=%{z}<extra></extra>\", \"legendgroup\": \"Serbia\", \"marker\": {\"color\": \"#FF6692\", \"symbol\": \"circle\"}, \"mode\": \"markers\", \"name\": \"Serbia\", \"scene\": \"scene\", \"showlegend\": true, \"type\": \"scatter3d\", \"x\": [3.0], \"y\": [50597.28914670409], \"z\": [73.8]}, {\"hovertemplate\": \"Country=Slovak Republic<br>FDI USA (million)=%{x}<br>GDP (million)=%{y}<br>Doing Business=%{z}<extra></extra>\", \"legendgroup\": \"Slovak Republic\", \"marker\": {\"color\": \"#B6E880\", \"symbol\": \"circle\"}, \"mode\": \"markers\", \"name\": \"Slovak Republic\", \"scene\": \"scene\", \"showlegend\": true, \"type\": \"scatter3d\", \"x\": [14.0], \"y\": [105820.499976721], \"z\": [75.2]}, {\"hovertemplate\": \"Country=Slovenia<br>FDI USA (million)=%{x}<br>GDP (million)=%{y}<br>Doing Business=%{z}<extra></extra>\", \"legendgroup\": \"Slovenia\", \"marker\": {\"color\": \"#FF97FF\", \"symbol\": \"circle\"}, \"mode\": \"markers\", \"name\": \"Slovenia\", \"scene\": \"scene\", \"showlegend\": true, \"type\": \"scatter3d\", \"x\": [6.0], \"y\": [54034.3585442622], \"z\": [76.4]}, {\"hovertemplate\": \"Country=Spain<br>FDI USA (million)=%{x}<br>GDP (million)=%{y}<br>Doing Business=%{z}<extra></extra>\", \"legendgroup\": \"Spain\", \"marker\": {\"color\": \"#FECB52\", \"symbol\": \"circle\"}, \"mode\": \"markers\", \"name\": \"Spain\", \"scene\": \"scene\", \"showlegend\": true, \"type\": \"scatter3d\", \"x\": [83379.0], \"y\": [1419735.2450046998], \"z\": [77.6]}, {\"hovertemplate\": \"Country=Sweden<br>FDI USA (million)=%{x}<br>GDP (million)=%{y}<br>Doing Business=%{z}<extra></extra>\", \"legendgroup\": \"Sweden\", \"marker\": {\"color\": \"#636efa\", \"symbol\": \"circle\"}, \"mode\": \"markers\", \"name\": \"Sweden\", \"scene\": \"scene\", \"showlegend\": true, \"type\": \"scatter3d\", \"x\": [49546.0], \"y\": [555455.371487089], \"z\": [82.2]}, {\"hovertemplate\": \"Country=Switzerland<br>FDI USA (million)=%{x}<br>GDP (million)=%{y}<br>Doing Business=%{z}<extra></extra>\", \"legendgroup\": \"Switzerland\", \"marker\": {\"color\": \"#EF553B\", \"symbol\": \"circle\"}, \"mode\": \"markers\", \"name\": \"Switzerland\", \"scene\": \"scene\", \"showlegend\": true, \"type\": \"scatter3d\", \"x\": [295783.0], \"y\": [705140.6200466999], \"z\": [76.6]}, {\"hovertemplate\": \"Country=Tajikistan<br>FDI USA (million)=%{x}<br>GDP (million)=%{y}<br>Doing Business=%{z}<extra></extra>\", \"legendgroup\": \"Tajikistan\", \"marker\": {\"color\": \"#00cc96\", \"symbol\": \"circle\"}, \"mode\": \"markers\", \"name\": \"Tajikistan\", \"scene\": \"scene\", \"showlegend\": true, \"type\": \"scatter3d\", \"x\": [0.0], \"y\": [7522.947810123259], \"z\": [54.3]}, {\"hovertemplate\": \"Country=Turkey<br>FDI USA (million)=%{x}<br>GDP (million)=%{y}<br>Doing Business=%{z}<extra></extra>\", \"legendgroup\": \"Turkey\", \"marker\": {\"color\": \"#ab63fa\", \"symbol\": \"circle\"}, \"mode\": \"markers\", \"name\": \"Turkey\", \"scene\": \"scene\", \"showlegend\": true, \"type\": \"scatter3d\", \"x\": [2175.0], \"y\": [771350.3313727111], \"z\": [70.9]}, {\"hovertemplate\": \"Country=Turkmenistan<br>FDI USA (million)=%{x}<br>GDP (million)=%{y}<br>Doing Business=%{z}<extra></extra>\", \"legendgroup\": \"Turkmenistan\", \"marker\": {\"color\": \"#FFA15A\", \"symbol\": \"circle\"}, \"mode\": \"markers\", \"name\": \"Turkmenistan\", \"scene\": \"scene\", \"showlegend\": true, \"type\": \"scatter3d\", \"x\": [0.0], \"y\": [40761.1428571429], \"z\": [null]}, {\"hovertemplate\": \"Country=Ukraine<br>FDI USA (million)=%{x}<br>GDP (million)=%{y}<br>Doing Business=%{z}<extra></extra>\", \"legendgroup\": \"Ukraine\", \"marker\": {\"color\": \"#19d3f3\", \"symbol\": \"circle\"}, \"mode\": \"markers\", \"name\": \"Ukraine\", \"scene\": \"scene\", \"showlegend\": true, \"type\": \"scatter3d\", \"x\": [-3.0], \"y\": [130901.85842172], \"z\": [68.1]}, {\"hovertemplate\": \"Country=United Kingdom<br>FDI USA (million)=%{x}<br>GDP (million)=%{y}<br>Doing Business=%{z}<extra></extra>\", \"legendgroup\": \"United Kingdom\", \"marker\": {\"color\": \"#FF6692\", \"symbol\": \"circle\"}, \"mode\": \"markers\", \"name\": \"United Kingdom\", \"scene\": \"scene\", \"showlegend\": true, \"type\": \"scatter3d\", \"x\": [496622.0], \"y\": [2860667.72755197], \"z\": [83.2]}, {\"hovertemplate\": \"Country=Uzbekistan<br>FDI USA (million)=%{x}<br>GDP (million)=%{y}<br>Doing Business=%{z}<extra></extra>\", \"legendgroup\": \"Uzbekistan\", \"marker\": {\"color\": \"#B6E880\", \"symbol\": \"circle\"}, \"mode\": \"markers\", \"name\": \"Uzbekistan\", \"scene\": \"scene\", \"showlegend\": true, \"type\": \"scatter3d\", \"x\": [0.0], \"y\": [50392.6077582324], \"z\": [66.6]}, {\"hovertemplate\": \"Country=Vatican City<br>FDI USA (million)=%{x}<br>GDP (million)=%{y}<br>Doing Business=%{z}<extra></extra>\", \"legendgroup\": \"Vatican City\", \"marker\": {\"color\": \"#FF97FF\", \"symbol\": \"circle\"}, \"mode\": \"markers\", \"name\": \"Vatican City\", \"scene\": \"scene\", \"showlegend\": true, \"type\": \"scatter3d\", \"x\": [0.0], \"y\": [null], \"z\": [null]}],                        {\"legend\": {\"title\": {\"text\": \"Country\"}, \"tracegroupgap\": 0}, \"scene\": {\"domain\": {\"x\": [0.0, 1.0], \"y\": [0.0, 1.0]}, \"xaxis\": {\"title\": {\"text\": \"FDI USA (million)\"}}, \"yaxis\": {\"title\": {\"text\": \"GDP (million)\"}}, \"zaxis\": {\"title\": {\"text\": \"Doing Business\"}}}, \"template\": {\"data\": {\"bar\": [{\"error_x\": {\"color\": \"#2a3f5f\"}, \"error_y\": {\"color\": \"#2a3f5f\"}, \"marker\": {\"line\": {\"color\": \"#E5ECF6\", \"width\": 0.5}}, \"type\": \"bar\"}], \"barpolar\": [{\"marker\": {\"line\": {\"color\": \"#E5ECF6\", \"width\": 0.5}}, \"type\": \"barpolar\"}], \"carpet\": [{\"aaxis\": {\"endlinecolor\": \"#2a3f5f\", \"gridcolor\": \"white\", \"linecolor\": \"white\", \"minorgridcolor\": \"white\", \"startlinecolor\": \"#2a3f5f\"}, \"baxis\": {\"endlinecolor\": \"#2a3f5f\", \"gridcolor\": \"white\", \"linecolor\": \"white\", \"minorgridcolor\": \"white\", \"startlinecolor\": \"#2a3f5f\"}, \"type\": \"carpet\"}], \"choropleth\": [{\"colorbar\": {\"outlinewidth\": 0, \"ticks\": \"\"}, \"type\": \"choropleth\"}], \"contour\": [{\"colorbar\": {\"outlinewidth\": 0, \"ticks\": \"\"}, \"colorscale\": [[0.0, \"#0d0887\"], [0.1111111111111111, \"#46039f\"], [0.2222222222222222, \"#7201a8\"], [0.3333333333333333, \"#9c179e\"], [0.4444444444444444, \"#bd3786\"], [0.5555555555555556, \"#d8576b\"], [0.6666666666666666, \"#ed7953\"], [0.7777777777777778, \"#fb9f3a\"], [0.8888888888888888, \"#fdca26\"], [1.0, \"#f0f921\"]], \"type\": \"contour\"}], \"contourcarpet\": [{\"colorbar\": {\"outlinewidth\": 0, \"ticks\": \"\"}, \"type\": \"contourcarpet\"}], \"heatmap\": [{\"colorbar\": {\"outlinewidth\": 0, \"ticks\": \"\"}, \"colorscale\": [[0.0, \"#0d0887\"], [0.1111111111111111, \"#46039f\"], [0.2222222222222222, \"#7201a8\"], [0.3333333333333333, \"#9c179e\"], [0.4444444444444444, \"#bd3786\"], [0.5555555555555556, \"#d8576b\"], [0.6666666666666666, \"#ed7953\"], [0.7777777777777778, \"#fb9f3a\"], [0.8888888888888888, \"#fdca26\"], [1.0, \"#f0f921\"]], \"type\": \"heatmap\"}], \"heatmapgl\": [{\"colorbar\": {\"outlinewidth\": 0, \"ticks\": \"\"}, \"colorscale\": [[0.0, \"#0d0887\"], [0.1111111111111111, \"#46039f\"], [0.2222222222222222, \"#7201a8\"], [0.3333333333333333, \"#9c179e\"], [0.4444444444444444, \"#bd3786\"], [0.5555555555555556, \"#d8576b\"], [0.6666666666666666, \"#ed7953\"], [0.7777777777777778, \"#fb9f3a\"], [0.8888888888888888, \"#fdca26\"], [1.0, \"#f0f921\"]], \"type\": \"heatmapgl\"}], \"histogram\": [{\"marker\": {\"colorbar\": {\"outlinewidth\": 0, \"ticks\": \"\"}}, \"type\": \"histogram\"}], \"histogram2d\": [{\"colorbar\": {\"outlinewidth\": 0, \"ticks\": \"\"}, \"colorscale\": [[0.0, \"#0d0887\"], [0.1111111111111111, \"#46039f\"], [0.2222222222222222, \"#7201a8\"], [0.3333333333333333, \"#9c179e\"], [0.4444444444444444, \"#bd3786\"], [0.5555555555555556, \"#d8576b\"], [0.6666666666666666, \"#ed7953\"], [0.7777777777777778, \"#fb9f3a\"], [0.8888888888888888, \"#fdca26\"], [1.0, \"#f0f921\"]], \"type\": \"histogram2d\"}], \"histogram2dcontour\": [{\"colorbar\": {\"outlinewidth\": 0, \"ticks\": \"\"}, \"colorscale\": [[0.0, \"#0d0887\"], [0.1111111111111111, \"#46039f\"], [0.2222222222222222, \"#7201a8\"], [0.3333333333333333, \"#9c179e\"], [0.4444444444444444, \"#bd3786\"], [0.5555555555555556, \"#d8576b\"], [0.6666666666666666, \"#ed7953\"], [0.7777777777777778, \"#fb9f3a\"], [0.8888888888888888, \"#fdca26\"], [1.0, \"#f0f921\"]], \"type\": \"histogram2dcontour\"}], \"mesh3d\": [{\"colorbar\": {\"outlinewidth\": 0, \"ticks\": \"\"}, \"type\": \"mesh3d\"}], \"parcoords\": [{\"line\": {\"colorbar\": {\"outlinewidth\": 0, \"ticks\": \"\"}}, \"type\": \"parcoords\"}], \"pie\": [{\"automargin\": true, \"type\": \"pie\"}], \"scatter\": [{\"marker\": {\"colorbar\": {\"outlinewidth\": 0, \"ticks\": \"\"}}, \"type\": \"scatter\"}], \"scatter3d\": [{\"line\": {\"colorbar\": {\"outlinewidth\": 0, \"ticks\": \"\"}}, \"marker\": {\"colorbar\": {\"outlinewidth\": 0, \"ticks\": \"\"}}, \"type\": \"scatter3d\"}], \"scattercarpet\": [{\"marker\": {\"colorbar\": {\"outlinewidth\": 0, \"ticks\": \"\"}}, \"type\": \"scattercarpet\"}], \"scattergeo\": [{\"marker\": {\"colorbar\": {\"outlinewidth\": 0, \"ticks\": \"\"}}, \"type\": \"scattergeo\"}], \"scattergl\": [{\"marker\": {\"colorbar\": {\"outlinewidth\": 0, \"ticks\": \"\"}}, \"type\": \"scattergl\"}], \"scattermapbox\": [{\"marker\": {\"colorbar\": {\"outlinewidth\": 0, \"ticks\": \"\"}}, \"type\": \"scattermapbox\"}], \"scatterpolar\": [{\"marker\": {\"colorbar\": {\"outlinewidth\": 0, \"ticks\": \"\"}}, \"type\": \"scatterpolar\"}], \"scatterpolargl\": [{\"marker\": {\"colorbar\": {\"outlinewidth\": 0, \"ticks\": \"\"}}, \"type\": \"scatterpolargl\"}], \"scatterternary\": [{\"marker\": {\"colorbar\": {\"outlinewidth\": 0, \"ticks\": \"\"}}, \"type\": \"scatterternary\"}], \"surface\": [{\"colorbar\": {\"outlinewidth\": 0, \"ticks\": \"\"}, \"colorscale\": [[0.0, \"#0d0887\"], [0.1111111111111111, \"#46039f\"], [0.2222222222222222, \"#7201a8\"], [0.3333333333333333, \"#9c179e\"], [0.4444444444444444, \"#bd3786\"], [0.5555555555555556, \"#d8576b\"], [0.6666666666666666, \"#ed7953\"], [0.7777777777777778, \"#fb9f3a\"], [0.8888888888888888, \"#fdca26\"], [1.0, \"#f0f921\"]], \"type\": \"surface\"}], \"table\": [{\"cells\": {\"fill\": {\"color\": \"#EBF0F8\"}, \"line\": {\"color\": \"white\"}}, \"header\": {\"fill\": {\"color\": \"#C8D4E3\"}, \"line\": {\"color\": \"white\"}}, \"type\": \"table\"}]}, \"layout\": {\"annotationdefaults\": {\"arrowcolor\": \"#2a3f5f\", \"arrowhead\": 0, \"arrowwidth\": 1}, \"coloraxis\": {\"colorbar\": {\"outlinewidth\": 0, \"ticks\": \"\"}}, \"colorscale\": {\"diverging\": [[0, \"#8e0152\"], [0.1, \"#c51b7d\"], [0.2, \"#de77ae\"], [0.3, \"#f1b6da\"], [0.4, \"#fde0ef\"], [0.5, \"#f7f7f7\"], [0.6, \"#e6f5d0\"], [0.7, \"#b8e186\"], [0.8, \"#7fbc41\"], [0.9, \"#4d9221\"], [1, \"#276419\"]], \"sequential\": [[0.0, \"#0d0887\"], [0.1111111111111111, \"#46039f\"], [0.2222222222222222, \"#7201a8\"], [0.3333333333333333, \"#9c179e\"], [0.4444444444444444, \"#bd3786\"], [0.5555555555555556, \"#d8576b\"], [0.6666666666666666, \"#ed7953\"], [0.7777777777777778, \"#fb9f3a\"], [0.8888888888888888, \"#fdca26\"], [1.0, \"#f0f921\"]], \"sequentialminus\": [[0.0, \"#0d0887\"], [0.1111111111111111, \"#46039f\"], [0.2222222222222222, \"#7201a8\"], [0.3333333333333333, \"#9c179e\"], [0.4444444444444444, \"#bd3786\"], [0.5555555555555556, \"#d8576b\"], [0.6666666666666666, \"#ed7953\"], [0.7777777777777778, \"#fb9f3a\"], [0.8888888888888888, \"#fdca26\"], [1.0, \"#f0f921\"]]}, \"colorway\": [\"#636efa\", \"#EF553B\", \"#00cc96\", \"#ab63fa\", \"#FFA15A\", \"#19d3f3\", \"#FF6692\", \"#B6E880\", \"#FF97FF\", \"#FECB52\"], \"font\": {\"color\": \"#2a3f5f\"}, \"geo\": {\"bgcolor\": \"white\", \"lakecolor\": \"white\", \"landcolor\": \"#E5ECF6\", \"showlakes\": true, \"showland\": true, \"subunitcolor\": \"white\"}, \"hoverlabel\": {\"align\": \"left\"}, \"hovermode\": \"closest\", \"mapbox\": {\"style\": \"light\"}, \"paper_bgcolor\": \"white\", \"plot_bgcolor\": \"#E5ECF6\", \"polar\": {\"angularaxis\": {\"gridcolor\": \"white\", \"linecolor\": \"white\", \"ticks\": \"\"}, \"bgcolor\": \"#E5ECF6\", \"radialaxis\": {\"gridcolor\": \"white\", \"linecolor\": \"white\", \"ticks\": \"\"}}, \"scene\": {\"xaxis\": {\"backgroundcolor\": \"#E5ECF6\", \"gridcolor\": \"white\", \"gridwidth\": 2, \"linecolor\": \"white\", \"showbackground\": true, \"ticks\": \"\", \"zerolinecolor\": \"white\"}, \"yaxis\": {\"backgroundcolor\": \"#E5ECF6\", \"gridcolor\": \"white\", \"gridwidth\": 2, \"linecolor\": \"white\", \"showbackground\": true, \"ticks\": \"\", \"zerolinecolor\": \"white\"}, \"zaxis\": {\"backgroundcolor\": \"#E5ECF6\", \"gridcolor\": \"white\", \"gridwidth\": 2, \"linecolor\": \"white\", \"showbackground\": true, \"ticks\": \"\", \"zerolinecolor\": \"white\"}}, \"shapedefaults\": {\"line\": {\"color\": \"#2a3f5f\"}}, \"ternary\": {\"aaxis\": {\"gridcolor\": \"white\", \"linecolor\": \"white\", \"ticks\": \"\"}, \"baxis\": {\"gridcolor\": \"white\", \"linecolor\": \"white\", \"ticks\": \"\"}, \"bgcolor\": \"#E5ECF6\", \"caxis\": {\"gridcolor\": \"white\", \"linecolor\": \"white\", \"ticks\": \"\"}}, \"title\": {\"x\": 0.05}, \"xaxis\": {\"automargin\": true, \"gridcolor\": \"white\", \"linecolor\": \"white\", \"ticks\": \"\", \"title\": {\"standoff\": 15}, \"zerolinecolor\": \"white\", \"zerolinewidth\": 2}, \"yaxis\": {\"automargin\": true, \"gridcolor\": \"white\", \"linecolor\": \"white\", \"ticks\": \"\", \"title\": {\"standoff\": 15}, \"zerolinecolor\": \"white\", \"zerolinewidth\": 2}}}, \"title\": {\"text\": \"2018 FDI/GDP/Doing Business - European Countries\"}},                        {\"responsive\": true}                    ).then(function(){\n",
       "                            \n",
       "var gd = document.getElementById('6391016d-cdc1-4e5f-82e6-87a595bb6752');\n",
       "var x = new MutationObserver(function (mutations, observer) {{\n",
       "        var display = window.getComputedStyle(gd).display;\n",
       "        if (!display || display === 'none') {{\n",
       "            console.log([gd, 'removed!']);\n",
       "            Plotly.purge(gd);\n",
       "            observer.disconnect();\n",
       "        }}\n",
       "}});\n",
       "\n",
       "// Listen for the removal of the full notebook cells\n",
       "var notebookContainer = gd.closest('#notebook-container');\n",
       "if (notebookContainer) {{\n",
       "    x.observe(notebookContainer, {childList: true});\n",
       "}}\n",
       "\n",
       "// Listen for the clearing of the current output cell\n",
       "var outputEl = gd.closest('.output');\n",
       "if (outputEl) {{\n",
       "    x.observe(outputEl, {childList: true});\n",
       "}}\n",
       "\n",
       "                        })                };                });            </script>        </div>"
      ]
     },
     "metadata": {},
     "output_type": "display_data"
    }
   ],
   "source": [
    "px.scatter_3d(\n",
    "    europe_format_name,\n",
    "    x=\"FDI USA (million)\",\n",
    "    y=\"GDP (million)\",\n",
    "    z=\"Doing Business\",\n",
    "    title=\"2018 FDI/GDP/Doing Business - European Countries\",\n",
    "    color=\"Country\",\n",
    ")"
   ]
  },
  {
   "cell_type": "code",
   "execution_count": null,
   "metadata": {},
   "outputs": [],
   "source": []
  }
 ],
 "metadata": {
  "environment": {
   "name": "common-cpu.m54",
   "type": "gcloud",
   "uri": "gcr.io/deeplearning-platform-release/base-cpu:m54"
  },
  "kernelspec": {
   "display_name": "Python 3",
   "language": "python",
   "name": "python3"
  },
  "language_info": {
   "codemirror_mode": {
    "name": "ipython",
    "version": 3
   },
   "file_extension": ".py",
   "mimetype": "text/x-python",
   "name": "python",
   "nbconvert_exporter": "python",
   "pygments_lexer": "ipython3",
   "version": "3.7.8"
  }
 },
 "nbformat": 4,
 "nbformat_minor": 4
}
