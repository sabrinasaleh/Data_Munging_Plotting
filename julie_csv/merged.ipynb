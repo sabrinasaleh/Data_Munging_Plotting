{
 "cells": [
  {
   "cell_type": "code",
   "execution_count": 17,
   "metadata": {},
   "outputs": [],
   "source": [
    "%reload_ext lab_black\n",
    "import os\n",
    "import csv\n",
    "import pandas as pd\n",
    "import plotly.express as px\n",
    "\n",
    "# Study data files\n",
    "path_busn_2018 = \"DoingBusiness_2018.csv\"\n",
    "path_busn_2019 = \"DoingBusiness_2019.csv\"\n",
    "path_GDP = \"Country_GDP_WB_.csv\"\n",
    "\n",
    "# Read the mouse data and the study results\n",
    "doing_busn_2018 = pd.read_csv(path_busn_2018)\n",
    "doing_busn_2019 = pd.read_csv(path_busn_2019)\n",
    "country_GDP = pd.read_csv(path_GDP)"
   ]
  },
  {
   "cell_type": "code",
   "execution_count": 18,
   "metadata": {},
   "outputs": [],
   "source": [
    "# Combine the data into a single dataset\n",
    "df = pd.merge(\n",
    "    doing_busn_2018,\n",
    "    doing_busn_2019,\n",
    "    on=\"Economy\",\n",
    "    suffixes=(\"_2018\", \"_2019\"),\n",
    "    how=\"outer\",\n",
    ")"
   ]
  },
  {
   "cell_type": "code",
   "execution_count": 19,
   "metadata": {},
   "outputs": [],
   "source": [
    "ease_df = (\n",
    "    df[\"Ease of doing business score (DB17-20 methodology)_2018\"]\n",
    "    .to_frame()\n",
    "    .rename(\n",
    "        columns={\n",
    "            \"Ease of doing business score (DB17-20 methodology)_2018\": \"Ease of doing business score_2018\"\n",
    "        }\n",
    "    )\n",
    ")"
   ]
  },
  {
   "cell_type": "code",
   "execution_count": 20,
   "metadata": {},
   "outputs": [],
   "source": [
    "ease_df[\"Ease of doing business score_2019\"] = df[\n",
    "    \"Ease of doing business score (DB17-20 methodology)_2019\"\n",
    "]"
   ]
  },
  {
   "cell_type": "code",
   "execution_count": 21,
   "metadata": {},
   "outputs": [],
   "source": [
    "ease_df[\"Country\"] = df[\"Economy\"]"
   ]
  },
  {
   "cell_type": "code",
   "execution_count": null,
   "metadata": {},
   "outputs": [],
   "source": []
  },
  {
   "cell_type": "code",
   "execution_count": 22,
   "metadata": {},
   "outputs": [],
   "source": [
    "ease_busn_df = ease_df.set_index(\"Country\").dropna()"
   ]
  },
  {
   "cell_type": "code",
   "execution_count": 23,
   "metadata": {},
   "outputs": [
    {
     "data": {
      "text/html": [
       "<div>\n",
       "<style scoped>\n",
       "    .dataframe tbody tr th:only-of-type {\n",
       "        vertical-align: middle;\n",
       "    }\n",
       "\n",
       "    .dataframe tbody tr th {\n",
       "        vertical-align: top;\n",
       "    }\n",
       "\n",
       "    .dataframe thead th {\n",
       "        text-align: right;\n",
       "    }\n",
       "</style>\n",
       "<table border=\"1\" class=\"dataframe\">\n",
       "  <thead>\n",
       "    <tr style=\"text-align: right;\">\n",
       "      <th></th>\n",
       "      <th>Country Name</th>\n",
       "      <th>2018</th>\n",
       "      <th>2019</th>\n",
       "    </tr>\n",
       "  </thead>\n",
       "  <tbody>\n",
       "    <tr>\n",
       "      <th>1</th>\n",
       "      <td>Afghanistan</td>\n",
       "      <td>1.948438e+10</td>\n",
       "      <td>1.910135e+10</td>\n",
       "    </tr>\n",
       "    <tr>\n",
       "      <th>2</th>\n",
       "      <td>Angola</td>\n",
       "      <td>1.010000e+11</td>\n",
       "      <td>9.463542e+10</td>\n",
       "    </tr>\n",
       "    <tr>\n",
       "      <th>3</th>\n",
       "      <td>Albania</td>\n",
       "      <td>1.514702e+10</td>\n",
       "      <td>1.527808e+10</td>\n",
       "    </tr>\n",
       "    <tr>\n",
       "      <th>4</th>\n",
       "      <td>Andorra</td>\n",
       "      <td>3.218316e+09</td>\n",
       "      <td>3.154058e+09</td>\n",
       "    </tr>\n",
       "    <tr>\n",
       "      <th>5</th>\n",
       "      <td>Arab World</td>\n",
       "      <td>2.770000e+12</td>\n",
       "      <td>2.820000e+12</td>\n",
       "    </tr>\n",
       "    <tr>\n",
       "      <th>...</th>\n",
       "      <td>...</td>\n",
       "      <td>...</td>\n",
       "      <td>...</td>\n",
       "    </tr>\n",
       "    <tr>\n",
       "      <th>258</th>\n",
       "      <td>Samoa</td>\n",
       "      <td>8.204918e+08</td>\n",
       "      <td>8.506550e+08</td>\n",
       "    </tr>\n",
       "    <tr>\n",
       "      <th>259</th>\n",
       "      <td>Kosovo</td>\n",
       "      <td>7.942962e+09</td>\n",
       "      <td>7.926108e+09</td>\n",
       "    </tr>\n",
       "    <tr>\n",
       "      <th>261</th>\n",
       "      <td>South Africa</td>\n",
       "      <td>3.680000e+11</td>\n",
       "      <td>3.510000e+11</td>\n",
       "    </tr>\n",
       "    <tr>\n",
       "      <th>262</th>\n",
       "      <td>Zambia</td>\n",
       "      <td>2.700524e+10</td>\n",
       "      <td>2.306472e+10</td>\n",
       "    </tr>\n",
       "    <tr>\n",
       "      <th>263</th>\n",
       "      <td>Zimbabwe</td>\n",
       "      <td>2.431156e+10</td>\n",
       "      <td>2.144076e+10</td>\n",
       "    </tr>\n",
       "  </tbody>\n",
       "</table>\n",
       "<p>223 rows × 3 columns</p>\n",
       "</div>"
      ],
      "text/plain": [
       "     Country Name          2018          2019\n",
       "1     Afghanistan  1.948438e+10  1.910135e+10\n",
       "2          Angola  1.010000e+11  9.463542e+10\n",
       "3         Albania  1.514702e+10  1.527808e+10\n",
       "4         Andorra  3.218316e+09  3.154058e+09\n",
       "5      Arab World  2.770000e+12  2.820000e+12\n",
       "..            ...           ...           ...\n",
       "258         Samoa  8.204918e+08  8.506550e+08\n",
       "259        Kosovo  7.942962e+09  7.926108e+09\n",
       "261  South Africa  3.680000e+11  3.510000e+11\n",
       "262        Zambia  2.700524e+10  2.306472e+10\n",
       "263      Zimbabwe  2.431156e+10  2.144076e+10\n",
       "\n",
       "[223 rows x 3 columns]"
      ]
     },
     "execution_count": 23,
     "metadata": {},
     "output_type": "execute_result"
    }
   ],
   "source": [
    "gdp_df = country_GDP.drop(\n",
    "    columns=[\n",
    "        \"Country Code\",\n",
    "        \"Indicator Name\",\n",
    "        \"Indicator Code\",\n",
    "        \"1960\",\n",
    "        \"1961\",\n",
    "        \"1962\",\n",
    "        \"1963\",\n",
    "        \"1964\",\n",
    "        \"1965\",\n",
    "        \"1966\",\n",
    "        \"1967\",\n",
    "        \"1968\",\n",
    "        \"1969\",\n",
    "        \"1970\",\n",
    "        \"1971\",\n",
    "        \"1972\",\n",
    "        \"1973\",\n",
    "        \"1974\",\n",
    "        \"1975\",\n",
    "        \"1976\",\n",
    "        \"1977\",\n",
    "        \"1978\",\n",
    "        \"1979\",\n",
    "        \"1980\",\n",
    "        \"1981\",\n",
    "        \"1982\",\n",
    "        \"1983\",\n",
    "        \"1984\",\n",
    "        \"1985\",\n",
    "        \"1986\",\n",
    "        \"1987\",\n",
    "        \"1988\",\n",
    "        \"1989\",\n",
    "        \"1990\",\n",
    "        \"1991\",\n",
    "        \"1992\",\n",
    "        \"1993\",\n",
    "        \"1994\",\n",
    "        \"1995\",\n",
    "        \"1996\",\n",
    "        \"1997\",\n",
    "        \"1998\",\n",
    "        \"1999\",\n",
    "        \"2000\",\n",
    "        \"2001\",\n",
    "        \"2002\",\n",
    "        \"2003\",\n",
    "        \"2004\",\n",
    "        \"2005\",\n",
    "        \"2006\",\n",
    "        \"2007\",\n",
    "        \"2008\",\n",
    "        \"2009\",\n",
    "        \"2010\",\n",
    "        \"2011\",\n",
    "        \"2012\",\n",
    "        \"2013\",\n",
    "        \"2014\",\n",
    "        \"2015\",\n",
    "        \"2016\",\n",
    "        \"2017\",\n",
    "    ]\n",
    ").dropna()\n",
    "gdp_df"
   ]
  },
  {
   "cell_type": "code",
   "execution_count": 24,
   "metadata": {},
   "outputs": [
    {
     "data": {
      "text/html": [
       "<div>\n",
       "<style scoped>\n",
       "    .dataframe tbody tr th:only-of-type {\n",
       "        vertical-align: middle;\n",
       "    }\n",
       "\n",
       "    .dataframe tbody tr th {\n",
       "        vertical-align: top;\n",
       "    }\n",
       "\n",
       "    .dataframe thead th {\n",
       "        text-align: right;\n",
       "    }\n",
       "</style>\n",
       "<table border=\"1\" class=\"dataframe\">\n",
       "  <thead>\n",
       "    <tr style=\"text-align: right;\">\n",
       "      <th></th>\n",
       "      <th>Country Name</th>\n",
       "      <th>2018</th>\n",
       "      <th>2019</th>\n",
       "      <th>Ease of doing business score_2018</th>\n",
       "      <th>Ease of doing business score_2019</th>\n",
       "    </tr>\n",
       "  </thead>\n",
       "  <tbody>\n",
       "    <tr>\n",
       "      <th>0</th>\n",
       "      <td>Afghanistan</td>\n",
       "      <td>1.948438e+10</td>\n",
       "      <td>1.910135e+10</td>\n",
       "      <td>37.1</td>\n",
       "      <td>44.2</td>\n",
       "    </tr>\n",
       "    <tr>\n",
       "      <th>1</th>\n",
       "      <td>Angola</td>\n",
       "      <td>1.010000e+11</td>\n",
       "      <td>9.463542e+10</td>\n",
       "      <td>39.0</td>\n",
       "      <td>41.2</td>\n",
       "    </tr>\n",
       "    <tr>\n",
       "      <th>2</th>\n",
       "      <td>Albania</td>\n",
       "      <td>1.514702e+10</td>\n",
       "      <td>1.527808e+10</td>\n",
       "      <td>66.8</td>\n",
       "      <td>67.0</td>\n",
       "    </tr>\n",
       "    <tr>\n",
       "      <th>3</th>\n",
       "      <td>Andorra</td>\n",
       "      <td>3.218316e+09</td>\n",
       "      <td>3.154058e+09</td>\n",
       "      <td>NaN</td>\n",
       "      <td>NaN</td>\n",
       "    </tr>\n",
       "    <tr>\n",
       "      <th>4</th>\n",
       "      <td>Arab World</td>\n",
       "      <td>2.770000e+12</td>\n",
       "      <td>2.820000e+12</td>\n",
       "      <td>NaN</td>\n",
       "      <td>NaN</td>\n",
       "    </tr>\n",
       "    <tr>\n",
       "      <th>...</th>\n",
       "      <td>...</td>\n",
       "      <td>...</td>\n",
       "      <td>...</td>\n",
       "      <td>...</td>\n",
       "      <td>...</td>\n",
       "    </tr>\n",
       "    <tr>\n",
       "      <th>257</th>\n",
       "      <td>NaN</td>\n",
       "      <td>NaN</td>\n",
       "      <td>NaN</td>\n",
       "      <td>81.5</td>\n",
       "      <td>81.4</td>\n",
       "    </tr>\n",
       "    <tr>\n",
       "      <th>258</th>\n",
       "      <td>NaN</td>\n",
       "      <td>NaN</td>\n",
       "      <td>NaN</td>\n",
       "      <td>85.0</td>\n",
       "      <td>85.0</td>\n",
       "    </tr>\n",
       "    <tr>\n",
       "      <th>259</th>\n",
       "      <td>NaN</td>\n",
       "      <td>NaN</td>\n",
       "      <td>NaN</td>\n",
       "      <td>30.0</td>\n",
       "      <td>32.1</td>\n",
       "    </tr>\n",
       "    <tr>\n",
       "      <th>260</th>\n",
       "      <td>NaN</td>\n",
       "      <td>NaN</td>\n",
       "      <td>NaN</td>\n",
       "      <td>59.3</td>\n",
       "      <td>59.7</td>\n",
       "    </tr>\n",
       "    <tr>\n",
       "      <th>261</th>\n",
       "      <td>NaN</td>\n",
       "      <td>NaN</td>\n",
       "      <td>NaN</td>\n",
       "      <td>31.3</td>\n",
       "      <td>30.7</td>\n",
       "    </tr>\n",
       "  </tbody>\n",
       "</table>\n",
       "<p>262 rows × 5 columns</p>\n",
       "</div>"
      ],
      "text/plain": [
       "    Country Name          2018          2019  \\\n",
       "0    Afghanistan  1.948438e+10  1.910135e+10   \n",
       "1         Angola  1.010000e+11  9.463542e+10   \n",
       "2        Albania  1.514702e+10  1.527808e+10   \n",
       "3        Andorra  3.218316e+09  3.154058e+09   \n",
       "4     Arab World  2.770000e+12  2.820000e+12   \n",
       "..           ...           ...           ...   \n",
       "257          NaN           NaN           NaN   \n",
       "258          NaN           NaN           NaN   \n",
       "259          NaN           NaN           NaN   \n",
       "260          NaN           NaN           NaN   \n",
       "261          NaN           NaN           NaN   \n",
       "\n",
       "     Ease of doing business score_2018  Ease of doing business score_2019  \n",
       "0                                 37.1                               44.2  \n",
       "1                                 39.0                               41.2  \n",
       "2                                 66.8                               67.0  \n",
       "3                                  NaN                                NaN  \n",
       "4                                  NaN                                NaN  \n",
       "..                                 ...                                ...  \n",
       "257                               81.5                               81.4  \n",
       "258                               85.0                               85.0  \n",
       "259                               30.0                               32.1  \n",
       "260                               59.3                               59.7  \n",
       "261                               31.3                               30.7  \n",
       "\n",
       "[262 rows x 5 columns]"
      ]
     },
     "execution_count": 24,
     "metadata": {},
     "output_type": "execute_result"
    }
   ],
   "source": [
    "new_df = pd.merge(\n",
    "    gdp_df, ease_busn_df, left_on=\"Country Name\", right_on=\"Country\", how=\"outer\",\n",
    ")\n",
    "\n",
    "new_df"
   ]
  },
  {
   "cell_type": "code",
   "execution_count": 25,
   "metadata": {},
   "outputs": [],
   "source": [
    "# saving the DataFrame as a CSV file\n",
    "# doing_busn_data = ease_df.to_csv(\"doing_business.csv\", index=True)"
   ]
  },
  {
   "cell_type": "code",
   "execution_count": 26,
   "metadata": {},
   "outputs": [
    {
     "data": {
      "text/html": [
       "<div>\n",
       "<style scoped>\n",
       "    .dataframe tbody tr th:only-of-type {\n",
       "        vertical-align: middle;\n",
       "    }\n",
       "\n",
       "    .dataframe tbody tr th {\n",
       "        vertical-align: top;\n",
       "    }\n",
       "\n",
       "    .dataframe thead th {\n",
       "        text-align: right;\n",
       "    }\n",
       "</style>\n",
       "<table border=\"1\" class=\"dataframe\">\n",
       "  <thead>\n",
       "    <tr style=\"text-align: right;\">\n",
       "      <th></th>\n",
       "      <th>Country Name</th>\n",
       "      <th>GDP_2018</th>\n",
       "      <th>GDP_2019</th>\n",
       "      <th>Ease of doing business score_2018</th>\n",
       "      <th>Ease of doing business score_2019</th>\n",
       "    </tr>\n",
       "  </thead>\n",
       "  <tbody>\n",
       "    <tr>\n",
       "      <th>0</th>\n",
       "      <td>Afghanistan</td>\n",
       "      <td>1.948438e+10</td>\n",
       "      <td>1.910135e+10</td>\n",
       "      <td>37.1</td>\n",
       "      <td>44.2</td>\n",
       "    </tr>\n",
       "    <tr>\n",
       "      <th>1</th>\n",
       "      <td>Angola</td>\n",
       "      <td>1.010000e+11</td>\n",
       "      <td>9.463542e+10</td>\n",
       "      <td>39.0</td>\n",
       "      <td>41.2</td>\n",
       "    </tr>\n",
       "    <tr>\n",
       "      <th>2</th>\n",
       "      <td>Albania</td>\n",
       "      <td>1.514702e+10</td>\n",
       "      <td>1.527808e+10</td>\n",
       "      <td>66.8</td>\n",
       "      <td>67.0</td>\n",
       "    </tr>\n",
       "    <tr>\n",
       "      <th>5</th>\n",
       "      <td>United Arab Emirates</td>\n",
       "      <td>4.220000e+11</td>\n",
       "      <td>4.210000e+11</td>\n",
       "      <td>79.3</td>\n",
       "      <td>81.6</td>\n",
       "    </tr>\n",
       "    <tr>\n",
       "      <th>6</th>\n",
       "      <td>Argentina</td>\n",
       "      <td>5.200000e+11</td>\n",
       "      <td>4.500000e+11</td>\n",
       "      <td>57.3</td>\n",
       "      <td>58.2</td>\n",
       "    </tr>\n",
       "    <tr>\n",
       "      <th>...</th>\n",
       "      <td>...</td>\n",
       "      <td>...</td>\n",
       "      <td>...</td>\n",
       "      <td>...</td>\n",
       "      <td>...</td>\n",
       "    </tr>\n",
       "    <tr>\n",
       "      <th>218</th>\n",
       "      <td>Samoa</td>\n",
       "      <td>8.204918e+08</td>\n",
       "      <td>8.506550e+08</td>\n",
       "      <td>62.1</td>\n",
       "      <td>62.1</td>\n",
       "    </tr>\n",
       "    <tr>\n",
       "      <th>219</th>\n",
       "      <td>Kosovo</td>\n",
       "      <td>7.942962e+09</td>\n",
       "      <td>7.926108e+09</td>\n",
       "      <td>70.5</td>\n",
       "      <td>71.0</td>\n",
       "    </tr>\n",
       "    <tr>\n",
       "      <th>220</th>\n",
       "      <td>South Africa</td>\n",
       "      <td>3.680000e+11</td>\n",
       "      <td>3.510000e+11</td>\n",
       "      <td>65.3</td>\n",
       "      <td>66.7</td>\n",
       "    </tr>\n",
       "    <tr>\n",
       "      <th>221</th>\n",
       "      <td>Zambia</td>\n",
       "      <td>2.700524e+10</td>\n",
       "      <td>2.306472e+10</td>\n",
       "      <td>64.2</td>\n",
       "      <td>65.7</td>\n",
       "    </tr>\n",
       "    <tr>\n",
       "      <th>222</th>\n",
       "      <td>Zimbabwe</td>\n",
       "      <td>2.431156e+10</td>\n",
       "      <td>2.144076e+10</td>\n",
       "      <td>48.6</td>\n",
       "      <td>50.5</td>\n",
       "    </tr>\n",
       "  </tbody>\n",
       "</table>\n",
       "<p>173 rows × 5 columns</p>\n",
       "</div>"
      ],
      "text/plain": [
       "             Country Name      GDP_2018      GDP_2019  \\\n",
       "0             Afghanistan  1.948438e+10  1.910135e+10   \n",
       "1                  Angola  1.010000e+11  9.463542e+10   \n",
       "2                 Albania  1.514702e+10  1.527808e+10   \n",
       "5    United Arab Emirates  4.220000e+11  4.210000e+11   \n",
       "6               Argentina  5.200000e+11  4.500000e+11   \n",
       "..                    ...           ...           ...   \n",
       "218                 Samoa  8.204918e+08  8.506550e+08   \n",
       "219                Kosovo  7.942962e+09  7.926108e+09   \n",
       "220          South Africa  3.680000e+11  3.510000e+11   \n",
       "221                Zambia  2.700524e+10  2.306472e+10   \n",
       "222              Zimbabwe  2.431156e+10  2.144076e+10   \n",
       "\n",
       "     Ease of doing business score_2018  Ease of doing business score_2019  \n",
       "0                                 37.1                               44.2  \n",
       "1                                 39.0                               41.2  \n",
       "2                                 66.8                               67.0  \n",
       "5                                 79.3                               81.6  \n",
       "6                                 57.3                               58.2  \n",
       "..                                 ...                                ...  \n",
       "218                               62.1                               62.1  \n",
       "219                               70.5                               71.0  \n",
       "220                               65.3                               66.7  \n",
       "221                               64.2                               65.7  \n",
       "222                               48.6                               50.5  \n",
       "\n",
       "[173 rows x 5 columns]"
      ]
     },
     "execution_count": 26,
     "metadata": {},
     "output_type": "execute_result"
    }
   ],
   "source": [
    "busn_gdp_df = new_df.rename(columns={\"2018\": \"GDP_2018\", \"2019\": \"GDP_2019\"}).dropna()\n",
    "busn_gdp_df"
   ]
  },
  {
   "cell_type": "code",
   "execution_count": 27,
   "metadata": {},
   "outputs": [],
   "source": [
    "# pd.merge(info_idx_df, items_df, left_index=True, right_on=\"Data Source\")"
   ]
  },
  {
   "cell_type": "code",
   "execution_count": 28,
   "metadata": {},
   "outputs": [
    {
     "data": {
      "text/html": [
       "<div>\n",
       "<style scoped>\n",
       "    .dataframe tbody tr th:only-of-type {\n",
       "        vertical-align: middle;\n",
       "    }\n",
       "\n",
       "    .dataframe tbody tr th {\n",
       "        vertical-align: top;\n",
       "    }\n",
       "\n",
       "    .dataframe thead th {\n",
       "        text-align: right;\n",
       "    }\n",
       "</style>\n",
       "<table border=\"1\" class=\"dataframe\">\n",
       "  <thead>\n",
       "    <tr style=\"text-align: right;\">\n",
       "      <th></th>\n",
       "      <th>Country Name</th>\n",
       "      <th>GDP_2018</th>\n",
       "      <th>GDP_2019</th>\n",
       "      <th>Ease of doing business score_2018</th>\n",
       "      <th>Ease of doing business score_2019</th>\n",
       "    </tr>\n",
       "  </thead>\n",
       "  <tbody>\n",
       "    <tr>\n",
       "      <th>0</th>\n",
       "      <td>Afghanistan</td>\n",
       "      <td>1.948438e+10</td>\n",
       "      <td>1.910135e+10</td>\n",
       "      <td>37.1</td>\n",
       "      <td>44.2</td>\n",
       "    </tr>\n",
       "    <tr>\n",
       "      <th>1</th>\n",
       "      <td>Angola</td>\n",
       "      <td>1.010000e+11</td>\n",
       "      <td>9.463542e+10</td>\n",
       "      <td>39.0</td>\n",
       "      <td>41.2</td>\n",
       "    </tr>\n",
       "    <tr>\n",
       "      <th>2</th>\n",
       "      <td>Albania</td>\n",
       "      <td>1.514702e+10</td>\n",
       "      <td>1.527808e+10</td>\n",
       "      <td>66.8</td>\n",
       "      <td>67.0</td>\n",
       "    </tr>\n",
       "    <tr>\n",
       "      <th>5</th>\n",
       "      <td>United Arab Emirates</td>\n",
       "      <td>4.220000e+11</td>\n",
       "      <td>4.210000e+11</td>\n",
       "      <td>79.3</td>\n",
       "      <td>81.6</td>\n",
       "    </tr>\n",
       "    <tr>\n",
       "      <th>6</th>\n",
       "      <td>Argentina</td>\n",
       "      <td>5.200000e+11</td>\n",
       "      <td>4.500000e+11</td>\n",
       "      <td>57.3</td>\n",
       "      <td>58.2</td>\n",
       "    </tr>\n",
       "    <tr>\n",
       "      <th>7</th>\n",
       "      <td>Armenia</td>\n",
       "      <td>1.245794e+10</td>\n",
       "      <td>1.367280e+10</td>\n",
       "      <td>71.5</td>\n",
       "      <td>73.2</td>\n",
       "    </tr>\n",
       "    <tr>\n",
       "      <th>8</th>\n",
       "      <td>Antigua and Barbuda</td>\n",
       "      <td>1.610574e+09</td>\n",
       "      <td>1.727759e+09</td>\n",
       "      <td>59.8</td>\n",
       "      <td>59.9</td>\n",
       "    </tr>\n",
       "    <tr>\n",
       "      <th>9</th>\n",
       "      <td>Australia</td>\n",
       "      <td>1.430000e+12</td>\n",
       "      <td>1.390000e+12</td>\n",
       "      <td>80.8</td>\n",
       "      <td>80.7</td>\n",
       "    </tr>\n",
       "    <tr>\n",
       "      <th>10</th>\n",
       "      <td>Austria</td>\n",
       "      <td>4.560000e+11</td>\n",
       "      <td>4.460000e+11</td>\n",
       "      <td>78.7</td>\n",
       "      <td>78.7</td>\n",
       "    </tr>\n",
       "    <tr>\n",
       "      <th>11</th>\n",
       "      <td>Azerbaijan</td>\n",
       "      <td>4.711294e+10</td>\n",
       "      <td>4.804765e+10</td>\n",
       "      <td>66.8</td>\n",
       "      <td>73.6</td>\n",
       "    </tr>\n",
       "    <tr>\n",
       "      <th>12</th>\n",
       "      <td>Burundi</td>\n",
       "      <td>3.036932e+09</td>\n",
       "      <td>3.012335e+09</td>\n",
       "      <td>45.9</td>\n",
       "      <td>46.5</td>\n",
       "    </tr>\n",
       "    <tr>\n",
       "      <th>13</th>\n",
       "      <td>Belgium</td>\n",
       "      <td>5.430000e+11</td>\n",
       "      <td>5.300000e+11</td>\n",
       "      <td>72.2</td>\n",
       "      <td>74.7</td>\n",
       "    </tr>\n",
       "    <tr>\n",
       "      <th>14</th>\n",
       "      <td>Benin</td>\n",
       "      <td>1.425099e+10</td>\n",
       "      <td>1.439071e+10</td>\n",
       "      <td>51.6</td>\n",
       "      <td>51.7</td>\n",
       "    </tr>\n",
       "    <tr>\n",
       "      <th>15</th>\n",
       "      <td>Burkina Faso</td>\n",
       "      <td>1.619943e+10</td>\n",
       "      <td>1.574581e+10</td>\n",
       "      <td>51.2</td>\n",
       "      <td>51.3</td>\n",
       "    </tr>\n",
       "    <tr>\n",
       "      <th>16</th>\n",
       "      <td>Bangladesh</td>\n",
       "      <td>2.740000e+11</td>\n",
       "      <td>3.030000e+11</td>\n",
       "      <td>41.6</td>\n",
       "      <td>42.5</td>\n",
       "    </tr>\n",
       "  </tbody>\n",
       "</table>\n",
       "</div>"
      ],
      "text/plain": [
       "            Country Name      GDP_2018      GDP_2019  \\\n",
       "0            Afghanistan  1.948438e+10  1.910135e+10   \n",
       "1                 Angola  1.010000e+11  9.463542e+10   \n",
       "2                Albania  1.514702e+10  1.527808e+10   \n",
       "5   United Arab Emirates  4.220000e+11  4.210000e+11   \n",
       "6              Argentina  5.200000e+11  4.500000e+11   \n",
       "7                Armenia  1.245794e+10  1.367280e+10   \n",
       "8    Antigua and Barbuda  1.610574e+09  1.727759e+09   \n",
       "9              Australia  1.430000e+12  1.390000e+12   \n",
       "10               Austria  4.560000e+11  4.460000e+11   \n",
       "11            Azerbaijan  4.711294e+10  4.804765e+10   \n",
       "12               Burundi  3.036932e+09  3.012335e+09   \n",
       "13               Belgium  5.430000e+11  5.300000e+11   \n",
       "14                 Benin  1.425099e+10  1.439071e+10   \n",
       "15          Burkina Faso  1.619943e+10  1.574581e+10   \n",
       "16            Bangladesh  2.740000e+11  3.030000e+11   \n",
       "\n",
       "    Ease of doing business score_2018  Ease of doing business score_2019  \n",
       "0                                37.1                               44.2  \n",
       "1                                39.0                               41.2  \n",
       "2                                66.8                               67.0  \n",
       "5                                79.3                               81.6  \n",
       "6                                57.3                               58.2  \n",
       "7                                71.5                               73.2  \n",
       "8                                59.8                               59.9  \n",
       "9                                80.8                               80.7  \n",
       "10                               78.7                               78.7  \n",
       "11                               66.8                               73.6  \n",
       "12                               45.9                               46.5  \n",
       "13                               72.2                               74.7  \n",
       "14                               51.6                               51.7  \n",
       "15                               51.2                               51.3  \n",
       "16                               41.6                               42.5  "
      ]
     },
     "execution_count": 28,
     "metadata": {},
     "output_type": "execute_result"
    }
   ],
   "source": [
    "busn_gdp_df.head(15)"
   ]
  },
  {
   "cell_type": "code",
   "execution_count": 29,
   "metadata": {},
   "outputs": [],
   "source": [
    "%reload_ext lab_black\n",
    "import os\n",
    "import csv\n",
    "import pandas as pd\n",
    "import matplotlib.pyplot as plt\n",
    "\n",
    "path_busn_2018 = \"DoingBusiness_2018.csv\"\n",
    "path_busn_2019 = \"DoingBusiness_2019.csv\"\n",
    "path_GDP = \"Country_GDP_WB_1.csv\"\n",
    "path_fdi = \"FDI-USA_beaGOV_.csv\"\n",
    "\n",
    "# Read the mouse data and the study results\n",
    "doing_busn_2018 = pd.read_csv(path_busn_2018)\n",
    "doing_busn_2019 = pd.read_csv(path_busn_2019)\n",
    "country_GDP = pd.read_csv(path_GDP)\n",
    "fdi = pd.read_csv(path_fdi)"
   ]
  },
  {
   "cell_type": "code",
   "execution_count": 30,
   "metadata": {},
   "outputs": [
    {
     "data": {
      "text/plain": [
       "Index(['Foreign Direct Investment in the United States: Selected Items by Detailed Country, 2008–2019',\n",
       "       'Unnamed: 1', 'Unnamed: 2', 'Unnamed: 3', 'Unnamed: 4', 'Unnamed: 5',\n",
       "       'Unnamed: 6', 'Unnamed: 7', 'Unnamed: 8', 'Unnamed: 9', 'Unnamed: 10',\n",
       "       'Unnamed: 11', 'Unnamed: 12', 'Unnamed: 13', 'Unnamed: 14',\n",
       "       'Unnamed: 15', 'Unnamed: 16', 'Unnamed: 17'],\n",
       "      dtype='object')"
      ]
     },
     "execution_count": 30,
     "metadata": {},
     "output_type": "execute_result"
    }
   ],
   "source": [
    "fdi.columns"
   ]
  },
  {
   "cell_type": "code",
   "execution_count": 31,
   "metadata": {},
   "outputs": [],
   "source": [
    "df = fdi.drop(\n",
    "    [\n",
    "        \"Unnamed: 1\",\n",
    "        \"Unnamed: 2\",\n",
    "        \"Unnamed: 3\",\n",
    "        \"Unnamed: 4\",\n",
    "        \"Unnamed: 5\",\n",
    "        \"Unnamed: 6\",\n",
    "        \"Unnamed: 7\",\n",
    "        \"Unnamed: 8\",\n",
    "        \"Unnamed: 9\",\n",
    "        \"Unnamed: 13\",\n",
    "        \"Unnamed: 14\",\n",
    "        \"Unnamed: 15\",\n",
    "        \"Unnamed: 16\",\n",
    "        \"Unnamed: 17\",\n",
    "    ],\n",
    "    axis=1,\n",
    ")"
   ]
  },
  {
   "cell_type": "code",
   "execution_count": 32,
   "metadata": {},
   "outputs": [],
   "source": [
    "fdi_df = df.drop([0, 1, 2, 7])"
   ]
  },
  {
   "cell_type": "code",
   "execution_count": 33,
   "metadata": {},
   "outputs": [
    {
     "data": {
      "text/html": [
       "<div>\n",
       "<style scoped>\n",
       "    .dataframe tbody tr th:only-of-type {\n",
       "        vertical-align: middle;\n",
       "    }\n",
       "\n",
       "    .dataframe tbody tr th {\n",
       "        vertical-align: top;\n",
       "    }\n",
       "\n",
       "    .dataframe thead th {\n",
       "        text-align: right;\n",
       "    }\n",
       "</style>\n",
       "<table border=\"1\" class=\"dataframe\">\n",
       "  <thead>\n",
       "    <tr style=\"text-align: right;\">\n",
       "      <th></th>\n",
       "      <th>Country</th>\n",
       "      <th>FDI_2017</th>\n",
       "      <th>FDI_2018</th>\n",
       "      <th>FDI_2019</th>\n",
       "    </tr>\n",
       "  </thead>\n",
       "  <tbody>\n",
       "    <tr>\n",
       "      <th>5</th>\n",
       "      <td>Canada</td>\n",
       "      <td>395,495</td>\n",
       "      <td>442,802</td>\n",
       "      <td>495,720</td>\n",
       "    </tr>\n",
       "    <tr>\n",
       "      <th>8</th>\n",
       "      <td>Austria</td>\n",
       "      <td>13,160</td>\n",
       "      <td>12,392</td>\n",
       "      <td>13,964</td>\n",
       "    </tr>\n",
       "    <tr>\n",
       "      <th>9</th>\n",
       "      <td>Belgium</td>\n",
       "      <td>76,009</td>\n",
       "      <td>64,661</td>\n",
       "      <td>65,918</td>\n",
       "    </tr>\n",
       "    <tr>\n",
       "      <th>10</th>\n",
       "      <td>Denmark</td>\n",
       "      <td>18,617</td>\n",
       "      <td>20,654</td>\n",
       "      <td>23,870</td>\n",
       "    </tr>\n",
       "    <tr>\n",
       "      <th>11</th>\n",
       "      <td>Finland</td>\n",
       "      <td>6,928</td>\n",
       "      <td>14,464</td>\n",
       "      <td>14,826</td>\n",
       "    </tr>\n",
       "    <tr>\n",
       "      <th>...</th>\n",
       "      <td>...</td>\n",
       "      <td>...</td>\n",
       "      <td>...</td>\n",
       "      <td>...</td>\n",
       "    </tr>\n",
       "    <tr>\n",
       "      <th>239</th>\n",
       "      <td>Tuvalu</td>\n",
       "      <td>0</td>\n",
       "      <td>0</td>\n",
       "      <td>0</td>\n",
       "    </tr>\n",
       "    <tr>\n",
       "      <th>240</th>\n",
       "      <td>United Kingdom Islands, Indian Ocean</td>\n",
       "      <td>0</td>\n",
       "      <td>-1</td>\n",
       "      <td>0</td>\n",
       "    </tr>\n",
       "    <tr>\n",
       "      <th>241</th>\n",
       "      <td>United Kingdom Islands, Pacific</td>\n",
       "      <td>(D)</td>\n",
       "      <td>(D)</td>\n",
       "      <td>(D)</td>\n",
       "    </tr>\n",
       "    <tr>\n",
       "      <th>242</th>\n",
       "      <td>Vanuatu</td>\n",
       "      <td>(D)</td>\n",
       "      <td>5</td>\n",
       "      <td>(D)</td>\n",
       "    </tr>\n",
       "    <tr>\n",
       "      <th>243</th>\n",
       "      <td>Vietnam</td>\n",
       "      <td>94</td>\n",
       "      <td>59</td>\n",
       "      <td>57</td>\n",
       "    </tr>\n",
       "  </tbody>\n",
       "</table>\n",
       "<p>229 rows × 4 columns</p>\n",
       "</div>"
      ],
      "text/plain": [
       "                                  Country FDI_2017 FDI_2018 FDI_2019\n",
       "5                                  Canada  395,495  442,802  495,720\n",
       "8                                 Austria   13,160   12,392   13,964\n",
       "9                                 Belgium   76,009   64,661   65,918\n",
       "10                                Denmark   18,617   20,654   23,870\n",
       "11                                Finland    6,928   14,464   14,826\n",
       "..                                    ...      ...      ...      ...\n",
       "239                                Tuvalu        0        0        0\n",
       "240  United Kingdom Islands, Indian Ocean        0       -1        0\n",
       "241       United Kingdom Islands, Pacific      (D)      (D)      (D)\n",
       "242                               Vanuatu      (D)        5      (D)\n",
       "243                               Vietnam       94       59       57\n",
       "\n",
       "[229 rows x 4 columns]"
      ]
     },
     "execution_count": 33,
     "metadata": {},
     "output_type": "execute_result"
    }
   ],
   "source": [
    "fdi__171819_df = fdi_df.rename(\n",
    "    columns={\n",
    "        \"Foreign Direct Investment in the United States: Selected Items by Detailed Country, 2008–2019\": \"Country\",\n",
    "        \"Unnamed: 10\": \"FDI_2017\",\n",
    "        \"Unnamed: 11\": \"FDI_2018\",\n",
    "        \"Unnamed: 12\": \"FDI_2019\",\n",
    "    }\n",
    ").dropna()\n",
    "\n",
    "fdi__171819_df"
   ]
  },
  {
   "cell_type": "code",
   "execution_count": 34,
   "metadata": {},
   "outputs": [],
   "source": [
    "fdi__171819_df = fdi__171819_df[~fdi__171819_df[\"FDI_2017\"].isin([\"(D)\", \"(*)\"])]"
   ]
  },
  {
   "cell_type": "code",
   "execution_count": 35,
   "metadata": {},
   "outputs": [],
   "source": [
    "fdi__171819_df = fdi__171819_df[~fdi__171819_df[\"FDI_2018\"].isin([\"(D)\", \"(*)\"])]"
   ]
  },
  {
   "cell_type": "code",
   "execution_count": 36,
   "metadata": {},
   "outputs": [
    {
     "data": {
      "text/html": [
       "<div>\n",
       "<style scoped>\n",
       "    .dataframe tbody tr th:only-of-type {\n",
       "        vertical-align: middle;\n",
       "    }\n",
       "\n",
       "    .dataframe tbody tr th {\n",
       "        vertical-align: top;\n",
       "    }\n",
       "\n",
       "    .dataframe thead th {\n",
       "        text-align: right;\n",
       "    }\n",
       "</style>\n",
       "<table border=\"1\" class=\"dataframe\">\n",
       "  <thead>\n",
       "    <tr style=\"text-align: right;\">\n",
       "      <th></th>\n",
       "      <th>Country</th>\n",
       "      <th>FDI_2017</th>\n",
       "      <th>FDI_2018</th>\n",
       "      <th>FDI_2019</th>\n",
       "    </tr>\n",
       "  </thead>\n",
       "  <tbody>\n",
       "    <tr>\n",
       "      <th>5</th>\n",
       "      <td>Canada</td>\n",
       "      <td>395,495</td>\n",
       "      <td>442,802</td>\n",
       "      <td>495,720</td>\n",
       "    </tr>\n",
       "    <tr>\n",
       "      <th>8</th>\n",
       "      <td>Austria</td>\n",
       "      <td>13,160</td>\n",
       "      <td>12,392</td>\n",
       "      <td>13,964</td>\n",
       "    </tr>\n",
       "    <tr>\n",
       "      <th>9</th>\n",
       "      <td>Belgium</td>\n",
       "      <td>76,009</td>\n",
       "      <td>64,661</td>\n",
       "      <td>65,918</td>\n",
       "    </tr>\n",
       "    <tr>\n",
       "      <th>10</th>\n",
       "      <td>Denmark</td>\n",
       "      <td>18,617</td>\n",
       "      <td>20,654</td>\n",
       "      <td>23,870</td>\n",
       "    </tr>\n",
       "    <tr>\n",
       "      <th>11</th>\n",
       "      <td>Finland</td>\n",
       "      <td>6,928</td>\n",
       "      <td>14,464</td>\n",
       "      <td>14,826</td>\n",
       "    </tr>\n",
       "    <tr>\n",
       "      <th>...</th>\n",
       "      <td>...</td>\n",
       "      <td>...</td>\n",
       "      <td>...</td>\n",
       "      <td>...</td>\n",
       "    </tr>\n",
       "    <tr>\n",
       "      <th>237</th>\n",
       "      <td>Timor-Leste</td>\n",
       "      <td>0</td>\n",
       "      <td>0</td>\n",
       "      <td>0</td>\n",
       "    </tr>\n",
       "    <tr>\n",
       "      <th>238</th>\n",
       "      <td>Tongo</td>\n",
       "      <td>0</td>\n",
       "      <td>0</td>\n",
       "      <td>0</td>\n",
       "    </tr>\n",
       "    <tr>\n",
       "      <th>239</th>\n",
       "      <td>Tuvalu</td>\n",
       "      <td>0</td>\n",
       "      <td>0</td>\n",
       "      <td>0</td>\n",
       "    </tr>\n",
       "    <tr>\n",
       "      <th>240</th>\n",
       "      <td>United Kingdom Islands, Indian Ocean</td>\n",
       "      <td>0</td>\n",
       "      <td>-1</td>\n",
       "      <td>0</td>\n",
       "    </tr>\n",
       "    <tr>\n",
       "      <th>243</th>\n",
       "      <td>Vietnam</td>\n",
       "      <td>94</td>\n",
       "      <td>59</td>\n",
       "      <td>57</td>\n",
       "    </tr>\n",
       "  </tbody>\n",
       "</table>\n",
       "<p>143 rows × 4 columns</p>\n",
       "</div>"
      ],
      "text/plain": [
       "                                  Country FDI_2017 FDI_2018 FDI_2019\n",
       "5                                  Canada  395,495  442,802  495,720\n",
       "8                                 Austria   13,160   12,392   13,964\n",
       "9                                 Belgium   76,009   64,661   65,918\n",
       "10                                Denmark   18,617   20,654   23,870\n",
       "11                                Finland    6,928   14,464   14,826\n",
       "..                                    ...      ...      ...      ...\n",
       "237                           Timor-Leste        0        0        0\n",
       "238                                 Tongo        0        0        0\n",
       "239                                Tuvalu        0        0        0\n",
       "240  United Kingdom Islands, Indian Ocean        0       -1        0\n",
       "243                               Vietnam       94       59       57\n",
       "\n",
       "[143 rows x 4 columns]"
      ]
     },
     "execution_count": 36,
     "metadata": {},
     "output_type": "execute_result"
    }
   ],
   "source": [
    "fdi__171819_df = fdi__171819_df[~fdi__171819_df[\"FDI_2019\"].isin([\"(D)\", \"(*)\"])]\n",
    "fdi__171819_df = fdi__171819_df[\n",
    "    ~fdi__171819_df[\"Country\"].isin(\n",
    "        [\n",
    "            \"Latin America and Other Western Hemisphere\",\n",
    "            \"South and Central America\",\n",
    "            \"Other\",\n",
    "            \"Other Western Hemisphere\",\n",
    "        ]\n",
    "    )\n",
    "]\n",
    "\n",
    "fdi__171819_df"
   ]
  },
  {
   "cell_type": "code",
   "execution_count": 37,
   "metadata": {},
   "outputs": [
    {
     "data": {
      "text/plain": [
       "array(['Canada', 'Austria', 'Belgium', 'Denmark', 'Finland', 'France',\n",
       "       'Germany', 'Ireland', 'Italy', 'Luxembourg', 'Netherlands',\n",
       "       'Norway', 'Spain', 'Sweden', 'Switzerland', 'United Kingdom',\n",
       "       'Andorra', 'Armenia', 'Azerbaijan', 'Belarus', 'Georgia',\n",
       "       'Gibraltar', 'Hungary', 'Kosovo', 'Kyrgyzstan', 'Malta', 'Moldova',\n",
       "       'Monaco', 'North Macedonia', 'Portugal', 'Russia', 'San Marino',\n",
       "       'Serbia', 'Slovakia', 'Slovenia', 'Tajikistan', 'Turkey',\n",
       "       'Turkmenistan', 'Vatican City', 'Brazil', 'Mexico', 'Panama',\n",
       "       'Venezuela', 'Argentina', 'Belize', 'Chile', 'Colombia',\n",
       "       'Costa Rica', 'Ecuador', 'El Salvador', 'French Guiana',\n",
       "       'Honduras', 'Nicaragua', 'Peru', 'Uruguay', 'Bahamas', 'Bermuda',\n",
       "       'Curacao 2', 'Netherlands Antilles 3',\n",
       "       'United Kingdom Islands, Caribbean  4', 'Antigua and Barbuda',\n",
       "       'Barbados', 'Dominican Republic', 'French Islands, Caribbean',\n",
       "       'Haiti', 'Jamaica', 'Sint Maarten 2', 'St. Pierre and Miquelon',\n",
       "       'St. Vincent and the Grenadines', 'Trinidad and Tobago', 'Africa',\n",
       "       'South Africa', 'Benin', 'Botswana', 'Burkina Faso', 'Burundi',\n",
       "       'Cabo Verde', 'Chad', 'Comoros', 'Djibouti', 'Egypt', 'Eritrea',\n",
       "       'Eswatini', 'Gambia', 'Ghana', 'Guinea-Bissau', 'Lesotho',\n",
       "       'Liberia', 'Mali', 'Mauritania', 'Mauritius', 'Nigeria', 'Rwanda',\n",
       "       'Sao Tome and Principe', 'Sierra Leone', 'South Sudan', 'Togo',\n",
       "       'Tunisia', 'Western Sahara', 'Zambia', 'Middle East', 'Israel',\n",
       "       'Kuwait', 'Lebanon', 'Saudi Arabia', 'United Arab Emirates',\n",
       "       'Oman', 'Syria', 'Yemen', 'Asia and Pacific', 'Australia', 'China',\n",
       "       'Hong Kong', 'India', 'Japan', 'Malaysia', 'New Zealand',\n",
       "       'Singapore', 'South Korea', 'Taiwan', 'Bangladesh', 'Bhutan',\n",
       "       'Burma', 'Cambodia', 'French Islands, Indian Ocean', 'Indonesia',\n",
       "       'Kiribati', 'Laos', 'Maldives', 'Micronesia', 'Nauru',\n",
       "       'North Korea', 'Pakistan', 'Papua New Guinea', 'Philippines',\n",
       "       'Solomon Islands', 'Sri Lanka', 'Thailand', 'Timor-Leste', 'Tongo',\n",
       "       'Tuvalu', 'United Kingdom Islands, Indian Ocean', 'Vietnam'],\n",
       "      dtype=object)"
      ]
     },
     "execution_count": 37,
     "metadata": {},
     "output_type": "execute_result"
    }
   ],
   "source": [
    "fdi__171819_df[\"Country\"].values"
   ]
  },
  {
   "cell_type": "code",
   "execution_count": 54,
   "metadata": {},
   "outputs": [
    {
     "data": {
      "application/vnd.plotly.v1+json": {
       "config": {
        "plotlyServerURL": "https://plot.ly"
       },
       "data": [
        {
         "alignmentgroup": "True",
         "hovertemplate": "Country=%{x}<br>FDI_2018=%{y}<extra></extra>",
         "legendgroup": "Canada",
         "marker": {
          "color": "#636efa"
         },
         "name": "Canada",
         "offsetgroup": "Canada",
         "orientation": "v",
         "showlegend": true,
         "textposition": "auto",
         "type": "bar",
         "x": [
          "Canada"
         ],
         "xaxis": "x",
         "y": [
          "442,802"
         ],
         "yaxis": "y"
        },
        {
         "alignmentgroup": "True",
         "hovertemplate": "Country=%{x}<br>FDI_2018=%{y}<extra></extra>",
         "legendgroup": "Austria",
         "marker": {
          "color": "#EF553B"
         },
         "name": "Austria",
         "offsetgroup": "Austria",
         "orientation": "v",
         "showlegend": true,
         "textposition": "auto",
         "type": "bar",
         "x": [
          "Austria"
         ],
         "xaxis": "x",
         "y": [
          "12,392"
         ],
         "yaxis": "y"
        },
        {
         "alignmentgroup": "True",
         "hovertemplate": "Country=%{x}<br>FDI_2018=%{y}<extra></extra>",
         "legendgroup": "Belgium",
         "marker": {
          "color": "#00cc96"
         },
         "name": "Belgium",
         "offsetgroup": "Belgium",
         "orientation": "v",
         "showlegend": true,
         "textposition": "auto",
         "type": "bar",
         "x": [
          "Belgium"
         ],
         "xaxis": "x",
         "y": [
          "64,661"
         ],
         "yaxis": "y"
        },
        {
         "alignmentgroup": "True",
         "hovertemplate": "Country=%{x}<br>FDI_2018=%{y}<extra></extra>",
         "legendgroup": "Denmark",
         "marker": {
          "color": "#ab63fa"
         },
         "name": "Denmark",
         "offsetgroup": "Denmark",
         "orientation": "v",
         "showlegend": true,
         "textposition": "auto",
         "type": "bar",
         "x": [
          "Denmark"
         ],
         "xaxis": "x",
         "y": [
          "20,654"
         ],
         "yaxis": "y"
        },
        {
         "alignmentgroup": "True",
         "hovertemplate": "Country=%{x}<br>FDI_2018=%{y}<extra></extra>",
         "legendgroup": "Finland",
         "marker": {
          "color": "#FFA15A"
         },
         "name": "Finland",
         "offsetgroup": "Finland",
         "orientation": "v",
         "showlegend": true,
         "textposition": "auto",
         "type": "bar",
         "x": [
          "Finland"
         ],
         "xaxis": "x",
         "y": [
          "14,464"
         ],
         "yaxis": "y"
        },
        {
         "alignmentgroup": "True",
         "hovertemplate": "Country=%{x}<br>FDI_2018=%{y}<extra></extra>",
         "legendgroup": "France",
         "marker": {
          "color": "#19d3f3"
         },
         "name": "France",
         "offsetgroup": "France",
         "orientation": "v",
         "showlegend": true,
         "textposition": "auto",
         "type": "bar",
         "x": [
          "France"
         ],
         "xaxis": "x",
         "y": [
          "268,169"
         ],
         "yaxis": "y"
        },
        {
         "alignmentgroup": "True",
         "hovertemplate": "Country=%{x}<br>FDI_2018=%{y}<extra></extra>",
         "legendgroup": "Germany",
         "marker": {
          "color": "#FF6692"
         },
         "name": "Germany",
         "offsetgroup": "Germany",
         "orientation": "v",
         "showlegend": true,
         "textposition": "auto",
         "type": "bar",
         "x": [
          "Germany"
         ],
         "xaxis": "x",
         "y": [
          "328,124"
         ],
         "yaxis": "y"
        },
        {
         "alignmentgroup": "True",
         "hovertemplate": "Country=%{x}<br>FDI_2018=%{y}<extra></extra>",
         "legendgroup": "Ireland",
         "marker": {
          "color": "#B6E880"
         },
         "name": "Ireland",
         "offsetgroup": "Ireland",
         "orientation": "v",
         "showlegend": true,
         "textposition": "auto",
         "type": "bar",
         "x": [
          "Ireland"
         ],
         "xaxis": "x",
         "y": [
          "265,004"
         ],
         "yaxis": "y"
        },
        {
         "alignmentgroup": "True",
         "hovertemplate": "Country=%{x}<br>FDI_2018=%{y}<extra></extra>",
         "legendgroup": "Italy",
         "marker": {
          "color": "#FF97FF"
         },
         "name": "Italy",
         "offsetgroup": "Italy",
         "orientation": "v",
         "showlegend": true,
         "textposition": "auto",
         "type": "bar",
         "x": [
          "Italy"
         ],
         "xaxis": "x",
         "y": [
          "30,749"
         ],
         "yaxis": "y"
        },
        {
         "alignmentgroup": "True",
         "hovertemplate": "Country=%{x}<br>FDI_2018=%{y}<extra></extra>",
         "legendgroup": "Luxembourg",
         "marker": {
          "color": "#FECB52"
         },
         "name": "Luxembourg",
         "offsetgroup": "Luxembourg",
         "orientation": "v",
         "showlegend": true,
         "textposition": "auto",
         "type": "bar",
         "x": [
          "Luxembourg"
         ],
         "xaxis": "x",
         "y": [
          "312,976"
         ],
         "yaxis": "y"
        },
        {
         "alignmentgroup": "True",
         "hovertemplate": "Country=%{x}<br>FDI_2018=%{y}<extra></extra>",
         "legendgroup": "Netherlands",
         "marker": {
          "color": "#636efa"
         },
         "name": "Netherlands",
         "offsetgroup": "Netherlands",
         "orientation": "v",
         "showlegend": true,
         "textposition": "auto",
         "type": "bar",
         "x": [
          "Netherlands"
         ],
         "xaxis": "x",
         "y": [
          "462,303"
         ],
         "yaxis": "y"
        },
        {
         "alignmentgroup": "True",
         "hovertemplate": "Country=%{x}<br>FDI_2018=%{y}<extra></extra>",
         "legendgroup": "Norway",
         "marker": {
          "color": "#EF553B"
         },
         "name": "Norway",
         "offsetgroup": "Norway",
         "orientation": "v",
         "showlegend": true,
         "textposition": "auto",
         "type": "bar",
         "x": [
          "Norway"
         ],
         "xaxis": "x",
         "y": [
          "26,007"
         ],
         "yaxis": "y"
        },
        {
         "alignmentgroup": "True",
         "hovertemplate": "Country=%{x}<br>FDI_2018=%{y}<extra></extra>",
         "legendgroup": "Spain",
         "marker": {
          "color": "#00cc96"
         },
         "name": "Spain",
         "offsetgroup": "Spain",
         "orientation": "v",
         "showlegend": true,
         "textposition": "auto",
         "type": "bar",
         "x": [
          "Spain"
         ],
         "xaxis": "x",
         "y": [
          "83,379"
         ],
         "yaxis": "y"
        },
        {
         "alignmentgroup": "True",
         "hovertemplate": "Country=%{x}<br>FDI_2018=%{y}<extra></extra>",
         "legendgroup": "Sweden",
         "marker": {
          "color": "#ab63fa"
         },
         "name": "Sweden",
         "offsetgroup": "Sweden",
         "orientation": "v",
         "showlegend": true,
         "textposition": "auto",
         "type": "bar",
         "x": [
          "Sweden"
         ],
         "xaxis": "x",
         "y": [
          "49,546"
         ],
         "yaxis": "y"
        },
        {
         "alignmentgroup": "True",
         "hovertemplate": "Country=%{x}<br>FDI_2018=%{y}<extra></extra>",
         "legendgroup": "Switzerland",
         "marker": {
          "color": "#FFA15A"
         },
         "name": "Switzerland",
         "offsetgroup": "Switzerland",
         "orientation": "v",
         "showlegend": true,
         "textposition": "auto",
         "type": "bar",
         "x": [
          "Switzerland"
         ],
         "xaxis": "x",
         "y": [
          "295,783"
         ],
         "yaxis": "y"
        },
        {
         "alignmentgroup": "True",
         "hovertemplate": "Country=%{x}<br>FDI_2018=%{y}<extra></extra>",
         "legendgroup": "United Kingdom",
         "marker": {
          "color": "#19d3f3"
         },
         "name": "United Kingdom",
         "offsetgroup": "United Kingdom",
         "orientation": "v",
         "showlegend": true,
         "textposition": "auto",
         "type": "bar",
         "x": [
          "United Kingdom"
         ],
         "xaxis": "x",
         "y": [
          "496,622"
         ],
         "yaxis": "y"
        },
        {
         "alignmentgroup": "True",
         "hovertemplate": "Country=%{x}<br>FDI_2018=%{y}<extra></extra>",
         "legendgroup": "Andorra",
         "marker": {
          "color": "#FF6692"
         },
         "name": "Andorra",
         "offsetgroup": "Andorra",
         "orientation": "v",
         "showlegend": true,
         "textposition": "auto",
         "type": "bar",
         "x": [
          "Andorra"
         ],
         "xaxis": "x",
         "y": [
          "0"
         ],
         "yaxis": "y"
        },
        {
         "alignmentgroup": "True",
         "hovertemplate": "Country=%{x}<br>FDI_2018=%{y}<extra></extra>",
         "legendgroup": "Armenia",
         "marker": {
          "color": "#B6E880"
         },
         "name": "Armenia",
         "offsetgroup": "Armenia",
         "orientation": "v",
         "showlegend": true,
         "textposition": "auto",
         "type": "bar",
         "x": [
          "Armenia"
         ],
         "xaxis": "x",
         "y": [
          "3"
         ],
         "yaxis": "y"
        },
        {
         "alignmentgroup": "True",
         "hovertemplate": "Country=%{x}<br>FDI_2018=%{y}<extra></extra>",
         "legendgroup": "Azerbaijan",
         "marker": {
          "color": "#FF97FF"
         },
         "name": "Azerbaijan",
         "offsetgroup": "Azerbaijan",
         "orientation": "v",
         "showlegend": true,
         "textposition": "auto",
         "type": "bar",
         "x": [
          "Azerbaijan"
         ],
         "xaxis": "x",
         "y": [
          "-2"
         ],
         "yaxis": "y"
        },
        {
         "alignmentgroup": "True",
         "hovertemplate": "Country=%{x}<br>FDI_2018=%{y}<extra></extra>",
         "legendgroup": "Belarus",
         "marker": {
          "color": "#FECB52"
         },
         "name": "Belarus",
         "offsetgroup": "Belarus",
         "orientation": "v",
         "showlegend": true,
         "textposition": "auto",
         "type": "bar",
         "x": [
          "Belarus"
         ],
         "xaxis": "x",
         "y": [
          "4"
         ],
         "yaxis": "y"
        },
        {
         "alignmentgroup": "True",
         "hovertemplate": "Country=%{x}<br>FDI_2018=%{y}<extra></extra>",
         "legendgroup": "Georgia",
         "marker": {
          "color": "#636efa"
         },
         "name": "Georgia",
         "offsetgroup": "Georgia",
         "orientation": "v",
         "showlegend": true,
         "textposition": "auto",
         "type": "bar",
         "x": [
          "Georgia"
         ],
         "xaxis": "x",
         "y": [
          "0"
         ],
         "yaxis": "y"
        },
        {
         "alignmentgroup": "True",
         "hovertemplate": "Country=%{x}<br>FDI_2018=%{y}<extra></extra>",
         "legendgroup": "Gibraltar",
         "marker": {
          "color": "#EF553B"
         },
         "name": "Gibraltar",
         "offsetgroup": "Gibraltar",
         "orientation": "v",
         "showlegend": true,
         "textposition": "auto",
         "type": "bar",
         "x": [
          "Gibraltar"
         ],
         "xaxis": "x",
         "y": [
          "9,367"
         ],
         "yaxis": "y"
        },
        {
         "alignmentgroup": "True",
         "hovertemplate": "Country=%{x}<br>FDI_2018=%{y}<extra></extra>",
         "legendgroup": "Hungary",
         "marker": {
          "color": "#00cc96"
         },
         "name": "Hungary",
         "offsetgroup": "Hungary",
         "orientation": "v",
         "showlegend": true,
         "textposition": "auto",
         "type": "bar",
         "x": [
          "Hungary"
         ],
         "xaxis": "x",
         "y": [
          "31,730"
         ],
         "yaxis": "y"
        },
        {
         "alignmentgroup": "True",
         "hovertemplate": "Country=%{x}<br>FDI_2018=%{y}<extra></extra>",
         "legendgroup": "Kosovo",
         "marker": {
          "color": "#ab63fa"
         },
         "name": "Kosovo",
         "offsetgroup": "Kosovo",
         "orientation": "v",
         "showlegend": true,
         "textposition": "auto",
         "type": "bar",
         "x": [
          "Kosovo"
         ],
         "xaxis": "x",
         "y": [
          "0"
         ],
         "yaxis": "y"
        },
        {
         "alignmentgroup": "True",
         "hovertemplate": "Country=%{x}<br>FDI_2018=%{y}<extra></extra>",
         "legendgroup": "Kyrgyzstan",
         "marker": {
          "color": "#FFA15A"
         },
         "name": "Kyrgyzstan",
         "offsetgroup": "Kyrgyzstan",
         "orientation": "v",
         "showlegend": true,
         "textposition": "auto",
         "type": "bar",
         "x": [
          "Kyrgyzstan"
         ],
         "xaxis": "x",
         "y": [
          "0"
         ],
         "yaxis": "y"
        },
        {
         "alignmentgroup": "True",
         "hovertemplate": "Country=%{x}<br>FDI_2018=%{y}<extra></extra>",
         "legendgroup": "Malta",
         "marker": {
          "color": "#19d3f3"
         },
         "name": "Malta",
         "offsetgroup": "Malta",
         "orientation": "v",
         "showlegend": true,
         "textposition": "auto",
         "type": "bar",
         "x": [
          "Malta"
         ],
         "xaxis": "x",
         "y": [
          "1,557"
         ],
         "yaxis": "y"
        },
        {
         "alignmentgroup": "True",
         "hovertemplate": "Country=%{x}<br>FDI_2018=%{y}<extra></extra>",
         "legendgroup": "Moldova",
         "marker": {
          "color": "#FF6692"
         },
         "name": "Moldova",
         "offsetgroup": "Moldova",
         "orientation": "v",
         "showlegend": true,
         "textposition": "auto",
         "type": "bar",
         "x": [
          "Moldova"
         ],
         "xaxis": "x",
         "y": [
          "0"
         ],
         "yaxis": "y"
        },
        {
         "alignmentgroup": "True",
         "hovertemplate": "Country=%{x}<br>FDI_2018=%{y}<extra></extra>",
         "legendgroup": "Monaco",
         "marker": {
          "color": "#B6E880"
         },
         "name": "Monaco",
         "offsetgroup": "Monaco",
         "orientation": "v",
         "showlegend": true,
         "textposition": "auto",
         "type": "bar",
         "x": [
          "Monaco"
         ],
         "xaxis": "x",
         "y": [
          "-26"
         ],
         "yaxis": "y"
        },
        {
         "alignmentgroup": "True",
         "hovertemplate": "Country=%{x}<br>FDI_2018=%{y}<extra></extra>",
         "legendgroup": "North Macedonia",
         "marker": {
          "color": "#FF97FF"
         },
         "name": "North Macedonia",
         "offsetgroup": "North Macedonia",
         "orientation": "v",
         "showlegend": true,
         "textposition": "auto",
         "type": "bar",
         "x": [
          "North Macedonia"
         ],
         "xaxis": "x",
         "y": [
          "-1"
         ],
         "yaxis": "y"
        },
        {
         "alignmentgroup": "True",
         "hovertemplate": "Country=%{x}<br>FDI_2018=%{y}<extra></extra>",
         "legendgroup": "Portugal",
         "marker": {
          "color": "#FECB52"
         },
         "name": "Portugal",
         "offsetgroup": "Portugal",
         "orientation": "v",
         "showlegend": true,
         "textposition": "auto",
         "type": "bar",
         "x": [
          "Portugal"
         ],
         "xaxis": "x",
         "y": [
          "1,056"
         ],
         "yaxis": "y"
        },
        {
         "alignmentgroup": "True",
         "hovertemplate": "Country=%{x}<br>FDI_2018=%{y}<extra></extra>",
         "legendgroup": "Russia",
         "marker": {
          "color": "#636efa"
         },
         "name": "Russia",
         "offsetgroup": "Russia",
         "orientation": "v",
         "showlegend": true,
         "textposition": "auto",
         "type": "bar",
         "x": [
          "Russia"
         ],
         "xaxis": "x",
         "y": [
          "4,455"
         ],
         "yaxis": "y"
        },
        {
         "alignmentgroup": "True",
         "hovertemplate": "Country=%{x}<br>FDI_2018=%{y}<extra></extra>",
         "legendgroup": "San Marino",
         "marker": {
          "color": "#EF553B"
         },
         "name": "San Marino",
         "offsetgroup": "San Marino",
         "orientation": "v",
         "showlegend": true,
         "textposition": "auto",
         "type": "bar",
         "x": [
          "San Marino"
         ],
         "xaxis": "x",
         "y": [
          "0"
         ],
         "yaxis": "y"
        },
        {
         "alignmentgroup": "True",
         "hovertemplate": "Country=%{x}<br>FDI_2018=%{y}<extra></extra>",
         "legendgroup": "Serbia",
         "marker": {
          "color": "#00cc96"
         },
         "name": "Serbia",
         "offsetgroup": "Serbia",
         "orientation": "v",
         "showlegend": true,
         "textposition": "auto",
         "type": "bar",
         "x": [
          "Serbia"
         ],
         "xaxis": "x",
         "y": [
          "3"
         ],
         "yaxis": "y"
        },
        {
         "alignmentgroup": "True",
         "hovertemplate": "Country=%{x}<br>FDI_2018=%{y}<extra></extra>",
         "legendgroup": "Slovakia",
         "marker": {
          "color": "#ab63fa"
         },
         "name": "Slovakia",
         "offsetgroup": "Slovakia",
         "orientation": "v",
         "showlegend": true,
         "textposition": "auto",
         "type": "bar",
         "x": [
          "Slovakia"
         ],
         "xaxis": "x",
         "y": [
          "14"
         ],
         "yaxis": "y"
        },
        {
         "alignmentgroup": "True",
         "hovertemplate": "Country=%{x}<br>FDI_2018=%{y}<extra></extra>",
         "legendgroup": "Slovenia",
         "marker": {
          "color": "#FFA15A"
         },
         "name": "Slovenia",
         "offsetgroup": "Slovenia",
         "orientation": "v",
         "showlegend": true,
         "textposition": "auto",
         "type": "bar",
         "x": [
          "Slovenia"
         ],
         "xaxis": "x",
         "y": [
          "6"
         ],
         "yaxis": "y"
        },
        {
         "alignmentgroup": "True",
         "hovertemplate": "Country=%{x}<br>FDI_2018=%{y}<extra></extra>",
         "legendgroup": "Tajikistan",
         "marker": {
          "color": "#19d3f3"
         },
         "name": "Tajikistan",
         "offsetgroup": "Tajikistan",
         "orientation": "v",
         "showlegend": true,
         "textposition": "auto",
         "type": "bar",
         "x": [
          "Tajikistan"
         ],
         "xaxis": "x",
         "y": [
          "0"
         ],
         "yaxis": "y"
        },
        {
         "alignmentgroup": "True",
         "hovertemplate": "Country=%{x}<br>FDI_2018=%{y}<extra></extra>",
         "legendgroup": "Turkey",
         "marker": {
          "color": "#FF6692"
         },
         "name": "Turkey",
         "offsetgroup": "Turkey",
         "orientation": "v",
         "showlegend": true,
         "textposition": "auto",
         "type": "bar",
         "x": [
          "Turkey"
         ],
         "xaxis": "x",
         "y": [
          "2,175"
         ],
         "yaxis": "y"
        },
        {
         "alignmentgroup": "True",
         "hovertemplate": "Country=%{x}<br>FDI_2018=%{y}<extra></extra>",
         "legendgroup": "Turkmenistan",
         "marker": {
          "color": "#B6E880"
         },
         "name": "Turkmenistan",
         "offsetgroup": "Turkmenistan",
         "orientation": "v",
         "showlegend": true,
         "textposition": "auto",
         "type": "bar",
         "x": [
          "Turkmenistan"
         ],
         "xaxis": "x",
         "y": [
          "0"
         ],
         "yaxis": "y"
        },
        {
         "alignmentgroup": "True",
         "hovertemplate": "Country=%{x}<br>FDI_2018=%{y}<extra></extra>",
         "legendgroup": "Vatican City",
         "marker": {
          "color": "#FF97FF"
         },
         "name": "Vatican City",
         "offsetgroup": "Vatican City",
         "orientation": "v",
         "showlegend": true,
         "textposition": "auto",
         "type": "bar",
         "x": [
          "Vatican City"
         ],
         "xaxis": "x",
         "y": [
          "0"
         ],
         "yaxis": "y"
        },
        {
         "alignmentgroup": "True",
         "hovertemplate": "Country=%{x}<br>FDI_2018=%{y}<extra></extra>",
         "legendgroup": "Brazil",
         "marker": {
          "color": "#FECB52"
         },
         "name": "Brazil",
         "offsetgroup": "Brazil",
         "orientation": "v",
         "showlegend": true,
         "textposition": "auto",
         "type": "bar",
         "x": [
          "Brazil"
         ],
         "xaxis": "x",
         "y": [
          "2,514"
         ],
         "yaxis": "y"
        },
        {
         "alignmentgroup": "True",
         "hovertemplate": "Country=%{x}<br>FDI_2018=%{y}<extra></extra>",
         "legendgroup": "Mexico",
         "marker": {
          "color": "#636efa"
         },
         "name": "Mexico",
         "offsetgroup": "Mexico",
         "orientation": "v",
         "showlegend": true,
         "textposition": "auto",
         "type": "bar",
         "x": [
          "Mexico"
         ],
         "xaxis": "x",
         "y": [
          "21,050"
         ],
         "yaxis": "y"
        },
        {
         "alignmentgroup": "True",
         "hovertemplate": "Country=%{x}<br>FDI_2018=%{y}<extra></extra>",
         "legendgroup": "Panama",
         "marker": {
          "color": "#EF553B"
         },
         "name": "Panama",
         "offsetgroup": "Panama",
         "orientation": "v",
         "showlegend": true,
         "textposition": "auto",
         "type": "bar",
         "x": [
          "Panama"
         ],
         "xaxis": "x",
         "y": [
          "2,789"
         ],
         "yaxis": "y"
        },
        {
         "alignmentgroup": "True",
         "hovertemplate": "Country=%{x}<br>FDI_2018=%{y}<extra></extra>",
         "legendgroup": "Venezuela",
         "marker": {
          "color": "#00cc96"
         },
         "name": "Venezuela",
         "offsetgroup": "Venezuela",
         "orientation": "v",
         "showlegend": true,
         "textposition": "auto",
         "type": "bar",
         "x": [
          "Venezuela"
         ],
         "xaxis": "x",
         "y": [
          "1,673"
         ],
         "yaxis": "y"
        },
        {
         "alignmentgroup": "True",
         "hovertemplate": "Country=%{x}<br>FDI_2018=%{y}<extra></extra>",
         "legendgroup": "Argentina",
         "marker": {
          "color": "#ab63fa"
         },
         "name": "Argentina",
         "offsetgroup": "Argentina",
         "orientation": "v",
         "showlegend": true,
         "textposition": "auto",
         "type": "bar",
         "x": [
          "Argentina"
         ],
         "xaxis": "x",
         "y": [
          "822"
         ],
         "yaxis": "y"
        },
        {
         "alignmentgroup": "True",
         "hovertemplate": "Country=%{x}<br>FDI_2018=%{y}<extra></extra>",
         "legendgroup": "Belize",
         "marker": {
          "color": "#FFA15A"
         },
         "name": "Belize",
         "offsetgroup": "Belize",
         "orientation": "v",
         "showlegend": true,
         "textposition": "auto",
         "type": "bar",
         "x": [
          "Belize"
         ],
         "xaxis": "x",
         "y": [
          "12"
         ],
         "yaxis": "y"
        },
        {
         "alignmentgroup": "True",
         "hovertemplate": "Country=%{x}<br>FDI_2018=%{y}<extra></extra>",
         "legendgroup": "Chile",
         "marker": {
          "color": "#19d3f3"
         },
         "name": "Chile",
         "offsetgroup": "Chile",
         "orientation": "v",
         "showlegend": true,
         "textposition": "auto",
         "type": "bar",
         "x": [
          "Chile"
         ],
         "xaxis": "x",
         "y": [
          "2,573"
         ],
         "yaxis": "y"
        },
        {
         "alignmentgroup": "True",
         "hovertemplate": "Country=%{x}<br>FDI_2018=%{y}<extra></extra>",
         "legendgroup": "Colombia",
         "marker": {
          "color": "#FF6692"
         },
         "name": "Colombia",
         "offsetgroup": "Colombia",
         "orientation": "v",
         "showlegend": true,
         "textposition": "auto",
         "type": "bar",
         "x": [
          "Colombia"
         ],
         "xaxis": "x",
         "y": [
          "140"
         ],
         "yaxis": "y"
        },
        {
         "alignmentgroup": "True",
         "hovertemplate": "Country=%{x}<br>FDI_2018=%{y}<extra></extra>",
         "legendgroup": "Costa Rica",
         "marker": {
          "color": "#B6E880"
         },
         "name": "Costa Rica",
         "offsetgroup": "Costa Rica",
         "orientation": "v",
         "showlegend": true,
         "textposition": "auto",
         "type": "bar",
         "x": [
          "Costa Rica"
         ],
         "xaxis": "x",
         "y": [
          "-211"
         ],
         "yaxis": "y"
        },
        {
         "alignmentgroup": "True",
         "hovertemplate": "Country=%{x}<br>FDI_2018=%{y}<extra></extra>",
         "legendgroup": "Ecuador",
         "marker": {
          "color": "#FF97FF"
         },
         "name": "Ecuador",
         "offsetgroup": "Ecuador",
         "orientation": "v",
         "showlegend": true,
         "textposition": "auto",
         "type": "bar",
         "x": [
          "Ecuador"
         ],
         "xaxis": "x",
         "y": [
          "30"
         ],
         "yaxis": "y"
        },
        {
         "alignmentgroup": "True",
         "hovertemplate": "Country=%{x}<br>FDI_2018=%{y}<extra></extra>",
         "legendgroup": "El Salvador",
         "marker": {
          "color": "#FECB52"
         },
         "name": "El Salvador",
         "offsetgroup": "El Salvador",
         "orientation": "v",
         "showlegend": true,
         "textposition": "auto",
         "type": "bar",
         "x": [
          "El Salvador"
         ],
         "xaxis": "x",
         "y": [
          "16"
         ],
         "yaxis": "y"
        },
        {
         "alignmentgroup": "True",
         "hovertemplate": "Country=%{x}<br>FDI_2018=%{y}<extra></extra>",
         "legendgroup": "French Guiana",
         "marker": {
          "color": "#636efa"
         },
         "name": "French Guiana",
         "offsetgroup": "French Guiana",
         "orientation": "v",
         "showlegend": true,
         "textposition": "auto",
         "type": "bar",
         "x": [
          "French Guiana"
         ],
         "xaxis": "x",
         "y": [
          "0"
         ],
         "yaxis": "y"
        },
        {
         "alignmentgroup": "True",
         "hovertemplate": "Country=%{x}<br>FDI_2018=%{y}<extra></extra>",
         "legendgroup": "Honduras",
         "marker": {
          "color": "#EF553B"
         },
         "name": "Honduras",
         "offsetgroup": "Honduras",
         "orientation": "v",
         "showlegend": true,
         "textposition": "auto",
         "type": "bar",
         "x": [
          "Honduras"
         ],
         "xaxis": "x",
         "y": [
          "-80"
         ],
         "yaxis": "y"
        },
        {
         "alignmentgroup": "True",
         "hovertemplate": "Country=%{x}<br>FDI_2018=%{y}<extra></extra>",
         "legendgroup": "Nicaragua",
         "marker": {
          "color": "#00cc96"
         },
         "name": "Nicaragua",
         "offsetgroup": "Nicaragua",
         "orientation": "v",
         "showlegend": true,
         "textposition": "auto",
         "type": "bar",
         "x": [
          "Nicaragua"
         ],
         "xaxis": "x",
         "y": [
          "-8"
         ],
         "yaxis": "y"
        },
        {
         "alignmentgroup": "True",
         "hovertemplate": "Country=%{x}<br>FDI_2018=%{y}<extra></extra>",
         "legendgroup": "Peru",
         "marker": {
          "color": "#ab63fa"
         },
         "name": "Peru",
         "offsetgroup": "Peru",
         "orientation": "v",
         "showlegend": true,
         "textposition": "auto",
         "type": "bar",
         "x": [
          "Peru"
         ],
         "xaxis": "x",
         "y": [
          "195"
         ],
         "yaxis": "y"
        },
        {
         "alignmentgroup": "True",
         "hovertemplate": "Country=%{x}<br>FDI_2018=%{y}<extra></extra>",
         "legendgroup": "Uruguay",
         "marker": {
          "color": "#FFA15A"
         },
         "name": "Uruguay",
         "offsetgroup": "Uruguay",
         "orientation": "v",
         "showlegend": true,
         "textposition": "auto",
         "type": "bar",
         "x": [
          "Uruguay"
         ],
         "xaxis": "x",
         "y": [
          "538"
         ],
         "yaxis": "y"
        },
        {
         "alignmentgroup": "True",
         "hovertemplate": "Country=%{x}<br>FDI_2018=%{y}<extra></extra>",
         "legendgroup": "Bahamas",
         "marker": {
          "color": "#19d3f3"
         },
         "name": "Bahamas",
         "offsetgroup": "Bahamas",
         "orientation": "v",
         "showlegend": true,
         "textposition": "auto",
         "type": "bar",
         "x": [
          "Bahamas"
         ],
         "xaxis": "x",
         "y": [
          "646"
         ],
         "yaxis": "y"
        },
        {
         "alignmentgroup": "True",
         "hovertemplate": "Country=%{x}<br>FDI_2018=%{y}<extra></extra>",
         "legendgroup": "Bermuda",
         "marker": {
          "color": "#FF6692"
         },
         "name": "Bermuda",
         "offsetgroup": "Bermuda",
         "orientation": "v",
         "showlegend": true,
         "textposition": "auto",
         "type": "bar",
         "x": [
          "Bermuda"
         ],
         "xaxis": "x",
         "y": [
          "28,018"
         ],
         "yaxis": "y"
        },
        {
         "alignmentgroup": "True",
         "hovertemplate": "Country=%{x}<br>FDI_2018=%{y}<extra></extra>",
         "legendgroup": "Curacao 2",
         "marker": {
          "color": "#B6E880"
         },
         "name": "Curacao 2",
         "offsetgroup": "Curacao 2",
         "orientation": "v",
         "showlegend": true,
         "textposition": "auto",
         "type": "bar",
         "x": [
          "Curacao 2"
         ],
         "xaxis": "x",
         "y": [
          "1,335"
         ],
         "yaxis": "y"
        },
        {
         "alignmentgroup": "True",
         "hovertemplate": "Country=%{x}<br>FDI_2018=%{y}<extra></extra>",
         "legendgroup": "Netherlands Antilles 3",
         "marker": {
          "color": "#FF97FF"
         },
         "name": "Netherlands Antilles 3",
         "offsetgroup": "Netherlands Antilles 3",
         "orientation": "v",
         "showlegend": true,
         "textposition": "auto",
         "type": "bar",
         "x": [
          "Netherlands Antilles 3"
         ],
         "xaxis": "x",
         "y": [
          "--"
         ],
         "yaxis": "y"
        },
        {
         "alignmentgroup": "True",
         "hovertemplate": "Country=%{x}<br>FDI_2018=%{y}<extra></extra>",
         "legendgroup": "United Kingdom Islands, Caribbean  4",
         "marker": {
          "color": "#FECB52"
         },
         "name": "United Kingdom Islands, Caribbean  4",
         "offsetgroup": "United Kingdom Islands, Caribbean  4",
         "orientation": "v",
         "showlegend": true,
         "textposition": "auto",
         "type": "bar",
         "x": [
          "United Kingdom Islands, Caribbean  4"
         ],
         "xaxis": "x",
         "y": [
          "83,555"
         ],
         "yaxis": "y"
        },
        {
         "alignmentgroup": "True",
         "hovertemplate": "Country=%{x}<br>FDI_2018=%{y}<extra></extra>",
         "legendgroup": "Antigua and Barbuda",
         "marker": {
          "color": "#636efa"
         },
         "name": "Antigua and Barbuda",
         "offsetgroup": "Antigua and Barbuda",
         "orientation": "v",
         "showlegend": true,
         "textposition": "auto",
         "type": "bar",
         "x": [
          "Antigua and Barbuda"
         ],
         "xaxis": "x",
         "y": [
          "3"
         ],
         "yaxis": "y"
        },
        {
         "alignmentgroup": "True",
         "hovertemplate": "Country=%{x}<br>FDI_2018=%{y}<extra></extra>",
         "legendgroup": "Barbados",
         "marker": {
          "color": "#EF553B"
         },
         "name": "Barbados",
         "offsetgroup": "Barbados",
         "orientation": "v",
         "showlegend": true,
         "textposition": "auto",
         "type": "bar",
         "x": [
          "Barbados"
         ],
         "xaxis": "x",
         "y": [
          "7,476"
         ],
         "yaxis": "y"
        },
        {
         "alignmentgroup": "True",
         "hovertemplate": "Country=%{x}<br>FDI_2018=%{y}<extra></extra>",
         "legendgroup": "Dominican Republic",
         "marker": {
          "color": "#00cc96"
         },
         "name": "Dominican Republic",
         "offsetgroup": "Dominican Republic",
         "orientation": "v",
         "showlegend": true,
         "textposition": "auto",
         "type": "bar",
         "x": [
          "Dominican Republic"
         ],
         "xaxis": "x",
         "y": [
          "107"
         ],
         "yaxis": "y"
        },
        {
         "alignmentgroup": "True",
         "hovertemplate": "Country=%{x}<br>FDI_2018=%{y}<extra></extra>",
         "legendgroup": "French Islands, Caribbean",
         "marker": {
          "color": "#ab63fa"
         },
         "name": "French Islands, Caribbean",
         "offsetgroup": "French Islands, Caribbean",
         "orientation": "v",
         "showlegend": true,
         "textposition": "auto",
         "type": "bar",
         "x": [
          "French Islands, Caribbean"
         ],
         "xaxis": "x",
         "y": [
          "-1"
         ],
         "yaxis": "y"
        },
        {
         "alignmentgroup": "True",
         "hovertemplate": "Country=%{x}<br>FDI_2018=%{y}<extra></extra>",
         "legendgroup": "Haiti",
         "marker": {
          "color": "#FFA15A"
         },
         "name": "Haiti",
         "offsetgroup": "Haiti",
         "orientation": "v",
         "showlegend": true,
         "textposition": "auto",
         "type": "bar",
         "x": [
          "Haiti"
         ],
         "xaxis": "x",
         "y": [
          "-1"
         ],
         "yaxis": "y"
        },
        {
         "alignmentgroup": "True",
         "hovertemplate": "Country=%{x}<br>FDI_2018=%{y}<extra></extra>",
         "legendgroup": "Jamaica",
         "marker": {
          "color": "#19d3f3"
         },
         "name": "Jamaica",
         "offsetgroup": "Jamaica",
         "orientation": "v",
         "showlegend": true,
         "textposition": "auto",
         "type": "bar",
         "x": [
          "Jamaica"
         ],
         "xaxis": "x",
         "y": [
          "46"
         ],
         "yaxis": "y"
        },
        {
         "alignmentgroup": "True",
         "hovertemplate": "Country=%{x}<br>FDI_2018=%{y}<extra></extra>",
         "legendgroup": "Sint Maarten 2",
         "marker": {
          "color": "#FF6692"
         },
         "name": "Sint Maarten 2",
         "offsetgroup": "Sint Maarten 2",
         "orientation": "v",
         "showlegend": true,
         "textposition": "auto",
         "type": "bar",
         "x": [
          "Sint Maarten 2"
         ],
         "xaxis": "x",
         "y": [
          "0"
         ],
         "yaxis": "y"
        },
        {
         "alignmentgroup": "True",
         "hovertemplate": "Country=%{x}<br>FDI_2018=%{y}<extra></extra>",
         "legendgroup": "St. Pierre and Miquelon",
         "marker": {
          "color": "#B6E880"
         },
         "name": "St. Pierre and Miquelon",
         "offsetgroup": "St. Pierre and Miquelon",
         "orientation": "v",
         "showlegend": true,
         "textposition": "auto",
         "type": "bar",
         "x": [
          "St. Pierre and Miquelon"
         ],
         "xaxis": "x",
         "y": [
          "0"
         ],
         "yaxis": "y"
        },
        {
         "alignmentgroup": "True",
         "hovertemplate": "Country=%{x}<br>FDI_2018=%{y}<extra></extra>",
         "legendgroup": "St. Vincent and the Grenadines",
         "marker": {
          "color": "#FF97FF"
         },
         "name": "St. Vincent and the Grenadines",
         "offsetgroup": "St. Vincent and the Grenadines",
         "orientation": "v",
         "showlegend": true,
         "textposition": "auto",
         "type": "bar",
         "x": [
          "St. Vincent and the Grenadines"
         ],
         "xaxis": "x",
         "y": [
          "-1"
         ],
         "yaxis": "y"
        },
        {
         "alignmentgroup": "True",
         "hovertemplate": "Country=%{x}<br>FDI_2018=%{y}<extra></extra>",
         "legendgroup": "Trinidad and Tobago",
         "marker": {
          "color": "#FECB52"
         },
         "name": "Trinidad and Tobago",
         "offsetgroup": "Trinidad and Tobago",
         "orientation": "v",
         "showlegend": true,
         "textposition": "auto",
         "type": "bar",
         "x": [
          "Trinidad and Tobago"
         ],
         "xaxis": "x",
         "y": [
          "165"
         ],
         "yaxis": "y"
        },
        {
         "alignmentgroup": "True",
         "hovertemplate": "Country=%{x}<br>FDI_2018=%{y}<extra></extra>",
         "legendgroup": "Africa",
         "marker": {
          "color": "#636efa"
         },
         "name": "Africa",
         "offsetgroup": "Africa",
         "orientation": "v",
         "showlegend": true,
         "textposition": "auto",
         "type": "bar",
         "x": [
          "Africa"
         ],
         "xaxis": "x",
         "y": [
          "5,652"
         ],
         "yaxis": "y"
        },
        {
         "alignmentgroup": "True",
         "hovertemplate": "Country=%{x}<br>FDI_2018=%{y}<extra></extra>",
         "legendgroup": "South Africa",
         "marker": {
          "color": "#EF553B"
         },
         "name": "South Africa",
         "offsetgroup": "South Africa",
         "orientation": "v",
         "showlegend": true,
         "textposition": "auto",
         "type": "bar",
         "x": [
          "South Africa"
         ],
         "xaxis": "x",
         "y": [
          "4,013"
         ],
         "yaxis": "y"
        },
        {
         "alignmentgroup": "True",
         "hovertemplate": "Country=%{x}<br>FDI_2018=%{y}<extra></extra>",
         "legendgroup": "Benin",
         "marker": {
          "color": "#00cc96"
         },
         "name": "Benin",
         "offsetgroup": "Benin",
         "orientation": "v",
         "showlegend": true,
         "textposition": "auto",
         "type": "bar",
         "x": [
          "Benin"
         ],
         "xaxis": "x",
         "y": [
          "0"
         ],
         "yaxis": "y"
        },
        {
         "alignmentgroup": "True",
         "hovertemplate": "Country=%{x}<br>FDI_2018=%{y}<extra></extra>",
         "legendgroup": "Botswana",
         "marker": {
          "color": "#ab63fa"
         },
         "name": "Botswana",
         "offsetgroup": "Botswana",
         "orientation": "v",
         "showlegend": true,
         "textposition": "auto",
         "type": "bar",
         "x": [
          "Botswana"
         ],
         "xaxis": "x",
         "y": [
          "0"
         ],
         "yaxis": "y"
        },
        {
         "alignmentgroup": "True",
         "hovertemplate": "Country=%{x}<br>FDI_2018=%{y}<extra></extra>",
         "legendgroup": "Burkina Faso",
         "marker": {
          "color": "#FFA15A"
         },
         "name": "Burkina Faso",
         "offsetgroup": "Burkina Faso",
         "orientation": "v",
         "showlegend": true,
         "textposition": "auto",
         "type": "bar",
         "x": [
          "Burkina Faso"
         ],
         "xaxis": "x",
         "y": [
          "-1"
         ],
         "yaxis": "y"
        },
        {
         "alignmentgroup": "True",
         "hovertemplate": "Country=%{x}<br>FDI_2018=%{y}<extra></extra>",
         "legendgroup": "Burundi",
         "marker": {
          "color": "#19d3f3"
         },
         "name": "Burundi",
         "offsetgroup": "Burundi",
         "orientation": "v",
         "showlegend": true,
         "textposition": "auto",
         "type": "bar",
         "x": [
          "Burundi"
         ],
         "xaxis": "x",
         "y": [
          "0"
         ],
         "yaxis": "y"
        },
        {
         "alignmentgroup": "True",
         "hovertemplate": "Country=%{x}<br>FDI_2018=%{y}<extra></extra>",
         "legendgroup": "Cabo Verde",
         "marker": {
          "color": "#FF6692"
         },
         "name": "Cabo Verde",
         "offsetgroup": "Cabo Verde",
         "orientation": "v",
         "showlegend": true,
         "textposition": "auto",
         "type": "bar",
         "x": [
          "Cabo Verde"
         ],
         "xaxis": "x",
         "y": [
          "-2"
         ],
         "yaxis": "y"
        },
        {
         "alignmentgroup": "True",
         "hovertemplate": "Country=%{x}<br>FDI_2018=%{y}<extra></extra>",
         "legendgroup": "Chad",
         "marker": {
          "color": "#B6E880"
         },
         "name": "Chad",
         "offsetgroup": "Chad",
         "orientation": "v",
         "showlegend": true,
         "textposition": "auto",
         "type": "bar",
         "x": [
          "Chad"
         ],
         "xaxis": "x",
         "y": [
          "1"
         ],
         "yaxis": "y"
        },
        {
         "alignmentgroup": "True",
         "hovertemplate": "Country=%{x}<br>FDI_2018=%{y}<extra></extra>",
         "legendgroup": "Comoros",
         "marker": {
          "color": "#FF97FF"
         },
         "name": "Comoros",
         "offsetgroup": "Comoros",
         "orientation": "v",
         "showlegend": true,
         "textposition": "auto",
         "type": "bar",
         "x": [
          "Comoros"
         ],
         "xaxis": "x",
         "y": [
          "0"
         ],
         "yaxis": "y"
        },
        {
         "alignmentgroup": "True",
         "hovertemplate": "Country=%{x}<br>FDI_2018=%{y}<extra></extra>",
         "legendgroup": "Djibouti",
         "marker": {
          "color": "#FECB52"
         },
         "name": "Djibouti",
         "offsetgroup": "Djibouti",
         "orientation": "v",
         "showlegend": true,
         "textposition": "auto",
         "type": "bar",
         "x": [
          "Djibouti"
         ],
         "xaxis": "x",
         "y": [
          "0"
         ],
         "yaxis": "y"
        },
        {
         "alignmentgroup": "True",
         "hovertemplate": "Country=%{x}<br>FDI_2018=%{y}<extra></extra>",
         "legendgroup": "Egypt",
         "marker": {
          "color": "#636efa"
         },
         "name": "Egypt",
         "offsetgroup": "Egypt",
         "orientation": "v",
         "showlegend": true,
         "textposition": "auto",
         "type": "bar",
         "x": [
          "Egypt"
         ],
         "xaxis": "x",
         "y": [
          "-43"
         ],
         "yaxis": "y"
        },
        {
         "alignmentgroup": "True",
         "hovertemplate": "Country=%{x}<br>FDI_2018=%{y}<extra></extra>",
         "legendgroup": "Eritrea",
         "marker": {
          "color": "#EF553B"
         },
         "name": "Eritrea",
         "offsetgroup": "Eritrea",
         "orientation": "v",
         "showlegend": true,
         "textposition": "auto",
         "type": "bar",
         "x": [
          "Eritrea"
         ],
         "xaxis": "x",
         "y": [
          "0"
         ],
         "yaxis": "y"
        },
        {
         "alignmentgroup": "True",
         "hovertemplate": "Country=%{x}<br>FDI_2018=%{y}<extra></extra>",
         "legendgroup": "Eswatini",
         "marker": {
          "color": "#00cc96"
         },
         "name": "Eswatini",
         "offsetgroup": "Eswatini",
         "orientation": "v",
         "showlegend": true,
         "textposition": "auto",
         "type": "bar",
         "x": [
          "Eswatini"
         ],
         "xaxis": "x",
         "y": [
          "0"
         ],
         "yaxis": "y"
        },
        {
         "alignmentgroup": "True",
         "hovertemplate": "Country=%{x}<br>FDI_2018=%{y}<extra></extra>",
         "legendgroup": "Gambia",
         "marker": {
          "color": "#ab63fa"
         },
         "name": "Gambia",
         "offsetgroup": "Gambia",
         "orientation": "v",
         "showlegend": true,
         "textposition": "auto",
         "type": "bar",
         "x": [
          "Gambia"
         ],
         "xaxis": "x",
         "y": [
          "0"
         ],
         "yaxis": "y"
        },
        {
         "alignmentgroup": "True",
         "hovertemplate": "Country=%{x}<br>FDI_2018=%{y}<extra></extra>",
         "legendgroup": "Ghana",
         "marker": {
          "color": "#FFA15A"
         },
         "name": "Ghana",
         "offsetgroup": "Ghana",
         "orientation": "v",
         "showlegend": true,
         "textposition": "auto",
         "type": "bar",
         "x": [
          "Ghana"
         ],
         "xaxis": "x",
         "y": [
          "-4"
         ],
         "yaxis": "y"
        },
        {
         "alignmentgroup": "True",
         "hovertemplate": "Country=%{x}<br>FDI_2018=%{y}<extra></extra>",
         "legendgroup": "Guinea-Bissau",
         "marker": {
          "color": "#19d3f3"
         },
         "name": "Guinea-Bissau",
         "offsetgroup": "Guinea-Bissau",
         "orientation": "v",
         "showlegend": true,
         "textposition": "auto",
         "type": "bar",
         "x": [
          "Guinea-Bissau"
         ],
         "xaxis": "x",
         "y": [
          "0"
         ],
         "yaxis": "y"
        },
        {
         "alignmentgroup": "True",
         "hovertemplate": "Country=%{x}<br>FDI_2018=%{y}<extra></extra>",
         "legendgroup": "Lesotho",
         "marker": {
          "color": "#FF6692"
         },
         "name": "Lesotho",
         "offsetgroup": "Lesotho",
         "orientation": "v",
         "showlegend": true,
         "textposition": "auto",
         "type": "bar",
         "x": [
          "Lesotho"
         ],
         "xaxis": "x",
         "y": [
          "0"
         ],
         "yaxis": "y"
        },
        {
         "alignmentgroup": "True",
         "hovertemplate": "Country=%{x}<br>FDI_2018=%{y}<extra></extra>",
         "legendgroup": "Liberia",
         "marker": {
          "color": "#B6E880"
         },
         "name": "Liberia",
         "offsetgroup": "Liberia",
         "orientation": "v",
         "showlegend": true,
         "textposition": "auto",
         "type": "bar",
         "x": [
          "Liberia"
         ],
         "xaxis": "x",
         "y": [
          "466"
         ],
         "yaxis": "y"
        },
        {
         "alignmentgroup": "True",
         "hovertemplate": "Country=%{x}<br>FDI_2018=%{y}<extra></extra>",
         "legendgroup": "Mali",
         "marker": {
          "color": "#FF97FF"
         },
         "name": "Mali",
         "offsetgroup": "Mali",
         "orientation": "v",
         "showlegend": true,
         "textposition": "auto",
         "type": "bar",
         "x": [
          "Mali"
         ],
         "xaxis": "x",
         "y": [
          "-1"
         ],
         "yaxis": "y"
        },
        {
         "alignmentgroup": "True",
         "hovertemplate": "Country=%{x}<br>FDI_2018=%{y}<extra></extra>",
         "legendgroup": "Mauritania",
         "marker": {
          "color": "#FECB52"
         },
         "name": "Mauritania",
         "offsetgroup": "Mauritania",
         "orientation": "v",
         "showlegend": true,
         "textposition": "auto",
         "type": "bar",
         "x": [
          "Mauritania"
         ],
         "xaxis": "x",
         "y": [
          "0"
         ],
         "yaxis": "y"
        },
        {
         "alignmentgroup": "True",
         "hovertemplate": "Country=%{x}<br>FDI_2018=%{y}<extra></extra>",
         "legendgroup": "Mauritius",
         "marker": {
          "color": "#636efa"
         },
         "name": "Mauritius",
         "offsetgroup": "Mauritius",
         "orientation": "v",
         "showlegend": true,
         "textposition": "auto",
         "type": "bar",
         "x": [
          "Mauritius"
         ],
         "xaxis": "x",
         "y": [
          "487"
         ],
         "yaxis": "y"
        },
        {
         "alignmentgroup": "True",
         "hovertemplate": "Country=%{x}<br>FDI_2018=%{y}<extra></extra>",
         "legendgroup": "Nigeria",
         "marker": {
          "color": "#EF553B"
         },
         "name": "Nigeria",
         "offsetgroup": "Nigeria",
         "orientation": "v",
         "showlegend": true,
         "textposition": "auto",
         "type": "bar",
         "x": [
          "Nigeria"
         ],
         "xaxis": "x",
         "y": [
          "81"
         ],
         "yaxis": "y"
        },
        {
         "alignmentgroup": "True",
         "hovertemplate": "Country=%{x}<br>FDI_2018=%{y}<extra></extra>",
         "legendgroup": "Rwanda",
         "marker": {
          "color": "#00cc96"
         },
         "name": "Rwanda",
         "offsetgroup": "Rwanda",
         "orientation": "v",
         "showlegend": true,
         "textposition": "auto",
         "type": "bar",
         "x": [
          "Rwanda"
         ],
         "xaxis": "x",
         "y": [
          "0"
         ],
         "yaxis": "y"
        },
        {
         "alignmentgroup": "True",
         "hovertemplate": "Country=%{x}<br>FDI_2018=%{y}<extra></extra>",
         "legendgroup": "Sao Tome and Principe",
         "marker": {
          "color": "#ab63fa"
         },
         "name": "Sao Tome and Principe",
         "offsetgroup": "Sao Tome and Principe",
         "orientation": "v",
         "showlegend": true,
         "textposition": "auto",
         "type": "bar",
         "x": [
          "Sao Tome and Principe"
         ],
         "xaxis": "x",
         "y": [
          "0"
         ],
         "yaxis": "y"
        },
        {
         "alignmentgroup": "True",
         "hovertemplate": "Country=%{x}<br>FDI_2018=%{y}<extra></extra>",
         "legendgroup": "Sierra Leone",
         "marker": {
          "color": "#FFA15A"
         },
         "name": "Sierra Leone",
         "offsetgroup": "Sierra Leone",
         "orientation": "v",
         "showlegend": true,
         "textposition": "auto",
         "type": "bar",
         "x": [
          "Sierra Leone"
         ],
         "xaxis": "x",
         "y": [
          "0"
         ],
         "yaxis": "y"
        },
        {
         "alignmentgroup": "True",
         "hovertemplate": "Country=%{x}<br>FDI_2018=%{y}<extra></extra>",
         "legendgroup": "South Sudan",
         "marker": {
          "color": "#19d3f3"
         },
         "name": "South Sudan",
         "offsetgroup": "South Sudan",
         "orientation": "v",
         "showlegend": true,
         "textposition": "auto",
         "type": "bar",
         "x": [
          "South Sudan"
         ],
         "xaxis": "x",
         "y": [
          "0"
         ],
         "yaxis": "y"
        },
        {
         "alignmentgroup": "True",
         "hovertemplate": "Country=%{x}<br>FDI_2018=%{y}<extra></extra>",
         "legendgroup": "Togo",
         "marker": {
          "color": "#FF6692"
         },
         "name": "Togo",
         "offsetgroup": "Togo",
         "orientation": "v",
         "showlegend": true,
         "textposition": "auto",
         "type": "bar",
         "x": [
          "Togo"
         ],
         "xaxis": "x",
         "y": [
          "0"
         ],
         "yaxis": "y"
        },
        {
         "alignmentgroup": "True",
         "hovertemplate": "Country=%{x}<br>FDI_2018=%{y}<extra></extra>",
         "legendgroup": "Tunisia",
         "marker": {
          "color": "#B6E880"
         },
         "name": "Tunisia",
         "offsetgroup": "Tunisia",
         "orientation": "v",
         "showlegend": true,
         "textposition": "auto",
         "type": "bar",
         "x": [
          "Tunisia"
         ],
         "xaxis": "x",
         "y": [
          "1"
         ],
         "yaxis": "y"
        },
        {
         "alignmentgroup": "True",
         "hovertemplate": "Country=%{x}<br>FDI_2018=%{y}<extra></extra>",
         "legendgroup": "Western Sahara",
         "marker": {
          "color": "#FF97FF"
         },
         "name": "Western Sahara",
         "offsetgroup": "Western Sahara",
         "orientation": "v",
         "showlegend": true,
         "textposition": "auto",
         "type": "bar",
         "x": [
          "Western Sahara"
         ],
         "xaxis": "x",
         "y": [
          "0"
         ],
         "yaxis": "y"
        },
        {
         "alignmentgroup": "True",
         "hovertemplate": "Country=%{x}<br>FDI_2018=%{y}<extra></extra>",
         "legendgroup": "Zambia",
         "marker": {
          "color": "#FECB52"
         },
         "name": "Zambia",
         "offsetgroup": "Zambia",
         "orientation": "v",
         "showlegend": true,
         "textposition": "auto",
         "type": "bar",
         "x": [
          "Zambia"
         ],
         "xaxis": "x",
         "y": [
          "-6"
         ],
         "yaxis": "y"
        },
        {
         "alignmentgroup": "True",
         "hovertemplate": "Country=%{x}<br>FDI_2018=%{y}<extra></extra>",
         "legendgroup": "Middle East",
         "marker": {
          "color": "#636efa"
         },
         "name": "Middle East",
         "offsetgroup": "Middle East",
         "orientation": "v",
         "showlegend": true,
         "textposition": "auto",
         "type": "bar",
         "x": [
          "Middle East"
         ],
         "xaxis": "x",
         "y": [
          "29,329"
         ],
         "yaxis": "y"
        },
        {
         "alignmentgroup": "True",
         "hovertemplate": "Country=%{x}<br>FDI_2018=%{y}<extra></extra>",
         "legendgroup": "Israel",
         "marker": {
          "color": "#EF553B"
         },
         "name": "Israel",
         "offsetgroup": "Israel",
         "orientation": "v",
         "showlegend": true,
         "textposition": "auto",
         "type": "bar",
         "x": [
          "Israel"
         ],
         "xaxis": "x",
         "y": [
          "13,982"
         ],
         "yaxis": "y"
        },
        {
         "alignmentgroup": "True",
         "hovertemplate": "Country=%{x}<br>FDI_2018=%{y}<extra></extra>",
         "legendgroup": "Kuwait",
         "marker": {
          "color": "#00cc96"
         },
         "name": "Kuwait",
         "offsetgroup": "Kuwait",
         "orientation": "v",
         "showlegend": true,
         "textposition": "auto",
         "type": "bar",
         "x": [
          "Kuwait"
         ],
         "xaxis": "x",
         "y": [
          "1,276"
         ],
         "yaxis": "y"
        },
        {
         "alignmentgroup": "True",
         "hovertemplate": "Country=%{x}<br>FDI_2018=%{y}<extra></extra>",
         "legendgroup": "Lebanon",
         "marker": {
          "color": "#ab63fa"
         },
         "name": "Lebanon",
         "offsetgroup": "Lebanon",
         "orientation": "v",
         "showlegend": true,
         "textposition": "auto",
         "type": "bar",
         "x": [
          "Lebanon"
         ],
         "xaxis": "x",
         "y": [
          "19"
         ],
         "yaxis": "y"
        },
        {
         "alignmentgroup": "True",
         "hovertemplate": "Country=%{x}<br>FDI_2018=%{y}<extra></extra>",
         "legendgroup": "Saudi Arabia",
         "marker": {
          "color": "#FFA15A"
         },
         "name": "Saudi Arabia",
         "offsetgroup": "Saudi Arabia",
         "orientation": "v",
         "showlegend": true,
         "textposition": "auto",
         "type": "bar",
         "x": [
          "Saudi Arabia"
         ],
         "xaxis": "x",
         "y": [
          "6,912"
         ],
         "yaxis": "y"
        },
        {
         "alignmentgroup": "True",
         "hovertemplate": "Country=%{x}<br>FDI_2018=%{y}<extra></extra>",
         "legendgroup": "United Arab Emirates",
         "marker": {
          "color": "#19d3f3"
         },
         "name": "United Arab Emirates",
         "offsetgroup": "United Arab Emirates",
         "orientation": "v",
         "showlegend": true,
         "textposition": "auto",
         "type": "bar",
         "x": [
          "United Arab Emirates"
         ],
         "xaxis": "x",
         "y": [
          "5,530"
         ],
         "yaxis": "y"
        },
        {
         "alignmentgroup": "True",
         "hovertemplate": "Country=%{x}<br>FDI_2018=%{y}<extra></extra>",
         "legendgroup": "Oman",
         "marker": {
          "color": "#FF6692"
         },
         "name": "Oman",
         "offsetgroup": "Oman",
         "orientation": "v",
         "showlegend": true,
         "textposition": "auto",
         "type": "bar",
         "x": [
          "Oman"
         ],
         "xaxis": "x",
         "y": [
          "15"
         ],
         "yaxis": "y"
        },
        {
         "alignmentgroup": "True",
         "hovertemplate": "Country=%{x}<br>FDI_2018=%{y}<extra></extra>",
         "legendgroup": "Syria",
         "marker": {
          "color": "#B6E880"
         },
         "name": "Syria",
         "offsetgroup": "Syria",
         "orientation": "v",
         "showlegend": true,
         "textposition": "auto",
         "type": "bar",
         "x": [
          "Syria"
         ],
         "xaxis": "x",
         "y": [
          "0"
         ],
         "yaxis": "y"
        },
        {
         "alignmentgroup": "True",
         "hovertemplate": "Country=%{x}<br>FDI_2018=%{y}<extra></extra>",
         "legendgroup": "Yemen",
         "marker": {
          "color": "#FF97FF"
         },
         "name": "Yemen",
         "offsetgroup": "Yemen",
         "orientation": "v",
         "showlegend": true,
         "textposition": "auto",
         "type": "bar",
         "x": [
          "Yemen"
         ],
         "xaxis": "x",
         "y": [
          "0"
         ],
         "yaxis": "y"
        },
        {
         "alignmentgroup": "True",
         "hovertemplate": "Country=%{x}<br>FDI_2018=%{y}<extra></extra>",
         "legendgroup": "Asia and Pacific",
         "marker": {
          "color": "#FECB52"
         },
         "name": "Asia and Pacific",
         "offsetgroup": "Asia and Pacific",
         "orientation": "v",
         "showlegend": true,
         "textposition": "auto",
         "type": "bar",
         "x": [
          "Asia and Pacific"
         ],
         "xaxis": "x",
         "y": [
          "701,193"
         ],
         "yaxis": "y"
        },
        {
         "alignmentgroup": "True",
         "hovertemplate": "Country=%{x}<br>FDI_2018=%{y}<extra></extra>",
         "legendgroup": "Australia",
         "marker": {
          "color": "#636efa"
         },
         "name": "Australia",
         "offsetgroup": "Australia",
         "orientation": "v",
         "showlegend": true,
         "textposition": "auto",
         "type": "bar",
         "x": [
          "Australia"
         ],
         "xaxis": "x",
         "y": [
          "63,070"
         ],
         "yaxis": "y"
        },
        {
         "alignmentgroup": "True",
         "hovertemplate": "Country=%{x}<br>FDI_2018=%{y}<extra></extra>",
         "legendgroup": "China",
         "marker": {
          "color": "#EF553B"
         },
         "name": "China",
         "offsetgroup": "China",
         "orientation": "v",
         "showlegend": true,
         "textposition": "auto",
         "type": "bar",
         "x": [
          "China"
         ],
         "xaxis": "x",
         "y": [
          "33,543"
         ],
         "yaxis": "y"
        },
        {
         "alignmentgroup": "True",
         "hovertemplate": "Country=%{x}<br>FDI_2018=%{y}<extra></extra>",
         "legendgroup": "Hong Kong",
         "marker": {
          "color": "#00cc96"
         },
         "name": "Hong Kong",
         "offsetgroup": "Hong Kong",
         "orientation": "v",
         "showlegend": true,
         "textposition": "auto",
         "type": "bar",
         "x": [
          "Hong Kong"
         ],
         "xaxis": "x",
         "y": [
          "13,159"
         ],
         "yaxis": "y"
        },
        {
         "alignmentgroup": "True",
         "hovertemplate": "Country=%{x}<br>FDI_2018=%{y}<extra></extra>",
         "legendgroup": "India",
         "marker": {
          "color": "#ab63fa"
         },
         "name": "India",
         "offsetgroup": "India",
         "orientation": "v",
         "showlegend": true,
         "textposition": "auto",
         "type": "bar",
         "x": [
          "India"
         ],
         "xaxis": "x",
         "y": [
          "5,127"
         ],
         "yaxis": "y"
        },
        {
         "alignmentgroup": "True",
         "hovertemplate": "Country=%{x}<br>FDI_2018=%{y}<extra></extra>",
         "legendgroup": "Japan",
         "marker": {
          "color": "#FFA15A"
         },
         "name": "Japan",
         "offsetgroup": "Japan",
         "orientation": "v",
         "showlegend": true,
         "textposition": "auto",
         "type": "bar",
         "x": [
          "Japan"
         ],
         "xaxis": "x",
         "y": [
          "493,763"
         ],
         "yaxis": "y"
        },
        {
         "alignmentgroup": "True",
         "hovertemplate": "Country=%{x}<br>FDI_2018=%{y}<extra></extra>",
         "legendgroup": "Malaysia",
         "marker": {
          "color": "#19d3f3"
         },
         "name": "Malaysia",
         "offsetgroup": "Malaysia",
         "orientation": "v",
         "showlegend": true,
         "textposition": "auto",
         "type": "bar",
         "x": [
          "Malaysia"
         ],
         "xaxis": "x",
         "y": [
          "1,218"
         ],
         "yaxis": "y"
        },
        {
         "alignmentgroup": "True",
         "hovertemplate": "Country=%{x}<br>FDI_2018=%{y}<extra></extra>",
         "legendgroup": "New Zealand",
         "marker": {
          "color": "#FF6692"
         },
         "name": "New Zealand",
         "offsetgroup": "New Zealand",
         "orientation": "v",
         "showlegend": true,
         "textposition": "auto",
         "type": "bar",
         "x": [
          "New Zealand"
         ],
         "xaxis": "x",
         "y": [
          "2,107"
         ],
         "yaxis": "y"
        },
        {
         "alignmentgroup": "True",
         "hovertemplate": "Country=%{x}<br>FDI_2018=%{y}<extra></extra>",
         "legendgroup": "Singapore",
         "marker": {
          "color": "#B6E880"
         },
         "name": "Singapore",
         "offsetgroup": "Singapore",
         "orientation": "v",
         "showlegend": true,
         "textposition": "auto",
         "type": "bar",
         "x": [
          "Singapore"
         ],
         "xaxis": "x",
         "y": [
          "18,267"
         ],
         "yaxis": "y"
        },
        {
         "alignmentgroup": "True",
         "hovertemplate": "Country=%{x}<br>FDI_2018=%{y}<extra></extra>",
         "legendgroup": "South Korea",
         "marker": {
          "color": "#FF97FF"
         },
         "name": "South Korea",
         "offsetgroup": "South Korea",
         "orientation": "v",
         "showlegend": true,
         "textposition": "auto",
         "type": "bar",
         "x": [
          "South Korea"
         ],
         "xaxis": "x",
         "y": [
          "56,612"
         ],
         "yaxis": "y"
        },
        {
         "alignmentgroup": "True",
         "hovertemplate": "Country=%{x}<br>FDI_2018=%{y}<extra></extra>",
         "legendgroup": "Taiwan",
         "marker": {
          "color": "#FECB52"
         },
         "name": "Taiwan",
         "offsetgroup": "Taiwan",
         "orientation": "v",
         "showlegend": true,
         "textposition": "auto",
         "type": "bar",
         "x": [
          "Taiwan"
         ],
         "xaxis": "x",
         "y": [
          "10,512"
         ],
         "yaxis": "y"
        },
        {
         "alignmentgroup": "True",
         "hovertemplate": "Country=%{x}<br>FDI_2018=%{y}<extra></extra>",
         "legendgroup": "Bangladesh",
         "marker": {
          "color": "#636efa"
         },
         "name": "Bangladesh",
         "offsetgroup": "Bangladesh",
         "orientation": "v",
         "showlegend": true,
         "textposition": "auto",
         "type": "bar",
         "x": [
          "Bangladesh"
         ],
         "xaxis": "x",
         "y": [
          "12"
         ],
         "yaxis": "y"
        },
        {
         "alignmentgroup": "True",
         "hovertemplate": "Country=%{x}<br>FDI_2018=%{y}<extra></extra>",
         "legendgroup": "Bhutan",
         "marker": {
          "color": "#EF553B"
         },
         "name": "Bhutan",
         "offsetgroup": "Bhutan",
         "orientation": "v",
         "showlegend": true,
         "textposition": "auto",
         "type": "bar",
         "x": [
          "Bhutan"
         ],
         "xaxis": "x",
         "y": [
          "0"
         ],
         "yaxis": "y"
        },
        {
         "alignmentgroup": "True",
         "hovertemplate": "Country=%{x}<br>FDI_2018=%{y}<extra></extra>",
         "legendgroup": "Burma",
         "marker": {
          "color": "#00cc96"
         },
         "name": "Burma",
         "offsetgroup": "Burma",
         "orientation": "v",
         "showlegend": true,
         "textposition": "auto",
         "type": "bar",
         "x": [
          "Burma"
         ],
         "xaxis": "x",
         "y": [
          "3"
         ],
         "yaxis": "y"
        },
        {
         "alignmentgroup": "True",
         "hovertemplate": "Country=%{x}<br>FDI_2018=%{y}<extra></extra>",
         "legendgroup": "Cambodia",
         "marker": {
          "color": "#ab63fa"
         },
         "name": "Cambodia",
         "offsetgroup": "Cambodia",
         "orientation": "v",
         "showlegend": true,
         "textposition": "auto",
         "type": "bar",
         "x": [
          "Cambodia"
         ],
         "xaxis": "x",
         "y": [
          "4"
         ],
         "yaxis": "y"
        },
        {
         "alignmentgroup": "True",
         "hovertemplate": "Country=%{x}<br>FDI_2018=%{y}<extra></extra>",
         "legendgroup": "French Islands, Indian Ocean",
         "marker": {
          "color": "#FFA15A"
         },
         "name": "French Islands, Indian Ocean",
         "offsetgroup": "French Islands, Indian Ocean",
         "orientation": "v",
         "showlegend": true,
         "textposition": "auto",
         "type": "bar",
         "x": [
          "French Islands, Indian Ocean"
         ],
         "xaxis": "x",
         "y": [
          "0"
         ],
         "yaxis": "y"
        },
        {
         "alignmentgroup": "True",
         "hovertemplate": "Country=%{x}<br>FDI_2018=%{y}<extra></extra>",
         "legendgroup": "Indonesia",
         "marker": {
          "color": "#19d3f3"
         },
         "name": "Indonesia",
         "offsetgroup": "Indonesia",
         "orientation": "v",
         "showlegend": true,
         "textposition": "auto",
         "type": "bar",
         "x": [
          "Indonesia"
         ],
         "xaxis": "x",
         "y": [
          "344"
         ],
         "yaxis": "y"
        },
        {
         "alignmentgroup": "True",
         "hovertemplate": "Country=%{x}<br>FDI_2018=%{y}<extra></extra>",
         "legendgroup": "Kiribati",
         "marker": {
          "color": "#FF6692"
         },
         "name": "Kiribati",
         "offsetgroup": "Kiribati",
         "orientation": "v",
         "showlegend": true,
         "textposition": "auto",
         "type": "bar",
         "x": [
          "Kiribati"
         ],
         "xaxis": "x",
         "y": [
          "0"
         ],
         "yaxis": "y"
        },
        {
         "alignmentgroup": "True",
         "hovertemplate": "Country=%{x}<br>FDI_2018=%{y}<extra></extra>",
         "legendgroup": "Laos",
         "marker": {
          "color": "#B6E880"
         },
         "name": "Laos",
         "offsetgroup": "Laos",
         "orientation": "v",
         "showlegend": true,
         "textposition": "auto",
         "type": "bar",
         "x": [
          "Laos"
         ],
         "xaxis": "x",
         "y": [
          "0"
         ],
         "yaxis": "y"
        },
        {
         "alignmentgroup": "True",
         "hovertemplate": "Country=%{x}<br>FDI_2018=%{y}<extra></extra>",
         "legendgroup": "Maldives",
         "marker": {
          "color": "#FF97FF"
         },
         "name": "Maldives",
         "offsetgroup": "Maldives",
         "orientation": "v",
         "showlegend": true,
         "textposition": "auto",
         "type": "bar",
         "x": [
          "Maldives"
         ],
         "xaxis": "x",
         "y": [
          "0"
         ],
         "yaxis": "y"
        },
        {
         "alignmentgroup": "True",
         "hovertemplate": "Country=%{x}<br>FDI_2018=%{y}<extra></extra>",
         "legendgroup": "Micronesia",
         "marker": {
          "color": "#FECB52"
         },
         "name": "Micronesia",
         "offsetgroup": "Micronesia",
         "orientation": "v",
         "showlegend": true,
         "textposition": "auto",
         "type": "bar",
         "x": [
          "Micronesia"
         ],
         "xaxis": "x",
         "y": [
          "1"
         ],
         "yaxis": "y"
        },
        {
         "alignmentgroup": "True",
         "hovertemplate": "Country=%{x}<br>FDI_2018=%{y}<extra></extra>",
         "legendgroup": "Nauru",
         "marker": {
          "color": "#636efa"
         },
         "name": "Nauru",
         "offsetgroup": "Nauru",
         "orientation": "v",
         "showlegend": true,
         "textposition": "auto",
         "type": "bar",
         "x": [
          "Nauru"
         ],
         "xaxis": "x",
         "y": [
          "0"
         ],
         "yaxis": "y"
        },
        {
         "alignmentgroup": "True",
         "hovertemplate": "Country=%{x}<br>FDI_2018=%{y}<extra></extra>",
         "legendgroup": "North Korea",
         "marker": {
          "color": "#EF553B"
         },
         "name": "North Korea",
         "offsetgroup": "North Korea",
         "orientation": "v",
         "showlegend": true,
         "textposition": "auto",
         "type": "bar",
         "x": [
          "North Korea"
         ],
         "xaxis": "x",
         "y": [
          "0"
         ],
         "yaxis": "y"
        },
        {
         "alignmentgroup": "True",
         "hovertemplate": "Country=%{x}<br>FDI_2018=%{y}<extra></extra>",
         "legendgroup": "Pakistan",
         "marker": {
          "color": "#00cc96"
         },
         "name": "Pakistan",
         "offsetgroup": "Pakistan",
         "orientation": "v",
         "showlegend": true,
         "textposition": "auto",
         "type": "bar",
         "x": [
          "Pakistan"
         ],
         "xaxis": "x",
         "y": [
          "167"
         ],
         "yaxis": "y"
        },
        {
         "alignmentgroup": "True",
         "hovertemplate": "Country=%{x}<br>FDI_2018=%{y}<extra></extra>",
         "legendgroup": "Papua New Guinea",
         "marker": {
          "color": "#ab63fa"
         },
         "name": "Papua New Guinea",
         "offsetgroup": "Papua New Guinea",
         "orientation": "v",
         "showlegend": true,
         "textposition": "auto",
         "type": "bar",
         "x": [
          "Papua New Guinea"
         ],
         "xaxis": "x",
         "y": [
          "1"
         ],
         "yaxis": "y"
        },
        {
         "alignmentgroup": "True",
         "hovertemplate": "Country=%{x}<br>FDI_2018=%{y}<extra></extra>",
         "legendgroup": "Philippines",
         "marker": {
          "color": "#FFA15A"
         },
         "name": "Philippines",
         "offsetgroup": "Philippines",
         "orientation": "v",
         "showlegend": true,
         "textposition": "auto",
         "type": "bar",
         "x": [
          "Philippines"
         ],
         "xaxis": "x",
         "y": [
          "361"
         ],
         "yaxis": "y"
        },
        {
         "alignmentgroup": "True",
         "hovertemplate": "Country=%{x}<br>FDI_2018=%{y}<extra></extra>",
         "legendgroup": "Solomon Islands",
         "marker": {
          "color": "#19d3f3"
         },
         "name": "Solomon Islands",
         "offsetgroup": "Solomon Islands",
         "orientation": "v",
         "showlegend": true,
         "textposition": "auto",
         "type": "bar",
         "x": [
          "Solomon Islands"
         ],
         "xaxis": "x",
         "y": [
          "0"
         ],
         "yaxis": "y"
        },
        {
         "alignmentgroup": "True",
         "hovertemplate": "Country=%{x}<br>FDI_2018=%{y}<extra></extra>",
         "legendgroup": "Sri Lanka",
         "marker": {
          "color": "#FF6692"
         },
         "name": "Sri Lanka",
         "offsetgroup": "Sri Lanka",
         "orientation": "v",
         "showlegend": true,
         "textposition": "auto",
         "type": "bar",
         "x": [
          "Sri Lanka"
         ],
         "xaxis": "x",
         "y": [
          "66"
         ],
         "yaxis": "y"
        },
        {
         "alignmentgroup": "True",
         "hovertemplate": "Country=%{x}<br>FDI_2018=%{y}<extra></extra>",
         "legendgroup": "Thailand",
         "marker": {
          "color": "#B6E880"
         },
         "name": "Thailand",
         "offsetgroup": "Thailand",
         "orientation": "v",
         "showlegend": true,
         "textposition": "auto",
         "type": "bar",
         "x": [
          "Thailand"
         ],
         "xaxis": "x",
         "y": [
          "2,136"
         ],
         "yaxis": "y"
        },
        {
         "alignmentgroup": "True",
         "hovertemplate": "Country=%{x}<br>FDI_2018=%{y}<extra></extra>",
         "legendgroup": "Timor-Leste",
         "marker": {
          "color": "#FF97FF"
         },
         "name": "Timor-Leste",
         "offsetgroup": "Timor-Leste",
         "orientation": "v",
         "showlegend": true,
         "textposition": "auto",
         "type": "bar",
         "x": [
          "Timor-Leste"
         ],
         "xaxis": "x",
         "y": [
          "0"
         ],
         "yaxis": "y"
        },
        {
         "alignmentgroup": "True",
         "hovertemplate": "Country=%{x}<br>FDI_2018=%{y}<extra></extra>",
         "legendgroup": "Tongo",
         "marker": {
          "color": "#FECB52"
         },
         "name": "Tongo",
         "offsetgroup": "Tongo",
         "orientation": "v",
         "showlegend": true,
         "textposition": "auto",
         "type": "bar",
         "x": [
          "Tongo"
         ],
         "xaxis": "x",
         "y": [
          "0"
         ],
         "yaxis": "y"
        },
        {
         "alignmentgroup": "True",
         "hovertemplate": "Country=%{x}<br>FDI_2018=%{y}<extra></extra>",
         "legendgroup": "Tuvalu",
         "marker": {
          "color": "#636efa"
         },
         "name": "Tuvalu",
         "offsetgroup": "Tuvalu",
         "orientation": "v",
         "showlegend": true,
         "textposition": "auto",
         "type": "bar",
         "x": [
          "Tuvalu"
         ],
         "xaxis": "x",
         "y": [
          "0"
         ],
         "yaxis": "y"
        },
        {
         "alignmentgroup": "True",
         "hovertemplate": "Country=%{x}<br>FDI_2018=%{y}<extra></extra>",
         "legendgroup": "United Kingdom Islands, Indian Ocean",
         "marker": {
          "color": "#EF553B"
         },
         "name": "United Kingdom Islands, Indian Ocean",
         "offsetgroup": "United Kingdom Islands, Indian Ocean",
         "orientation": "v",
         "showlegend": true,
         "textposition": "auto",
         "type": "bar",
         "x": [
          "United Kingdom Islands, Indian Ocean"
         ],
         "xaxis": "x",
         "y": [
          "-1"
         ],
         "yaxis": "y"
        },
        {
         "alignmentgroup": "True",
         "hovertemplate": "Country=%{x}<br>FDI_2018=%{y}<extra></extra>",
         "legendgroup": "Vietnam",
         "marker": {
          "color": "#00cc96"
         },
         "name": "Vietnam",
         "offsetgroup": "Vietnam",
         "orientation": "v",
         "showlegend": true,
         "textposition": "auto",
         "type": "bar",
         "x": [
          "Vietnam"
         ],
         "xaxis": "x",
         "y": [
          "59"
         ],
         "yaxis": "y"
        }
       ],
       "layout": {
        "autosize": true,
        "barmode": "relative",
        "legend": {
         "title": {
          "text": "Country"
         },
         "tracegroupgap": 0
        },
        "margin": {
         "t": 60
        },
        "template": {
         "data": {
          "bar": [
           {
            "error_x": {
             "color": "#2a3f5f"
            },
            "error_y": {
             "color": "#2a3f5f"
            },
            "marker": {
             "line": {
              "color": "#E5ECF6",
              "width": 0.5
             }
            },
            "type": "bar"
           }
          ],
          "barpolar": [
           {
            "marker": {
             "line": {
              "color": "#E5ECF6",
              "width": 0.5
             }
            },
            "type": "barpolar"
           }
          ],
          "carpet": [
           {
            "aaxis": {
             "endlinecolor": "#2a3f5f",
             "gridcolor": "white",
             "linecolor": "white",
             "minorgridcolor": "white",
             "startlinecolor": "#2a3f5f"
            },
            "baxis": {
             "endlinecolor": "#2a3f5f",
             "gridcolor": "white",
             "linecolor": "white",
             "minorgridcolor": "white",
             "startlinecolor": "#2a3f5f"
            },
            "type": "carpet"
           }
          ],
          "choropleth": [
           {
            "colorbar": {
             "outlinewidth": 0,
             "ticks": ""
            },
            "type": "choropleth"
           }
          ],
          "contour": [
           {
            "colorbar": {
             "outlinewidth": 0,
             "ticks": ""
            },
            "colorscale": [
             [
              0,
              "#0d0887"
             ],
             [
              0.1111111111111111,
              "#46039f"
             ],
             [
              0.2222222222222222,
              "#7201a8"
             ],
             [
              0.3333333333333333,
              "#9c179e"
             ],
             [
              0.4444444444444444,
              "#bd3786"
             ],
             [
              0.5555555555555556,
              "#d8576b"
             ],
             [
              0.6666666666666666,
              "#ed7953"
             ],
             [
              0.7777777777777778,
              "#fb9f3a"
             ],
             [
              0.8888888888888888,
              "#fdca26"
             ],
             [
              1,
              "#f0f921"
             ]
            ],
            "type": "contour"
           }
          ],
          "contourcarpet": [
           {
            "colorbar": {
             "outlinewidth": 0,
             "ticks": ""
            },
            "type": "contourcarpet"
           }
          ],
          "heatmap": [
           {
            "colorbar": {
             "outlinewidth": 0,
             "ticks": ""
            },
            "colorscale": [
             [
              0,
              "#0d0887"
             ],
             [
              0.1111111111111111,
              "#46039f"
             ],
             [
              0.2222222222222222,
              "#7201a8"
             ],
             [
              0.3333333333333333,
              "#9c179e"
             ],
             [
              0.4444444444444444,
              "#bd3786"
             ],
             [
              0.5555555555555556,
              "#d8576b"
             ],
             [
              0.6666666666666666,
              "#ed7953"
             ],
             [
              0.7777777777777778,
              "#fb9f3a"
             ],
             [
              0.8888888888888888,
              "#fdca26"
             ],
             [
              1,
              "#f0f921"
             ]
            ],
            "type": "heatmap"
           }
          ],
          "heatmapgl": [
           {
            "colorbar": {
             "outlinewidth": 0,
             "ticks": ""
            },
            "colorscale": [
             [
              0,
              "#0d0887"
             ],
             [
              0.1111111111111111,
              "#46039f"
             ],
             [
              0.2222222222222222,
              "#7201a8"
             ],
             [
              0.3333333333333333,
              "#9c179e"
             ],
             [
              0.4444444444444444,
              "#bd3786"
             ],
             [
              0.5555555555555556,
              "#d8576b"
             ],
             [
              0.6666666666666666,
              "#ed7953"
             ],
             [
              0.7777777777777778,
              "#fb9f3a"
             ],
             [
              0.8888888888888888,
              "#fdca26"
             ],
             [
              1,
              "#f0f921"
             ]
            ],
            "type": "heatmapgl"
           }
          ],
          "histogram": [
           {
            "marker": {
             "colorbar": {
              "outlinewidth": 0,
              "ticks": ""
             }
            },
            "type": "histogram"
           }
          ],
          "histogram2d": [
           {
            "colorbar": {
             "outlinewidth": 0,
             "ticks": ""
            },
            "colorscale": [
             [
              0,
              "#0d0887"
             ],
             [
              0.1111111111111111,
              "#46039f"
             ],
             [
              0.2222222222222222,
              "#7201a8"
             ],
             [
              0.3333333333333333,
              "#9c179e"
             ],
             [
              0.4444444444444444,
              "#bd3786"
             ],
             [
              0.5555555555555556,
              "#d8576b"
             ],
             [
              0.6666666666666666,
              "#ed7953"
             ],
             [
              0.7777777777777778,
              "#fb9f3a"
             ],
             [
              0.8888888888888888,
              "#fdca26"
             ],
             [
              1,
              "#f0f921"
             ]
            ],
            "type": "histogram2d"
           }
          ],
          "histogram2dcontour": [
           {
            "colorbar": {
             "outlinewidth": 0,
             "ticks": ""
            },
            "colorscale": [
             [
              0,
              "#0d0887"
             ],
             [
              0.1111111111111111,
              "#46039f"
             ],
             [
              0.2222222222222222,
              "#7201a8"
             ],
             [
              0.3333333333333333,
              "#9c179e"
             ],
             [
              0.4444444444444444,
              "#bd3786"
             ],
             [
              0.5555555555555556,
              "#d8576b"
             ],
             [
              0.6666666666666666,
              "#ed7953"
             ],
             [
              0.7777777777777778,
              "#fb9f3a"
             ],
             [
              0.8888888888888888,
              "#fdca26"
             ],
             [
              1,
              "#f0f921"
             ]
            ],
            "type": "histogram2dcontour"
           }
          ],
          "mesh3d": [
           {
            "colorbar": {
             "outlinewidth": 0,
             "ticks": ""
            },
            "type": "mesh3d"
           }
          ],
          "parcoords": [
           {
            "line": {
             "colorbar": {
              "outlinewidth": 0,
              "ticks": ""
             }
            },
            "type": "parcoords"
           }
          ],
          "pie": [
           {
            "automargin": true,
            "type": "pie"
           }
          ],
          "scatter": [
           {
            "marker": {
             "colorbar": {
              "outlinewidth": 0,
              "ticks": ""
             }
            },
            "type": "scatter"
           }
          ],
          "scatter3d": [
           {
            "line": {
             "colorbar": {
              "outlinewidth": 0,
              "ticks": ""
             }
            },
            "marker": {
             "colorbar": {
              "outlinewidth": 0,
              "ticks": ""
             }
            },
            "type": "scatter3d"
           }
          ],
          "scattercarpet": [
           {
            "marker": {
             "colorbar": {
              "outlinewidth": 0,
              "ticks": ""
             }
            },
            "type": "scattercarpet"
           }
          ],
          "scattergeo": [
           {
            "marker": {
             "colorbar": {
              "outlinewidth": 0,
              "ticks": ""
             }
            },
            "type": "scattergeo"
           }
          ],
          "scattergl": [
           {
            "marker": {
             "colorbar": {
              "outlinewidth": 0,
              "ticks": ""
             }
            },
            "type": "scattergl"
           }
          ],
          "scattermapbox": [
           {
            "marker": {
             "colorbar": {
              "outlinewidth": 0,
              "ticks": ""
             }
            },
            "type": "scattermapbox"
           }
          ],
          "scatterpolar": [
           {
            "marker": {
             "colorbar": {
              "outlinewidth": 0,
              "ticks": ""
             }
            },
            "type": "scatterpolar"
           }
          ],
          "scatterpolargl": [
           {
            "marker": {
             "colorbar": {
              "outlinewidth": 0,
              "ticks": ""
             }
            },
            "type": "scatterpolargl"
           }
          ],
          "scatterternary": [
           {
            "marker": {
             "colorbar": {
              "outlinewidth": 0,
              "ticks": ""
             }
            },
            "type": "scatterternary"
           }
          ],
          "surface": [
           {
            "colorbar": {
             "outlinewidth": 0,
             "ticks": ""
            },
            "colorscale": [
             [
              0,
              "#0d0887"
             ],
             [
              0.1111111111111111,
              "#46039f"
             ],
             [
              0.2222222222222222,
              "#7201a8"
             ],
             [
              0.3333333333333333,
              "#9c179e"
             ],
             [
              0.4444444444444444,
              "#bd3786"
             ],
             [
              0.5555555555555556,
              "#d8576b"
             ],
             [
              0.6666666666666666,
              "#ed7953"
             ],
             [
              0.7777777777777778,
              "#fb9f3a"
             ],
             [
              0.8888888888888888,
              "#fdca26"
             ],
             [
              1,
              "#f0f921"
             ]
            ],
            "type": "surface"
           }
          ],
          "table": [
           {
            "cells": {
             "fill": {
              "color": "#EBF0F8"
             },
             "line": {
              "color": "white"
             }
            },
            "header": {
             "fill": {
              "color": "#C8D4E3"
             },
             "line": {
              "color": "white"
             }
            },
            "type": "table"
           }
          ]
         },
         "layout": {
          "annotationdefaults": {
           "arrowcolor": "#2a3f5f",
           "arrowhead": 0,
           "arrowwidth": 1
          },
          "coloraxis": {
           "colorbar": {
            "outlinewidth": 0,
            "ticks": ""
           }
          },
          "colorscale": {
           "diverging": [
            [
             0,
             "#8e0152"
            ],
            [
             0.1,
             "#c51b7d"
            ],
            [
             0.2,
             "#de77ae"
            ],
            [
             0.3,
             "#f1b6da"
            ],
            [
             0.4,
             "#fde0ef"
            ],
            [
             0.5,
             "#f7f7f7"
            ],
            [
             0.6,
             "#e6f5d0"
            ],
            [
             0.7,
             "#b8e186"
            ],
            [
             0.8,
             "#7fbc41"
            ],
            [
             0.9,
             "#4d9221"
            ],
            [
             1,
             "#276419"
            ]
           ],
           "sequential": [
            [
             0,
             "#0d0887"
            ],
            [
             0.1111111111111111,
             "#46039f"
            ],
            [
             0.2222222222222222,
             "#7201a8"
            ],
            [
             0.3333333333333333,
             "#9c179e"
            ],
            [
             0.4444444444444444,
             "#bd3786"
            ],
            [
             0.5555555555555556,
             "#d8576b"
            ],
            [
             0.6666666666666666,
             "#ed7953"
            ],
            [
             0.7777777777777778,
             "#fb9f3a"
            ],
            [
             0.8888888888888888,
             "#fdca26"
            ],
            [
             1,
             "#f0f921"
            ]
           ],
           "sequentialminus": [
            [
             0,
             "#0d0887"
            ],
            [
             0.1111111111111111,
             "#46039f"
            ],
            [
             0.2222222222222222,
             "#7201a8"
            ],
            [
             0.3333333333333333,
             "#9c179e"
            ],
            [
             0.4444444444444444,
             "#bd3786"
            ],
            [
             0.5555555555555556,
             "#d8576b"
            ],
            [
             0.6666666666666666,
             "#ed7953"
            ],
            [
             0.7777777777777778,
             "#fb9f3a"
            ],
            [
             0.8888888888888888,
             "#fdca26"
            ],
            [
             1,
             "#f0f921"
            ]
           ]
          },
          "colorway": [
           "#636efa",
           "#EF553B",
           "#00cc96",
           "#ab63fa",
           "#FFA15A",
           "#19d3f3",
           "#FF6692",
           "#B6E880",
           "#FF97FF",
           "#FECB52"
          ],
          "font": {
           "color": "#2a3f5f"
          },
          "geo": {
           "bgcolor": "white",
           "lakecolor": "white",
           "landcolor": "#E5ECF6",
           "showlakes": true,
           "showland": true,
           "subunitcolor": "white"
          },
          "hoverlabel": {
           "align": "left"
          },
          "hovermode": "closest",
          "mapbox": {
           "style": "light"
          },
          "paper_bgcolor": "white",
          "plot_bgcolor": "#E5ECF6",
          "polar": {
           "angularaxis": {
            "gridcolor": "white",
            "linecolor": "white",
            "ticks": ""
           },
           "bgcolor": "#E5ECF6",
           "radialaxis": {
            "gridcolor": "white",
            "linecolor": "white",
            "ticks": ""
           }
          },
          "scene": {
           "xaxis": {
            "backgroundcolor": "#E5ECF6",
            "gridcolor": "white",
            "gridwidth": 2,
            "linecolor": "white",
            "showbackground": true,
            "ticks": "",
            "zerolinecolor": "white"
           },
           "yaxis": {
            "backgroundcolor": "#E5ECF6",
            "gridcolor": "white",
            "gridwidth": 2,
            "linecolor": "white",
            "showbackground": true,
            "ticks": "",
            "zerolinecolor": "white"
           },
           "zaxis": {
            "backgroundcolor": "#E5ECF6",
            "gridcolor": "white",
            "gridwidth": 2,
            "linecolor": "white",
            "showbackground": true,
            "ticks": "",
            "zerolinecolor": "white"
           }
          },
          "shapedefaults": {
           "line": {
            "color": "#2a3f5f"
           }
          },
          "ternary": {
           "aaxis": {
            "gridcolor": "white",
            "linecolor": "white",
            "ticks": ""
           },
           "baxis": {
            "gridcolor": "white",
            "linecolor": "white",
            "ticks": ""
           },
           "bgcolor": "#E5ECF6",
           "caxis": {
            "gridcolor": "white",
            "linecolor": "white",
            "ticks": ""
           }
          },
          "title": {
           "x": 0.05
          },
          "xaxis": {
           "automargin": true,
           "gridcolor": "white",
           "linecolor": "white",
           "ticks": "",
           "title": {
            "standoff": 15
           },
           "zerolinecolor": "white",
           "zerolinewidth": 2
          },
          "yaxis": {
           "automargin": true,
           "gridcolor": "white",
           "linecolor": "white",
           "ticks": "",
           "title": {
            "standoff": 15
           },
           "zerolinecolor": "white",
           "zerolinewidth": 2
          }
         }
        },
        "xaxis": {
         "anchor": "y",
         "autorange": true,
         "categoryarray": [
          "Canada",
          "Austria",
          "Belgium",
          "Denmark",
          "Finland",
          "France",
          "Germany",
          "Ireland",
          "Italy",
          "Luxembourg",
          "Netherlands",
          "Norway",
          "Spain",
          "Sweden",
          "Switzerland",
          "United Kingdom",
          "Andorra",
          "Armenia",
          "Azerbaijan",
          "Belarus",
          "Georgia",
          "Gibraltar",
          "Hungary",
          "Kosovo",
          "Kyrgyzstan",
          "Malta",
          "Moldova",
          "Monaco",
          "North Macedonia",
          "Portugal",
          "Russia",
          "San Marino",
          "Serbia",
          "Slovakia",
          "Slovenia",
          "Tajikistan",
          "Turkey",
          "Turkmenistan",
          "Vatican City",
          "Brazil",
          "Mexico",
          "Panama",
          "Venezuela",
          "Argentina",
          "Belize",
          "Chile",
          "Colombia",
          "Costa Rica",
          "Ecuador",
          "El Salvador",
          "French Guiana",
          "Honduras",
          "Nicaragua",
          "Peru",
          "Uruguay",
          "Bahamas",
          "Bermuda",
          "Curacao 2",
          "Netherlands Antilles 3",
          "United Kingdom Islands, Caribbean  4",
          "Antigua and Barbuda",
          "Barbados",
          "Dominican Republic",
          "French Islands, Caribbean",
          "Haiti",
          "Jamaica",
          "Sint Maarten 2",
          "St. Pierre and Miquelon",
          "St. Vincent and the Grenadines",
          "Trinidad and Tobago",
          "Africa",
          "South Africa",
          "Benin",
          "Botswana",
          "Burkina Faso",
          "Burundi",
          "Cabo Verde",
          "Chad",
          "Comoros",
          "Djibouti",
          "Egypt",
          "Eritrea",
          "Eswatini",
          "Gambia",
          "Ghana",
          "Guinea-Bissau",
          "Lesotho",
          "Liberia",
          "Mali",
          "Mauritania",
          "Mauritius",
          "Nigeria",
          "Rwanda",
          "Sao Tome and Principe",
          "Sierra Leone",
          "South Sudan",
          "Togo",
          "Tunisia",
          "Western Sahara",
          "Zambia",
          "Middle East",
          "Israel",
          "Kuwait",
          "Lebanon",
          "Saudi Arabia",
          "United Arab Emirates",
          "Oman",
          "Syria",
          "Yemen",
          "Asia and Pacific",
          "Australia",
          "China",
          "Hong Kong",
          "India",
          "Japan",
          "Malaysia",
          "New Zealand",
          "Singapore",
          "South Korea",
          "Taiwan",
          "Bangladesh",
          "Bhutan",
          "Burma",
          "Cambodia",
          "French Islands, Indian Ocean",
          "Indonesia",
          "Kiribati",
          "Laos",
          "Maldives",
          "Micronesia",
          "Nauru",
          "North Korea",
          "Pakistan",
          "Papua New Guinea",
          "Philippines",
          "Solomon Islands",
          "Sri Lanka",
          "Thailand",
          "Timor-Leste",
          "Tongo",
          "Tuvalu",
          "United Kingdom Islands, Indian Ocean",
          "Vietnam"
         ],
         "categoryorder": "array",
         "domain": [
          0,
          1
         ],
         "range": [
          -0.5,
          142.5
         ],
         "title": {
          "text": "Country"
         },
         "type": "category"
        },
        "yaxis": {
         "anchor": "x",
         "autorange": true,
         "domain": [
          0,
          1
         ],
         "range": [
          -39177.88888888888,
          740159.8888888889
         ],
         "title": {
          "text": "FDI_2018"
         }
        }
       }
      },
      "image/png": "[encoded data removed]",
      "text/html": [
       "<div>                            <div id=\"f77d1402-bec8-4fff-b1ca-0b497007fe27\" class=\"plotly-graph-div\" style=\"height:525px; width:100%;\"></div>            <script type=\"text/javascript\">                require([\"plotly\"], function(Plotly) {                    window.PLOTLYENV=window.PLOTLYENV || {};                                    if (document.getElementById(\"f77d1402-bec8-4fff-b1ca-0b497007fe27\")) {                    Plotly.newPlot(                        \"f77d1402-bec8-4fff-b1ca-0b497007fe27\",                        [{\"alignmentgroup\": \"True\", \"hovertemplate\": \"Country=%{x}<br>FDI_2018=%{y}<extra></extra>\", \"legendgroup\": \"Canada\", \"marker\": {\"color\": \"#636efa\"}, \"name\": \"Canada\", \"offsetgroup\": \"Canada\", \"orientation\": \"v\", \"showlegend\": true, \"textposition\": \"auto\", \"type\": \"bar\", \"x\": [\"Canada\"], \"xaxis\": \"x\", \"y\": [\"442,802\"], \"yaxis\": \"y\"}, {\"alignmentgroup\": \"True\", \"hovertemplate\": \"Country=%{x}<br>FDI_2018=%{y}<extra></extra>\", \"legendgroup\": \"Austria\", \"marker\": {\"color\": \"#EF553B\"}, \"name\": \"Austria\", \"offsetgroup\": \"Austria\", \"orientation\": \"v\", \"showlegend\": true, \"textposition\": \"auto\", \"type\": \"bar\", \"x\": [\"Austria\"], \"xaxis\": \"x\", \"y\": [\"12,392\"], \"yaxis\": \"y\"}, {\"alignmentgroup\": \"True\", \"hovertemplate\": \"Country=%{x}<br>FDI_2018=%{y}<extra></extra>\", \"legendgroup\": \"Belgium\", \"marker\": {\"color\": \"#00cc96\"}, \"name\": \"Belgium\", \"offsetgroup\": \"Belgium\", \"orientation\": \"v\", \"showlegend\": true, \"textposition\": \"auto\", \"type\": \"bar\", \"x\": [\"Belgium\"], \"xaxis\": \"x\", \"y\": [\"64,661\"], \"yaxis\": \"y\"}, {\"alignmentgroup\": \"True\", \"hovertemplate\": \"Country=%{x}<br>FDI_2018=%{y}<extra></extra>\", \"legendgroup\": \"Denmark\", \"marker\": {\"color\": \"#ab63fa\"}, \"name\": \"Denmark\", \"offsetgroup\": \"Denmark\", \"orientation\": \"v\", \"showlegend\": true, \"textposition\": \"auto\", \"type\": \"bar\", \"x\": [\"Denmark\"], \"xaxis\": \"x\", \"y\": [\"20,654\"], \"yaxis\": \"y\"}, {\"alignmentgroup\": \"True\", \"hovertemplate\": \"Country=%{x}<br>FDI_2018=%{y}<extra></extra>\", \"legendgroup\": \"Finland\", \"marker\": {\"color\": \"#FFA15A\"}, \"name\": \"Finland\", \"offsetgroup\": \"Finland\", \"orientation\": \"v\", \"showlegend\": true, \"textposition\": \"auto\", \"type\": \"bar\", \"x\": [\"Finland\"], \"xaxis\": \"x\", \"y\": [\"14,464\"], \"yaxis\": \"y\"}, {\"alignmentgroup\": \"True\", \"hovertemplate\": \"Country=%{x}<br>FDI_2018=%{y}<extra></extra>\", \"legendgroup\": \"France\", \"marker\": {\"color\": \"#19d3f3\"}, \"name\": \"France\", \"offsetgroup\": \"France\", \"orientation\": \"v\", \"showlegend\": true, \"textposition\": \"auto\", \"type\": \"bar\", \"x\": [\"France\"], \"xaxis\": \"x\", \"y\": [\"268,169\"], \"yaxis\": \"y\"}, {\"alignmentgroup\": \"True\", \"hovertemplate\": \"Country=%{x}<br>FDI_2018=%{y}<extra></extra>\", \"legendgroup\": \"Germany\", \"marker\": {\"color\": \"#FF6692\"}, \"name\": \"Germany\", \"offsetgroup\": \"Germany\", \"orientation\": \"v\", \"showlegend\": true, \"textposition\": \"auto\", \"type\": \"bar\", \"x\": [\"Germany\"], \"xaxis\": \"x\", \"y\": [\"328,124\"], \"yaxis\": \"y\"}, {\"alignmentgroup\": \"True\", \"hovertemplate\": \"Country=%{x}<br>FDI_2018=%{y}<extra></extra>\", \"legendgroup\": \"Ireland\", \"marker\": {\"color\": \"#B6E880\"}, \"name\": \"Ireland\", \"offsetgroup\": \"Ireland\", \"orientation\": \"v\", \"showlegend\": true, \"textposition\": \"auto\", \"type\": \"bar\", \"x\": [\"Ireland\"], \"xaxis\": \"x\", \"y\": [\"265,004\"], \"yaxis\": \"y\"}, {\"alignmentgroup\": \"True\", \"hovertemplate\": \"Country=%{x}<br>FDI_2018=%{y}<extra></extra>\", \"legendgroup\": \"Italy\", \"marker\": {\"color\": \"#FF97FF\"}, \"name\": \"Italy\", \"offsetgroup\": \"Italy\", \"orientation\": \"v\", \"showlegend\": true, \"textposition\": \"auto\", \"type\": \"bar\", \"x\": [\"Italy\"], \"xaxis\": \"x\", \"y\": [\"30,749\"], \"yaxis\": \"y\"}, {\"alignmentgroup\": \"True\", \"hovertemplate\": \"Country=%{x}<br>FDI_2018=%{y}<extra></extra>\", \"legendgroup\": \"Luxembourg\", \"marker\": {\"color\": \"#FECB52\"}, \"name\": \"Luxembourg\", \"offsetgroup\": \"Luxembourg\", \"orientation\": \"v\", \"showlegend\": true, \"textposition\": \"auto\", \"type\": \"bar\", \"x\": [\"Luxembourg\"], \"xaxis\": \"x\", \"y\": [\"312,976\"], \"yaxis\": \"y\"}, {\"alignmentgroup\": \"True\", \"hovertemplate\": \"Country=%{x}<br>FDI_2018=%{y}<extra></extra>\", \"legendgroup\": \"Netherlands\", \"marker\": {\"color\": \"#636efa\"}, \"name\": \"Netherlands\", \"offsetgroup\": \"Netherlands\", \"orientation\": \"v\", \"showlegend\": true, \"textposition\": \"auto\", \"type\": \"bar\", \"x\": [\"Netherlands\"], \"xaxis\": \"x\", \"y\": [\"462,303\"], \"yaxis\": \"y\"}, {\"alignmentgroup\": \"True\", \"hovertemplate\": \"Country=%{x}<br>FDI_2018=%{y}<extra></extra>\", \"legendgroup\": \"Norway\", \"marker\": {\"color\": \"#EF553B\"}, \"name\": \"Norway\", \"offsetgroup\": \"Norway\", \"orientation\": \"v\", \"showlegend\": true, \"textposition\": \"auto\", \"type\": \"bar\", \"x\": [\"Norway\"], \"xaxis\": \"x\", \"y\": [\"26,007\"], \"yaxis\": \"y\"}, {\"alignmentgroup\": \"True\", \"hovertemplate\": \"Country=%{x}<br>FDI_2018=%{y}<extra></extra>\", \"legendgroup\": \"Spain\", \"marker\": {\"color\": \"#00cc96\"}, \"name\": \"Spain\", \"offsetgroup\": \"Spain\", \"orientation\": \"v\", \"showlegend\": true, \"textposition\": \"auto\", \"type\": \"bar\", \"x\": [\"Spain\"], \"xaxis\": \"x\", \"y\": [\"83,379\"], \"yaxis\": \"y\"}, {\"alignmentgroup\": \"True\", \"hovertemplate\": \"Country=%{x}<br>FDI_2018=%{y}<extra></extra>\", \"legendgroup\": \"Sweden\", \"marker\": {\"color\": \"#ab63fa\"}, \"name\": \"Sweden\", \"offsetgroup\": \"Sweden\", \"orientation\": \"v\", \"showlegend\": true, \"textposition\": \"auto\", \"type\": \"bar\", \"x\": [\"Sweden\"], \"xaxis\": \"x\", \"y\": [\"49,546\"], \"yaxis\": \"y\"}, {\"alignmentgroup\": \"True\", \"hovertemplate\": \"Country=%{x}<br>FDI_2018=%{y}<extra></extra>\", \"legendgroup\": \"Switzerland\", \"marker\": {\"color\": \"#FFA15A\"}, \"name\": \"Switzerland\", \"offsetgroup\": \"Switzerland\", \"orientation\": \"v\", \"showlegend\": true, \"textposition\": \"auto\", \"type\": \"bar\", \"x\": [\"Switzerland\"], \"xaxis\": \"x\", \"y\": [\"295,783\"], \"yaxis\": \"y\"}, {\"alignmentgroup\": \"True\", \"hovertemplate\": \"Country=%{x}<br>FDI_2018=%{y}<extra></extra>\", \"legendgroup\": \"United Kingdom\", \"marker\": {\"color\": \"#19d3f3\"}, \"name\": \"United Kingdom\", \"offsetgroup\": \"United Kingdom\", \"orientation\": \"v\", \"showlegend\": true, \"textposition\": \"auto\", \"type\": \"bar\", \"x\": [\"United Kingdom\"], \"xaxis\": \"x\", \"y\": [\"496,622\"], \"yaxis\": \"y\"}, {\"alignmentgroup\": \"True\", \"hovertemplate\": \"Country=%{x}<br>FDI_2018=%{y}<extra></extra>\", \"legendgroup\": \"Andorra\", \"marker\": {\"color\": \"#FF6692\"}, \"name\": \"Andorra\", \"offsetgroup\": \"Andorra\", \"orientation\": \"v\", \"showlegend\": true, \"textposition\": \"auto\", \"type\": \"bar\", \"x\": [\"Andorra\"], \"xaxis\": \"x\", \"y\": [\"0\"], \"yaxis\": \"y\"}, {\"alignmentgroup\": \"True\", \"hovertemplate\": \"Country=%{x}<br>FDI_2018=%{y}<extra></extra>\", \"legendgroup\": \"Armenia\", \"marker\": {\"color\": \"#B6E880\"}, \"name\": \"Armenia\", \"offsetgroup\": \"Armenia\", \"orientation\": \"v\", \"showlegend\": true, \"textposition\": \"auto\", \"type\": \"bar\", \"x\": [\"Armenia\"], \"xaxis\": \"x\", \"y\": [\"3\"], \"yaxis\": \"y\"}, {\"alignmentgroup\": \"True\", \"hovertemplate\": \"Country=%{x}<br>FDI_2018=%{y}<extra></extra>\", \"legendgroup\": \"Azerbaijan\", \"marker\": {\"color\": \"#FF97FF\"}, \"name\": \"Azerbaijan\", \"offsetgroup\": \"Azerbaijan\", \"orientation\": \"v\", \"showlegend\": true, \"textposition\": \"auto\", \"type\": \"bar\", \"x\": [\"Azerbaijan\"], \"xaxis\": \"x\", \"y\": [\"-2\"], \"yaxis\": \"y\"}, {\"alignmentgroup\": \"True\", \"hovertemplate\": \"Country=%{x}<br>FDI_2018=%{y}<extra></extra>\", \"legendgroup\": \"Belarus\", \"marker\": {\"color\": \"#FECB52\"}, \"name\": \"Belarus\", \"offsetgroup\": \"Belarus\", \"orientation\": \"v\", \"showlegend\": true, \"textposition\": \"auto\", \"type\": \"bar\", \"x\": [\"Belarus\"], \"xaxis\": \"x\", \"y\": [\"4\"], \"yaxis\": \"y\"}, {\"alignmentgroup\": \"True\", \"hovertemplate\": \"Country=%{x}<br>FDI_2018=%{y}<extra></extra>\", \"legendgroup\": \"Georgia\", \"marker\": {\"color\": \"#636efa\"}, \"name\": \"Georgia\", \"offsetgroup\": \"Georgia\", \"orientation\": \"v\", \"showlegend\": true, \"textposition\": \"auto\", \"type\": \"bar\", \"x\": [\"Georgia\"], \"xaxis\": \"x\", \"y\": [\"0\"], \"yaxis\": \"y\"}, {\"alignmentgroup\": \"True\", \"hovertemplate\": \"Country=%{x}<br>FDI_2018=%{y}<extra></extra>\", \"legendgroup\": \"Gibraltar\", \"marker\": {\"color\": \"#EF553B\"}, \"name\": \"Gibraltar\", \"offsetgroup\": \"Gibraltar\", \"orientation\": \"v\", \"showlegend\": true, \"textposition\": \"auto\", \"type\": \"bar\", \"x\": [\"Gibraltar\"], \"xaxis\": \"x\", \"y\": [\"9,367\"], \"yaxis\": \"y\"}, {\"alignmentgroup\": \"True\", \"hovertemplate\": \"Country=%{x}<br>FDI_2018=%{y}<extra></extra>\", \"legendgroup\": \"Hungary\", \"marker\": {\"color\": \"#00cc96\"}, \"name\": \"Hungary\", \"offsetgroup\": \"Hungary\", \"orientation\": \"v\", \"showlegend\": true, \"textposition\": \"auto\", \"type\": \"bar\", \"x\": [\"Hungary\"], \"xaxis\": \"x\", \"y\": [\"31,730\"], \"yaxis\": \"y\"}, {\"alignmentgroup\": \"True\", \"hovertemplate\": \"Country=%{x}<br>FDI_2018=%{y}<extra></extra>\", \"legendgroup\": \"Kosovo\", \"marker\": {\"color\": \"#ab63fa\"}, \"name\": \"Kosovo\", \"offsetgroup\": \"Kosovo\", \"orientation\": \"v\", \"showlegend\": true, \"textposition\": \"auto\", \"type\": \"bar\", \"x\": [\"Kosovo\"], \"xaxis\": \"x\", \"y\": [\"0\"], \"yaxis\": \"y\"}, {\"alignmentgroup\": \"True\", \"hovertemplate\": \"Country=%{x}<br>FDI_2018=%{y}<extra></extra>\", \"legendgroup\": \"Kyrgyzstan\", \"marker\": {\"color\": \"#FFA15A\"}, \"name\": \"Kyrgyzstan\", \"offsetgroup\": \"Kyrgyzstan\", \"orientation\": \"v\", \"showlegend\": true, \"textposition\": \"auto\", \"type\": \"bar\", \"x\": [\"Kyrgyzstan\"], \"xaxis\": \"x\", \"y\": [\"0\"], \"yaxis\": \"y\"}, {\"alignmentgroup\": \"True\", \"hovertemplate\": \"Country=%{x}<br>FDI_2018=%{y}<extra></extra>\", \"legendgroup\": \"Malta\", \"marker\": {\"color\": \"#19d3f3\"}, \"name\": \"Malta\", \"offsetgroup\": \"Malta\", \"orientation\": \"v\", \"showlegend\": true, \"textposition\": \"auto\", \"type\": \"bar\", \"x\": [\"Malta\"], \"xaxis\": \"x\", \"y\": [\"1,557\"], \"yaxis\": \"y\"}, {\"alignmentgroup\": \"True\", \"hovertemplate\": \"Country=%{x}<br>FDI_2018=%{y}<extra></extra>\", \"legendgroup\": \"Moldova\", \"marker\": {\"color\": \"#FF6692\"}, \"name\": \"Moldova\", \"offsetgroup\": \"Moldova\", \"orientation\": \"v\", \"showlegend\": true, \"textposition\": \"auto\", \"type\": \"bar\", \"x\": [\"Moldova\"], \"xaxis\": \"x\", \"y\": [\"0\"], \"yaxis\": \"y\"}, {\"alignmentgroup\": \"True\", \"hovertemplate\": \"Country=%{x}<br>FDI_2018=%{y}<extra></extra>\", \"legendgroup\": \"Monaco\", \"marker\": {\"color\": \"#B6E880\"}, \"name\": \"Monaco\", \"offsetgroup\": \"Monaco\", \"orientation\": \"v\", \"showlegend\": true, \"textposition\": \"auto\", \"type\": \"bar\", \"x\": [\"Monaco\"], \"xaxis\": \"x\", \"y\": [\"-26\"], \"yaxis\": \"y\"}, {\"alignmentgroup\": \"True\", \"hovertemplate\": \"Country=%{x}<br>FDI_2018=%{y}<extra></extra>\", \"legendgroup\": \"North Macedonia\", \"marker\": {\"color\": \"#FF97FF\"}, \"name\": \"North Macedonia\", \"offsetgroup\": \"North Macedonia\", \"orientation\": \"v\", \"showlegend\": true, \"textposition\": \"auto\", \"type\": \"bar\", \"x\": [\"North Macedonia\"], \"xaxis\": \"x\", \"y\": [\"-1\"], \"yaxis\": \"y\"}, {\"alignmentgroup\": \"True\", \"hovertemplate\": \"Country=%{x}<br>FDI_2018=%{y}<extra></extra>\", \"legendgroup\": \"Portugal\", \"marker\": {\"color\": \"#FECB52\"}, \"name\": \"Portugal\", \"offsetgroup\": \"Portugal\", \"orientation\": \"v\", \"showlegend\": true, \"textposition\": \"auto\", \"type\": \"bar\", \"x\": [\"Portugal\"], \"xaxis\": \"x\", \"y\": [\"1,056\"], \"yaxis\": \"y\"}, {\"alignmentgroup\": \"True\", \"hovertemplate\": \"Country=%{x}<br>FDI_2018=%{y}<extra></extra>\", \"legendgroup\": \"Russia\", \"marker\": {\"color\": \"#636efa\"}, \"name\": \"Russia\", \"offsetgroup\": \"Russia\", \"orientation\": \"v\", \"showlegend\": true, \"textposition\": \"auto\", \"type\": \"bar\", \"x\": [\"Russia\"], \"xaxis\": \"x\", \"y\": [\"4,455\"], \"yaxis\": \"y\"}, {\"alignmentgroup\": \"True\", \"hovertemplate\": \"Country=%{x}<br>FDI_2018=%{y}<extra></extra>\", \"legendgroup\": \"San Marino\", \"marker\": {\"color\": \"#EF553B\"}, \"name\": \"San Marino\", \"offsetgroup\": \"San Marino\", \"orientation\": \"v\", \"showlegend\": true, \"textposition\": \"auto\", \"type\": \"bar\", \"x\": [\"San Marino\"], \"xaxis\": \"x\", \"y\": [\"0\"], \"yaxis\": \"y\"}, {\"alignmentgroup\": \"True\", \"hovertemplate\": \"Country=%{x}<br>FDI_2018=%{y}<extra></extra>\", \"legendgroup\": \"Serbia\", \"marker\": {\"color\": \"#00cc96\"}, \"name\": \"Serbia\", \"offsetgroup\": \"Serbia\", \"orientation\": \"v\", \"showlegend\": true, \"textposition\": \"auto\", \"type\": \"bar\", \"x\": [\"Serbia\"], \"xaxis\": \"x\", \"y\": [\"3\"], \"yaxis\": \"y\"}, {\"alignmentgroup\": \"True\", \"hovertemplate\": \"Country=%{x}<br>FDI_2018=%{y}<extra></extra>\", \"legendgroup\": \"Slovakia\", \"marker\": {\"color\": \"#ab63fa\"}, \"name\": \"Slovakia\", \"offsetgroup\": \"Slovakia\", \"orientation\": \"v\", \"showlegend\": true, \"textposition\": \"auto\", \"type\": \"bar\", \"x\": [\"Slovakia\"], \"xaxis\": \"x\", \"y\": [\"14\"], \"yaxis\": \"y\"}, {\"alignmentgroup\": \"True\", \"hovertemplate\": \"Country=%{x}<br>FDI_2018=%{y}<extra></extra>\", \"legendgroup\": \"Slovenia\", \"marker\": {\"color\": \"#FFA15A\"}, \"name\": \"Slovenia\", \"offsetgroup\": \"Slovenia\", \"orientation\": \"v\", \"showlegend\": true, \"textposition\": \"auto\", \"type\": \"bar\", \"x\": [\"Slovenia\"], \"xaxis\": \"x\", \"y\": [\"6\"], \"yaxis\": \"y\"}, {\"alignmentgroup\": \"True\", \"hovertemplate\": \"Country=%{x}<br>FDI_2018=%{y}<extra></extra>\", \"legendgroup\": \"Tajikistan\", \"marker\": {\"color\": \"#19d3f3\"}, \"name\": \"Tajikistan\", \"offsetgroup\": \"Tajikistan\", \"orientation\": \"v\", \"showlegend\": true, \"textposition\": \"auto\", \"type\": \"bar\", \"x\": [\"Tajikistan\"], \"xaxis\": \"x\", \"y\": [\"0\"], \"yaxis\": \"y\"}, {\"alignmentgroup\": \"True\", \"hovertemplate\": \"Country=%{x}<br>FDI_2018=%{y}<extra></extra>\", \"legendgroup\": \"Turkey\", \"marker\": {\"color\": \"#FF6692\"}, \"name\": \"Turkey\", \"offsetgroup\": \"Turkey\", \"orientation\": \"v\", \"showlegend\": true, \"textposition\": \"auto\", \"type\": \"bar\", \"x\": [\"Turkey\"], \"xaxis\": \"x\", \"y\": [\"2,175\"], \"yaxis\": \"y\"}, {\"alignmentgroup\": \"True\", \"hovertemplate\": \"Country=%{x}<br>FDI_2018=%{y}<extra></extra>\", \"legendgroup\": \"Turkmenistan\", \"marker\": {\"color\": \"#B6E880\"}, \"name\": \"Turkmenistan\", \"offsetgroup\": \"Turkmenistan\", \"orientation\": \"v\", \"showlegend\": true, \"textposition\": \"auto\", \"type\": \"bar\", \"x\": [\"Turkmenistan\"], \"xaxis\": \"x\", \"y\": [\"0\"], \"yaxis\": \"y\"}, {\"alignmentgroup\": \"True\", \"hovertemplate\": \"Country=%{x}<br>FDI_2018=%{y}<extra></extra>\", \"legendgroup\": \"Vatican City\", \"marker\": {\"color\": \"#FF97FF\"}, \"name\": \"Vatican City\", \"offsetgroup\": \"Vatican City\", \"orientation\": \"v\", \"showlegend\": true, \"textposition\": \"auto\", \"type\": \"bar\", \"x\": [\"Vatican City\"], \"xaxis\": \"x\", \"y\": [\"0\"], \"yaxis\": \"y\"}, {\"alignmentgroup\": \"True\", \"hovertemplate\": \"Country=%{x}<br>FDI_2018=%{y}<extra></extra>\", \"legendgroup\": \"Brazil\", \"marker\": {\"color\": \"#FECB52\"}, \"name\": \"Brazil\", \"offsetgroup\": \"Brazil\", \"orientation\": \"v\", \"showlegend\": true, \"textposition\": \"auto\", \"type\": \"bar\", \"x\": [\"Brazil\"], \"xaxis\": \"x\", \"y\": [\"2,514\"], \"yaxis\": \"y\"}, {\"alignmentgroup\": \"True\", \"hovertemplate\": \"Country=%{x}<br>FDI_2018=%{y}<extra></extra>\", \"legendgroup\": \"Mexico\", \"marker\": {\"color\": \"#636efa\"}, \"name\": \"Mexico\", \"offsetgroup\": \"Mexico\", \"orientation\": \"v\", \"showlegend\": true, \"textposition\": \"auto\", \"type\": \"bar\", \"x\": [\"Mexico\"], \"xaxis\": \"x\", \"y\": [\"21,050\"], \"yaxis\": \"y\"}, {\"alignmentgroup\": \"True\", \"hovertemplate\": \"Country=%{x}<br>FDI_2018=%{y}<extra></extra>\", \"legendgroup\": \"Panama\", \"marker\": {\"color\": \"#EF553B\"}, \"name\": \"Panama\", \"offsetgroup\": \"Panama\", \"orientation\": \"v\", \"showlegend\": true, \"textposition\": \"auto\", \"type\": \"bar\", \"x\": [\"Panama\"], \"xaxis\": \"x\", \"y\": [\"2,789\"], \"yaxis\": \"y\"}, {\"alignmentgroup\": \"True\", \"hovertemplate\": \"Country=%{x}<br>FDI_2018=%{y}<extra></extra>\", \"legendgroup\": \"Venezuela\", \"marker\": {\"color\": \"#00cc96\"}, \"name\": \"Venezuela\", \"offsetgroup\": \"Venezuela\", \"orientation\": \"v\", \"showlegend\": true, \"textposition\": \"auto\", \"type\": \"bar\", \"x\": [\"Venezuela\"], \"xaxis\": \"x\", \"y\": [\"1,673\"], \"yaxis\": \"y\"}, {\"alignmentgroup\": \"True\", \"hovertemplate\": \"Country=%{x}<br>FDI_2018=%{y}<extra></extra>\", \"legendgroup\": \"Argentina\", \"marker\": {\"color\": \"#ab63fa\"}, \"name\": \"Argentina\", \"offsetgroup\": \"Argentina\", \"orientation\": \"v\", \"showlegend\": true, \"textposition\": \"auto\", \"type\": \"bar\", \"x\": [\"Argentina\"], \"xaxis\": \"x\", \"y\": [\"822\"], \"yaxis\": \"y\"}, {\"alignmentgroup\": \"True\", \"hovertemplate\": \"Country=%{x}<br>FDI_2018=%{y}<extra></extra>\", \"legendgroup\": \"Belize\", \"marker\": {\"color\": \"#FFA15A\"}, \"name\": \"Belize\", \"offsetgroup\": \"Belize\", \"orientation\": \"v\", \"showlegend\": true, \"textposition\": \"auto\", \"type\": \"bar\", \"x\": [\"Belize\"], \"xaxis\": \"x\", \"y\": [\"12\"], \"yaxis\": \"y\"}, {\"alignmentgroup\": \"True\", \"hovertemplate\": \"Country=%{x}<br>FDI_2018=%{y}<extra></extra>\", \"legendgroup\": \"Chile\", \"marker\": {\"color\": \"#19d3f3\"}, \"name\": \"Chile\", \"offsetgroup\": \"Chile\", \"orientation\": \"v\", \"showlegend\": true, \"textposition\": \"auto\", \"type\": \"bar\", \"x\": [\"Chile\"], \"xaxis\": \"x\", \"y\": [\"2,573\"], \"yaxis\": \"y\"}, {\"alignmentgroup\": \"True\", \"hovertemplate\": \"Country=%{x}<br>FDI_2018=%{y}<extra></extra>\", \"legendgroup\": \"Colombia\", \"marker\": {\"color\": \"#FF6692\"}, \"name\": \"Colombia\", \"offsetgroup\": \"Colombia\", \"orientation\": \"v\", \"showlegend\": true, \"textposition\": \"auto\", \"type\": \"bar\", \"x\": [\"Colombia\"], \"xaxis\": \"x\", \"y\": [\"140\"], \"yaxis\": \"y\"}, {\"alignmentgroup\": \"True\", \"hovertemplate\": \"Country=%{x}<br>FDI_2018=%{y}<extra></extra>\", \"legendgroup\": \"Costa Rica\", \"marker\": {\"color\": \"#B6E880\"}, \"name\": \"Costa Rica\", \"offsetgroup\": \"Costa Rica\", \"orientation\": \"v\", \"showlegend\": true, \"textposition\": \"auto\", \"type\": \"bar\", \"x\": [\"Costa Rica\"], \"xaxis\": \"x\", \"y\": [\"-211\"], \"yaxis\": \"y\"}, {\"alignmentgroup\": \"True\", \"hovertemplate\": \"Country=%{x}<br>FDI_2018=%{y}<extra></extra>\", \"legendgroup\": \"Ecuador\", \"marker\": {\"color\": \"#FF97FF\"}, \"name\": \"Ecuador\", \"offsetgroup\": \"Ecuador\", \"orientation\": \"v\", \"showlegend\": true, \"textposition\": \"auto\", \"type\": \"bar\", \"x\": [\"Ecuador\"], \"xaxis\": \"x\", \"y\": [\"30\"], \"yaxis\": \"y\"}, {\"alignmentgroup\": \"True\", \"hovertemplate\": \"Country=%{x}<br>FDI_2018=%{y}<extra></extra>\", \"legendgroup\": \"El Salvador\", \"marker\": {\"color\": \"#FECB52\"}, \"name\": \"El Salvador\", \"offsetgroup\": \"El Salvador\", \"orientation\": \"v\", \"showlegend\": true, \"textposition\": \"auto\", \"type\": \"bar\", \"x\": [\"El Salvador\"], \"xaxis\": \"x\", \"y\": [\"16\"], \"yaxis\": \"y\"}, {\"alignmentgroup\": \"True\", \"hovertemplate\": \"Country=%{x}<br>FDI_2018=%{y}<extra></extra>\", \"legendgroup\": \"French Guiana\", \"marker\": {\"color\": \"#636efa\"}, \"name\": \"French Guiana\", \"offsetgroup\": \"French Guiana\", \"orientation\": \"v\", \"showlegend\": true, \"textposition\": \"auto\", \"type\": \"bar\", \"x\": [\"French Guiana\"], \"xaxis\": \"x\", \"y\": [\"0\"], \"yaxis\": \"y\"}, {\"alignmentgroup\": \"True\", \"hovertemplate\": \"Country=%{x}<br>FDI_2018=%{y}<extra></extra>\", \"legendgroup\": \"Honduras\", \"marker\": {\"color\": \"#EF553B\"}, \"name\": \"Honduras\", \"offsetgroup\": \"Honduras\", \"orientation\": \"v\", \"showlegend\": true, \"textposition\": \"auto\", \"type\": \"bar\", \"x\": [\"Honduras\"], \"xaxis\": \"x\", \"y\": [\"-80\"], \"yaxis\": \"y\"}, {\"alignmentgroup\": \"True\", \"hovertemplate\": \"Country=%{x}<br>FDI_2018=%{y}<extra></extra>\", \"legendgroup\": \"Nicaragua\", \"marker\": {\"color\": \"#00cc96\"}, \"name\": \"Nicaragua\", \"offsetgroup\": \"Nicaragua\", \"orientation\": \"v\", \"showlegend\": true, \"textposition\": \"auto\", \"type\": \"bar\", \"x\": [\"Nicaragua\"], \"xaxis\": \"x\", \"y\": [\"-8\"], \"yaxis\": \"y\"}, {\"alignmentgroup\": \"True\", \"hovertemplate\": \"Country=%{x}<br>FDI_2018=%{y}<extra></extra>\", \"legendgroup\": \"Peru\", \"marker\": {\"color\": \"#ab63fa\"}, \"name\": \"Peru\", \"offsetgroup\": \"Peru\", \"orientation\": \"v\", \"showlegend\": true, \"textposition\": \"auto\", \"type\": \"bar\", \"x\": [\"Peru\"], \"xaxis\": \"x\", \"y\": [\"195\"], \"yaxis\": \"y\"}, {\"alignmentgroup\": \"True\", \"hovertemplate\": \"Country=%{x}<br>FDI_2018=%{y}<extra></extra>\", \"legendgroup\": \"Uruguay\", \"marker\": {\"color\": \"#FFA15A\"}, \"name\": \"Uruguay\", \"offsetgroup\": \"Uruguay\", \"orientation\": \"v\", \"showlegend\": true, \"textposition\": \"auto\", \"type\": \"bar\", \"x\": [\"Uruguay\"], \"xaxis\": \"x\", \"y\": [\"538\"], \"yaxis\": \"y\"}, {\"alignmentgroup\": \"True\", \"hovertemplate\": \"Country=%{x}<br>FDI_2018=%{y}<extra></extra>\", \"legendgroup\": \"Bahamas\", \"marker\": {\"color\": \"#19d3f3\"}, \"name\": \"Bahamas\", \"offsetgroup\": \"Bahamas\", \"orientation\": \"v\", \"showlegend\": true, \"textposition\": \"auto\", \"type\": \"bar\", \"x\": [\"Bahamas\"], \"xaxis\": \"x\", \"y\": [\"646\"], \"yaxis\": \"y\"}, {\"alignmentgroup\": \"True\", \"hovertemplate\": \"Country=%{x}<br>FDI_2018=%{y}<extra></extra>\", \"legendgroup\": \"Bermuda\", \"marker\": {\"color\": \"#FF6692\"}, \"name\": \"Bermuda\", \"offsetgroup\": \"Bermuda\", \"orientation\": \"v\", \"showlegend\": true, \"textposition\": \"auto\", \"type\": \"bar\", \"x\": [\"Bermuda\"], \"xaxis\": \"x\", \"y\": [\"28,018\"], \"yaxis\": \"y\"}, {\"alignmentgroup\": \"True\", \"hovertemplate\": \"Country=%{x}<br>FDI_2018=%{y}<extra></extra>\", \"legendgroup\": \"Curacao 2\", \"marker\": {\"color\": \"#B6E880\"}, \"name\": \"Curacao 2\", \"offsetgroup\": \"Curacao 2\", \"orientation\": \"v\", \"showlegend\": true, \"textposition\": \"auto\", \"type\": \"bar\", \"x\": [\"Curacao 2\"], \"xaxis\": \"x\", \"y\": [\"1,335\"], \"yaxis\": \"y\"}, {\"alignmentgroup\": \"True\", \"hovertemplate\": \"Country=%{x}<br>FDI_2018=%{y}<extra></extra>\", \"legendgroup\": \"Netherlands Antilles 3\", \"marker\": {\"color\": \"#FF97FF\"}, \"name\": \"Netherlands Antilles 3\", \"offsetgroup\": \"Netherlands Antilles 3\", \"orientation\": \"v\", \"showlegend\": true, \"textposition\": \"auto\", \"type\": \"bar\", \"x\": [\"Netherlands Antilles 3\"], \"xaxis\": \"x\", \"y\": [\"--\"], \"yaxis\": \"y\"}, {\"alignmentgroup\": \"True\", \"hovertemplate\": \"Country=%{x}<br>FDI_2018=%{y}<extra></extra>\", \"legendgroup\": \"United Kingdom Islands, Caribbean  4\", \"marker\": {\"color\": \"#FECB52\"}, \"name\": \"United Kingdom Islands, Caribbean  4\", \"offsetgroup\": \"United Kingdom Islands, Caribbean  4\", \"orientation\": \"v\", \"showlegend\": true, \"textposition\": \"auto\", \"type\": \"bar\", \"x\": [\"United Kingdom Islands, Caribbean  4\"], \"xaxis\": \"x\", \"y\": [\"83,555\"], \"yaxis\": \"y\"}, {\"alignmentgroup\": \"True\", \"hovertemplate\": \"Country=%{x}<br>FDI_2018=%{y}<extra></extra>\", \"legendgroup\": \"Antigua and Barbuda\", \"marker\": {\"color\": \"#636efa\"}, \"name\": \"Antigua and Barbuda\", \"offsetgroup\": \"Antigua and Barbuda\", \"orientation\": \"v\", \"showlegend\": true, \"textposition\": \"auto\", \"type\": \"bar\", \"x\": [\"Antigua and Barbuda\"], \"xaxis\": \"x\", \"y\": [\"3\"], \"yaxis\": \"y\"}, {\"alignmentgroup\": \"True\", \"hovertemplate\": \"Country=%{x}<br>FDI_2018=%{y}<extra></extra>\", \"legendgroup\": \"Barbados\", \"marker\": {\"color\": \"#EF553B\"}, \"name\": \"Barbados\", \"offsetgroup\": \"Barbados\", \"orientation\": \"v\", \"showlegend\": true, \"textposition\": \"auto\", \"type\": \"bar\", \"x\": [\"Barbados\"], \"xaxis\": \"x\", \"y\": [\"7,476\"], \"yaxis\": \"y\"}, {\"alignmentgroup\": \"True\", \"hovertemplate\": \"Country=%{x}<br>FDI_2018=%{y}<extra></extra>\", \"legendgroup\": \"Dominican Republic\", \"marker\": {\"color\": \"#00cc96\"}, \"name\": \"Dominican Republic\", \"offsetgroup\": \"Dominican Republic\", \"orientation\": \"v\", \"showlegend\": true, \"textposition\": \"auto\", \"type\": \"bar\", \"x\": [\"Dominican Republic\"], \"xaxis\": \"x\", \"y\": [\"107\"], \"yaxis\": \"y\"}, {\"alignmentgroup\": \"True\", \"hovertemplate\": \"Country=%{x}<br>FDI_2018=%{y}<extra></extra>\", \"legendgroup\": \"French Islands, Caribbean\", \"marker\": {\"color\": \"#ab63fa\"}, \"name\": \"French Islands, Caribbean\", \"offsetgroup\": \"French Islands, Caribbean\", \"orientation\": \"v\", \"showlegend\": true, \"textposition\": \"auto\", \"type\": \"bar\", \"x\": [\"French Islands, Caribbean\"], \"xaxis\": \"x\", \"y\": [\"-1\"], \"yaxis\": \"y\"}, {\"alignmentgroup\": \"True\", \"hovertemplate\": \"Country=%{x}<br>FDI_2018=%{y}<extra></extra>\", \"legendgroup\": \"Haiti\", \"marker\": {\"color\": \"#FFA15A\"}, \"name\": \"Haiti\", \"offsetgroup\": \"Haiti\", \"orientation\": \"v\", \"showlegend\": true, \"textposition\": \"auto\", \"type\": \"bar\", \"x\": [\"Haiti\"], \"xaxis\": \"x\", \"y\": [\"-1\"], \"yaxis\": \"y\"}, {\"alignmentgroup\": \"True\", \"hovertemplate\": \"Country=%{x}<br>FDI_2018=%{y}<extra></extra>\", \"legendgroup\": \"Jamaica\", \"marker\": {\"color\": \"#19d3f3\"}, \"name\": \"Jamaica\", \"offsetgroup\": \"Jamaica\", \"orientation\": \"v\", \"showlegend\": true, \"textposition\": \"auto\", \"type\": \"bar\", \"x\": [\"Jamaica\"], \"xaxis\": \"x\", \"y\": [\"46\"], \"yaxis\": \"y\"}, {\"alignmentgroup\": \"True\", \"hovertemplate\": \"Country=%{x}<br>FDI_2018=%{y}<extra></extra>\", \"legendgroup\": \"Sint Maarten 2\", \"marker\": {\"color\": \"#FF6692\"}, \"name\": \"Sint Maarten 2\", \"offsetgroup\": \"Sint Maarten 2\", \"orientation\": \"v\", \"showlegend\": true, \"textposition\": \"auto\", \"type\": \"bar\", \"x\": [\"Sint Maarten 2\"], \"xaxis\": \"x\", \"y\": [\"0\"], \"yaxis\": \"y\"}, {\"alignmentgroup\": \"True\", \"hovertemplate\": \"Country=%{x}<br>FDI_2018=%{y}<extra></extra>\", \"legendgroup\": \"St. Pierre and Miquelon\", \"marker\": {\"color\": \"#B6E880\"}, \"name\": \"St. Pierre and Miquelon\", \"offsetgroup\": \"St. Pierre and Miquelon\", \"orientation\": \"v\", \"showlegend\": true, \"textposition\": \"auto\", \"type\": \"bar\", \"x\": [\"St. Pierre and Miquelon\"], \"xaxis\": \"x\", \"y\": [\"0\"], \"yaxis\": \"y\"}, {\"alignmentgroup\": \"True\", \"hovertemplate\": \"Country=%{x}<br>FDI_2018=%{y}<extra></extra>\", \"legendgroup\": \"St. Vincent and the Grenadines\", \"marker\": {\"color\": \"#FF97FF\"}, \"name\": \"St. Vincent and the Grenadines\", \"offsetgroup\": \"St. Vincent and the Grenadines\", \"orientation\": \"v\", \"showlegend\": true, \"textposition\": \"auto\", \"type\": \"bar\", \"x\": [\"St. Vincent and the Grenadines\"], \"xaxis\": \"x\", \"y\": [\"-1\"], \"yaxis\": \"y\"}, {\"alignmentgroup\": \"True\", \"hovertemplate\": \"Country=%{x}<br>FDI_2018=%{y}<extra></extra>\", \"legendgroup\": \"Trinidad and Tobago\", \"marker\": {\"color\": \"#FECB52\"}, \"name\": \"Trinidad and Tobago\", \"offsetgroup\": \"Trinidad and Tobago\", \"orientation\": \"v\", \"showlegend\": true, \"textposition\": \"auto\", \"type\": \"bar\", \"x\": [\"Trinidad and Tobago\"], \"xaxis\": \"x\", \"y\": [\"165\"], \"yaxis\": \"y\"}, {\"alignmentgroup\": \"True\", \"hovertemplate\": \"Country=%{x}<br>FDI_2018=%{y}<extra></extra>\", \"legendgroup\": \"Africa\", \"marker\": {\"color\": \"#636efa\"}, \"name\": \"Africa\", \"offsetgroup\": \"Africa\", \"orientation\": \"v\", \"showlegend\": true, \"textposition\": \"auto\", \"type\": \"bar\", \"x\": [\"Africa\"], \"xaxis\": \"x\", \"y\": [\"5,652\"], \"yaxis\": \"y\"}, {\"alignmentgroup\": \"True\", \"hovertemplate\": \"Country=%{x}<br>FDI_2018=%{y}<extra></extra>\", \"legendgroup\": \"South Africa\", \"marker\": {\"color\": \"#EF553B\"}, \"name\": \"South Africa\", \"offsetgroup\": \"South Africa\", \"orientation\": \"v\", \"showlegend\": true, \"textposition\": \"auto\", \"type\": \"bar\", \"x\": [\"South Africa\"], \"xaxis\": \"x\", \"y\": [\"4,013\"], \"yaxis\": \"y\"}, {\"alignmentgroup\": \"True\", \"hovertemplate\": \"Country=%{x}<br>FDI_2018=%{y}<extra></extra>\", \"legendgroup\": \"Benin\", \"marker\": {\"color\": \"#00cc96\"}, \"name\": \"Benin\", \"offsetgroup\": \"Benin\", \"orientation\": \"v\", \"showlegend\": true, \"textposition\": \"auto\", \"type\": \"bar\", \"x\": [\"Benin\"], \"xaxis\": \"x\", \"y\": [\"0\"], \"yaxis\": \"y\"}, {\"alignmentgroup\": \"True\", \"hovertemplate\": \"Country=%{x}<br>FDI_2018=%{y}<extra></extra>\", \"legendgroup\": \"Botswana\", \"marker\": {\"color\": \"#ab63fa\"}, \"name\": \"Botswana\", \"offsetgroup\": \"Botswana\", \"orientation\": \"v\", \"showlegend\": true, \"textposition\": \"auto\", \"type\": \"bar\", \"x\": [\"Botswana\"], \"xaxis\": \"x\", \"y\": [\"0\"], \"yaxis\": \"y\"}, {\"alignmentgroup\": \"True\", \"hovertemplate\": \"Country=%{x}<br>FDI_2018=%{y}<extra></extra>\", \"legendgroup\": \"Burkina Faso\", \"marker\": {\"color\": \"#FFA15A\"}, \"name\": \"Burkina Faso\", \"offsetgroup\": \"Burkina Faso\", \"orientation\": \"v\", \"showlegend\": true, \"textposition\": \"auto\", \"type\": \"bar\", \"x\": [\"Burkina Faso\"], \"xaxis\": \"x\", \"y\": [\"-1\"], \"yaxis\": \"y\"}, {\"alignmentgroup\": \"True\", \"hovertemplate\": \"Country=%{x}<br>FDI_2018=%{y}<extra></extra>\", \"legendgroup\": \"Burundi\", \"marker\": {\"color\": \"#19d3f3\"}, \"name\": \"Burundi\", \"offsetgroup\": \"Burundi\", \"orientation\": \"v\", \"showlegend\": true, \"textposition\": \"auto\", \"type\": \"bar\", \"x\": [\"Burundi\"], \"xaxis\": \"x\", \"y\": [\"0\"], \"yaxis\": \"y\"}, {\"alignmentgroup\": \"True\", \"hovertemplate\": \"Country=%{x}<br>FDI_2018=%{y}<extra></extra>\", \"legendgroup\": \"Cabo Verde\", \"marker\": {\"color\": \"#FF6692\"}, \"name\": \"Cabo Verde\", \"offsetgroup\": \"Cabo Verde\", \"orientation\": \"v\", \"showlegend\": true, \"textposition\": \"auto\", \"type\": \"bar\", \"x\": [\"Cabo Verde\"], \"xaxis\": \"x\", \"y\": [\"-2\"], \"yaxis\": \"y\"}, {\"alignmentgroup\": \"True\", \"hovertemplate\": \"Country=%{x}<br>FDI_2018=%{y}<extra></extra>\", \"legendgroup\": \"Chad\", \"marker\": {\"color\": \"#B6E880\"}, \"name\": \"Chad\", \"offsetgroup\": \"Chad\", \"orientation\": \"v\", \"showlegend\": true, \"textposition\": \"auto\", \"type\": \"bar\", \"x\": [\"Chad\"], \"xaxis\": \"x\", \"y\": [\"1\"], \"yaxis\": \"y\"}, {\"alignmentgroup\": \"True\", \"hovertemplate\": \"Country=%{x}<br>FDI_2018=%{y}<extra></extra>\", \"legendgroup\": \"Comoros\", \"marker\": {\"color\": \"#FF97FF\"}, \"name\": \"Comoros\", \"offsetgroup\": \"Comoros\", \"orientation\": \"v\", \"showlegend\": true, \"textposition\": \"auto\", \"type\": \"bar\", \"x\": [\"Comoros\"], \"xaxis\": \"x\", \"y\": [\"0\"], \"yaxis\": \"y\"}, {\"alignmentgroup\": \"True\", \"hovertemplate\": \"Country=%{x}<br>FDI_2018=%{y}<extra></extra>\", \"legendgroup\": \"Djibouti\", \"marker\": {\"color\": \"#FECB52\"}, \"name\": \"Djibouti\", \"offsetgroup\": \"Djibouti\", \"orientation\": \"v\", \"showlegend\": true, \"textposition\": \"auto\", \"type\": \"bar\", \"x\": [\"Djibouti\"], \"xaxis\": \"x\", \"y\": [\"0\"], \"yaxis\": \"y\"}, {\"alignmentgroup\": \"True\", \"hovertemplate\": \"Country=%{x}<br>FDI_2018=%{y}<extra></extra>\", \"legendgroup\": \"Egypt\", \"marker\": {\"color\": \"#636efa\"}, \"name\": \"Egypt\", \"offsetgroup\": \"Egypt\", \"orientation\": \"v\", \"showlegend\": true, \"textposition\": \"auto\", \"type\": \"bar\", \"x\": [\"Egypt\"], \"xaxis\": \"x\", \"y\": [\"-43\"], \"yaxis\": \"y\"}, {\"alignmentgroup\": \"True\", \"hovertemplate\": \"Country=%{x}<br>FDI_2018=%{y}<extra></extra>\", \"legendgroup\": \"Eritrea\", \"marker\": {\"color\": \"#EF553B\"}, \"name\": \"Eritrea\", \"offsetgroup\": \"Eritrea\", \"orientation\": \"v\", \"showlegend\": true, \"textposition\": \"auto\", \"type\": \"bar\", \"x\": [\"Eritrea\"], \"xaxis\": \"x\", \"y\": [\"0\"], \"yaxis\": \"y\"}, {\"alignmentgroup\": \"True\", \"hovertemplate\": \"Country=%{x}<br>FDI_2018=%{y}<extra></extra>\", \"legendgroup\": \"Eswatini\", \"marker\": {\"color\": \"#00cc96\"}, \"name\": \"Eswatini\", \"offsetgroup\": \"Eswatini\", \"orientation\": \"v\", \"showlegend\": true, \"textposition\": \"auto\", \"type\": \"bar\", \"x\": [\"Eswatini\"], \"xaxis\": \"x\", \"y\": [\"0\"], \"yaxis\": \"y\"}, {\"alignmentgroup\": \"True\", \"hovertemplate\": \"Country=%{x}<br>FDI_2018=%{y}<extra></extra>\", \"legendgroup\": \"Gambia\", \"marker\": {\"color\": \"#ab63fa\"}, \"name\": \"Gambia\", \"offsetgroup\": \"Gambia\", \"orientation\": \"v\", \"showlegend\": true, \"textposition\": \"auto\", \"type\": \"bar\", \"x\": [\"Gambia\"], \"xaxis\": \"x\", \"y\": [\"0\"], \"yaxis\": \"y\"}, {\"alignmentgroup\": \"True\", \"hovertemplate\": \"Country=%{x}<br>FDI_2018=%{y}<extra></extra>\", \"legendgroup\": \"Ghana\", \"marker\": {\"color\": \"#FFA15A\"}, \"name\": \"Ghana\", \"offsetgroup\": \"Ghana\", \"orientation\": \"v\", \"showlegend\": true, \"textposition\": \"auto\", \"type\": \"bar\", \"x\": [\"Ghana\"], \"xaxis\": \"x\", \"y\": [\"-4\"], \"yaxis\": \"y\"}, {\"alignmentgroup\": \"True\", \"hovertemplate\": \"Country=%{x}<br>FDI_2018=%{y}<extra></extra>\", \"legendgroup\": \"Guinea-Bissau\", \"marker\": {\"color\": \"#19d3f3\"}, \"name\": \"Guinea-Bissau\", \"offsetgroup\": \"Guinea-Bissau\", \"orientation\": \"v\", \"showlegend\": true, \"textposition\": \"auto\", \"type\": \"bar\", \"x\": [\"Guinea-Bissau\"], \"xaxis\": \"x\", \"y\": [\"0\"], \"yaxis\": \"y\"}, {\"alignmentgroup\": \"True\", \"hovertemplate\": \"Country=%{x}<br>FDI_2018=%{y}<extra></extra>\", \"legendgroup\": \"Lesotho\", \"marker\": {\"color\": \"#FF6692\"}, \"name\": \"Lesotho\", \"offsetgroup\": \"Lesotho\", \"orientation\": \"v\", \"showlegend\": true, \"textposition\": \"auto\", \"type\": \"bar\", \"x\": [\"Lesotho\"], \"xaxis\": \"x\", \"y\": [\"0\"], \"yaxis\": \"y\"}, {\"alignmentgroup\": \"True\", \"hovertemplate\": \"Country=%{x}<br>FDI_2018=%{y}<extra></extra>\", \"legendgroup\": \"Liberia\", \"marker\": {\"color\": \"#B6E880\"}, \"name\": \"Liberia\", \"offsetgroup\": \"Liberia\", \"orientation\": \"v\", \"showlegend\": true, \"textposition\": \"auto\", \"type\": \"bar\", \"x\": [\"Liberia\"], \"xaxis\": \"x\", \"y\": [\"466\"], \"yaxis\": \"y\"}, {\"alignmentgroup\": \"True\", \"hovertemplate\": \"Country=%{x}<br>FDI_2018=%{y}<extra></extra>\", \"legendgroup\": \"Mali\", \"marker\": {\"color\": \"#FF97FF\"}, \"name\": \"Mali\", \"offsetgroup\": \"Mali\", \"orientation\": \"v\", \"showlegend\": true, \"textposition\": \"auto\", \"type\": \"bar\", \"x\": [\"Mali\"], \"xaxis\": \"x\", \"y\": [\"-1\"], \"yaxis\": \"y\"}, {\"alignmentgroup\": \"True\", \"hovertemplate\": \"Country=%{x}<br>FDI_2018=%{y}<extra></extra>\", \"legendgroup\": \"Mauritania\", \"marker\": {\"color\": \"#FECB52\"}, \"name\": \"Mauritania\", \"offsetgroup\": \"Mauritania\", \"orientation\": \"v\", \"showlegend\": true, \"textposition\": \"auto\", \"type\": \"bar\", \"x\": [\"Mauritania\"], \"xaxis\": \"x\", \"y\": [\"0\"], \"yaxis\": \"y\"}, {\"alignmentgroup\": \"True\", \"hovertemplate\": \"Country=%{x}<br>FDI_2018=%{y}<extra></extra>\", \"legendgroup\": \"Mauritius\", \"marker\": {\"color\": \"#636efa\"}, \"name\": \"Mauritius\", \"offsetgroup\": \"Mauritius\", \"orientation\": \"v\", \"showlegend\": true, \"textposition\": \"auto\", \"type\": \"bar\", \"x\": [\"Mauritius\"], \"xaxis\": \"x\", \"y\": [\"487\"], \"yaxis\": \"y\"}, {\"alignmentgroup\": \"True\", \"hovertemplate\": \"Country=%{x}<br>FDI_2018=%{y}<extra></extra>\", \"legendgroup\": \"Nigeria\", \"marker\": {\"color\": \"#EF553B\"}, \"name\": \"Nigeria\", \"offsetgroup\": \"Nigeria\", \"orientation\": \"v\", \"showlegend\": true, \"textposition\": \"auto\", \"type\": \"bar\", \"x\": [\"Nigeria\"], \"xaxis\": \"x\", \"y\": [\"81\"], \"yaxis\": \"y\"}, {\"alignmentgroup\": \"True\", \"hovertemplate\": \"Country=%{x}<br>FDI_2018=%{y}<extra></extra>\", \"legendgroup\": \"Rwanda\", \"marker\": {\"color\": \"#00cc96\"}, \"name\": \"Rwanda\", \"offsetgroup\": \"Rwanda\", \"orientation\": \"v\", \"showlegend\": true, \"textposition\": \"auto\", \"type\": \"bar\", \"x\": [\"Rwanda\"], \"xaxis\": \"x\", \"y\": [\"0\"], \"yaxis\": \"y\"}, {\"alignmentgroup\": \"True\", \"hovertemplate\": \"Country=%{x}<br>FDI_2018=%{y}<extra></extra>\", \"legendgroup\": \"Sao Tome and Principe\", \"marker\": {\"color\": \"#ab63fa\"}, \"name\": \"Sao Tome and Principe\", \"offsetgroup\": \"Sao Tome and Principe\", \"orientation\": \"v\", \"showlegend\": true, \"textposition\": \"auto\", \"type\": \"bar\", \"x\": [\"Sao Tome and Principe\"], \"xaxis\": \"x\", \"y\": [\"0\"], \"yaxis\": \"y\"}, {\"alignmentgroup\": \"True\", \"hovertemplate\": \"Country=%{x}<br>FDI_2018=%{y}<extra></extra>\", \"legendgroup\": \"Sierra Leone\", \"marker\": {\"color\": \"#FFA15A\"}, \"name\": \"Sierra Leone\", \"offsetgroup\": \"Sierra Leone\", \"orientation\": \"v\", \"showlegend\": true, \"textposition\": \"auto\", \"type\": \"bar\", \"x\": [\"Sierra Leone\"], \"xaxis\": \"x\", \"y\": [\"0\"], \"yaxis\": \"y\"}, {\"alignmentgroup\": \"True\", \"hovertemplate\": \"Country=%{x}<br>FDI_2018=%{y}<extra></extra>\", \"legendgroup\": \"South Sudan\", \"marker\": {\"color\": \"#19d3f3\"}, \"name\": \"South Sudan\", \"offsetgroup\": \"South Sudan\", \"orientation\": \"v\", \"showlegend\": true, \"textposition\": \"auto\", \"type\": \"bar\", \"x\": [\"South Sudan\"], \"xaxis\": \"x\", \"y\": [\"0\"], \"yaxis\": \"y\"}, {\"alignmentgroup\": \"True\", \"hovertemplate\": \"Country=%{x}<br>FDI_2018=%{y}<extra></extra>\", \"legendgroup\": \"Togo\", \"marker\": {\"color\": \"#FF6692\"}, \"name\": \"Togo\", \"offsetgroup\": \"Togo\", \"orientation\": \"v\", \"showlegend\": true, \"textposition\": \"auto\", \"type\": \"bar\", \"x\": [\"Togo\"], \"xaxis\": \"x\", \"y\": [\"0\"], \"yaxis\": \"y\"}, {\"alignmentgroup\": \"True\", \"hovertemplate\": \"Country=%{x}<br>FDI_2018=%{y}<extra></extra>\", \"legendgroup\": \"Tunisia\", \"marker\": {\"color\": \"#B6E880\"}, \"name\": \"Tunisia\", \"offsetgroup\": \"Tunisia\", \"orientation\": \"v\", \"showlegend\": true, \"textposition\": \"auto\", \"type\": \"bar\", \"x\": [\"Tunisia\"], \"xaxis\": \"x\", \"y\": [\"1\"], \"yaxis\": \"y\"}, {\"alignmentgroup\": \"True\", \"hovertemplate\": \"Country=%{x}<br>FDI_2018=%{y}<extra></extra>\", \"legendgroup\": \"Western Sahara\", \"marker\": {\"color\": \"#FF97FF\"}, \"name\": \"Western Sahara\", \"offsetgroup\": \"Western Sahara\", \"orientation\": \"v\", \"showlegend\": true, \"textposition\": \"auto\", \"type\": \"bar\", \"x\": [\"Western Sahara\"], \"xaxis\": \"x\", \"y\": [\"0\"], \"yaxis\": \"y\"}, {\"alignmentgroup\": \"True\", \"hovertemplate\": \"Country=%{x}<br>FDI_2018=%{y}<extra></extra>\", \"legendgroup\": \"Zambia\", \"marker\": {\"color\": \"#FECB52\"}, \"name\": \"Zambia\", \"offsetgroup\": \"Zambia\", \"orientation\": \"v\", \"showlegend\": true, \"textposition\": \"auto\", \"type\": \"bar\", \"x\": [\"Zambia\"], \"xaxis\": \"x\", \"y\": [\"-6\"], \"yaxis\": \"y\"}, {\"alignmentgroup\": \"True\", \"hovertemplate\": \"Country=%{x}<br>FDI_2018=%{y}<extra></extra>\", \"legendgroup\": \"Middle East\", \"marker\": {\"color\": \"#636efa\"}, \"name\": \"Middle East\", \"offsetgroup\": \"Middle East\", \"orientation\": \"v\", \"showlegend\": true, \"textposition\": \"auto\", \"type\": \"bar\", \"x\": [\"Middle East\"], \"xaxis\": \"x\", \"y\": [\"29,329\"], \"yaxis\": \"y\"}, {\"alignmentgroup\": \"True\", \"hovertemplate\": \"Country=%{x}<br>FDI_2018=%{y}<extra></extra>\", \"legendgroup\": \"Israel\", \"marker\": {\"color\": \"#EF553B\"}, \"name\": \"Israel\", \"offsetgroup\": \"Israel\", \"orientation\": \"v\", \"showlegend\": true, \"textposition\": \"auto\", \"type\": \"bar\", \"x\": [\"Israel\"], \"xaxis\": \"x\", \"y\": [\"13,982\"], \"yaxis\": \"y\"}, {\"alignmentgroup\": \"True\", \"hovertemplate\": \"Country=%{x}<br>FDI_2018=%{y}<extra></extra>\", \"legendgroup\": \"Kuwait\", \"marker\": {\"color\": \"#00cc96\"}, \"name\": \"Kuwait\", \"offsetgroup\": \"Kuwait\", \"orientation\": \"v\", \"showlegend\": true, \"textposition\": \"auto\", \"type\": \"bar\", \"x\": [\"Kuwait\"], \"xaxis\": \"x\", \"y\": [\"1,276\"], \"yaxis\": \"y\"}, {\"alignmentgroup\": \"True\", \"hovertemplate\": \"Country=%{x}<br>FDI_2018=%{y}<extra></extra>\", \"legendgroup\": \"Lebanon\", \"marker\": {\"color\": \"#ab63fa\"}, \"name\": \"Lebanon\", \"offsetgroup\": \"Lebanon\", \"orientation\": \"v\", \"showlegend\": true, \"textposition\": \"auto\", \"type\": \"bar\", \"x\": [\"Lebanon\"], \"xaxis\": \"x\", \"y\": [\"19\"], \"yaxis\": \"y\"}, {\"alignmentgroup\": \"True\", \"hovertemplate\": \"Country=%{x}<br>FDI_2018=%{y}<extra></extra>\", \"legendgroup\": \"Saudi Arabia\", \"marker\": {\"color\": \"#FFA15A\"}, \"name\": \"Saudi Arabia\", \"offsetgroup\": \"Saudi Arabia\", \"orientation\": \"v\", \"showlegend\": true, \"textposition\": \"auto\", \"type\": \"bar\", \"x\": [\"Saudi Arabia\"], \"xaxis\": \"x\", \"y\": [\"6,912\"], \"yaxis\": \"y\"}, {\"alignmentgroup\": \"True\", \"hovertemplate\": \"Country=%{x}<br>FDI_2018=%{y}<extra></extra>\", \"legendgroup\": \"United Arab Emirates\", \"marker\": {\"color\": \"#19d3f3\"}, \"name\": \"United Arab Emirates\", \"offsetgroup\": \"United Arab Emirates\", \"orientation\": \"v\", \"showlegend\": true, \"textposition\": \"auto\", \"type\": \"bar\", \"x\": [\"United Arab Emirates\"], \"xaxis\": \"x\", \"y\": [\"5,530\"], \"yaxis\": \"y\"}, {\"alignmentgroup\": \"True\", \"hovertemplate\": \"Country=%{x}<br>FDI_2018=%{y}<extra></extra>\", \"legendgroup\": \"Oman\", \"marker\": {\"color\": \"#FF6692\"}, \"name\": \"Oman\", \"offsetgroup\": \"Oman\", \"orientation\": \"v\", \"showlegend\": true, \"textposition\": \"auto\", \"type\": \"bar\", \"x\": [\"Oman\"], \"xaxis\": \"x\", \"y\": [\"15\"], \"yaxis\": \"y\"}, {\"alignmentgroup\": \"True\", \"hovertemplate\": \"Country=%{x}<br>FDI_2018=%{y}<extra></extra>\", \"legendgroup\": \"Syria\", \"marker\": {\"color\": \"#B6E880\"}, \"name\": \"Syria\", \"offsetgroup\": \"Syria\", \"orientation\": \"v\", \"showlegend\": true, \"textposition\": \"auto\", \"type\": \"bar\", \"x\": [\"Syria\"], \"xaxis\": \"x\", \"y\": [\"0\"], \"yaxis\": \"y\"}, {\"alignmentgroup\": \"True\", \"hovertemplate\": \"Country=%{x}<br>FDI_2018=%{y}<extra></extra>\", \"legendgroup\": \"Yemen\", \"marker\": {\"color\": \"#FF97FF\"}, \"name\": \"Yemen\", \"offsetgroup\": \"Yemen\", \"orientation\": \"v\", \"showlegend\": true, \"textposition\": \"auto\", \"type\": \"bar\", \"x\": [\"Yemen\"], \"xaxis\": \"x\", \"y\": [\"0\"], \"yaxis\": \"y\"}, {\"alignmentgroup\": \"True\", \"hovertemplate\": \"Country=%{x}<br>FDI_2018=%{y}<extra></extra>\", \"legendgroup\": \"Asia and Pacific\", \"marker\": {\"color\": \"#FECB52\"}, \"name\": \"Asia and Pacific\", \"offsetgroup\": \"Asia and Pacific\", \"orientation\": \"v\", \"showlegend\": true, \"textposition\": \"auto\", \"type\": \"bar\", \"x\": [\"Asia and Pacific\"], \"xaxis\": \"x\", \"y\": [\"701,193\"], \"yaxis\": \"y\"}, {\"alignmentgroup\": \"True\", \"hovertemplate\": \"Country=%{x}<br>FDI_2018=%{y}<extra></extra>\", \"legendgroup\": \"Australia\", \"marker\": {\"color\": \"#636efa\"}, \"name\": \"Australia\", \"offsetgroup\": \"Australia\", \"orientation\": \"v\", \"showlegend\": true, \"textposition\": \"auto\", \"type\": \"bar\", \"x\": [\"Australia\"], \"xaxis\": \"x\", \"y\": [\"63,070\"], \"yaxis\": \"y\"}, {\"alignmentgroup\": \"True\", \"hovertemplate\": \"Country=%{x}<br>FDI_2018=%{y}<extra></extra>\", \"legendgroup\": \"China\", \"marker\": {\"color\": \"#EF553B\"}, \"name\": \"China\", \"offsetgroup\": \"China\", \"orientation\": \"v\", \"showlegend\": true, \"textposition\": \"auto\", \"type\": \"bar\", \"x\": [\"China\"], \"xaxis\": \"x\", \"y\": [\"33,543\"], \"yaxis\": \"y\"}, {\"alignmentgroup\": \"True\", \"hovertemplate\": \"Country=%{x}<br>FDI_2018=%{y}<extra></extra>\", \"legendgroup\": \"Hong Kong\", \"marker\": {\"color\": \"#00cc96\"}, \"name\": \"Hong Kong\", \"offsetgroup\": \"Hong Kong\", \"orientation\": \"v\", \"showlegend\": true, \"textposition\": \"auto\", \"type\": \"bar\", \"x\": [\"Hong Kong\"], \"xaxis\": \"x\", \"y\": [\"13,159\"], \"yaxis\": \"y\"}, {\"alignmentgroup\": \"True\", \"hovertemplate\": \"Country=%{x}<br>FDI_2018=%{y}<extra></extra>\", \"legendgroup\": \"India\", \"marker\": {\"color\": \"#ab63fa\"}, \"name\": \"India\", \"offsetgroup\": \"India\", \"orientation\": \"v\", \"showlegend\": true, \"textposition\": \"auto\", \"type\": \"bar\", \"x\": [\"India\"], \"xaxis\": \"x\", \"y\": [\"5,127\"], \"yaxis\": \"y\"}, {\"alignmentgroup\": \"True\", \"hovertemplate\": \"Country=%{x}<br>FDI_2018=%{y}<extra></extra>\", \"legendgroup\": \"Japan\", \"marker\": {\"color\": \"#FFA15A\"}, \"name\": \"Japan\", \"offsetgroup\": \"Japan\", \"orientation\": \"v\", \"showlegend\": true, \"textposition\": \"auto\", \"type\": \"bar\", \"x\": [\"Japan\"], \"xaxis\": \"x\", \"y\": [\"493,763\"], \"yaxis\": \"y\"}, {\"alignmentgroup\": \"True\", \"hovertemplate\": \"Country=%{x}<br>FDI_2018=%{y}<extra></extra>\", \"legendgroup\": \"Malaysia\", \"marker\": {\"color\": \"#19d3f3\"}, \"name\": \"Malaysia\", \"offsetgroup\": \"Malaysia\", \"orientation\": \"v\", \"showlegend\": true, \"textposition\": \"auto\", \"type\": \"bar\", \"x\": [\"Malaysia\"], \"xaxis\": \"x\", \"y\": [\"1,218\"], \"yaxis\": \"y\"}, {\"alignmentgroup\": \"True\", \"hovertemplate\": \"Country=%{x}<br>FDI_2018=%{y}<extra></extra>\", \"legendgroup\": \"New Zealand\", \"marker\": {\"color\": \"#FF6692\"}, \"name\": \"New Zealand\", \"offsetgroup\": \"New Zealand\", \"orientation\": \"v\", \"showlegend\": true, \"textposition\": \"auto\", \"type\": \"bar\", \"x\": [\"New Zealand\"], \"xaxis\": \"x\", \"y\": [\"2,107\"], \"yaxis\": \"y\"}, {\"alignmentgroup\": \"True\", \"hovertemplate\": \"Country=%{x}<br>FDI_2018=%{y}<extra></extra>\", \"legendgroup\": \"Singapore\", \"marker\": {\"color\": \"#B6E880\"}, \"name\": \"Singapore\", \"offsetgroup\": \"Singapore\", \"orientation\": \"v\", \"showlegend\": true, \"textposition\": \"auto\", \"type\": \"bar\", \"x\": [\"Singapore\"], \"xaxis\": \"x\", \"y\": [\"18,267\"], \"yaxis\": \"y\"}, {\"alignmentgroup\": \"True\", \"hovertemplate\": \"Country=%{x}<br>FDI_2018=%{y}<extra></extra>\", \"legendgroup\": \"South Korea\", \"marker\": {\"color\": \"#FF97FF\"}, \"name\": \"South Korea\", \"offsetgroup\": \"South Korea\", \"orientation\": \"v\", \"showlegend\": true, \"textposition\": \"auto\", \"type\": \"bar\", \"x\": [\"South Korea\"], \"xaxis\": \"x\", \"y\": [\"56,612\"], \"yaxis\": \"y\"}, {\"alignmentgroup\": \"True\", \"hovertemplate\": \"Country=%{x}<br>FDI_2018=%{y}<extra></extra>\", \"legendgroup\": \"Taiwan\", \"marker\": {\"color\": \"#FECB52\"}, \"name\": \"Taiwan\", \"offsetgroup\": \"Taiwan\", \"orientation\": \"v\", \"showlegend\": true, \"textposition\": \"auto\", \"type\": \"bar\", \"x\": [\"Taiwan\"], \"xaxis\": \"x\", \"y\": [\"10,512\"], \"yaxis\": \"y\"}, {\"alignmentgroup\": \"True\", \"hovertemplate\": \"Country=%{x}<br>FDI_2018=%{y}<extra></extra>\", \"legendgroup\": \"Bangladesh\", \"marker\": {\"color\": \"#636efa\"}, \"name\": \"Bangladesh\", \"offsetgroup\": \"Bangladesh\", \"orientation\": \"v\", \"showlegend\": true, \"textposition\": \"auto\", \"type\": \"bar\", \"x\": [\"Bangladesh\"], \"xaxis\": \"x\", \"y\": [\"12\"], \"yaxis\": \"y\"}, {\"alignmentgroup\": \"True\", \"hovertemplate\": \"Country=%{x}<br>FDI_2018=%{y}<extra></extra>\", \"legendgroup\": \"Bhutan\", \"marker\": {\"color\": \"#EF553B\"}, \"name\": \"Bhutan\", \"offsetgroup\": \"Bhutan\", \"orientation\": \"v\", \"showlegend\": true, \"textposition\": \"auto\", \"type\": \"bar\", \"x\": [\"Bhutan\"], \"xaxis\": \"x\", \"y\": [\"0\"], \"yaxis\": \"y\"}, {\"alignmentgroup\": \"True\", \"hovertemplate\": \"Country=%{x}<br>FDI_2018=%{y}<extra></extra>\", \"legendgroup\": \"Burma\", \"marker\": {\"color\": \"#00cc96\"}, \"name\": \"Burma\", \"offsetgroup\": \"Burma\", \"orientation\": \"v\", \"showlegend\": true, \"textposition\": \"auto\", \"type\": \"bar\", \"x\": [\"Burma\"], \"xaxis\": \"x\", \"y\": [\"3\"], \"yaxis\": \"y\"}, {\"alignmentgroup\": \"True\", \"hovertemplate\": \"Country=%{x}<br>FDI_2018=%{y}<extra></extra>\", \"legendgroup\": \"Cambodia\", \"marker\": {\"color\": \"#ab63fa\"}, \"name\": \"Cambodia\", \"offsetgroup\": \"Cambodia\", \"orientation\": \"v\", \"showlegend\": true, \"textposition\": \"auto\", \"type\": \"bar\", \"x\": [\"Cambodia\"], \"xaxis\": \"x\", \"y\": [\"4\"], \"yaxis\": \"y\"}, {\"alignmentgroup\": \"True\", \"hovertemplate\": \"Country=%{x}<br>FDI_2018=%{y}<extra></extra>\", \"legendgroup\": \"French Islands, Indian Ocean\", \"marker\": {\"color\": \"#FFA15A\"}, \"name\": \"French Islands, Indian Ocean\", \"offsetgroup\": \"French Islands, Indian Ocean\", \"orientation\": \"v\", \"showlegend\": true, \"textposition\": \"auto\", \"type\": \"bar\", \"x\": [\"French Islands, Indian Ocean\"], \"xaxis\": \"x\", \"y\": [\"0\"], \"yaxis\": \"y\"}, {\"alignmentgroup\": \"True\", \"hovertemplate\": \"Country=%{x}<br>FDI_2018=%{y}<extra></extra>\", \"legendgroup\": \"Indonesia\", \"marker\": {\"color\": \"#19d3f3\"}, \"name\": \"Indonesia\", \"offsetgroup\": \"Indonesia\", \"orientation\": \"v\", \"showlegend\": true, \"textposition\": \"auto\", \"type\": \"bar\", \"x\": [\"Indonesia\"], \"xaxis\": \"x\", \"y\": [\"344\"], \"yaxis\": \"y\"}, {\"alignmentgroup\": \"True\", \"hovertemplate\": \"Country=%{x}<br>FDI_2018=%{y}<extra></extra>\", \"legendgroup\": \"Kiribati\", \"marker\": {\"color\": \"#FF6692\"}, \"name\": \"Kiribati\", \"offsetgroup\": \"Kiribati\", \"orientation\": \"v\", \"showlegend\": true, \"textposition\": \"auto\", \"type\": \"bar\", \"x\": [\"Kiribati\"], \"xaxis\": \"x\", \"y\": [\"0\"], \"yaxis\": \"y\"}, {\"alignmentgroup\": \"True\", \"hovertemplate\": \"Country=%{x}<br>FDI_2018=%{y}<extra></extra>\", \"legendgroup\": \"Laos\", \"marker\": {\"color\": \"#B6E880\"}, \"name\": \"Laos\", \"offsetgroup\": \"Laos\", \"orientation\": \"v\", \"showlegend\": true, \"textposition\": \"auto\", \"type\": \"bar\", \"x\": [\"Laos\"], \"xaxis\": \"x\", \"y\": [\"0\"], \"yaxis\": \"y\"}, {\"alignmentgroup\": \"True\", \"hovertemplate\": \"Country=%{x}<br>FDI_2018=%{y}<extra></extra>\", \"legendgroup\": \"Maldives\", \"marker\": {\"color\": \"#FF97FF\"}, \"name\": \"Maldives\", \"offsetgroup\": \"Maldives\", \"orientation\": \"v\", \"showlegend\": true, \"textposition\": \"auto\", \"type\": \"bar\", \"x\": [\"Maldives\"], \"xaxis\": \"x\", \"y\": [\"0\"], \"yaxis\": \"y\"}, {\"alignmentgroup\": \"True\", \"hovertemplate\": \"Country=%{x}<br>FDI_2018=%{y}<extra></extra>\", \"legendgroup\": \"Micronesia\", \"marker\": {\"color\": \"#FECB52\"}, \"name\": \"Micronesia\", \"offsetgroup\": \"Micronesia\", \"orientation\": \"v\", \"showlegend\": true, \"textposition\": \"auto\", \"type\": \"bar\", \"x\": [\"Micronesia\"], \"xaxis\": \"x\", \"y\": [\"1\"], \"yaxis\": \"y\"}, {\"alignmentgroup\": \"True\", \"hovertemplate\": \"Country=%{x}<br>FDI_2018=%{y}<extra></extra>\", \"legendgroup\": \"Nauru\", \"marker\": {\"color\": \"#636efa\"}, \"name\": \"Nauru\", \"offsetgroup\": \"Nauru\", \"orientation\": \"v\", \"showlegend\": true, \"textposition\": \"auto\", \"type\": \"bar\", \"x\": [\"Nauru\"], \"xaxis\": \"x\", \"y\": [\"0\"], \"yaxis\": \"y\"}, {\"alignmentgroup\": \"True\", \"hovertemplate\": \"Country=%{x}<br>FDI_2018=%{y}<extra></extra>\", \"legendgroup\": \"North Korea\", \"marker\": {\"color\": \"#EF553B\"}, \"name\": \"North Korea\", \"offsetgroup\": \"North Korea\", \"orientation\": \"v\", \"showlegend\": true, \"textposition\": \"auto\", \"type\": \"bar\", \"x\": [\"North Korea\"], \"xaxis\": \"x\", \"y\": [\"0\"], \"yaxis\": \"y\"}, {\"alignmentgroup\": \"True\", \"hovertemplate\": \"Country=%{x}<br>FDI_2018=%{y}<extra></extra>\", \"legendgroup\": \"Pakistan\", \"marker\": {\"color\": \"#00cc96\"}, \"name\": \"Pakistan\", \"offsetgroup\": \"Pakistan\", \"orientation\": \"v\", \"showlegend\": true, \"textposition\": \"auto\", \"type\": \"bar\", \"x\": [\"Pakistan\"], \"xaxis\": \"x\", \"y\": [\"167\"], \"yaxis\": \"y\"}, {\"alignmentgroup\": \"True\", \"hovertemplate\": \"Country=%{x}<br>FDI_2018=%{y}<extra></extra>\", \"legendgroup\": \"Papua New Guinea\", \"marker\": {\"color\": \"#ab63fa\"}, \"name\": \"Papua New Guinea\", \"offsetgroup\": \"Papua New Guinea\", \"orientation\": \"v\", \"showlegend\": true, \"textposition\": \"auto\", \"type\": \"bar\", \"x\": [\"Papua New Guinea\"], \"xaxis\": \"x\", \"y\": [\"1\"], \"yaxis\": \"y\"}, {\"alignmentgroup\": \"True\", \"hovertemplate\": \"Country=%{x}<br>FDI_2018=%{y}<extra></extra>\", \"legendgroup\": \"Philippines\", \"marker\": {\"color\": \"#FFA15A\"}, \"name\": \"Philippines\", \"offsetgroup\": \"Philippines\", \"orientation\": \"v\", \"showlegend\": true, \"textposition\": \"auto\", \"type\": \"bar\", \"x\": [\"Philippines\"], \"xaxis\": \"x\", \"y\": [\"361\"], \"yaxis\": \"y\"}, {\"alignmentgroup\": \"True\", \"hovertemplate\": \"Country=%{x}<br>FDI_2018=%{y}<extra></extra>\", \"legendgroup\": \"Solomon Islands\", \"marker\": {\"color\": \"#19d3f3\"}, \"name\": \"Solomon Islands\", \"offsetgroup\": \"Solomon Islands\", \"orientation\": \"v\", \"showlegend\": true, \"textposition\": \"auto\", \"type\": \"bar\", \"x\": [\"Solomon Islands\"], \"xaxis\": \"x\", \"y\": [\"0\"], \"yaxis\": \"y\"}, {\"alignmentgroup\": \"True\", \"hovertemplate\": \"Country=%{x}<br>FDI_2018=%{y}<extra></extra>\", \"legendgroup\": \"Sri Lanka\", \"marker\": {\"color\": \"#FF6692\"}, \"name\": \"Sri Lanka\", \"offsetgroup\": \"Sri Lanka\", \"orientation\": \"v\", \"showlegend\": true, \"textposition\": \"auto\", \"type\": \"bar\", \"x\": [\"Sri Lanka\"], \"xaxis\": \"x\", \"y\": [\"66\"], \"yaxis\": \"y\"}, {\"alignmentgroup\": \"True\", \"hovertemplate\": \"Country=%{x}<br>FDI_2018=%{y}<extra></extra>\", \"legendgroup\": \"Thailand\", \"marker\": {\"color\": \"#B6E880\"}, \"name\": \"Thailand\", \"offsetgroup\": \"Thailand\", \"orientation\": \"v\", \"showlegend\": true, \"textposition\": \"auto\", \"type\": \"bar\", \"x\": [\"Thailand\"], \"xaxis\": \"x\", \"y\": [\"2,136\"], \"yaxis\": \"y\"}, {\"alignmentgroup\": \"True\", \"hovertemplate\": \"Country=%{x}<br>FDI_2018=%{y}<extra></extra>\", \"legendgroup\": \"Timor-Leste\", \"marker\": {\"color\": \"#FF97FF\"}, \"name\": \"Timor-Leste\", \"offsetgroup\": \"Timor-Leste\", \"orientation\": \"v\", \"showlegend\": true, \"textposition\": \"auto\", \"type\": \"bar\", \"x\": [\"Timor-Leste\"], \"xaxis\": \"x\", \"y\": [\"0\"], \"yaxis\": \"y\"}, {\"alignmentgroup\": \"True\", \"hovertemplate\": \"Country=%{x}<br>FDI_2018=%{y}<extra></extra>\", \"legendgroup\": \"Tongo\", \"marker\": {\"color\": \"#FECB52\"}, \"name\": \"Tongo\", \"offsetgroup\": \"Tongo\", \"orientation\": \"v\", \"showlegend\": true, \"textposition\": \"auto\", \"type\": \"bar\", \"x\": [\"Tongo\"], \"xaxis\": \"x\", \"y\": [\"0\"], \"yaxis\": \"y\"}, {\"alignmentgroup\": \"True\", \"hovertemplate\": \"Country=%{x}<br>FDI_2018=%{y}<extra></extra>\", \"legendgroup\": \"Tuvalu\", \"marker\": {\"color\": \"#636efa\"}, \"name\": \"Tuvalu\", \"offsetgroup\": \"Tuvalu\", \"orientation\": \"v\", \"showlegend\": true, \"textposition\": \"auto\", \"type\": \"bar\", \"x\": [\"Tuvalu\"], \"xaxis\": \"x\", \"y\": [\"0\"], \"yaxis\": \"y\"}, {\"alignmentgroup\": \"True\", \"hovertemplate\": \"Country=%{x}<br>FDI_2018=%{y}<extra></extra>\", \"legendgroup\": \"United Kingdom Islands, Indian Ocean\", \"marker\": {\"color\": \"#EF553B\"}, \"name\": \"United Kingdom Islands, Indian Ocean\", \"offsetgroup\": \"United Kingdom Islands, Indian Ocean\", \"orientation\": \"v\", \"showlegend\": true, \"textposition\": \"auto\", \"type\": \"bar\", \"x\": [\"United Kingdom Islands, Indian Ocean\"], \"xaxis\": \"x\", \"y\": [\"-1\"], \"yaxis\": \"y\"}, {\"alignmentgroup\": \"True\", \"hovertemplate\": \"Country=%{x}<br>FDI_2018=%{y}<extra></extra>\", \"legendgroup\": \"Vietnam\", \"marker\": {\"color\": \"#00cc96\"}, \"name\": \"Vietnam\", \"offsetgroup\": \"Vietnam\", \"orientation\": \"v\", \"showlegend\": true, \"textposition\": \"auto\", \"type\": \"bar\", \"x\": [\"Vietnam\"], \"xaxis\": \"x\", \"y\": [\"59\"], \"yaxis\": \"y\"}],                        {\"barmode\": \"relative\", \"legend\": {\"title\": {\"text\": \"Country\"}, \"tracegroupgap\": 0}, \"margin\": {\"t\": 60}, \"template\": {\"data\": {\"bar\": [{\"error_x\": {\"color\": \"#2a3f5f\"}, \"error_y\": {\"color\": \"#2a3f5f\"}, \"marker\": {\"line\": {\"color\": \"#E5ECF6\", \"width\": 0.5}}, \"type\": \"bar\"}], \"barpolar\": [{\"marker\": {\"line\": {\"color\": \"#E5ECF6\", \"width\": 0.5}}, \"type\": \"barpolar\"}], \"carpet\": [{\"aaxis\": {\"endlinecolor\": \"#2a3f5f\", \"gridcolor\": \"white\", \"linecolor\": \"white\", \"minorgridcolor\": \"white\", \"startlinecolor\": \"#2a3f5f\"}, \"baxis\": {\"endlinecolor\": \"#2a3f5f\", \"gridcolor\": \"white\", \"linecolor\": \"white\", \"minorgridcolor\": \"white\", \"startlinecolor\": \"#2a3f5f\"}, \"type\": \"carpet\"}], \"choropleth\": [{\"colorbar\": {\"outlinewidth\": 0, \"ticks\": \"\"}, \"type\": \"choropleth\"}], \"contour\": [{\"colorbar\": {\"outlinewidth\": 0, \"ticks\": \"\"}, \"colorscale\": [[0.0, \"#0d0887\"], [0.1111111111111111, \"#46039f\"], [0.2222222222222222, \"#7201a8\"], [0.3333333333333333, \"#9c179e\"], [0.4444444444444444, \"#bd3786\"], [0.5555555555555556, \"#d8576b\"], [0.6666666666666666, \"#ed7953\"], [0.7777777777777778, \"#fb9f3a\"], [0.8888888888888888, \"#fdca26\"], [1.0, \"#f0f921\"]], \"type\": \"contour\"}], \"contourcarpet\": [{\"colorbar\": {\"outlinewidth\": 0, \"ticks\": \"\"}, \"type\": \"contourcarpet\"}], \"heatmap\": [{\"colorbar\": {\"outlinewidth\": 0, \"ticks\": \"\"}, \"colorscale\": [[0.0, \"#0d0887\"], [0.1111111111111111, \"#46039f\"], [0.2222222222222222, \"#7201a8\"], [0.3333333333333333, \"#9c179e\"], [0.4444444444444444, \"#bd3786\"], [0.5555555555555556, \"#d8576b\"], [0.6666666666666666, \"#ed7953\"], [0.7777777777777778, \"#fb9f3a\"], [0.8888888888888888, \"#fdca26\"], [1.0, \"#f0f921\"]], \"type\": \"heatmap\"}], \"heatmapgl\": [{\"colorbar\": {\"outlinewidth\": 0, \"ticks\": \"\"}, \"colorscale\": [[0.0, \"#0d0887\"], [0.1111111111111111, \"#46039f\"], [0.2222222222222222, \"#7201a8\"], [0.3333333333333333, \"#9c179e\"], [0.4444444444444444, \"#bd3786\"], [0.5555555555555556, \"#d8576b\"], [0.6666666666666666, \"#ed7953\"], [0.7777777777777778, \"#fb9f3a\"], [0.8888888888888888, \"#fdca26\"], [1.0, \"#f0f921\"]], \"type\": \"heatmapgl\"}], \"histogram\": [{\"marker\": {\"colorbar\": {\"outlinewidth\": 0, \"ticks\": \"\"}}, \"type\": \"histogram\"}], \"histogram2d\": [{\"colorbar\": {\"outlinewidth\": 0, \"ticks\": \"\"}, \"colorscale\": [[0.0, \"#0d0887\"], [0.1111111111111111, \"#46039f\"], [0.2222222222222222, \"#7201a8\"], [0.3333333333333333, \"#9c179e\"], [0.4444444444444444, \"#bd3786\"], [0.5555555555555556, \"#d8576b\"], [0.6666666666666666, \"#ed7953\"], [0.7777777777777778, \"#fb9f3a\"], [0.8888888888888888, \"#fdca26\"], [1.0, \"#f0f921\"]], \"type\": \"histogram2d\"}], \"histogram2dcontour\": [{\"colorbar\": {\"outlinewidth\": 0, \"ticks\": \"\"}, \"colorscale\": [[0.0, \"#0d0887\"], [0.1111111111111111, \"#46039f\"], [0.2222222222222222, \"#7201a8\"], [0.3333333333333333, \"#9c179e\"], [0.4444444444444444, \"#bd3786\"], [0.5555555555555556, \"#d8576b\"], [0.6666666666666666, \"#ed7953\"], [0.7777777777777778, \"#fb9f3a\"], [0.8888888888888888, \"#fdca26\"], [1.0, \"#f0f921\"]], \"type\": \"histogram2dcontour\"}], \"mesh3d\": [{\"colorbar\": {\"outlinewidth\": 0, \"ticks\": \"\"}, \"type\": \"mesh3d\"}], \"parcoords\": [{\"line\": {\"colorbar\": {\"outlinewidth\": 0, \"ticks\": \"\"}}, \"type\": \"parcoords\"}], \"pie\": [{\"automargin\": true, \"type\": \"pie\"}], \"scatter\": [{\"marker\": {\"colorbar\": {\"outlinewidth\": 0, \"ticks\": \"\"}}, \"type\": \"scatter\"}], \"scatter3d\": [{\"line\": {\"colorbar\": {\"outlinewidth\": 0, \"ticks\": \"\"}}, \"marker\": {\"colorbar\": {\"outlinewidth\": 0, \"ticks\": \"\"}}, \"type\": \"scatter3d\"}], \"scattercarpet\": [{\"marker\": {\"colorbar\": {\"outlinewidth\": 0, \"ticks\": \"\"}}, \"type\": \"scattercarpet\"}], \"scattergeo\": [{\"marker\": {\"colorbar\": {\"outlinewidth\": 0, \"ticks\": \"\"}}, \"type\": \"scattergeo\"}], \"scattergl\": [{\"marker\": {\"colorbar\": {\"outlinewidth\": 0, \"ticks\": \"\"}}, \"type\": \"scattergl\"}], \"scattermapbox\": [{\"marker\": {\"colorbar\": {\"outlinewidth\": 0, \"ticks\": \"\"}}, \"type\": \"scattermapbox\"}], \"scatterpolar\": [{\"marker\": {\"colorbar\": {\"outlinewidth\": 0, \"ticks\": \"\"}}, \"type\": \"scatterpolar\"}], \"scatterpolargl\": [{\"marker\": {\"colorbar\": {\"outlinewidth\": 0, \"ticks\": \"\"}}, \"type\": \"scatterpolargl\"}], \"scatterternary\": [{\"marker\": {\"colorbar\": {\"outlinewidth\": 0, \"ticks\": \"\"}}, \"type\": \"scatterternary\"}], \"surface\": [{\"colorbar\": {\"outlinewidth\": 0, \"ticks\": \"\"}, \"colorscale\": [[0.0, \"#0d0887\"], [0.1111111111111111, \"#46039f\"], [0.2222222222222222, \"#7201a8\"], [0.3333333333333333, \"#9c179e\"], [0.4444444444444444, \"#bd3786\"], [0.5555555555555556, \"#d8576b\"], [0.6666666666666666, \"#ed7953\"], [0.7777777777777778, \"#fb9f3a\"], [0.8888888888888888, \"#fdca26\"], [1.0, \"#f0f921\"]], \"type\": \"surface\"}], \"table\": [{\"cells\": {\"fill\": {\"color\": \"#EBF0F8\"}, \"line\": {\"color\": \"white\"}}, \"header\": {\"fill\": {\"color\": \"#C8D4E3\"}, \"line\": {\"color\": \"white\"}}, \"type\": \"table\"}]}, \"layout\": {\"annotationdefaults\": {\"arrowcolor\": \"#2a3f5f\", \"arrowhead\": 0, \"arrowwidth\": 1}, \"coloraxis\": {\"colorbar\": {\"outlinewidth\": 0, \"ticks\": \"\"}}, \"colorscale\": {\"diverging\": [[0, \"#8e0152\"], [0.1, \"#c51b7d\"], [0.2, \"#de77ae\"], [0.3, \"#f1b6da\"], [0.4, \"#fde0ef\"], [0.5, \"#f7f7f7\"], [0.6, \"#e6f5d0\"], [0.7, \"#b8e186\"], [0.8, \"#7fbc41\"], [0.9, \"#4d9221\"], [1, \"#276419\"]], \"sequential\": [[0.0, \"#0d0887\"], [0.1111111111111111, \"#46039f\"], [0.2222222222222222, \"#7201a8\"], [0.3333333333333333, \"#9c179e\"], [0.4444444444444444, \"#bd3786\"], [0.5555555555555556, \"#d8576b\"], [0.6666666666666666, \"#ed7953\"], [0.7777777777777778, \"#fb9f3a\"], [0.8888888888888888, \"#fdca26\"], [1.0, \"#f0f921\"]], \"sequentialminus\": [[0.0, \"#0d0887\"], [0.1111111111111111, \"#46039f\"], [0.2222222222222222, \"#7201a8\"], [0.3333333333333333, \"#9c179e\"], [0.4444444444444444, \"#bd3786\"], [0.5555555555555556, \"#d8576b\"], [0.6666666666666666, \"#ed7953\"], [0.7777777777777778, \"#fb9f3a\"], [0.8888888888888888, \"#fdca26\"], [1.0, \"#f0f921\"]]}, \"colorway\": [\"#636efa\", \"#EF553B\", \"#00cc96\", \"#ab63fa\", \"#FFA15A\", \"#19d3f3\", \"#FF6692\", \"#B6E880\", \"#FF97FF\", \"#FECB52\"], \"font\": {\"color\": \"#2a3f5f\"}, \"geo\": {\"bgcolor\": \"white\", \"lakecolor\": \"white\", \"landcolor\": \"#E5ECF6\", \"showlakes\": true, \"showland\": true, \"subunitcolor\": \"white\"}, \"hoverlabel\": {\"align\": \"left\"}, \"hovermode\": \"closest\", \"mapbox\": {\"style\": \"light\"}, \"paper_bgcolor\": \"white\", \"plot_bgcolor\": \"#E5ECF6\", \"polar\": {\"angularaxis\": {\"gridcolor\": \"white\", \"linecolor\": \"white\", \"ticks\": \"\"}, \"bgcolor\": \"#E5ECF6\", \"radialaxis\": {\"gridcolor\": \"white\", \"linecolor\": \"white\", \"ticks\": \"\"}}, \"scene\": {\"xaxis\": {\"backgroundcolor\": \"#E5ECF6\", \"gridcolor\": \"white\", \"gridwidth\": 2, \"linecolor\": \"white\", \"showbackground\": true, \"ticks\": \"\", \"zerolinecolor\": \"white\"}, \"yaxis\": {\"backgroundcolor\": \"#E5ECF6\", \"gridcolor\": \"white\", \"gridwidth\": 2, \"linecolor\": \"white\", \"showbackground\": true, \"ticks\": \"\", \"zerolinecolor\": \"white\"}, \"zaxis\": {\"backgroundcolor\": \"#E5ECF6\", \"gridcolor\": \"white\", \"gridwidth\": 2, \"linecolor\": \"white\", \"showbackground\": true, \"ticks\": \"\", \"zerolinecolor\": \"white\"}}, \"shapedefaults\": {\"line\": {\"color\": \"#2a3f5f\"}}, \"ternary\": {\"aaxis\": {\"gridcolor\": \"white\", \"linecolor\": \"white\", \"ticks\": \"\"}, \"baxis\": {\"gridcolor\": \"white\", \"linecolor\": \"white\", \"ticks\": \"\"}, \"bgcolor\": \"#E5ECF6\", \"caxis\": {\"gridcolor\": \"white\", \"linecolor\": \"white\", \"ticks\": \"\"}}, \"title\": {\"x\": 0.05}, \"xaxis\": {\"automargin\": true, \"gridcolor\": \"white\", \"linecolor\": \"white\", \"ticks\": \"\", \"title\": {\"standoff\": 15}, \"zerolinecolor\": \"white\", \"zerolinewidth\": 2}, \"yaxis\": {\"automargin\": true, \"gridcolor\": \"white\", \"linecolor\": \"white\", \"ticks\": \"\", \"title\": {\"standoff\": 15}, \"zerolinecolor\": \"white\", \"zerolinewidth\": 2}}}, \"xaxis\": {\"anchor\": \"y\", \"categoryarray\": [\"Canada\", \"Austria\", \"Belgium\", \"Denmark\", \"Finland\", \"France\", \"Germany\", \"Ireland\", \"Italy\", \"Luxembourg\", \"Netherlands\", \"Norway\", \"Spain\", \"Sweden\", \"Switzerland\", \"United Kingdom\", \"Andorra\", \"Armenia\", \"Azerbaijan\", \"Belarus\", \"Georgia\", \"Gibraltar\", \"Hungary\", \"Kosovo\", \"Kyrgyzstan\", \"Malta\", \"Moldova\", \"Monaco\", \"North Macedonia\", \"Portugal\", \"Russia\", \"San Marino\", \"Serbia\", \"Slovakia\", \"Slovenia\", \"Tajikistan\", \"Turkey\", \"Turkmenistan\", \"Vatican City\", \"Brazil\", \"Mexico\", \"Panama\", \"Venezuela\", \"Argentina\", \"Belize\", \"Chile\", \"Colombia\", \"Costa Rica\", \"Ecuador\", \"El Salvador\", \"French Guiana\", \"Honduras\", \"Nicaragua\", \"Peru\", \"Uruguay\", \"Bahamas\", \"Bermuda\", \"Curacao 2\", \"Netherlands Antilles 3\", \"United Kingdom Islands, Caribbean  4\", \"Antigua and Barbuda\", \"Barbados\", \"Dominican Republic\", \"French Islands, Caribbean\", \"Haiti\", \"Jamaica\", \"Sint Maarten 2\", \"St. Pierre and Miquelon\", \"St. Vincent and the Grenadines\", \"Trinidad and Tobago\", \"Africa\", \"South Africa\", \"Benin\", \"Botswana\", \"Burkina Faso\", \"Burundi\", \"Cabo Verde\", \"Chad\", \"Comoros\", \"Djibouti\", \"Egypt\", \"Eritrea\", \"Eswatini\", \"Gambia\", \"Ghana\", \"Guinea-Bissau\", \"Lesotho\", \"Liberia\", \"Mali\", \"Mauritania\", \"Mauritius\", \"Nigeria\", \"Rwanda\", \"Sao Tome and Principe\", \"Sierra Leone\", \"South Sudan\", \"Togo\", \"Tunisia\", \"Western Sahara\", \"Zambia\", \"Middle East\", \"Israel\", \"Kuwait\", \"Lebanon\", \"Saudi Arabia\", \"United Arab Emirates\", \"Oman\", \"Syria\", \"Yemen\", \"Asia and Pacific\", \"Australia\", \"China\", \"Hong Kong\", \"India\", \"Japan\", \"Malaysia\", \"New Zealand\", \"Singapore\", \"South Korea\", \"Taiwan\", \"Bangladesh\", \"Bhutan\", \"Burma\", \"Cambodia\", \"French Islands, Indian Ocean\", \"Indonesia\", \"Kiribati\", \"Laos\", \"Maldives\", \"Micronesia\", \"Nauru\", \"North Korea\", \"Pakistan\", \"Papua New Guinea\", \"Philippines\", \"Solomon Islands\", \"Sri Lanka\", \"Thailand\", \"Timor-Leste\", \"Tongo\", \"Tuvalu\", \"United Kingdom Islands, Indian Ocean\", \"Vietnam\"], \"categoryorder\": \"array\", \"domain\": [0.0, 1.0], \"title\": {\"text\": \"Country\"}}, \"yaxis\": {\"anchor\": \"x\", \"domain\": [0.0, 1.0], \"title\": {\"text\": \"FDI_2018\"}}},                        {\"responsive\": true}                    ).then(function(){\n",
       "                            \n",
       "var gd = document.getElementById('f77d1402-bec8-4fff-b1ca-0b497007fe27');\n",
       "var x = new MutationObserver(function (mutations, observer) {{\n",
       "        var display = window.getComputedStyle(gd).display;\n",
       "        if (!display || display === 'none') {{\n",
       "            console.log([gd, 'removed!']);\n",
       "            Plotly.purge(gd);\n",
       "            observer.disconnect();\n",
       "        }}\n",
       "}});\n",
       "\n",
       "// Listen for the removal of the full notebook cells\n",
       "var notebookContainer = gd.closest('#notebook-container');\n",
       "if (notebookContainer) {{\n",
       "    x.observe(notebookContainer, {childList: true});\n",
       "}}\n",
       "\n",
       "// Listen for the clearing of the current output cell\n",
       "var outputEl = gd.closest('.output');\n",
       "if (outputEl) {{\n",
       "    x.observe(outputEl, {childList: true});\n",
       "}}\n",
       "\n",
       "                        })                };                });            </script>        </div>"
      ]
     },
     "metadata": {},
     "output_type": "display_data"
    }
   ],
   "source": [
    "fig = px.bar(fdi__171819_df, x=\"Country\", y=\"FDI_2018\", color=\"Country\")\n",
    "fig.show()"
   ]
  },
  {
   "cell_type": "code",
   "execution_count": 50,
   "metadata": {},
   "outputs": [
    {
     "data": {
      "application/vnd.plotly.v1+json": {
       "config": {
        "plotlyServerURL": "https://plot.ly"
       },
       "data": [
        {
         "hovertemplate": "Country=%{x}<br>FDI_2018=%{y}<extra></extra>",
         "legendgroup": "Canada",
         "marker": {
          "color": "#636efa",
          "symbol": "circle"
         },
         "mode": "markers",
         "name": "Canada",
         "orientation": "v",
         "showlegend": true,
         "type": "scatter",
         "x": [
          "Canada"
         ],
         "xaxis": "x",
         "y": [
          "442,802"
         ],
         "yaxis": "y"
        },
        {
         "hovertemplate": "Country=%{x}<br>FDI_2018=%{y}<extra></extra>",
         "legendgroup": "Austria",
         "marker": {
          "color": "#EF553B",
          "symbol": "circle"
         },
         "mode": "markers",
         "name": "Austria",
         "orientation": "v",
         "showlegend": true,
         "type": "scatter",
         "x": [
          "Austria"
         ],
         "xaxis": "x",
         "y": [
          "12,392"
         ],
         "yaxis": "y"
        },
        {
         "hovertemplate": "Country=%{x}<br>FDI_2018=%{y}<extra></extra>",
         "legendgroup": "Belgium",
         "marker": {
          "color": "#00cc96",
          "symbol": "circle"
         },
         "mode": "markers",
         "name": "Belgium",
         "orientation": "v",
         "showlegend": true,
         "type": "scatter",
         "x": [
          "Belgium"
         ],
         "xaxis": "x",
         "y": [
          "64,661"
         ],
         "yaxis": "y"
        },
        {
         "hovertemplate": "Country=%{x}<br>FDI_2018=%{y}<extra></extra>",
         "legendgroup": "Denmark",
         "marker": {
          "color": "#ab63fa",
          "symbol": "circle"
         },
         "mode": "markers",
         "name": "Denmark",
         "orientation": "v",
         "showlegend": true,
         "type": "scatter",
         "x": [
          "Denmark"
         ],
         "xaxis": "x",
         "y": [
          "20,654"
         ],
         "yaxis": "y"
        },
        {
         "hovertemplate": "Country=%{x}<br>FDI_2018=%{y}<extra></extra>",
         "legendgroup": "Finland",
         "marker": {
          "color": "#FFA15A",
          "symbol": "circle"
         },
         "mode": "markers",
         "name": "Finland",
         "orientation": "v",
         "showlegend": true,
         "type": "scatter",
         "x": [
          "Finland"
         ],
         "xaxis": "x",
         "y": [
          "14,464"
         ],
         "yaxis": "y"
        },
        {
         "hovertemplate": "Country=%{x}<br>FDI_2018=%{y}<extra></extra>",
         "legendgroup": "France",
         "marker": {
          "color": "#19d3f3",
          "symbol": "circle"
         },
         "mode": "markers",
         "name": "France",
         "orientation": "v",
         "showlegend": true,
         "type": "scatter",
         "x": [
          "France"
         ],
         "xaxis": "x",
         "y": [
          "268,169"
         ],
         "yaxis": "y"
        },
        {
         "hovertemplate": "Country=%{x}<br>FDI_2018=%{y}<extra></extra>",
         "legendgroup": "Germany",
         "marker": {
          "color": "#FF6692",
          "symbol": "circle"
         },
         "mode": "markers",
         "name": "Germany",
         "orientation": "v",
         "showlegend": true,
         "type": "scatter",
         "x": [
          "Germany"
         ],
         "xaxis": "x",
         "y": [
          "328,124"
         ],
         "yaxis": "y"
        },
        {
         "hovertemplate": "Country=%{x}<br>FDI_2018=%{y}<extra></extra>",
         "legendgroup": "Ireland",
         "marker": {
          "color": "#B6E880",
          "symbol": "circle"
         },
         "mode": "markers",
         "name": "Ireland",
         "orientation": "v",
         "showlegend": true,
         "type": "scatter",
         "x": [
          "Ireland"
         ],
         "xaxis": "x",
         "y": [
          "265,004"
         ],
         "yaxis": "y"
        },
        {
         "hovertemplate": "Country=%{x}<br>FDI_2018=%{y}<extra></extra>",
         "legendgroup": "Italy",
         "marker": {
          "color": "#FF97FF",
          "symbol": "circle"
         },
         "mode": "markers",
         "name": "Italy",
         "orientation": "v",
         "showlegend": true,
         "type": "scatter",
         "x": [
          "Italy"
         ],
         "xaxis": "x",
         "y": [
          "30,749"
         ],
         "yaxis": "y"
        },
        {
         "hovertemplate": "Country=%{x}<br>FDI_2018=%{y}<extra></extra>",
         "legendgroup": "Luxembourg",
         "marker": {
          "color": "#FECB52",
          "symbol": "circle"
         },
         "mode": "markers",
         "name": "Luxembourg",
         "orientation": "v",
         "showlegend": true,
         "type": "scatter",
         "x": [
          "Luxembourg"
         ],
         "xaxis": "x",
         "y": [
          "312,976"
         ],
         "yaxis": "y"
        },
        {
         "hovertemplate": "Country=%{x}<br>FDI_2018=%{y}<extra></extra>",
         "legendgroup": "Netherlands",
         "marker": {
          "color": "#636efa",
          "symbol": "circle"
         },
         "mode": "markers",
         "name": "Netherlands",
         "orientation": "v",
         "showlegend": true,
         "type": "scatter",
         "x": [
          "Netherlands"
         ],
         "xaxis": "x",
         "y": [
          "462,303"
         ],
         "yaxis": "y"
        },
        {
         "hovertemplate": "Country=%{x}<br>FDI_2018=%{y}<extra></extra>",
         "legendgroup": "Norway",
         "marker": {
          "color": "#EF553B",
          "symbol": "circle"
         },
         "mode": "markers",
         "name": "Norway",
         "orientation": "v",
         "showlegend": true,
         "type": "scatter",
         "x": [
          "Norway"
         ],
         "xaxis": "x",
         "y": [
          "26,007"
         ],
         "yaxis": "y"
        },
        {
         "hovertemplate": "Country=%{x}<br>FDI_2018=%{y}<extra></extra>",
         "legendgroup": "Spain",
         "marker": {
          "color": "#00cc96",
          "symbol": "circle"
         },
         "mode": "markers",
         "name": "Spain",
         "orientation": "v",
         "showlegend": true,
         "type": "scatter",
         "x": [
          "Spain"
         ],
         "xaxis": "x",
         "y": [
          "83,379"
         ],
         "yaxis": "y"
        },
        {
         "hovertemplate": "Country=%{x}<br>FDI_2018=%{y}<extra></extra>",
         "legendgroup": "Sweden",
         "marker": {
          "color": "#ab63fa",
          "symbol": "circle"
         },
         "mode": "markers",
         "name": "Sweden",
         "orientation": "v",
         "showlegend": true,
         "type": "scatter",
         "x": [
          "Sweden"
         ],
         "xaxis": "x",
         "y": [
          "49,546"
         ],
         "yaxis": "y"
        },
        {
         "hovertemplate": "Country=%{x}<br>FDI_2018=%{y}<extra></extra>",
         "legendgroup": "Switzerland",
         "marker": {
          "color": "#FFA15A",
          "symbol": "circle"
         },
         "mode": "markers",
         "name": "Switzerland",
         "orientation": "v",
         "showlegend": true,
         "type": "scatter",
         "x": [
          "Switzerland"
         ],
         "xaxis": "x",
         "y": [
          "295,783"
         ],
         "yaxis": "y"
        },
        {
         "hovertemplate": "Country=%{x}<br>FDI_2018=%{y}<extra></extra>",
         "legendgroup": "United Kingdom",
         "marker": {
          "color": "#19d3f3",
          "symbol": "circle"
         },
         "mode": "markers",
         "name": "United Kingdom",
         "orientation": "v",
         "showlegend": true,
         "type": "scatter",
         "x": [
          "United Kingdom"
         ],
         "xaxis": "x",
         "y": [
          "496,622"
         ],
         "yaxis": "y"
        },
        {
         "hovertemplate": "Country=%{x}<br>FDI_2018=%{y}<extra></extra>",
         "legendgroup": "Andorra",
         "marker": {
          "color": "#FF6692",
          "symbol": "circle"
         },
         "mode": "markers",
         "name": "Andorra",
         "orientation": "v",
         "showlegend": true,
         "type": "scatter",
         "x": [
          "Andorra"
         ],
         "xaxis": "x",
         "y": [
          "0"
         ],
         "yaxis": "y"
        },
        {
         "hovertemplate": "Country=%{x}<br>FDI_2018=%{y}<extra></extra>",
         "legendgroup": "Armenia",
         "marker": {
          "color": "#B6E880",
          "symbol": "circle"
         },
         "mode": "markers",
         "name": "Armenia",
         "orientation": "v",
         "showlegend": true,
         "type": "scatter",
         "x": [
          "Armenia"
         ],
         "xaxis": "x",
         "y": [
          "3"
         ],
         "yaxis": "y"
        },
        {
         "hovertemplate": "Country=%{x}<br>FDI_2018=%{y}<extra></extra>",
         "legendgroup": "Azerbaijan",
         "marker": {
          "color": "#FF97FF",
          "symbol": "circle"
         },
         "mode": "markers",
         "name": "Azerbaijan",
         "orientation": "v",
         "showlegend": true,
         "type": "scatter",
         "x": [
          "Azerbaijan"
         ],
         "xaxis": "x",
         "y": [
          "-2"
         ],
         "yaxis": "y"
        },
        {
         "hovertemplate": "Country=%{x}<br>FDI_2018=%{y}<extra></extra>",
         "legendgroup": "Belarus",
         "marker": {
          "color": "#FECB52",
          "symbol": "circle"
         },
         "mode": "markers",
         "name": "Belarus",
         "orientation": "v",
         "showlegend": true,
         "type": "scatter",
         "x": [
          "Belarus"
         ],
         "xaxis": "x",
         "y": [
          "4"
         ],
         "yaxis": "y"
        },
        {
         "hovertemplate": "Country=%{x}<br>FDI_2018=%{y}<extra></extra>",
         "legendgroup": "Georgia",
         "marker": {
          "color": "#636efa",
          "symbol": "circle"
         },
         "mode": "markers",
         "name": "Georgia",
         "orientation": "v",
         "showlegend": true,
         "type": "scatter",
         "x": [
          "Georgia"
         ],
         "xaxis": "x",
         "y": [
          "0"
         ],
         "yaxis": "y"
        },
        {
         "hovertemplate": "Country=%{x}<br>FDI_2018=%{y}<extra></extra>",
         "legendgroup": "Gibraltar",
         "marker": {
          "color": "#EF553B",
          "symbol": "circle"
         },
         "mode": "markers",
         "name": "Gibraltar",
         "orientation": "v",
         "showlegend": true,
         "type": "scatter",
         "x": [
          "Gibraltar"
         ],
         "xaxis": "x",
         "y": [
          "9,367"
         ],
         "yaxis": "y"
        },
        {
         "hovertemplate": "Country=%{x}<br>FDI_2018=%{y}<extra></extra>",
         "legendgroup": "Hungary",
         "marker": {
          "color": "#00cc96",
          "symbol": "circle"
         },
         "mode": "markers",
         "name": "Hungary",
         "orientation": "v",
         "showlegend": true,
         "type": "scatter",
         "x": [
          "Hungary"
         ],
         "xaxis": "x",
         "y": [
          "31,730"
         ],
         "yaxis": "y"
        },
        {
         "hovertemplate": "Country=%{x}<br>FDI_2018=%{y}<extra></extra>",
         "legendgroup": "Kosovo",
         "marker": {
          "color": "#ab63fa",
          "symbol": "circle"
         },
         "mode": "markers",
         "name": "Kosovo",
         "orientation": "v",
         "showlegend": true,
         "type": "scatter",
         "x": [
          "Kosovo"
         ],
         "xaxis": "x",
         "y": [
          "0"
         ],
         "yaxis": "y"
        },
        {
         "hovertemplate": "Country=%{x}<br>FDI_2018=%{y}<extra></extra>",
         "legendgroup": "Kyrgyzstan",
         "marker": {
          "color": "#FFA15A",
          "symbol": "circle"
         },
         "mode": "markers",
         "name": "Kyrgyzstan",
         "orientation": "v",
         "showlegend": true,
         "type": "scatter",
         "x": [
          "Kyrgyzstan"
         ],
         "xaxis": "x",
         "y": [
          "0"
         ],
         "yaxis": "y"
        },
        {
         "hovertemplate": "Country=%{x}<br>FDI_2018=%{y}<extra></extra>",
         "legendgroup": "Malta",
         "marker": {
          "color": "#19d3f3",
          "symbol": "circle"
         },
         "mode": "markers",
         "name": "Malta",
         "orientation": "v",
         "showlegend": true,
         "type": "scatter",
         "x": [
          "Malta"
         ],
         "xaxis": "x",
         "y": [
          "1,557"
         ],
         "yaxis": "y"
        },
        {
         "hovertemplate": "Country=%{x}<br>FDI_2018=%{y}<extra></extra>",
         "legendgroup": "Moldova",
         "marker": {
          "color": "#FF6692",
          "symbol": "circle"
         },
         "mode": "markers",
         "name": "Moldova",
         "orientation": "v",
         "showlegend": true,
         "type": "scatter",
         "x": [
          "Moldova"
         ],
         "xaxis": "x",
         "y": [
          "0"
         ],
         "yaxis": "y"
        },
        {
         "hovertemplate": "Country=%{x}<br>FDI_2018=%{y}<extra></extra>",
         "legendgroup": "Monaco",
         "marker": {
          "color": "#B6E880",
          "symbol": "circle"
         },
         "mode": "markers",
         "name": "Monaco",
         "orientation": "v",
         "showlegend": true,
         "type": "scatter",
         "x": [
          "Monaco"
         ],
         "xaxis": "x",
         "y": [
          "-26"
         ],
         "yaxis": "y"
        },
        {
         "hovertemplate": "Country=%{x}<br>FDI_2018=%{y}<extra></extra>",
         "legendgroup": "North Macedonia",
         "marker": {
          "color": "#FF97FF",
          "symbol": "circle"
         },
         "mode": "markers",
         "name": "North Macedonia",
         "orientation": "v",
         "showlegend": true,
         "type": "scatter",
         "x": [
          "North Macedonia"
         ],
         "xaxis": "x",
         "y": [
          "-1"
         ],
         "yaxis": "y"
        },
        {
         "hovertemplate": "Country=%{x}<br>FDI_2018=%{y}<extra></extra>",
         "legendgroup": "Portugal",
         "marker": {
          "color": "#FECB52",
          "symbol": "circle"
         },
         "mode": "markers",
         "name": "Portugal",
         "orientation": "v",
         "showlegend": true,
         "type": "scatter",
         "x": [
          "Portugal"
         ],
         "xaxis": "x",
         "y": [
          "1,056"
         ],
         "yaxis": "y"
        },
        {
         "hovertemplate": "Country=%{x}<br>FDI_2018=%{y}<extra></extra>",
         "legendgroup": "Russia",
         "marker": {
          "color": "#636efa",
          "symbol": "circle"
         },
         "mode": "markers",
         "name": "Russia",
         "orientation": "v",
         "showlegend": true,
         "type": "scatter",
         "x": [
          "Russia"
         ],
         "xaxis": "x",
         "y": [
          "4,455"
         ],
         "yaxis": "y"
        },
        {
         "hovertemplate": "Country=%{x}<br>FDI_2018=%{y}<extra></extra>",
         "legendgroup": "San Marino",
         "marker": {
          "color": "#EF553B",
          "symbol": "circle"
         },
         "mode": "markers",
         "name": "San Marino",
         "orientation": "v",
         "showlegend": true,
         "type": "scatter",
         "x": [
          "San Marino"
         ],
         "xaxis": "x",
         "y": [
          "0"
         ],
         "yaxis": "y"
        },
        {
         "hovertemplate": "Country=%{x}<br>FDI_2018=%{y}<extra></extra>",
         "legendgroup": "Serbia",
         "marker": {
          "color": "#00cc96",
          "symbol": "circle"
         },
         "mode": "markers",
         "name": "Serbia",
         "orientation": "v",
         "showlegend": true,
         "type": "scatter",
         "x": [
          "Serbia"
         ],
         "xaxis": "x",
         "y": [
          "3"
         ],
         "yaxis": "y"
        },
        {
         "hovertemplate": "Country=%{x}<br>FDI_2018=%{y}<extra></extra>",
         "legendgroup": "Slovakia",
         "marker": {
          "color": "#ab63fa",
          "symbol": "circle"
         },
         "mode": "markers",
         "name": "Slovakia",
         "orientation": "v",
         "showlegend": true,
         "type": "scatter",
         "x": [
          "Slovakia"
         ],
         "xaxis": "x",
         "y": [
          "14"
         ],
         "yaxis": "y"
        },
        {
         "hovertemplate": "Country=%{x}<br>FDI_2018=%{y}<extra></extra>",
         "legendgroup": "Slovenia",
         "marker": {
          "color": "#FFA15A",
          "symbol": "circle"
         },
         "mode": "markers",
         "name": "Slovenia",
         "orientation": "v",
         "showlegend": true,
         "type": "scatter",
         "x": [
          "Slovenia"
         ],
         "xaxis": "x",
         "y": [
          "6"
         ],
         "yaxis": "y"
        },
        {
         "hovertemplate": "Country=%{x}<br>FDI_2018=%{y}<extra></extra>",
         "legendgroup": "Tajikistan",
         "marker": {
          "color": "#19d3f3",
          "symbol": "circle"
         },
         "mode": "markers",
         "name": "Tajikistan",
         "orientation": "v",
         "showlegend": true,
         "type": "scatter",
         "x": [
          "Tajikistan"
         ],
         "xaxis": "x",
         "y": [
          "0"
         ],
         "yaxis": "y"
        },
        {
         "hovertemplate": "Country=%{x}<br>FDI_2018=%{y}<extra></extra>",
         "legendgroup": "Turkey",
         "marker": {
          "color": "#FF6692",
          "symbol": "circle"
         },
         "mode": "markers",
         "name": "Turkey",
         "orientation": "v",
         "showlegend": true,
         "type": "scatter",
         "x": [
          "Turkey"
         ],
         "xaxis": "x",
         "y": [
          "2,175"
         ],
         "yaxis": "y"
        },
        {
         "hovertemplate": "Country=%{x}<br>FDI_2018=%{y}<extra></extra>",
         "legendgroup": "Turkmenistan",
         "marker": {
          "color": "#B6E880",
          "symbol": "circle"
         },
         "mode": "markers",
         "name": "Turkmenistan",
         "orientation": "v",
         "showlegend": true,
         "type": "scatter",
         "x": [
          "Turkmenistan"
         ],
         "xaxis": "x",
         "y": [
          "0"
         ],
         "yaxis": "y"
        },
        {
         "hovertemplate": "Country=%{x}<br>FDI_2018=%{y}<extra></extra>",
         "legendgroup": "Vatican City",
         "marker": {
          "color": "#FF97FF",
          "symbol": "circle"
         },
         "mode": "markers",
         "name": "Vatican City",
         "orientation": "v",
         "showlegend": true,
         "type": "scatter",
         "x": [
          "Vatican City"
         ],
         "xaxis": "x",
         "y": [
          "0"
         ],
         "yaxis": "y"
        },
        {
         "hovertemplate": "Country=%{x}<br>FDI_2018=%{y}<extra></extra>",
         "legendgroup": "Brazil",
         "marker": {
          "color": "#FECB52",
          "symbol": "circle"
         },
         "mode": "markers",
         "name": "Brazil",
         "orientation": "v",
         "showlegend": true,
         "type": "scatter",
         "x": [
          "Brazil"
         ],
         "xaxis": "x",
         "y": [
          "2,514"
         ],
         "yaxis": "y"
        },
        {
         "hovertemplate": "Country=%{x}<br>FDI_2018=%{y}<extra></extra>",
         "legendgroup": "Mexico",
         "marker": {
          "color": "#636efa",
          "symbol": "circle"
         },
         "mode": "markers",
         "name": "Mexico",
         "orientation": "v",
         "showlegend": true,
         "type": "scatter",
         "x": [
          "Mexico"
         ],
         "xaxis": "x",
         "y": [
          "21,050"
         ],
         "yaxis": "y"
        },
        {
         "hovertemplate": "Country=%{x}<br>FDI_2018=%{y}<extra></extra>",
         "legendgroup": "Panama",
         "marker": {
          "color": "#EF553B",
          "symbol": "circle"
         },
         "mode": "markers",
         "name": "Panama",
         "orientation": "v",
         "showlegend": true,
         "type": "scatter",
         "x": [
          "Panama"
         ],
         "xaxis": "x",
         "y": [
          "2,789"
         ],
         "yaxis": "y"
        },
        {
         "hovertemplate": "Country=%{x}<br>FDI_2018=%{y}<extra></extra>",
         "legendgroup": "Venezuela",
         "marker": {
          "color": "#00cc96",
          "symbol": "circle"
         },
         "mode": "markers",
         "name": "Venezuela",
         "orientation": "v",
         "showlegend": true,
         "type": "scatter",
         "x": [
          "Venezuela"
         ],
         "xaxis": "x",
         "y": [
          "1,673"
         ],
         "yaxis": "y"
        },
        {
         "hovertemplate": "Country=%{x}<br>FDI_2018=%{y}<extra></extra>",
         "legendgroup": "Argentina",
         "marker": {
          "color": "#ab63fa",
          "symbol": "circle"
         },
         "mode": "markers",
         "name": "Argentina",
         "orientation": "v",
         "showlegend": true,
         "type": "scatter",
         "x": [
          "Argentina"
         ],
         "xaxis": "x",
         "y": [
          "822"
         ],
         "yaxis": "y"
        },
        {
         "hovertemplate": "Country=%{x}<br>FDI_2018=%{y}<extra></extra>",
         "legendgroup": "Belize",
         "marker": {
          "color": "#FFA15A",
          "symbol": "circle"
         },
         "mode": "markers",
         "name": "Belize",
         "orientation": "v",
         "showlegend": true,
         "type": "scatter",
         "x": [
          "Belize"
         ],
         "xaxis": "x",
         "y": [
          "12"
         ],
         "yaxis": "y"
        },
        {
         "hovertemplate": "Country=%{x}<br>FDI_2018=%{y}<extra></extra>",
         "legendgroup": "Chile",
         "marker": {
          "color": "#19d3f3",
          "symbol": "circle"
         },
         "mode": "markers",
         "name": "Chile",
         "orientation": "v",
         "showlegend": true,
         "type": "scatter",
         "x": [
          "Chile"
         ],
         "xaxis": "x",
         "y": [
          "2,573"
         ],
         "yaxis": "y"
        },
        {
         "hovertemplate": "Country=%{x}<br>FDI_2018=%{y}<extra></extra>",
         "legendgroup": "Colombia",
         "marker": {
          "color": "#FF6692",
          "symbol": "circle"
         },
         "mode": "markers",
         "name": "Colombia",
         "orientation": "v",
         "showlegend": true,
         "type": "scatter",
         "x": [
          "Colombia"
         ],
         "xaxis": "x",
         "y": [
          "140"
         ],
         "yaxis": "y"
        },
        {
         "hovertemplate": "Country=%{x}<br>FDI_2018=%{y}<extra></extra>",
         "legendgroup": "Costa Rica",
         "marker": {
          "color": "#B6E880",
          "symbol": "circle"
         },
         "mode": "markers",
         "name": "Costa Rica",
         "orientation": "v",
         "showlegend": true,
         "type": "scatter",
         "x": [
          "Costa Rica"
         ],
         "xaxis": "x",
         "y": [
          "-211"
         ],
         "yaxis": "y"
        },
        {
         "hovertemplate": "Country=%{x}<br>FDI_2018=%{y}<extra></extra>",
         "legendgroup": "Ecuador",
         "marker": {
          "color": "#FF97FF",
          "symbol": "circle"
         },
         "mode": "markers",
         "name": "Ecuador",
         "orientation": "v",
         "showlegend": true,
         "type": "scatter",
         "x": [
          "Ecuador"
         ],
         "xaxis": "x",
         "y": [
          "30"
         ],
         "yaxis": "y"
        },
        {
         "hovertemplate": "Country=%{x}<br>FDI_2018=%{y}<extra></extra>",
         "legendgroup": "El Salvador",
         "marker": {
          "color": "#FECB52",
          "symbol": "circle"
         },
         "mode": "markers",
         "name": "El Salvador",
         "orientation": "v",
         "showlegend": true,
         "type": "scatter",
         "x": [
          "El Salvador"
         ],
         "xaxis": "x",
         "y": [
          "16"
         ],
         "yaxis": "y"
        },
        {
         "hovertemplate": "Country=%{x}<br>FDI_2018=%{y}<extra></extra>",
         "legendgroup": "French Guiana",
         "marker": {
          "color": "#636efa",
          "symbol": "circle"
         },
         "mode": "markers",
         "name": "French Guiana",
         "orientation": "v",
         "showlegend": true,
         "type": "scatter",
         "x": [
          "French Guiana"
         ],
         "xaxis": "x",
         "y": [
          "0"
         ],
         "yaxis": "y"
        },
        {
         "hovertemplate": "Country=%{x}<br>FDI_2018=%{y}<extra></extra>",
         "legendgroup": "Honduras",
         "marker": {
          "color": "#EF553B",
          "symbol": "circle"
         },
         "mode": "markers",
         "name": "Honduras",
         "orientation": "v",
         "showlegend": true,
         "type": "scatter",
         "x": [
          "Honduras"
         ],
         "xaxis": "x",
         "y": [
          "-80"
         ],
         "yaxis": "y"
        },
        {
         "hovertemplate": "Country=%{x}<br>FDI_2018=%{y}<extra></extra>",
         "legendgroup": "Nicaragua",
         "marker": {
          "color": "#00cc96",
          "symbol": "circle"
         },
         "mode": "markers",
         "name": "Nicaragua",
         "orientation": "v",
         "showlegend": true,
         "type": "scatter",
         "x": [
          "Nicaragua"
         ],
         "xaxis": "x",
         "y": [
          "-8"
         ],
         "yaxis": "y"
        },
        {
         "hovertemplate": "Country=%{x}<br>FDI_2018=%{y}<extra></extra>",
         "legendgroup": "Peru",
         "marker": {
          "color": "#ab63fa",
          "symbol": "circle"
         },
         "mode": "markers",
         "name": "Peru",
         "orientation": "v",
         "showlegend": true,
         "type": "scatter",
         "x": [
          "Peru"
         ],
         "xaxis": "x",
         "y": [
          "195"
         ],
         "yaxis": "y"
        },
        {
         "hovertemplate": "Country=%{x}<br>FDI_2018=%{y}<extra></extra>",
         "legendgroup": "Uruguay",
         "marker": {
          "color": "#FFA15A",
          "symbol": "circle"
         },
         "mode": "markers",
         "name": "Uruguay",
         "orientation": "v",
         "showlegend": true,
         "type": "scatter",
         "x": [
          "Uruguay"
         ],
         "xaxis": "x",
         "y": [
          "538"
         ],
         "yaxis": "y"
        },
        {
         "hovertemplate": "Country=%{x}<br>FDI_2018=%{y}<extra></extra>",
         "legendgroup": "Bahamas",
         "marker": {
          "color": "#19d3f3",
          "symbol": "circle"
         },
         "mode": "markers",
         "name": "Bahamas",
         "orientation": "v",
         "showlegend": true,
         "type": "scatter",
         "x": [
          "Bahamas"
         ],
         "xaxis": "x",
         "y": [
          "646"
         ],
         "yaxis": "y"
        },
        {
         "hovertemplate": "Country=%{x}<br>FDI_2018=%{y}<extra></extra>",
         "legendgroup": "Bermuda",
         "marker": {
          "color": "#FF6692",
          "symbol": "circle"
         },
         "mode": "markers",
         "name": "Bermuda",
         "orientation": "v",
         "showlegend": true,
         "type": "scatter",
         "x": [
          "Bermuda"
         ],
         "xaxis": "x",
         "y": [
          "28,018"
         ],
         "yaxis": "y"
        },
        {
         "hovertemplate": "Country=%{x}<br>FDI_2018=%{y}<extra></extra>",
         "legendgroup": "Curacao 2",
         "marker": {
          "color": "#B6E880",
          "symbol": "circle"
         },
         "mode": "markers",
         "name": "Curacao 2",
         "orientation": "v",
         "showlegend": true,
         "type": "scatter",
         "x": [
          "Curacao 2"
         ],
         "xaxis": "x",
         "y": [
          "1,335"
         ],
         "yaxis": "y"
        },
        {
         "hovertemplate": "Country=%{x}<br>FDI_2018=%{y}<extra></extra>",
         "legendgroup": "Netherlands Antilles 3",
         "marker": {
          "color": "#FF97FF",
          "symbol": "circle"
         },
         "mode": "markers",
         "name": "Netherlands Antilles 3",
         "orientation": "v",
         "showlegend": true,
         "type": "scatter",
         "x": [
          "Netherlands Antilles 3"
         ],
         "xaxis": "x",
         "y": [
          "--"
         ],
         "yaxis": "y"
        },
        {
         "hovertemplate": "Country=%{x}<br>FDI_2018=%{y}<extra></extra>",
         "legendgroup": "United Kingdom Islands, Caribbean  4",
         "marker": {
          "color": "#FECB52",
          "symbol": "circle"
         },
         "mode": "markers",
         "name": "United Kingdom Islands, Caribbean  4",
         "orientation": "v",
         "showlegend": true,
         "type": "scatter",
         "x": [
          "United Kingdom Islands, Caribbean  4"
         ],
         "xaxis": "x",
         "y": [
          "83,555"
         ],
         "yaxis": "y"
        },
        {
         "hovertemplate": "Country=%{x}<br>FDI_2018=%{y}<extra></extra>",
         "legendgroup": "Antigua and Barbuda",
         "marker": {
          "color": "#636efa",
          "symbol": "circle"
         },
         "mode": "markers",
         "name": "Antigua and Barbuda",
         "orientation": "v",
         "showlegend": true,
         "type": "scatter",
         "x": [
          "Antigua and Barbuda"
         ],
         "xaxis": "x",
         "y": [
          "3"
         ],
         "yaxis": "y"
        },
        {
         "hovertemplate": "Country=%{x}<br>FDI_2018=%{y}<extra></extra>",
         "legendgroup": "Barbados",
         "marker": {
          "color": "#EF553B",
          "symbol": "circle"
         },
         "mode": "markers",
         "name": "Barbados",
         "orientation": "v",
         "showlegend": true,
         "type": "scatter",
         "x": [
          "Barbados"
         ],
         "xaxis": "x",
         "y": [
          "7,476"
         ],
         "yaxis": "y"
        },
        {
         "hovertemplate": "Country=%{x}<br>FDI_2018=%{y}<extra></extra>",
         "legendgroup": "Dominican Republic",
         "marker": {
          "color": "#00cc96",
          "symbol": "circle"
         },
         "mode": "markers",
         "name": "Dominican Republic",
         "orientation": "v",
         "showlegend": true,
         "type": "scatter",
         "x": [
          "Dominican Republic"
         ],
         "xaxis": "x",
         "y": [
          "107"
         ],
         "yaxis": "y"
        },
        {
         "hovertemplate": "Country=%{x}<br>FDI_2018=%{y}<extra></extra>",
         "legendgroup": "French Islands, Caribbean",
         "marker": {
          "color": "#ab63fa",
          "symbol": "circle"
         },
         "mode": "markers",
         "name": "French Islands, Caribbean",
         "orientation": "v",
         "showlegend": true,
         "type": "scatter",
         "x": [
          "French Islands, Caribbean"
         ],
         "xaxis": "x",
         "y": [
          "-1"
         ],
         "yaxis": "y"
        },
        {
         "hovertemplate": "Country=%{x}<br>FDI_2018=%{y}<extra></extra>",
         "legendgroup": "Haiti",
         "marker": {
          "color": "#FFA15A",
          "symbol": "circle"
         },
         "mode": "markers",
         "name": "Haiti",
         "orientation": "v",
         "showlegend": true,
         "type": "scatter",
         "x": [
          "Haiti"
         ],
         "xaxis": "x",
         "y": [
          "-1"
         ],
         "yaxis": "y"
        },
        {
         "hovertemplate": "Country=%{x}<br>FDI_2018=%{y}<extra></extra>",
         "legendgroup": "Jamaica",
         "marker": {
          "color": "#19d3f3",
          "symbol": "circle"
         },
         "mode": "markers",
         "name": "Jamaica",
         "orientation": "v",
         "showlegend": true,
         "type": "scatter",
         "x": [
          "Jamaica"
         ],
         "xaxis": "x",
         "y": [
          "46"
         ],
         "yaxis": "y"
        },
        {
         "hovertemplate": "Country=%{x}<br>FDI_2018=%{y}<extra></extra>",
         "legendgroup": "Sint Maarten 2",
         "marker": {
          "color": "#FF6692",
          "symbol": "circle"
         },
         "mode": "markers",
         "name": "Sint Maarten 2",
         "orientation": "v",
         "showlegend": true,
         "type": "scatter",
         "x": [
          "Sint Maarten 2"
         ],
         "xaxis": "x",
         "y": [
          "0"
         ],
         "yaxis": "y"
        },
        {
         "hovertemplate": "Country=%{x}<br>FDI_2018=%{y}<extra></extra>",
         "legendgroup": "St. Pierre and Miquelon",
         "marker": {
          "color": "#B6E880",
          "symbol": "circle"
         },
         "mode": "markers",
         "name": "St. Pierre and Miquelon",
         "orientation": "v",
         "showlegend": true,
         "type": "scatter",
         "x": [
          "St. Pierre and Miquelon"
         ],
         "xaxis": "x",
         "y": [
          "0"
         ],
         "yaxis": "y"
        },
        {
         "hovertemplate": "Country=%{x}<br>FDI_2018=%{y}<extra></extra>",
         "legendgroup": "St. Vincent and the Grenadines",
         "marker": {
          "color": "#FF97FF",
          "symbol": "circle"
         },
         "mode": "markers",
         "name": "St. Vincent and the Grenadines",
         "orientation": "v",
         "showlegend": true,
         "type": "scatter",
         "x": [
          "St. Vincent and the Grenadines"
         ],
         "xaxis": "x",
         "y": [
          "-1"
         ],
         "yaxis": "y"
        },
        {
         "hovertemplate": "Country=%{x}<br>FDI_2018=%{y}<extra></extra>",
         "legendgroup": "Trinidad and Tobago",
         "marker": {
          "color": "#FECB52",
          "symbol": "circle"
         },
         "mode": "markers",
         "name": "Trinidad and Tobago",
         "orientation": "v",
         "showlegend": true,
         "type": "scatter",
         "x": [
          "Trinidad and Tobago"
         ],
         "xaxis": "x",
         "y": [
          "165"
         ],
         "yaxis": "y"
        },
        {
         "hovertemplate": "Country=%{x}<br>FDI_2018=%{y}<extra></extra>",
         "legendgroup": "Africa",
         "marker": {
          "color": "#636efa",
          "symbol": "circle"
         },
         "mode": "markers",
         "name": "Africa",
         "orientation": "v",
         "showlegend": true,
         "type": "scatter",
         "x": [
          "Africa"
         ],
         "xaxis": "x",
         "y": [
          "5,652"
         ],
         "yaxis": "y"
        },
        {
         "hovertemplate": "Country=%{x}<br>FDI_2018=%{y}<extra></extra>",
         "legendgroup": "South Africa",
         "marker": {
          "color": "#EF553B",
          "symbol": "circle"
         },
         "mode": "markers",
         "name": "South Africa",
         "orientation": "v",
         "showlegend": true,
         "type": "scatter",
         "x": [
          "South Africa"
         ],
         "xaxis": "x",
         "y": [
          "4,013"
         ],
         "yaxis": "y"
        },
        {
         "hovertemplate": "Country=%{x}<br>FDI_2018=%{y}<extra></extra>",
         "legendgroup": "Benin",
         "marker": {
          "color": "#00cc96",
          "symbol": "circle"
         },
         "mode": "markers",
         "name": "Benin",
         "orientation": "v",
         "showlegend": true,
         "type": "scatter",
         "x": [
          "Benin"
         ],
         "xaxis": "x",
         "y": [
          "0"
         ],
         "yaxis": "y"
        },
        {
         "hovertemplate": "Country=%{x}<br>FDI_2018=%{y}<extra></extra>",
         "legendgroup": "Botswana",
         "marker": {
          "color": "#ab63fa",
          "symbol": "circle"
         },
         "mode": "markers",
         "name": "Botswana",
         "orientation": "v",
         "showlegend": true,
         "type": "scatter",
         "x": [
          "Botswana"
         ],
         "xaxis": "x",
         "y": [
          "0"
         ],
         "yaxis": "y"
        },
        {
         "hovertemplate": "Country=%{x}<br>FDI_2018=%{y}<extra></extra>",
         "legendgroup": "Burkina Faso",
         "marker": {
          "color": "#FFA15A",
          "symbol": "circle"
         },
         "mode": "markers",
         "name": "Burkina Faso",
         "orientation": "v",
         "showlegend": true,
         "type": "scatter",
         "x": [
          "Burkina Faso"
         ],
         "xaxis": "x",
         "y": [
          "-1"
         ],
         "yaxis": "y"
        },
        {
         "hovertemplate": "Country=%{x}<br>FDI_2018=%{y}<extra></extra>",
         "legendgroup": "Burundi",
         "marker": {
          "color": "#19d3f3",
          "symbol": "circle"
         },
         "mode": "markers",
         "name": "Burundi",
         "orientation": "v",
         "showlegend": true,
         "type": "scatter",
         "x": [
          "Burundi"
         ],
         "xaxis": "x",
         "y": [
          "0"
         ],
         "yaxis": "y"
        },
        {
         "hovertemplate": "Country=%{x}<br>FDI_2018=%{y}<extra></extra>",
         "legendgroup": "Cabo Verde",
         "marker": {
          "color": "#FF6692",
          "symbol": "circle"
         },
         "mode": "markers",
         "name": "Cabo Verde",
         "orientation": "v",
         "showlegend": true,
         "type": "scatter",
         "x": [
          "Cabo Verde"
         ],
         "xaxis": "x",
         "y": [
          "-2"
         ],
         "yaxis": "y"
        },
        {
         "hovertemplate": "Country=%{x}<br>FDI_2018=%{y}<extra></extra>",
         "legendgroup": "Chad",
         "marker": {
          "color": "#B6E880",
          "symbol": "circle"
         },
         "mode": "markers",
         "name": "Chad",
         "orientation": "v",
         "showlegend": true,
         "type": "scatter",
         "x": [
          "Chad"
         ],
         "xaxis": "x",
         "y": [
          "1"
         ],
         "yaxis": "y"
        },
        {
         "hovertemplate": "Country=%{x}<br>FDI_2018=%{y}<extra></extra>",
         "legendgroup": "Comoros",
         "marker": {
          "color": "#FF97FF",
          "symbol": "circle"
         },
         "mode": "markers",
         "name": "Comoros",
         "orientation": "v",
         "showlegend": true,
         "type": "scatter",
         "x": [
          "Comoros"
         ],
         "xaxis": "x",
         "y": [
          "0"
         ],
         "yaxis": "y"
        },
        {
         "hovertemplate": "Country=%{x}<br>FDI_2018=%{y}<extra></extra>",
         "legendgroup": "Djibouti",
         "marker": {
          "color": "#FECB52",
          "symbol": "circle"
         },
         "mode": "markers",
         "name": "Djibouti",
         "orientation": "v",
         "showlegend": true,
         "type": "scatter",
         "x": [
          "Djibouti"
         ],
         "xaxis": "x",
         "y": [
          "0"
         ],
         "yaxis": "y"
        },
        {
         "hovertemplate": "Country=%{x}<br>FDI_2018=%{y}<extra></extra>",
         "legendgroup": "Egypt",
         "marker": {
          "color": "#636efa",
          "symbol": "circle"
         },
         "mode": "markers",
         "name": "Egypt",
         "orientation": "v",
         "showlegend": true,
         "type": "scatter",
         "x": [
          "Egypt"
         ],
         "xaxis": "x",
         "y": [
          "-43"
         ],
         "yaxis": "y"
        },
        {
         "hovertemplate": "Country=%{x}<br>FDI_2018=%{y}<extra></extra>",
         "legendgroup": "Eritrea",
         "marker": {
          "color": "#EF553B",
          "symbol": "circle"
         },
         "mode": "markers",
         "name": "Eritrea",
         "orientation": "v",
         "showlegend": true,
         "type": "scatter",
         "x": [
          "Eritrea"
         ],
         "xaxis": "x",
         "y": [
          "0"
         ],
         "yaxis": "y"
        },
        {
         "hovertemplate": "Country=%{x}<br>FDI_2018=%{y}<extra></extra>",
         "legendgroup": "Eswatini",
         "marker": {
          "color": "#00cc96",
          "symbol": "circle"
         },
         "mode": "markers",
         "name": "Eswatini",
         "orientation": "v",
         "showlegend": true,
         "type": "scatter",
         "x": [
          "Eswatini"
         ],
         "xaxis": "x",
         "y": [
          "0"
         ],
         "yaxis": "y"
        },
        {
         "hovertemplate": "Country=%{x}<br>FDI_2018=%{y}<extra></extra>",
         "legendgroup": "Gambia",
         "marker": {
          "color": "#ab63fa",
          "symbol": "circle"
         },
         "mode": "markers",
         "name": "Gambia",
         "orientation": "v",
         "showlegend": true,
         "type": "scatter",
         "x": [
          "Gambia"
         ],
         "xaxis": "x",
         "y": [
          "0"
         ],
         "yaxis": "y"
        },
        {
         "hovertemplate": "Country=%{x}<br>FDI_2018=%{y}<extra></extra>",
         "legendgroup": "Ghana",
         "marker": {
          "color": "#FFA15A",
          "symbol": "circle"
         },
         "mode": "markers",
         "name": "Ghana",
         "orientation": "v",
         "showlegend": true,
         "type": "scatter",
         "x": [
          "Ghana"
         ],
         "xaxis": "x",
         "y": [
          "-4"
         ],
         "yaxis": "y"
        },
        {
         "hovertemplate": "Country=%{x}<br>FDI_2018=%{y}<extra></extra>",
         "legendgroup": "Guinea-Bissau",
         "marker": {
          "color": "#19d3f3",
          "symbol": "circle"
         },
         "mode": "markers",
         "name": "Guinea-Bissau",
         "orientation": "v",
         "showlegend": true,
         "type": "scatter",
         "x": [
          "Guinea-Bissau"
         ],
         "xaxis": "x",
         "y": [
          "0"
         ],
         "yaxis": "y"
        },
        {
         "hovertemplate": "Country=%{x}<br>FDI_2018=%{y}<extra></extra>",
         "legendgroup": "Lesotho",
         "marker": {
          "color": "#FF6692",
          "symbol": "circle"
         },
         "mode": "markers",
         "name": "Lesotho",
         "orientation": "v",
         "showlegend": true,
         "type": "scatter",
         "x": [
          "Lesotho"
         ],
         "xaxis": "x",
         "y": [
          "0"
         ],
         "yaxis": "y"
        },
        {
         "hovertemplate": "Country=%{x}<br>FDI_2018=%{y}<extra></extra>",
         "legendgroup": "Liberia",
         "marker": {
          "color": "#B6E880",
          "symbol": "circle"
         },
         "mode": "markers",
         "name": "Liberia",
         "orientation": "v",
         "showlegend": true,
         "type": "scatter",
         "x": [
          "Liberia"
         ],
         "xaxis": "x",
         "y": [
          "466"
         ],
         "yaxis": "y"
        },
        {
         "hovertemplate": "Country=%{x}<br>FDI_2018=%{y}<extra></extra>",
         "legendgroup": "Mali",
         "marker": {
          "color": "#FF97FF",
          "symbol": "circle"
         },
         "mode": "markers",
         "name": "Mali",
         "orientation": "v",
         "showlegend": true,
         "type": "scatter",
         "x": [
          "Mali"
         ],
         "xaxis": "x",
         "y": [
          "-1"
         ],
         "yaxis": "y"
        },
        {
         "hovertemplate": "Country=%{x}<br>FDI_2018=%{y}<extra></extra>",
         "legendgroup": "Mauritania",
         "marker": {
          "color": "#FECB52",
          "symbol": "circle"
         },
         "mode": "markers",
         "name": "Mauritania",
         "orientation": "v",
         "showlegend": true,
         "type": "scatter",
         "x": [
          "Mauritania"
         ],
         "xaxis": "x",
         "y": [
          "0"
         ],
         "yaxis": "y"
        },
        {
         "hovertemplate": "Country=%{x}<br>FDI_2018=%{y}<extra></extra>",
         "legendgroup": "Mauritius",
         "marker": {
          "color": "#636efa",
          "symbol": "circle"
         },
         "mode": "markers",
         "name": "Mauritius",
         "orientation": "v",
         "showlegend": true,
         "type": "scatter",
         "x": [
          "Mauritius"
         ],
         "xaxis": "x",
         "y": [
          "487"
         ],
         "yaxis": "y"
        },
        {
         "hovertemplate": "Country=%{x}<br>FDI_2018=%{y}<extra></extra>",
         "legendgroup": "Nigeria",
         "marker": {
          "color": "#EF553B",
          "symbol": "circle"
         },
         "mode": "markers",
         "name": "Nigeria",
         "orientation": "v",
         "showlegend": true,
         "type": "scatter",
         "x": [
          "Nigeria"
         ],
         "xaxis": "x",
         "y": [
          "81"
         ],
         "yaxis": "y"
        },
        {
         "hovertemplate": "Country=%{x}<br>FDI_2018=%{y}<extra></extra>",
         "legendgroup": "Rwanda",
         "marker": {
          "color": "#00cc96",
          "symbol": "circle"
         },
         "mode": "markers",
         "name": "Rwanda",
         "orientation": "v",
         "showlegend": true,
         "type": "scatter",
         "x": [
          "Rwanda"
         ],
         "xaxis": "x",
         "y": [
          "0"
         ],
         "yaxis": "y"
        },
        {
         "hovertemplate": "Country=%{x}<br>FDI_2018=%{y}<extra></extra>",
         "legendgroup": "Sao Tome and Principe",
         "marker": {
          "color": "#ab63fa",
          "symbol": "circle"
         },
         "mode": "markers",
         "name": "Sao Tome and Principe",
         "orientation": "v",
         "showlegend": true,
         "type": "scatter",
         "x": [
          "Sao Tome and Principe"
         ],
         "xaxis": "x",
         "y": [
          "0"
         ],
         "yaxis": "y"
        },
        {
         "hovertemplate": "Country=%{x}<br>FDI_2018=%{y}<extra></extra>",
         "legendgroup": "Sierra Leone",
         "marker": {
          "color": "#FFA15A",
          "symbol": "circle"
         },
         "mode": "markers",
         "name": "Sierra Leone",
         "orientation": "v",
         "showlegend": true,
         "type": "scatter",
         "x": [
          "Sierra Leone"
         ],
         "xaxis": "x",
         "y": [
          "0"
         ],
         "yaxis": "y"
        },
        {
         "hovertemplate": "Country=%{x}<br>FDI_2018=%{y}<extra></extra>",
         "legendgroup": "South Sudan",
         "marker": {
          "color": "#19d3f3",
          "symbol": "circle"
         },
         "mode": "markers",
         "name": "South Sudan",
         "orientation": "v",
         "showlegend": true,
         "type": "scatter",
         "x": [
          "South Sudan"
         ],
         "xaxis": "x",
         "y": [
          "0"
         ],
         "yaxis": "y"
        },
        {
         "hovertemplate": "Country=%{x}<br>FDI_2018=%{y}<extra></extra>",
         "legendgroup": "Togo",
         "marker": {
          "color": "#FF6692",
          "symbol": "circle"
         },
         "mode": "markers",
         "name": "Togo",
         "orientation": "v",
         "showlegend": true,
         "type": "scatter",
         "x": [
          "Togo"
         ],
         "xaxis": "x",
         "y": [
          "0"
         ],
         "yaxis": "y"
        },
        {
         "hovertemplate": "Country=%{x}<br>FDI_2018=%{y}<extra></extra>",
         "legendgroup": "Tunisia",
         "marker": {
          "color": "#B6E880",
          "symbol": "circle"
         },
         "mode": "markers",
         "name": "Tunisia",
         "orientation": "v",
         "showlegend": true,
         "type": "scatter",
         "x": [
          "Tunisia"
         ],
         "xaxis": "x",
         "y": [
          "1"
         ],
         "yaxis": "y"
        },
        {
         "hovertemplate": "Country=%{x}<br>FDI_2018=%{y}<extra></extra>",
         "legendgroup": "Western Sahara",
         "marker": {
          "color": "#FF97FF",
          "symbol": "circle"
         },
         "mode": "markers",
         "name": "Western Sahara",
         "orientation": "v",
         "showlegend": true,
         "type": "scatter",
         "x": [
          "Western Sahara"
         ],
         "xaxis": "x",
         "y": [
          "0"
         ],
         "yaxis": "y"
        },
        {
         "hovertemplate": "Country=%{x}<br>FDI_2018=%{y}<extra></extra>",
         "legendgroup": "Zambia",
         "marker": {
          "color": "#FECB52",
          "symbol": "circle"
         },
         "mode": "markers",
         "name": "Zambia",
         "orientation": "v",
         "showlegend": true,
         "type": "scatter",
         "x": [
          "Zambia"
         ],
         "xaxis": "x",
         "y": [
          "-6"
         ],
         "yaxis": "y"
        },
        {
         "hovertemplate": "Country=%{x}<br>FDI_2018=%{y}<extra></extra>",
         "legendgroup": "Middle East",
         "marker": {
          "color": "#636efa",
          "symbol": "circle"
         },
         "mode": "markers",
         "name": "Middle East",
         "orientation": "v",
         "showlegend": true,
         "type": "scatter",
         "x": [
          "Middle East"
         ],
         "xaxis": "x",
         "y": [
          "29,329"
         ],
         "yaxis": "y"
        },
        {
         "hovertemplate": "Country=%{x}<br>FDI_2018=%{y}<extra></extra>",
         "legendgroup": "Israel",
         "marker": {
          "color": "#EF553B",
          "symbol": "circle"
         },
         "mode": "markers",
         "name": "Israel",
         "orientation": "v",
         "showlegend": true,
         "type": "scatter",
         "x": [
          "Israel"
         ],
         "xaxis": "x",
         "y": [
          "13,982"
         ],
         "yaxis": "y"
        },
        {
         "hovertemplate": "Country=%{x}<br>FDI_2018=%{y}<extra></extra>",
         "legendgroup": "Kuwait",
         "marker": {
          "color": "#00cc96",
          "symbol": "circle"
         },
         "mode": "markers",
         "name": "Kuwait",
         "orientation": "v",
         "showlegend": true,
         "type": "scatter",
         "x": [
          "Kuwait"
         ],
         "xaxis": "x",
         "y": [
          "1,276"
         ],
         "yaxis": "y"
        },
        {
         "hovertemplate": "Country=%{x}<br>FDI_2018=%{y}<extra></extra>",
         "legendgroup": "Lebanon",
         "marker": {
          "color": "#ab63fa",
          "symbol": "circle"
         },
         "mode": "markers",
         "name": "Lebanon",
         "orientation": "v",
         "showlegend": true,
         "type": "scatter",
         "x": [
          "Lebanon"
         ],
         "xaxis": "x",
         "y": [
          "19"
         ],
         "yaxis": "y"
        },
        {
         "hovertemplate": "Country=%{x}<br>FDI_2018=%{y}<extra></extra>",
         "legendgroup": "Saudi Arabia",
         "marker": {
          "color": "#FFA15A",
          "symbol": "circle"
         },
         "mode": "markers",
         "name": "Saudi Arabia",
         "orientation": "v",
         "showlegend": true,
         "type": "scatter",
         "x": [
          "Saudi Arabia"
         ],
         "xaxis": "x",
         "y": [
          "6,912"
         ],
         "yaxis": "y"
        },
        {
         "hovertemplate": "Country=%{x}<br>FDI_2018=%{y}<extra></extra>",
         "legendgroup": "United Arab Emirates",
         "marker": {
          "color": "#19d3f3",
          "symbol": "circle"
         },
         "mode": "markers",
         "name": "United Arab Emirates",
         "orientation": "v",
         "showlegend": true,
         "type": "scatter",
         "x": [
          "United Arab Emirates"
         ],
         "xaxis": "x",
         "y": [
          "5,530"
         ],
         "yaxis": "y"
        },
        {
         "hovertemplate": "Country=%{x}<br>FDI_2018=%{y}<extra></extra>",
         "legendgroup": "Oman",
         "marker": {
          "color": "#FF6692",
          "symbol": "circle"
         },
         "mode": "markers",
         "name": "Oman",
         "orientation": "v",
         "showlegend": true,
         "type": "scatter",
         "x": [
          "Oman"
         ],
         "xaxis": "x",
         "y": [
          "15"
         ],
         "yaxis": "y"
        },
        {
         "hovertemplate": "Country=%{x}<br>FDI_2018=%{y}<extra></extra>",
         "legendgroup": "Syria",
         "marker": {
          "color": "#B6E880",
          "symbol": "circle"
         },
         "mode": "markers",
         "name": "Syria",
         "orientation": "v",
         "showlegend": true,
         "type": "scatter",
         "x": [
          "Syria"
         ],
         "xaxis": "x",
         "y": [
          "0"
         ],
         "yaxis": "y"
        },
        {
         "hovertemplate": "Country=%{x}<br>FDI_2018=%{y}<extra></extra>",
         "legendgroup": "Yemen",
         "marker": {
          "color": "#FF97FF",
          "symbol": "circle"
         },
         "mode": "markers",
         "name": "Yemen",
         "orientation": "v",
         "showlegend": true,
         "type": "scatter",
         "x": [
          "Yemen"
         ],
         "xaxis": "x",
         "y": [
          "0"
         ],
         "yaxis": "y"
        },
        {
         "hovertemplate": "Country=%{x}<br>FDI_2018=%{y}<extra></extra>",
         "legendgroup": "Asia and Pacific",
         "marker": {
          "color": "#FECB52",
          "symbol": "circle"
         },
         "mode": "markers",
         "name": "Asia and Pacific",
         "orientation": "v",
         "showlegend": true,
         "type": "scatter",
         "x": [
          "Asia and Pacific"
         ],
         "xaxis": "x",
         "y": [
          "701,193"
         ],
         "yaxis": "y"
        },
        {
         "hovertemplate": "Country=%{x}<br>FDI_2018=%{y}<extra></extra>",
         "legendgroup": "Australia",
         "marker": {
          "color": "#636efa",
          "symbol": "circle"
         },
         "mode": "markers",
         "name": "Australia",
         "orientation": "v",
         "showlegend": true,
         "type": "scatter",
         "x": [
          "Australia"
         ],
         "xaxis": "x",
         "y": [
          "63,070"
         ],
         "yaxis": "y"
        },
        {
         "hovertemplate": "Country=%{x}<br>FDI_2018=%{y}<extra></extra>",
         "legendgroup": "China",
         "marker": {
          "color": "#EF553B",
          "symbol": "circle"
         },
         "mode": "markers",
         "name": "China",
         "orientation": "v",
         "showlegend": true,
         "type": "scatter",
         "x": [
          "China"
         ],
         "xaxis": "x",
         "y": [
          "33,543"
         ],
         "yaxis": "y"
        },
        {
         "hovertemplate": "Country=%{x}<br>FDI_2018=%{y}<extra></extra>",
         "legendgroup": "Hong Kong",
         "marker": {
          "color": "#00cc96",
          "symbol": "circle"
         },
         "mode": "markers",
         "name": "Hong Kong",
         "orientation": "v",
         "showlegend": true,
         "type": "scatter",
         "x": [
          "Hong Kong"
         ],
         "xaxis": "x",
         "y": [
          "13,159"
         ],
         "yaxis": "y"
        },
        {
         "hovertemplate": "Country=%{x}<br>FDI_2018=%{y}<extra></extra>",
         "legendgroup": "India",
         "marker": {
          "color": "#ab63fa",
          "symbol": "circle"
         },
         "mode": "markers",
         "name": "India",
         "orientation": "v",
         "showlegend": true,
         "type": "scatter",
         "x": [
          "India"
         ],
         "xaxis": "x",
         "y": [
          "5,127"
         ],
         "yaxis": "y"
        },
        {
         "hovertemplate": "Country=%{x}<br>FDI_2018=%{y}<extra></extra>",
         "legendgroup": "Japan",
         "marker": {
          "color": "#FFA15A",
          "symbol": "circle"
         },
         "mode": "markers",
         "name": "Japan",
         "orientation": "v",
         "showlegend": true,
         "type": "scatter",
         "x": [
          "Japan"
         ],
         "xaxis": "x",
         "y": [
          "493,763"
         ],
         "yaxis": "y"
        },
        {
         "hovertemplate": "Country=%{x}<br>FDI_2018=%{y}<extra></extra>",
         "legendgroup": "Malaysia",
         "marker": {
          "color": "#19d3f3",
          "symbol": "circle"
         },
         "mode": "markers",
         "name": "Malaysia",
         "orientation": "v",
         "showlegend": true,
         "type": "scatter",
         "x": [
          "Malaysia"
         ],
         "xaxis": "x",
         "y": [
          "1,218"
         ],
         "yaxis": "y"
        },
        {
         "hovertemplate": "Country=%{x}<br>FDI_2018=%{y}<extra></extra>",
         "legendgroup": "New Zealand",
         "marker": {
          "color": "#FF6692",
          "symbol": "circle"
         },
         "mode": "markers",
         "name": "New Zealand",
         "orientation": "v",
         "showlegend": true,
         "type": "scatter",
         "x": [
          "New Zealand"
         ],
         "xaxis": "x",
         "y": [
          "2,107"
         ],
         "yaxis": "y"
        },
        {
         "hovertemplate": "Country=%{x}<br>FDI_2018=%{y}<extra></extra>",
         "legendgroup": "Singapore",
         "marker": {
          "color": "#B6E880",
          "symbol": "circle"
         },
         "mode": "markers",
         "name": "Singapore",
         "orientation": "v",
         "showlegend": true,
         "type": "scatter",
         "x": [
          "Singapore"
         ],
         "xaxis": "x",
         "y": [
          "18,267"
         ],
         "yaxis": "y"
        },
        {
         "hovertemplate": "Country=%{x}<br>FDI_2018=%{y}<extra></extra>",
         "legendgroup": "South Korea",
         "marker": {
          "color": "#FF97FF",
          "symbol": "circle"
         },
         "mode": "markers",
         "name": "South Korea",
         "orientation": "v",
         "showlegend": true,
         "type": "scatter",
         "x": [
          "South Korea"
         ],
         "xaxis": "x",
         "y": [
          "56,612"
         ],
         "yaxis": "y"
        },
        {
         "hovertemplate": "Country=%{x}<br>FDI_2018=%{y}<extra></extra>",
         "legendgroup": "Taiwan",
         "marker": {
          "color": "#FECB52",
          "symbol": "circle"
         },
         "mode": "markers",
         "name": "Taiwan",
         "orientation": "v",
         "showlegend": true,
         "type": "scatter",
         "x": [
          "Taiwan"
         ],
         "xaxis": "x",
         "y": [
          "10,512"
         ],
         "yaxis": "y"
        },
        {
         "hovertemplate": "Country=%{x}<br>FDI_2018=%{y}<extra></extra>",
         "legendgroup": "Bangladesh",
         "marker": {
          "color": "#636efa",
          "symbol": "circle"
         },
         "mode": "markers",
         "name": "Bangladesh",
         "orientation": "v",
         "showlegend": true,
         "type": "scatter",
         "x": [
          "Bangladesh"
         ],
         "xaxis": "x",
         "y": [
          "12"
         ],
         "yaxis": "y"
        },
        {
         "hovertemplate": "Country=%{x}<br>FDI_2018=%{y}<extra></extra>",
         "legendgroup": "Bhutan",
         "marker": {
          "color": "#EF553B",
          "symbol": "circle"
         },
         "mode": "markers",
         "name": "Bhutan",
         "orientation": "v",
         "showlegend": true,
         "type": "scatter",
         "x": [
          "Bhutan"
         ],
         "xaxis": "x",
         "y": [
          "0"
         ],
         "yaxis": "y"
        },
        {
         "hovertemplate": "Country=%{x}<br>FDI_2018=%{y}<extra></extra>",
         "legendgroup": "Burma",
         "marker": {
          "color": "#00cc96",
          "symbol": "circle"
         },
         "mode": "markers",
         "name": "Burma",
         "orientation": "v",
         "showlegend": true,
         "type": "scatter",
         "x": [
          "Burma"
         ],
         "xaxis": "x",
         "y": [
          "3"
         ],
         "yaxis": "y"
        },
        {
         "hovertemplate": "Country=%{x}<br>FDI_2018=%{y}<extra></extra>",
         "legendgroup": "Cambodia",
         "marker": {
          "color": "#ab63fa",
          "symbol": "circle"
         },
         "mode": "markers",
         "name": "Cambodia",
         "orientation": "v",
         "showlegend": true,
         "type": "scatter",
         "x": [
          "Cambodia"
         ],
         "xaxis": "x",
         "y": [
          "4"
         ],
         "yaxis": "y"
        },
        {
         "hovertemplate": "Country=%{x}<br>FDI_2018=%{y}<extra></extra>",
         "legendgroup": "French Islands, Indian Ocean",
         "marker": {
          "color": "#FFA15A",
          "symbol": "circle"
         },
         "mode": "markers",
         "name": "French Islands, Indian Ocean",
         "orientation": "v",
         "showlegend": true,
         "type": "scatter",
         "x": [
          "French Islands, Indian Ocean"
         ],
         "xaxis": "x",
         "y": [
          "0"
         ],
         "yaxis": "y"
        },
        {
         "hovertemplate": "Country=%{x}<br>FDI_2018=%{y}<extra></extra>",
         "legendgroup": "Indonesia",
         "marker": {
          "color": "#19d3f3",
          "symbol": "circle"
         },
         "mode": "markers",
         "name": "Indonesia",
         "orientation": "v",
         "showlegend": true,
         "type": "scatter",
         "x": [
          "Indonesia"
         ],
         "xaxis": "x",
         "y": [
          "344"
         ],
         "yaxis": "y"
        },
        {
         "hovertemplate": "Country=%{x}<br>FDI_2018=%{y}<extra></extra>",
         "legendgroup": "Kiribati",
         "marker": {
          "color": "#FF6692",
          "symbol": "circle"
         },
         "mode": "markers",
         "name": "Kiribati",
         "orientation": "v",
         "showlegend": true,
         "type": "scatter",
         "x": [
          "Kiribati"
         ],
         "xaxis": "x",
         "y": [
          "0"
         ],
         "yaxis": "y"
        },
        {
         "hovertemplate": "Country=%{x}<br>FDI_2018=%{y}<extra></extra>",
         "legendgroup": "Laos",
         "marker": {
          "color": "#B6E880",
          "symbol": "circle"
         },
         "mode": "markers",
         "name": "Laos",
         "orientation": "v",
         "showlegend": true,
         "type": "scatter",
         "x": [
          "Laos"
         ],
         "xaxis": "x",
         "y": [
          "0"
         ],
         "yaxis": "y"
        },
        {
         "hovertemplate": "Country=%{x}<br>FDI_2018=%{y}<extra></extra>",
         "legendgroup": "Maldives",
         "marker": {
          "color": "#FF97FF",
          "symbol": "circle"
         },
         "mode": "markers",
         "name": "Maldives",
         "orientation": "v",
         "showlegend": true,
         "type": "scatter",
         "x": [
          "Maldives"
         ],
         "xaxis": "x",
         "y": [
          "0"
         ],
         "yaxis": "y"
        },
        {
         "hovertemplate": "Country=%{x}<br>FDI_2018=%{y}<extra></extra>",
         "legendgroup": "Micronesia",
         "marker": {
          "color": "#FECB52",
          "symbol": "circle"
         },
         "mode": "markers",
         "name": "Micronesia",
         "orientation": "v",
         "showlegend": true,
         "type": "scatter",
         "x": [
          "Micronesia"
         ],
         "xaxis": "x",
         "y": [
          "1"
         ],
         "yaxis": "y"
        },
        {
         "hovertemplate": "Country=%{x}<br>FDI_2018=%{y}<extra></extra>",
         "legendgroup": "Nauru",
         "marker": {
          "color": "#636efa",
          "symbol": "circle"
         },
         "mode": "markers",
         "name": "Nauru",
         "orientation": "v",
         "showlegend": true,
         "type": "scatter",
         "x": [
          "Nauru"
         ],
         "xaxis": "x",
         "y": [
          "0"
         ],
         "yaxis": "y"
        },
        {
         "hovertemplate": "Country=%{x}<br>FDI_2018=%{y}<extra></extra>",
         "legendgroup": "North Korea",
         "marker": {
          "color": "#EF553B",
          "symbol": "circle"
         },
         "mode": "markers",
         "name": "North Korea",
         "orientation": "v",
         "showlegend": true,
         "type": "scatter",
         "x": [
          "North Korea"
         ],
         "xaxis": "x",
         "y": [
          "0"
         ],
         "yaxis": "y"
        },
        {
         "hovertemplate": "Country=%{x}<br>FDI_2018=%{y}<extra></extra>",
         "legendgroup": "Pakistan",
         "marker": {
          "color": "#00cc96",
          "symbol": "circle"
         },
         "mode": "markers",
         "name": "Pakistan",
         "orientation": "v",
         "showlegend": true,
         "type": "scatter",
         "x": [
          "Pakistan"
         ],
         "xaxis": "x",
         "y": [
          "167"
         ],
         "yaxis": "y"
        },
        {
         "hovertemplate": "Country=%{x}<br>FDI_2018=%{y}<extra></extra>",
         "legendgroup": "Papua New Guinea",
         "marker": {
          "color": "#ab63fa",
          "symbol": "circle"
         },
         "mode": "markers",
         "name": "Papua New Guinea",
         "orientation": "v",
         "showlegend": true,
         "type": "scatter",
         "x": [
          "Papua New Guinea"
         ],
         "xaxis": "x",
         "y": [
          "1"
         ],
         "yaxis": "y"
        },
        {
         "hovertemplate": "Country=%{x}<br>FDI_2018=%{y}<extra></extra>",
         "legendgroup": "Philippines",
         "marker": {
          "color": "#FFA15A",
          "symbol": "circle"
         },
         "mode": "markers",
         "name": "Philippines",
         "orientation": "v",
         "showlegend": true,
         "type": "scatter",
         "x": [
          "Philippines"
         ],
         "xaxis": "x",
         "y": [
          "361"
         ],
         "yaxis": "y"
        },
        {
         "hovertemplate": "Country=%{x}<br>FDI_2018=%{y}<extra></extra>",
         "legendgroup": "Solomon Islands",
         "marker": {
          "color": "#19d3f3",
          "symbol": "circle"
         },
         "mode": "markers",
         "name": "Solomon Islands",
         "orientation": "v",
         "showlegend": true,
         "type": "scatter",
         "x": [
          "Solomon Islands"
         ],
         "xaxis": "x",
         "y": [
          "0"
         ],
         "yaxis": "y"
        },
        {
         "hovertemplate": "Country=%{x}<br>FDI_2018=%{y}<extra></extra>",
         "legendgroup": "Sri Lanka",
         "marker": {
          "color": "#FF6692",
          "symbol": "circle"
         },
         "mode": "markers",
         "name": "Sri Lanka",
         "orientation": "v",
         "showlegend": true,
         "type": "scatter",
         "x": [
          "Sri Lanka"
         ],
         "xaxis": "x",
         "y": [
          "66"
         ],
         "yaxis": "y"
        },
        {
         "hovertemplate": "Country=%{x}<br>FDI_2018=%{y}<extra></extra>",
         "legendgroup": "Thailand",
         "marker": {
          "color": "#B6E880",
          "symbol": "circle"
         },
         "mode": "markers",
         "name": "Thailand",
         "orientation": "v",
         "showlegend": true,
         "type": "scatter",
         "x": [
          "Thailand"
         ],
         "xaxis": "x",
         "y": [
          "2,136"
         ],
         "yaxis": "y"
        },
        {
         "hovertemplate": "Country=%{x}<br>FDI_2018=%{y}<extra></extra>",
         "legendgroup": "Timor-Leste",
         "marker": {
          "color": "#FF97FF",
          "symbol": "circle"
         },
         "mode": "markers",
         "name": "Timor-Leste",
         "orientation": "v",
         "showlegend": true,
         "type": "scatter",
         "x": [
          "Timor-Leste"
         ],
         "xaxis": "x",
         "y": [
          "0"
         ],
         "yaxis": "y"
        },
        {
         "hovertemplate": "Country=%{x}<br>FDI_2018=%{y}<extra></extra>",
         "legendgroup": "Tongo",
         "marker": {
          "color": "#FECB52",
          "symbol": "circle"
         },
         "mode": "markers",
         "name": "Tongo",
         "orientation": "v",
         "showlegend": true,
         "type": "scatter",
         "x": [
          "Tongo"
         ],
         "xaxis": "x",
         "y": [
          "0"
         ],
         "yaxis": "y"
        },
        {
         "hovertemplate": "Country=%{x}<br>FDI_2018=%{y}<extra></extra>",
         "legendgroup": "Tuvalu",
         "marker": {
          "color": "#636efa",
          "symbol": "circle"
         },
         "mode": "markers",
         "name": "Tuvalu",
         "orientation": "v",
         "showlegend": true,
         "type": "scatter",
         "x": [
          "Tuvalu"
         ],
         "xaxis": "x",
         "y": [
          "0"
         ],
         "yaxis": "y"
        },
        {
         "hovertemplate": "Country=%{x}<br>FDI_2018=%{y}<extra></extra>",
         "legendgroup": "United Kingdom Islands, Indian Ocean",
         "marker": {
          "color": "#EF553B",
          "symbol": "circle"
         },
         "mode": "markers",
         "name": "United Kingdom Islands, Indian Ocean",
         "orientation": "v",
         "showlegend": true,
         "type": "scatter",
         "x": [
          "United Kingdom Islands, Indian Ocean"
         ],
         "xaxis": "x",
         "y": [
          "-1"
         ],
         "yaxis": "y"
        },
        {
         "hovertemplate": "Country=%{x}<br>FDI_2018=%{y}<extra></extra>",
         "legendgroup": "Vietnam",
         "marker": {
          "color": "#00cc96",
          "symbol": "circle"
         },
         "mode": "markers",
         "name": "Vietnam",
         "orientation": "v",
         "showlegend": true,
         "type": "scatter",
         "x": [
          "Vietnam"
         ],
         "xaxis": "x",
         "y": [
          "59"
         ],
         "yaxis": "y"
        }
       ],
       "layout": {
        "autosize": true,
        "legend": {
         "title": {
          "text": "Country"
         },
         "tracegroupgap": 0
        },
        "margin": {
         "t": 60
        },
        "template": {
         "data": {
          "bar": [
           {
            "error_x": {
             "color": "#2a3f5f"
            },
            "error_y": {
             "color": "#2a3f5f"
            },
            "marker": {
             "line": {
              "color": "#E5ECF6",
              "width": 0.5
             }
            },
            "type": "bar"
           }
          ],
          "barpolar": [
           {
            "marker": {
             "line": {
              "color": "#E5ECF6",
              "width": 0.5
             }
            },
            "type": "barpolar"
           }
          ],
          "carpet": [
           {
            "aaxis": {
             "endlinecolor": "#2a3f5f",
             "gridcolor": "white",
             "linecolor": "white",
             "minorgridcolor": "white",
             "startlinecolor": "#2a3f5f"
            },
            "baxis": {
             "endlinecolor": "#2a3f5f",
             "gridcolor": "white",
             "linecolor": "white",
             "minorgridcolor": "white",
             "startlinecolor": "#2a3f5f"
            },
            "type": "carpet"
           }
          ],
          "choropleth": [
           {
            "colorbar": {
             "outlinewidth": 0,
             "ticks": ""
            },
            "type": "choropleth"
           }
          ],
          "contour": [
           {
            "colorbar": {
             "outlinewidth": 0,
             "ticks": ""
            },
            "colorscale": [
             [
              0,
              "#0d0887"
             ],
             [
              0.1111111111111111,
              "#46039f"
             ],
             [
              0.2222222222222222,
              "#7201a8"
             ],
             [
              0.3333333333333333,
              "#9c179e"
             ],
             [
              0.4444444444444444,
              "#bd3786"
             ],
             [
              0.5555555555555556,
              "#d8576b"
             ],
             [
              0.6666666666666666,
              "#ed7953"
             ],
             [
              0.7777777777777778,
              "#fb9f3a"
             ],
             [
              0.8888888888888888,
              "#fdca26"
             ],
             [
              1,
              "#f0f921"
             ]
            ],
            "type": "contour"
           }
          ],
          "contourcarpet": [
           {
            "colorbar": {
             "outlinewidth": 0,
             "ticks": ""
            },
            "type": "contourcarpet"
           }
          ],
          "heatmap": [
           {
            "colorbar": {
             "outlinewidth": 0,
             "ticks": ""
            },
            "colorscale": [
             [
              0,
              "#0d0887"
             ],
             [
              0.1111111111111111,
              "#46039f"
             ],
             [
              0.2222222222222222,
              "#7201a8"
             ],
             [
              0.3333333333333333,
              "#9c179e"
             ],
             [
              0.4444444444444444,
              "#bd3786"
             ],
             [
              0.5555555555555556,
              "#d8576b"
             ],
             [
              0.6666666666666666,
              "#ed7953"
             ],
             [
              0.7777777777777778,
              "#fb9f3a"
             ],
             [
              0.8888888888888888,
              "#fdca26"
             ],
             [
              1,
              "#f0f921"
             ]
            ],
            "type": "heatmap"
           }
          ],
          "heatmapgl": [
           {
            "colorbar": {
             "outlinewidth": 0,
             "ticks": ""
            },
            "colorscale": [
             [
              0,
              "#0d0887"
             ],
             [
              0.1111111111111111,
              "#46039f"
             ],
             [
              0.2222222222222222,
              "#7201a8"
             ],
             [
              0.3333333333333333,
              "#9c179e"
             ],
             [
              0.4444444444444444,
              "#bd3786"
             ],
             [
              0.5555555555555556,
              "#d8576b"
             ],
             [
              0.6666666666666666,
              "#ed7953"
             ],
             [
              0.7777777777777778,
              "#fb9f3a"
             ],
             [
              0.8888888888888888,
              "#fdca26"
             ],
             [
              1,
              "#f0f921"
             ]
            ],
            "type": "heatmapgl"
           }
          ],
          "histogram": [
           {
            "marker": {
             "colorbar": {
              "outlinewidth": 0,
              "ticks": ""
             }
            },
            "type": "histogram"
           }
          ],
          "histogram2d": [
           {
            "colorbar": {
             "outlinewidth": 0,
             "ticks": ""
            },
            "colorscale": [
             [
              0,
              "#0d0887"
             ],
             [
              0.1111111111111111,
              "#46039f"
             ],
             [
              0.2222222222222222,
              "#7201a8"
             ],
             [
              0.3333333333333333,
              "#9c179e"
             ],
             [
              0.4444444444444444,
              "#bd3786"
             ],
             [
              0.5555555555555556,
              "#d8576b"
             ],
             [
              0.6666666666666666,
              "#ed7953"
             ],
             [
              0.7777777777777778,
              "#fb9f3a"
             ],
             [
              0.8888888888888888,
              "#fdca26"
             ],
             [
              1,
              "#f0f921"
             ]
            ],
            "type": "histogram2d"
           }
          ],
          "histogram2dcontour": [
           {
            "colorbar": {
             "outlinewidth": 0,
             "ticks": ""
            },
            "colorscale": [
             [
              0,
              "#0d0887"
             ],
             [
              0.1111111111111111,
              "#46039f"
             ],
             [
              0.2222222222222222,
              "#7201a8"
             ],
             [
              0.3333333333333333,
              "#9c179e"
             ],
             [
              0.4444444444444444,
              "#bd3786"
             ],
             [
              0.5555555555555556,
              "#d8576b"
             ],
             [
              0.6666666666666666,
              "#ed7953"
             ],
             [
              0.7777777777777778,
              "#fb9f3a"
             ],
             [
              0.8888888888888888,
              "#fdca26"
             ],
             [
              1,
              "#f0f921"
             ]
            ],
            "type": "histogram2dcontour"
           }
          ],
          "mesh3d": [
           {
            "colorbar": {
             "outlinewidth": 0,
             "ticks": ""
            },
            "type": "mesh3d"
           }
          ],
          "parcoords": [
           {
            "line": {
             "colorbar": {
              "outlinewidth": 0,
              "ticks": ""
             }
            },
            "type": "parcoords"
           }
          ],
          "pie": [
           {
            "automargin": true,
            "type": "pie"
           }
          ],
          "scatter": [
           {
            "marker": {
             "colorbar": {
              "outlinewidth": 0,
              "ticks": ""
             }
            },
            "type": "scatter"
           }
          ],
          "scatter3d": [
           {
            "line": {
             "colorbar": {
              "outlinewidth": 0,
              "ticks": ""
             }
            },
            "marker": {
             "colorbar": {
              "outlinewidth": 0,
              "ticks": ""
             }
            },
            "type": "scatter3d"
           }
          ],
          "scattercarpet": [
           {
            "marker": {
             "colorbar": {
              "outlinewidth": 0,
              "ticks": ""
             }
            },
            "type": "scattercarpet"
           }
          ],
          "scattergeo": [
           {
            "marker": {
             "colorbar": {
              "outlinewidth": 0,
              "ticks": ""
             }
            },
            "type": "scattergeo"
           }
          ],
          "scattergl": [
           {
            "marker": {
             "colorbar": {
              "outlinewidth": 0,
              "ticks": ""
             }
            },
            "type": "scattergl"
           }
          ],
          "scattermapbox": [
           {
            "marker": {
             "colorbar": {
              "outlinewidth": 0,
              "ticks": ""
             }
            },
            "type": "scattermapbox"
           }
          ],
          "scatterpolar": [
           {
            "marker": {
             "colorbar": {
              "outlinewidth": 0,
              "ticks": ""
             }
            },
            "type": "scatterpolar"
           }
          ],
          "scatterpolargl": [
           {
            "marker": {
             "colorbar": {
              "outlinewidth": 0,
              "ticks": ""
             }
            },
            "type": "scatterpolargl"
           }
          ],
          "scatterternary": [
           {
            "marker": {
             "colorbar": {
              "outlinewidth": 0,
              "ticks": ""
             }
            },
            "type": "scatterternary"
           }
          ],
          "surface": [
           {
            "colorbar": {
             "outlinewidth": 0,
             "ticks": ""
            },
            "colorscale": [
             [
              0,
              "#0d0887"
             ],
             [
              0.1111111111111111,
              "#46039f"
             ],
             [
              0.2222222222222222,
              "#7201a8"
             ],
             [
              0.3333333333333333,
              "#9c179e"
             ],
             [
              0.4444444444444444,
              "#bd3786"
             ],
             [
              0.5555555555555556,
              "#d8576b"
             ],
             [
              0.6666666666666666,
              "#ed7953"
             ],
             [
              0.7777777777777778,
              "#fb9f3a"
             ],
             [
              0.8888888888888888,
              "#fdca26"
             ],
             [
              1,
              "#f0f921"
             ]
            ],
            "type": "surface"
           }
          ],
          "table": [
           {
            "cells": {
             "fill": {
              "color": "#EBF0F8"
             },
             "line": {
              "color": "white"
             }
            },
            "header": {
             "fill": {
              "color": "#C8D4E3"
             },
             "line": {
              "color": "white"
             }
            },
            "type": "table"
           }
          ]
         },
         "layout": {
          "annotationdefaults": {
           "arrowcolor": "#2a3f5f",
           "arrowhead": 0,
           "arrowwidth": 1
          },
          "coloraxis": {
           "colorbar": {
            "outlinewidth": 0,
            "ticks": ""
           }
          },
          "colorscale": {
           "diverging": [
            [
             0,
             "#8e0152"
            ],
            [
             0.1,
             "#c51b7d"
            ],
            [
             0.2,
             "#de77ae"
            ],
            [
             0.3,
             "#f1b6da"
            ],
            [
             0.4,
             "#fde0ef"
            ],
            [
             0.5,
             "#f7f7f7"
            ],
            [
             0.6,
             "#e6f5d0"
            ],
            [
             0.7,
             "#b8e186"
            ],
            [
             0.8,
             "#7fbc41"
            ],
            [
             0.9,
             "#4d9221"
            ],
            [
             1,
             "#276419"
            ]
           ],
           "sequential": [
            [
             0,
             "#0d0887"
            ],
            [
             0.1111111111111111,
             "#46039f"
            ],
            [
             0.2222222222222222,
             "#7201a8"
            ],
            [
             0.3333333333333333,
             "#9c179e"
            ],
            [
             0.4444444444444444,
             "#bd3786"
            ],
            [
             0.5555555555555556,
             "#d8576b"
            ],
            [
             0.6666666666666666,
             "#ed7953"
            ],
            [
             0.7777777777777778,
             "#fb9f3a"
            ],
            [
             0.8888888888888888,
             "#fdca26"
            ],
            [
             1,
             "#f0f921"
            ]
           ],
           "sequentialminus": [
            [
             0,
             "#0d0887"
            ],
            [
             0.1111111111111111,
             "#46039f"
            ],
            [
             0.2222222222222222,
             "#7201a8"
            ],
            [
             0.3333333333333333,
             "#9c179e"
            ],
            [
             0.4444444444444444,
             "#bd3786"
            ],
            [
             0.5555555555555556,
             "#d8576b"
            ],
            [
             0.6666666666666666,
             "#ed7953"
            ],
            [
             0.7777777777777778,
             "#fb9f3a"
            ],
            [
             0.8888888888888888,
             "#fdca26"
            ],
            [
             1,
             "#f0f921"
            ]
           ]
          },
          "colorway": [
           "#636efa",
           "#EF553B",
           "#00cc96",
           "#ab63fa",
           "#FFA15A",
           "#19d3f3",
           "#FF6692",
           "#B6E880",
           "#FF97FF",
           "#FECB52"
          ],
          "font": {
           "color": "#2a3f5f"
          },
          "geo": {
           "bgcolor": "white",
           "lakecolor": "white",
           "landcolor": "#E5ECF6",
           "showlakes": true,
           "showland": true,
           "subunitcolor": "white"
          },
          "hoverlabel": {
           "align": "left"
          },
          "hovermode": "closest",
          "mapbox": {
           "style": "light"
          },
          "paper_bgcolor": "white",
          "plot_bgcolor": "#E5ECF6",
          "polar": {
           "angularaxis": {
            "gridcolor": "white",
            "linecolor": "white",
            "ticks": ""
           },
           "bgcolor": "#E5ECF6",
           "radialaxis": {
            "gridcolor": "white",
            "linecolor": "white",
            "ticks": ""
           }
          },
          "scene": {
           "xaxis": {
            "backgroundcolor": "#E5ECF6",
            "gridcolor": "white",
            "gridwidth": 2,
            "linecolor": "white",
            "showbackground": true,
            "ticks": "",
            "zerolinecolor": "white"
           },
           "yaxis": {
            "backgroundcolor": "#E5ECF6",
            "gridcolor": "white",
            "gridwidth": 2,
            "linecolor": "white",
            "showbackground": true,
            "ticks": "",
            "zerolinecolor": "white"
           },
           "zaxis": {
            "backgroundcolor": "#E5ECF6",
            "gridcolor": "white",
            "gridwidth": 2,
            "linecolor": "white",
            "showbackground": true,
            "ticks": "",
            "zerolinecolor": "white"
           }
          },
          "shapedefaults": {
           "line": {
            "color": "#2a3f5f"
           }
          },
          "ternary": {
           "aaxis": {
            "gridcolor": "white",
            "linecolor": "white",
            "ticks": ""
           },
           "baxis": {
            "gridcolor": "white",
            "linecolor": "white",
            "ticks": ""
           },
           "bgcolor": "#E5ECF6",
           "caxis": {
            "gridcolor": "white",
            "linecolor": "white",
            "ticks": ""
           }
          },
          "title": {
           "x": 0.05
          },
          "xaxis": {
           "automargin": true,
           "gridcolor": "white",
           "linecolor": "white",
           "ticks": "",
           "title": {
            "standoff": 15
           },
           "zerolinecolor": "white",
           "zerolinewidth": 2
          },
          "yaxis": {
           "automargin": true,
           "gridcolor": "white",
           "linecolor": "white",
           "ticks": "",
           "title": {
            "standoff": 15
           },
           "zerolinecolor": "white",
           "zerolinewidth": 2
          }
         }
        },
        "xaxis": {
         "anchor": "y",
         "autorange": true,
         "categoryarray": [
          "Canada",
          "Austria",
          "Belgium",
          "Denmark",
          "Finland",
          "France",
          "Germany",
          "Ireland",
          "Italy",
          "Luxembourg",
          "Netherlands",
          "Norway",
          "Spain",
          "Sweden",
          "Switzerland",
          "United Kingdom",
          "Andorra",
          "Armenia",
          "Azerbaijan",
          "Belarus",
          "Georgia",
          "Gibraltar",
          "Hungary",
          "Kosovo",
          "Kyrgyzstan",
          "Malta",
          "Moldova",
          "Monaco",
          "North Macedonia",
          "Portugal",
          "Russia",
          "San Marino",
          "Serbia",
          "Slovakia",
          "Slovenia",
          "Tajikistan",
          "Turkey",
          "Turkmenistan",
          "Vatican City",
          "Brazil",
          "Mexico",
          "Panama",
          "Venezuela",
          "Argentina",
          "Belize",
          "Chile",
          "Colombia",
          "Costa Rica",
          "Ecuador",
          "El Salvador",
          "French Guiana",
          "Honduras",
          "Nicaragua",
          "Peru",
          "Uruguay",
          "Bahamas",
          "Bermuda",
          "Curacao 2",
          "Netherlands Antilles 3",
          "United Kingdom Islands, Caribbean  4",
          "Antigua and Barbuda",
          "Barbados",
          "Dominican Republic",
          "French Islands, Caribbean",
          "Haiti",
          "Jamaica",
          "Sint Maarten 2",
          "St. Pierre and Miquelon",
          "St. Vincent and the Grenadines",
          "Trinidad and Tobago",
          "Africa",
          "South Africa",
          "Benin",
          "Botswana",
          "Burkina Faso",
          "Burundi",
          "Cabo Verde",
          "Chad",
          "Comoros",
          "Djibouti",
          "Egypt",
          "Eritrea",
          "Eswatini",
          "Gambia",
          "Ghana",
          "Guinea-Bissau",
          "Lesotho",
          "Liberia",
          "Mali",
          "Mauritania",
          "Mauritius",
          "Nigeria",
          "Rwanda",
          "Sao Tome and Principe",
          "Sierra Leone",
          "South Sudan",
          "Togo",
          "Tunisia",
          "Western Sahara",
          "Zambia",
          "Middle East",
          "Israel",
          "Kuwait",
          "Lebanon",
          "Saudi Arabia",
          "United Arab Emirates",
          "Oman",
          "Syria",
          "Yemen",
          "Asia and Pacific",
          "Australia",
          "China",
          "Hong Kong",
          "India",
          "Japan",
          "Malaysia",
          "New Zealand",
          "Singapore",
          "South Korea",
          "Taiwan",
          "Bangladesh",
          "Bhutan",
          "Burma",
          "Cambodia",
          "French Islands, Indian Ocean",
          "Indonesia",
          "Kiribati",
          "Laos",
          "Maldives",
          "Micronesia",
          "Nauru",
          "North Korea",
          "Pakistan",
          "Papua New Guinea",
          "Philippines",
          "Solomon Islands",
          "Sri Lanka",
          "Thailand",
          "Timor-Leste",
          "Tongo",
          "Tuvalu",
          "United Kingdom Islands, Indian Ocean",
          "Vietnam"
         ],
         "categoryorder": "array",
         "domain": [
          0,
          1
         ],
         "range": [
          -9.191545574636722,
          151.19154557463673
         ],
         "title": {
          "text": "Country"
         },
         "type": "category"
        },
        "yaxis": {
         "anchor": "x",
         "autorange": true,
         "domain": [
          0,
          1
         ],
         "range": [
          -54739.74547390841,
          755721.7454739084
         ],
         "title": {
          "text": "FDI_2018"
         }
        }
       }
      },
      "image/png": "[encoded data removed]",
      "text/html": [
       "<div>                            <div id=\"9699cbb4-fda4-4497-bc3f-221062591bf4\" class=\"plotly-graph-div\" style=\"height:525px; width:100%;\"></div>            <script type=\"text/javascript\">                require([\"plotly\"], function(Plotly) {                    window.PLOTLYENV=window.PLOTLYENV || {};                                    if (document.getElementById(\"9699cbb4-fda4-4497-bc3f-221062591bf4\")) {                    Plotly.newPlot(                        \"9699cbb4-fda4-4497-bc3f-221062591bf4\",                        [{\"hovertemplate\": \"Country=%{x}<br>FDI_2018=%{y}<extra></extra>\", \"legendgroup\": \"Canada\", \"marker\": {\"color\": \"#636efa\", \"symbol\": \"circle\"}, \"mode\": \"markers\", \"name\": \"Canada\", \"orientation\": \"v\", \"showlegend\": true, \"type\": \"scatter\", \"x\": [\"Canada\"], \"xaxis\": \"x\", \"y\": [\"442,802\"], \"yaxis\": \"y\"}, {\"hovertemplate\": \"Country=%{x}<br>FDI_2018=%{y}<extra></extra>\", \"legendgroup\": \"Austria\", \"marker\": {\"color\": \"#EF553B\", \"symbol\": \"circle\"}, \"mode\": \"markers\", \"name\": \"Austria\", \"orientation\": \"v\", \"showlegend\": true, \"type\": \"scatter\", \"x\": [\"Austria\"], \"xaxis\": \"x\", \"y\": [\"12,392\"], \"yaxis\": \"y\"}, {\"hovertemplate\": \"Country=%{x}<br>FDI_2018=%{y}<extra></extra>\", \"legendgroup\": \"Belgium\", \"marker\": {\"color\": \"#00cc96\", \"symbol\": \"circle\"}, \"mode\": \"markers\", \"name\": \"Belgium\", \"orientation\": \"v\", \"showlegend\": true, \"type\": \"scatter\", \"x\": [\"Belgium\"], \"xaxis\": \"x\", \"y\": [\"64,661\"], \"yaxis\": \"y\"}, {\"hovertemplate\": \"Country=%{x}<br>FDI_2018=%{y}<extra></extra>\", \"legendgroup\": \"Denmark\", \"marker\": {\"color\": \"#ab63fa\", \"symbol\": \"circle\"}, \"mode\": \"markers\", \"name\": \"Denmark\", \"orientation\": \"v\", \"showlegend\": true, \"type\": \"scatter\", \"x\": [\"Denmark\"], \"xaxis\": \"x\", \"y\": [\"20,654\"], \"yaxis\": \"y\"}, {\"hovertemplate\": \"Country=%{x}<br>FDI_2018=%{y}<extra></extra>\", \"legendgroup\": \"Finland\", \"marker\": {\"color\": \"#FFA15A\", \"symbol\": \"circle\"}, \"mode\": \"markers\", \"name\": \"Finland\", \"orientation\": \"v\", \"showlegend\": true, \"type\": \"scatter\", \"x\": [\"Finland\"], \"xaxis\": \"x\", \"y\": [\"14,464\"], \"yaxis\": \"y\"}, {\"hovertemplate\": \"Country=%{x}<br>FDI_2018=%{y}<extra></extra>\", \"legendgroup\": \"France\", \"marker\": {\"color\": \"#19d3f3\", \"symbol\": \"circle\"}, \"mode\": \"markers\", \"name\": \"France\", \"orientation\": \"v\", \"showlegend\": true, \"type\": \"scatter\", \"x\": [\"France\"], \"xaxis\": \"x\", \"y\": [\"268,169\"], \"yaxis\": \"y\"}, {\"hovertemplate\": \"Country=%{x}<br>FDI_2018=%{y}<extra></extra>\", \"legendgroup\": \"Germany\", \"marker\": {\"color\": \"#FF6692\", \"symbol\": \"circle\"}, \"mode\": \"markers\", \"name\": \"Germany\", \"orientation\": \"v\", \"showlegend\": true, \"type\": \"scatter\", \"x\": [\"Germany\"], \"xaxis\": \"x\", \"y\": [\"328,124\"], \"yaxis\": \"y\"}, {\"hovertemplate\": \"Country=%{x}<br>FDI_2018=%{y}<extra></extra>\", \"legendgroup\": \"Ireland\", \"marker\": {\"color\": \"#B6E880\", \"symbol\": \"circle\"}, \"mode\": \"markers\", \"name\": \"Ireland\", \"orientation\": \"v\", \"showlegend\": true, \"type\": \"scatter\", \"x\": [\"Ireland\"], \"xaxis\": \"x\", \"y\": [\"265,004\"], \"yaxis\": \"y\"}, {\"hovertemplate\": \"Country=%{x}<br>FDI_2018=%{y}<extra></extra>\", \"legendgroup\": \"Italy\", \"marker\": {\"color\": \"#FF97FF\", \"symbol\": \"circle\"}, \"mode\": \"markers\", \"name\": \"Italy\", \"orientation\": \"v\", \"showlegend\": true, \"type\": \"scatter\", \"x\": [\"Italy\"], \"xaxis\": \"x\", \"y\": [\"30,749\"], \"yaxis\": \"y\"}, {\"hovertemplate\": \"Country=%{x}<br>FDI_2018=%{y}<extra></extra>\", \"legendgroup\": \"Luxembourg\", \"marker\": {\"color\": \"#FECB52\", \"symbol\": \"circle\"}, \"mode\": \"markers\", \"name\": \"Luxembourg\", \"orientation\": \"v\", \"showlegend\": true, \"type\": \"scatter\", \"x\": [\"Luxembourg\"], \"xaxis\": \"x\", \"y\": [\"312,976\"], \"yaxis\": \"y\"}, {\"hovertemplate\": \"Country=%{x}<br>FDI_2018=%{y}<extra></extra>\", \"legendgroup\": \"Netherlands\", \"marker\": {\"color\": \"#636efa\", \"symbol\": \"circle\"}, \"mode\": \"markers\", \"name\": \"Netherlands\", \"orientation\": \"v\", \"showlegend\": true, \"type\": \"scatter\", \"x\": [\"Netherlands\"], \"xaxis\": \"x\", \"y\": [\"462,303\"], \"yaxis\": \"y\"}, {\"hovertemplate\": \"Country=%{x}<br>FDI_2018=%{y}<extra></extra>\", \"legendgroup\": \"Norway\", \"marker\": {\"color\": \"#EF553B\", \"symbol\": \"circle\"}, \"mode\": \"markers\", \"name\": \"Norway\", \"orientation\": \"v\", \"showlegend\": true, \"type\": \"scatter\", \"x\": [\"Norway\"], \"xaxis\": \"x\", \"y\": [\"26,007\"], \"yaxis\": \"y\"}, {\"hovertemplate\": \"Country=%{x}<br>FDI_2018=%{y}<extra></extra>\", \"legendgroup\": \"Spain\", \"marker\": {\"color\": \"#00cc96\", \"symbol\": \"circle\"}, \"mode\": \"markers\", \"name\": \"Spain\", \"orientation\": \"v\", \"showlegend\": true, \"type\": \"scatter\", \"x\": [\"Spain\"], \"xaxis\": \"x\", \"y\": [\"83,379\"], \"yaxis\": \"y\"}, {\"hovertemplate\": \"Country=%{x}<br>FDI_2018=%{y}<extra></extra>\", \"legendgroup\": \"Sweden\", \"marker\": {\"color\": \"#ab63fa\", \"symbol\": \"circle\"}, \"mode\": \"markers\", \"name\": \"Sweden\", \"orientation\": \"v\", \"showlegend\": true, \"type\": \"scatter\", \"x\": [\"Sweden\"], \"xaxis\": \"x\", \"y\": [\"49,546\"], \"yaxis\": \"y\"}, {\"hovertemplate\": \"Country=%{x}<br>FDI_2018=%{y}<extra></extra>\", \"legendgroup\": \"Switzerland\", \"marker\": {\"color\": \"#FFA15A\", \"symbol\": \"circle\"}, \"mode\": \"markers\", \"name\": \"Switzerland\", \"orientation\": \"v\", \"showlegend\": true, \"type\": \"scatter\", \"x\": [\"Switzerland\"], \"xaxis\": \"x\", \"y\": [\"295,783\"], \"yaxis\": \"y\"}, {\"hovertemplate\": \"Country=%{x}<br>FDI_2018=%{y}<extra></extra>\", \"legendgroup\": \"United Kingdom\", \"marker\": {\"color\": \"#19d3f3\", \"symbol\": \"circle\"}, \"mode\": \"markers\", \"name\": \"United Kingdom\", \"orientation\": \"v\", \"showlegend\": true, \"type\": \"scatter\", \"x\": [\"United Kingdom\"], \"xaxis\": \"x\", \"y\": [\"496,622\"], \"yaxis\": \"y\"}, {\"hovertemplate\": \"Country=%{x}<br>FDI_2018=%{y}<extra></extra>\", \"legendgroup\": \"Andorra\", \"marker\": {\"color\": \"#FF6692\", \"symbol\": \"circle\"}, \"mode\": \"markers\", \"name\": \"Andorra\", \"orientation\": \"v\", \"showlegend\": true, \"type\": \"scatter\", \"x\": [\"Andorra\"], \"xaxis\": \"x\", \"y\": [\"0\"], \"yaxis\": \"y\"}, {\"hovertemplate\": \"Country=%{x}<br>FDI_2018=%{y}<extra></extra>\", \"legendgroup\": \"Armenia\", \"marker\": {\"color\": \"#B6E880\", \"symbol\": \"circle\"}, \"mode\": \"markers\", \"name\": \"Armenia\", \"orientation\": \"v\", \"showlegend\": true, \"type\": \"scatter\", \"x\": [\"Armenia\"], \"xaxis\": \"x\", \"y\": [\"3\"], \"yaxis\": \"y\"}, {\"hovertemplate\": \"Country=%{x}<br>FDI_2018=%{y}<extra></extra>\", \"legendgroup\": \"Azerbaijan\", \"marker\": {\"color\": \"#FF97FF\", \"symbol\": \"circle\"}, \"mode\": \"markers\", \"name\": \"Azerbaijan\", \"orientation\": \"v\", \"showlegend\": true, \"type\": \"scatter\", \"x\": [\"Azerbaijan\"], \"xaxis\": \"x\", \"y\": [\"-2\"], \"yaxis\": \"y\"}, {\"hovertemplate\": \"Country=%{x}<br>FDI_2018=%{y}<extra></extra>\", \"legendgroup\": \"Belarus\", \"marker\": {\"color\": \"#FECB52\", \"symbol\": \"circle\"}, \"mode\": \"markers\", \"name\": \"Belarus\", \"orientation\": \"v\", \"showlegend\": true, \"type\": \"scatter\", \"x\": [\"Belarus\"], \"xaxis\": \"x\", \"y\": [\"4\"], \"yaxis\": \"y\"}, {\"hovertemplate\": \"Country=%{x}<br>FDI_2018=%{y}<extra></extra>\", \"legendgroup\": \"Georgia\", \"marker\": {\"color\": \"#636efa\", \"symbol\": \"circle\"}, \"mode\": \"markers\", \"name\": \"Georgia\", \"orientation\": \"v\", \"showlegend\": true, \"type\": \"scatter\", \"x\": [\"Georgia\"], \"xaxis\": \"x\", \"y\": [\"0\"], \"yaxis\": \"y\"}, {\"hovertemplate\": \"Country=%{x}<br>FDI_2018=%{y}<extra></extra>\", \"legendgroup\": \"Gibraltar\", \"marker\": {\"color\": \"#EF553B\", \"symbol\": \"circle\"}, \"mode\": \"markers\", \"name\": \"Gibraltar\", \"orientation\": \"v\", \"showlegend\": true, \"type\": \"scatter\", \"x\": [\"Gibraltar\"], \"xaxis\": \"x\", \"y\": [\"9,367\"], \"yaxis\": \"y\"}, {\"hovertemplate\": \"Country=%{x}<br>FDI_2018=%{y}<extra></extra>\", \"legendgroup\": \"Hungary\", \"marker\": {\"color\": \"#00cc96\", \"symbol\": \"circle\"}, \"mode\": \"markers\", \"name\": \"Hungary\", \"orientation\": \"v\", \"showlegend\": true, \"type\": \"scatter\", \"x\": [\"Hungary\"], \"xaxis\": \"x\", \"y\": [\"31,730\"], \"yaxis\": \"y\"}, {\"hovertemplate\": \"Country=%{x}<br>FDI_2018=%{y}<extra></extra>\", \"legendgroup\": \"Kosovo\", \"marker\": {\"color\": \"#ab63fa\", \"symbol\": \"circle\"}, \"mode\": \"markers\", \"name\": \"Kosovo\", \"orientation\": \"v\", \"showlegend\": true, \"type\": \"scatter\", \"x\": [\"Kosovo\"], \"xaxis\": \"x\", \"y\": [\"0\"], \"yaxis\": \"y\"}, {\"hovertemplate\": \"Country=%{x}<br>FDI_2018=%{y}<extra></extra>\", \"legendgroup\": \"Kyrgyzstan\", \"marker\": {\"color\": \"#FFA15A\", \"symbol\": \"circle\"}, \"mode\": \"markers\", \"name\": \"Kyrgyzstan\", \"orientation\": \"v\", \"showlegend\": true, \"type\": \"scatter\", \"x\": [\"Kyrgyzstan\"], \"xaxis\": \"x\", \"y\": [\"0\"], \"yaxis\": \"y\"}, {\"hovertemplate\": \"Country=%{x}<br>FDI_2018=%{y}<extra></extra>\", \"legendgroup\": \"Malta\", \"marker\": {\"color\": \"#19d3f3\", \"symbol\": \"circle\"}, \"mode\": \"markers\", \"name\": \"Malta\", \"orientation\": \"v\", \"showlegend\": true, \"type\": \"scatter\", \"x\": [\"Malta\"], \"xaxis\": \"x\", \"y\": [\"1,557\"], \"yaxis\": \"y\"}, {\"hovertemplate\": \"Country=%{x}<br>FDI_2018=%{y}<extra></extra>\", \"legendgroup\": \"Moldova\", \"marker\": {\"color\": \"#FF6692\", \"symbol\": \"circle\"}, \"mode\": \"markers\", \"name\": \"Moldova\", \"orientation\": \"v\", \"showlegend\": true, \"type\": \"scatter\", \"x\": [\"Moldova\"], \"xaxis\": \"x\", \"y\": [\"0\"], \"yaxis\": \"y\"}, {\"hovertemplate\": \"Country=%{x}<br>FDI_2018=%{y}<extra></extra>\", \"legendgroup\": \"Monaco\", \"marker\": {\"color\": \"#B6E880\", \"symbol\": \"circle\"}, \"mode\": \"markers\", \"name\": \"Monaco\", \"orientation\": \"v\", \"showlegend\": true, \"type\": \"scatter\", \"x\": [\"Monaco\"], \"xaxis\": \"x\", \"y\": [\"-26\"], \"yaxis\": \"y\"}, {\"hovertemplate\": \"Country=%{x}<br>FDI_2018=%{y}<extra></extra>\", \"legendgroup\": \"North Macedonia\", \"marker\": {\"color\": \"#FF97FF\", \"symbol\": \"circle\"}, \"mode\": \"markers\", \"name\": \"North Macedonia\", \"orientation\": \"v\", \"showlegend\": true, \"type\": \"scatter\", \"x\": [\"North Macedonia\"], \"xaxis\": \"x\", \"y\": [\"-1\"], \"yaxis\": \"y\"}, {\"hovertemplate\": \"Country=%{x}<br>FDI_2018=%{y}<extra></extra>\", \"legendgroup\": \"Portugal\", \"marker\": {\"color\": \"#FECB52\", \"symbol\": \"circle\"}, \"mode\": \"markers\", \"name\": \"Portugal\", \"orientation\": \"v\", \"showlegend\": true, \"type\": \"scatter\", \"x\": [\"Portugal\"], \"xaxis\": \"x\", \"y\": [\"1,056\"], \"yaxis\": \"y\"}, {\"hovertemplate\": \"Country=%{x}<br>FDI_2018=%{y}<extra></extra>\", \"legendgroup\": \"Russia\", \"marker\": {\"color\": \"#636efa\", \"symbol\": \"circle\"}, \"mode\": \"markers\", \"name\": \"Russia\", \"orientation\": \"v\", \"showlegend\": true, \"type\": \"scatter\", \"x\": [\"Russia\"], \"xaxis\": \"x\", \"y\": [\"4,455\"], \"yaxis\": \"y\"}, {\"hovertemplate\": \"Country=%{x}<br>FDI_2018=%{y}<extra></extra>\", \"legendgroup\": \"San Marino\", \"marker\": {\"color\": \"#EF553B\", \"symbol\": \"circle\"}, \"mode\": \"markers\", \"name\": \"San Marino\", \"orientation\": \"v\", \"showlegend\": true, \"type\": \"scatter\", \"x\": [\"San Marino\"], \"xaxis\": \"x\", \"y\": [\"0\"], \"yaxis\": \"y\"}, {\"hovertemplate\": \"Country=%{x}<br>FDI_2018=%{y}<extra></extra>\", \"legendgroup\": \"Serbia\", \"marker\": {\"color\": \"#00cc96\", \"symbol\": \"circle\"}, \"mode\": \"markers\", \"name\": \"Serbia\", \"orientation\": \"v\", \"showlegend\": true, \"type\": \"scatter\", \"x\": [\"Serbia\"], \"xaxis\": \"x\", \"y\": [\"3\"], \"yaxis\": \"y\"}, {\"hovertemplate\": \"Country=%{x}<br>FDI_2018=%{y}<extra></extra>\", \"legendgroup\": \"Slovakia\", \"marker\": {\"color\": \"#ab63fa\", \"symbol\": \"circle\"}, \"mode\": \"markers\", \"name\": \"Slovakia\", \"orientation\": \"v\", \"showlegend\": true, \"type\": \"scatter\", \"x\": [\"Slovakia\"], \"xaxis\": \"x\", \"y\": [\"14\"], \"yaxis\": \"y\"}, {\"hovertemplate\": \"Country=%{x}<br>FDI_2018=%{y}<extra></extra>\", \"legendgroup\": \"Slovenia\", \"marker\": {\"color\": \"#FFA15A\", \"symbol\": \"circle\"}, \"mode\": \"markers\", \"name\": \"Slovenia\", \"orientation\": \"v\", \"showlegend\": true, \"type\": \"scatter\", \"x\": [\"Slovenia\"], \"xaxis\": \"x\", \"y\": [\"6\"], \"yaxis\": \"y\"}, {\"hovertemplate\": \"Country=%{x}<br>FDI_2018=%{y}<extra></extra>\", \"legendgroup\": \"Tajikistan\", \"marker\": {\"color\": \"#19d3f3\", \"symbol\": \"circle\"}, \"mode\": \"markers\", \"name\": \"Tajikistan\", \"orientation\": \"v\", \"showlegend\": true, \"type\": \"scatter\", \"x\": [\"Tajikistan\"], \"xaxis\": \"x\", \"y\": [\"0\"], \"yaxis\": \"y\"}, {\"hovertemplate\": \"Country=%{x}<br>FDI_2018=%{y}<extra></extra>\", \"legendgroup\": \"Turkey\", \"marker\": {\"color\": \"#FF6692\", \"symbol\": \"circle\"}, \"mode\": \"markers\", \"name\": \"Turkey\", \"orientation\": \"v\", \"showlegend\": true, \"type\": \"scatter\", \"x\": [\"Turkey\"], \"xaxis\": \"x\", \"y\": [\"2,175\"], \"yaxis\": \"y\"}, {\"hovertemplate\": \"Country=%{x}<br>FDI_2018=%{y}<extra></extra>\", \"legendgroup\": \"Turkmenistan\", \"marker\": {\"color\": \"#B6E880\", \"symbol\": \"circle\"}, \"mode\": \"markers\", \"name\": \"Turkmenistan\", \"orientation\": \"v\", \"showlegend\": true, \"type\": \"scatter\", \"x\": [\"Turkmenistan\"], \"xaxis\": \"x\", \"y\": [\"0\"], \"yaxis\": \"y\"}, {\"hovertemplate\": \"Country=%{x}<br>FDI_2018=%{y}<extra></extra>\", \"legendgroup\": \"Vatican City\", \"marker\": {\"color\": \"#FF97FF\", \"symbol\": \"circle\"}, \"mode\": \"markers\", \"name\": \"Vatican City\", \"orientation\": \"v\", \"showlegend\": true, \"type\": \"scatter\", \"x\": [\"Vatican City\"], \"xaxis\": \"x\", \"y\": [\"0\"], \"yaxis\": \"y\"}, {\"hovertemplate\": \"Country=%{x}<br>FDI_2018=%{y}<extra></extra>\", \"legendgroup\": \"Brazil\", \"marker\": {\"color\": \"#FECB52\", \"symbol\": \"circle\"}, \"mode\": \"markers\", \"name\": \"Brazil\", \"orientation\": \"v\", \"showlegend\": true, \"type\": \"scatter\", \"x\": [\"Brazil\"], \"xaxis\": \"x\", \"y\": [\"2,514\"], \"yaxis\": \"y\"}, {\"hovertemplate\": \"Country=%{x}<br>FDI_2018=%{y}<extra></extra>\", \"legendgroup\": \"Mexico\", \"marker\": {\"color\": \"#636efa\", \"symbol\": \"circle\"}, \"mode\": \"markers\", \"name\": \"Mexico\", \"orientation\": \"v\", \"showlegend\": true, \"type\": \"scatter\", \"x\": [\"Mexico\"], \"xaxis\": \"x\", \"y\": [\"21,050\"], \"yaxis\": \"y\"}, {\"hovertemplate\": \"Country=%{x}<br>FDI_2018=%{y}<extra></extra>\", \"legendgroup\": \"Panama\", \"marker\": {\"color\": \"#EF553B\", \"symbol\": \"circle\"}, \"mode\": \"markers\", \"name\": \"Panama\", \"orientation\": \"v\", \"showlegend\": true, \"type\": \"scatter\", \"x\": [\"Panama\"], \"xaxis\": \"x\", \"y\": [\"2,789\"], \"yaxis\": \"y\"}, {\"hovertemplate\": \"Country=%{x}<br>FDI_2018=%{y}<extra></extra>\", \"legendgroup\": \"Venezuela\", \"marker\": {\"color\": \"#00cc96\", \"symbol\": \"circle\"}, \"mode\": \"markers\", \"name\": \"Venezuela\", \"orientation\": \"v\", \"showlegend\": true, \"type\": \"scatter\", \"x\": [\"Venezuela\"], \"xaxis\": \"x\", \"y\": [\"1,673\"], \"yaxis\": \"y\"}, {\"hovertemplate\": \"Country=%{x}<br>FDI_2018=%{y}<extra></extra>\", \"legendgroup\": \"Argentina\", \"marker\": {\"color\": \"#ab63fa\", \"symbol\": \"circle\"}, \"mode\": \"markers\", \"name\": \"Argentina\", \"orientation\": \"v\", \"showlegend\": true, \"type\": \"scatter\", \"x\": [\"Argentina\"], \"xaxis\": \"x\", \"y\": [\"822\"], \"yaxis\": \"y\"}, {\"hovertemplate\": \"Country=%{x}<br>FDI_2018=%{y}<extra></extra>\", \"legendgroup\": \"Belize\", \"marker\": {\"color\": \"#FFA15A\", \"symbol\": \"circle\"}, \"mode\": \"markers\", \"name\": \"Belize\", \"orientation\": \"v\", \"showlegend\": true, \"type\": \"scatter\", \"x\": [\"Belize\"], \"xaxis\": \"x\", \"y\": [\"12\"], \"yaxis\": \"y\"}, {\"hovertemplate\": \"Country=%{x}<br>FDI_2018=%{y}<extra></extra>\", \"legendgroup\": \"Chile\", \"marker\": {\"color\": \"#19d3f3\", \"symbol\": \"circle\"}, \"mode\": \"markers\", \"name\": \"Chile\", \"orientation\": \"v\", \"showlegend\": true, \"type\": \"scatter\", \"x\": [\"Chile\"], \"xaxis\": \"x\", \"y\": [\"2,573\"], \"yaxis\": \"y\"}, {\"hovertemplate\": \"Country=%{x}<br>FDI_2018=%{y}<extra></extra>\", \"legendgroup\": \"Colombia\", \"marker\": {\"color\": \"#FF6692\", \"symbol\": \"circle\"}, \"mode\": \"markers\", \"name\": \"Colombia\", \"orientation\": \"v\", \"showlegend\": true, \"type\": \"scatter\", \"x\": [\"Colombia\"], \"xaxis\": \"x\", \"y\": [\"140\"], \"yaxis\": \"y\"}, {\"hovertemplate\": \"Country=%{x}<br>FDI_2018=%{y}<extra></extra>\", \"legendgroup\": \"Costa Rica\", \"marker\": {\"color\": \"#B6E880\", \"symbol\": \"circle\"}, \"mode\": \"markers\", \"name\": \"Costa Rica\", \"orientation\": \"v\", \"showlegend\": true, \"type\": \"scatter\", \"x\": [\"Costa Rica\"], \"xaxis\": \"x\", \"y\": [\"-211\"], \"yaxis\": \"y\"}, {\"hovertemplate\": \"Country=%{x}<br>FDI_2018=%{y}<extra></extra>\", \"legendgroup\": \"Ecuador\", \"marker\": {\"color\": \"#FF97FF\", \"symbol\": \"circle\"}, \"mode\": \"markers\", \"name\": \"Ecuador\", \"orientation\": \"v\", \"showlegend\": true, \"type\": \"scatter\", \"x\": [\"Ecuador\"], \"xaxis\": \"x\", \"y\": [\"30\"], \"yaxis\": \"y\"}, {\"hovertemplate\": \"Country=%{x}<br>FDI_2018=%{y}<extra></extra>\", \"legendgroup\": \"El Salvador\", \"marker\": {\"color\": \"#FECB52\", \"symbol\": \"circle\"}, \"mode\": \"markers\", \"name\": \"El Salvador\", \"orientation\": \"v\", \"showlegend\": true, \"type\": \"scatter\", \"x\": [\"El Salvador\"], \"xaxis\": \"x\", \"y\": [\"16\"], \"yaxis\": \"y\"}, {\"hovertemplate\": \"Country=%{x}<br>FDI_2018=%{y}<extra></extra>\", \"legendgroup\": \"French Guiana\", \"marker\": {\"color\": \"#636efa\", \"symbol\": \"circle\"}, \"mode\": \"markers\", \"name\": \"French Guiana\", \"orientation\": \"v\", \"showlegend\": true, \"type\": \"scatter\", \"x\": [\"French Guiana\"], \"xaxis\": \"x\", \"y\": [\"0\"], \"yaxis\": \"y\"}, {\"hovertemplate\": \"Country=%{x}<br>FDI_2018=%{y}<extra></extra>\", \"legendgroup\": \"Honduras\", \"marker\": {\"color\": \"#EF553B\", \"symbol\": \"circle\"}, \"mode\": \"markers\", \"name\": \"Honduras\", \"orientation\": \"v\", \"showlegend\": true, \"type\": \"scatter\", \"x\": [\"Honduras\"], \"xaxis\": \"x\", \"y\": [\"-80\"], \"yaxis\": \"y\"}, {\"hovertemplate\": \"Country=%{x}<br>FDI_2018=%{y}<extra></extra>\", \"legendgroup\": \"Nicaragua\", \"marker\": {\"color\": \"#00cc96\", \"symbol\": \"circle\"}, \"mode\": \"markers\", \"name\": \"Nicaragua\", \"orientation\": \"v\", \"showlegend\": true, \"type\": \"scatter\", \"x\": [\"Nicaragua\"], \"xaxis\": \"x\", \"y\": [\"-8\"], \"yaxis\": \"y\"}, {\"hovertemplate\": \"Country=%{x}<br>FDI_2018=%{y}<extra></extra>\", \"legendgroup\": \"Peru\", \"marker\": {\"color\": \"#ab63fa\", \"symbol\": \"circle\"}, \"mode\": \"markers\", \"name\": \"Peru\", \"orientation\": \"v\", \"showlegend\": true, \"type\": \"scatter\", \"x\": [\"Peru\"], \"xaxis\": \"x\", \"y\": [\"195\"], \"yaxis\": \"y\"}, {\"hovertemplate\": \"Country=%{x}<br>FDI_2018=%{y}<extra></extra>\", \"legendgroup\": \"Uruguay\", \"marker\": {\"color\": \"#FFA15A\", \"symbol\": \"circle\"}, \"mode\": \"markers\", \"name\": \"Uruguay\", \"orientation\": \"v\", \"showlegend\": true, \"type\": \"scatter\", \"x\": [\"Uruguay\"], \"xaxis\": \"x\", \"y\": [\"538\"], \"yaxis\": \"y\"}, {\"hovertemplate\": \"Country=%{x}<br>FDI_2018=%{y}<extra></extra>\", \"legendgroup\": \"Bahamas\", \"marker\": {\"color\": \"#19d3f3\", \"symbol\": \"circle\"}, \"mode\": \"markers\", \"name\": \"Bahamas\", \"orientation\": \"v\", \"showlegend\": true, \"type\": \"scatter\", \"x\": [\"Bahamas\"], \"xaxis\": \"x\", \"y\": [\"646\"], \"yaxis\": \"y\"}, {\"hovertemplate\": \"Country=%{x}<br>FDI_2018=%{y}<extra></extra>\", \"legendgroup\": \"Bermuda\", \"marker\": {\"color\": \"#FF6692\", \"symbol\": \"circle\"}, \"mode\": \"markers\", \"name\": \"Bermuda\", \"orientation\": \"v\", \"showlegend\": true, \"type\": \"scatter\", \"x\": [\"Bermuda\"], \"xaxis\": \"x\", \"y\": [\"28,018\"], \"yaxis\": \"y\"}, {\"hovertemplate\": \"Country=%{x}<br>FDI_2018=%{y}<extra></extra>\", \"legendgroup\": \"Curacao 2\", \"marker\": {\"color\": \"#B6E880\", \"symbol\": \"circle\"}, \"mode\": \"markers\", \"name\": \"Curacao 2\", \"orientation\": \"v\", \"showlegend\": true, \"type\": \"scatter\", \"x\": [\"Curacao 2\"], \"xaxis\": \"x\", \"y\": [\"1,335\"], \"yaxis\": \"y\"}, {\"hovertemplate\": \"Country=%{x}<br>FDI_2018=%{y}<extra></extra>\", \"legendgroup\": \"Netherlands Antilles 3\", \"marker\": {\"color\": \"#FF97FF\", \"symbol\": \"circle\"}, \"mode\": \"markers\", \"name\": \"Netherlands Antilles 3\", \"orientation\": \"v\", \"showlegend\": true, \"type\": \"scatter\", \"x\": [\"Netherlands Antilles 3\"], \"xaxis\": \"x\", \"y\": [\"--\"], \"yaxis\": \"y\"}, {\"hovertemplate\": \"Country=%{x}<br>FDI_2018=%{y}<extra></extra>\", \"legendgroup\": \"United Kingdom Islands, Caribbean  4\", \"marker\": {\"color\": \"#FECB52\", \"symbol\": \"circle\"}, \"mode\": \"markers\", \"name\": \"United Kingdom Islands, Caribbean  4\", \"orientation\": \"v\", \"showlegend\": true, \"type\": \"scatter\", \"x\": [\"United Kingdom Islands, Caribbean  4\"], \"xaxis\": \"x\", \"y\": [\"83,555\"], \"yaxis\": \"y\"}, {\"hovertemplate\": \"Country=%{x}<br>FDI_2018=%{y}<extra></extra>\", \"legendgroup\": \"Antigua and Barbuda\", \"marker\": {\"color\": \"#636efa\", \"symbol\": \"circle\"}, \"mode\": \"markers\", \"name\": \"Antigua and Barbuda\", \"orientation\": \"v\", \"showlegend\": true, \"type\": \"scatter\", \"x\": [\"Antigua and Barbuda\"], \"xaxis\": \"x\", \"y\": [\"3\"], \"yaxis\": \"y\"}, {\"hovertemplate\": \"Country=%{x}<br>FDI_2018=%{y}<extra></extra>\", \"legendgroup\": \"Barbados\", \"marker\": {\"color\": \"#EF553B\", \"symbol\": \"circle\"}, \"mode\": \"markers\", \"name\": \"Barbados\", \"orientation\": \"v\", \"showlegend\": true, \"type\": \"scatter\", \"x\": [\"Barbados\"], \"xaxis\": \"x\", \"y\": [\"7,476\"], \"yaxis\": \"y\"}, {\"hovertemplate\": \"Country=%{x}<br>FDI_2018=%{y}<extra></extra>\", \"legendgroup\": \"Dominican Republic\", \"marker\": {\"color\": \"#00cc96\", \"symbol\": \"circle\"}, \"mode\": \"markers\", \"name\": \"Dominican Republic\", \"orientation\": \"v\", \"showlegend\": true, \"type\": \"scatter\", \"x\": [\"Dominican Republic\"], \"xaxis\": \"x\", \"y\": [\"107\"], \"yaxis\": \"y\"}, {\"hovertemplate\": \"Country=%{x}<br>FDI_2018=%{y}<extra></extra>\", \"legendgroup\": \"French Islands, Caribbean\", \"marker\": {\"color\": \"#ab63fa\", \"symbol\": \"circle\"}, \"mode\": \"markers\", \"name\": \"French Islands, Caribbean\", \"orientation\": \"v\", \"showlegend\": true, \"type\": \"scatter\", \"x\": [\"French Islands, Caribbean\"], \"xaxis\": \"x\", \"y\": [\"-1\"], \"yaxis\": \"y\"}, {\"hovertemplate\": \"Country=%{x}<br>FDI_2018=%{y}<extra></extra>\", \"legendgroup\": \"Haiti\", \"marker\": {\"color\": \"#FFA15A\", \"symbol\": \"circle\"}, \"mode\": \"markers\", \"name\": \"Haiti\", \"orientation\": \"v\", \"showlegend\": true, \"type\": \"scatter\", \"x\": [\"Haiti\"], \"xaxis\": \"x\", \"y\": [\"-1\"], \"yaxis\": \"y\"}, {\"hovertemplate\": \"Country=%{x}<br>FDI_2018=%{y}<extra></extra>\", \"legendgroup\": \"Jamaica\", \"marker\": {\"color\": \"#19d3f3\", \"symbol\": \"circle\"}, \"mode\": \"markers\", \"name\": \"Jamaica\", \"orientation\": \"v\", \"showlegend\": true, \"type\": \"scatter\", \"x\": [\"Jamaica\"], \"xaxis\": \"x\", \"y\": [\"46\"], \"yaxis\": \"y\"}, {\"hovertemplate\": \"Country=%{x}<br>FDI_2018=%{y}<extra></extra>\", \"legendgroup\": \"Sint Maarten 2\", \"marker\": {\"color\": \"#FF6692\", \"symbol\": \"circle\"}, \"mode\": \"markers\", \"name\": \"Sint Maarten 2\", \"orientation\": \"v\", \"showlegend\": true, \"type\": \"scatter\", \"x\": [\"Sint Maarten 2\"], \"xaxis\": \"x\", \"y\": [\"0\"], \"yaxis\": \"y\"}, {\"hovertemplate\": \"Country=%{x}<br>FDI_2018=%{y}<extra></extra>\", \"legendgroup\": \"St. Pierre and Miquelon\", \"marker\": {\"color\": \"#B6E880\", \"symbol\": \"circle\"}, \"mode\": \"markers\", \"name\": \"St. Pierre and Miquelon\", \"orientation\": \"v\", \"showlegend\": true, \"type\": \"scatter\", \"x\": [\"St. Pierre and Miquelon\"], \"xaxis\": \"x\", \"y\": [\"0\"], \"yaxis\": \"y\"}, {\"hovertemplate\": \"Country=%{x}<br>FDI_2018=%{y}<extra></extra>\", \"legendgroup\": \"St. Vincent and the Grenadines\", \"marker\": {\"color\": \"#FF97FF\", \"symbol\": \"circle\"}, \"mode\": \"markers\", \"name\": \"St. Vincent and the Grenadines\", \"orientation\": \"v\", \"showlegend\": true, \"type\": \"scatter\", \"x\": [\"St. Vincent and the Grenadines\"], \"xaxis\": \"x\", \"y\": [\"-1\"], \"yaxis\": \"y\"}, {\"hovertemplate\": \"Country=%{x}<br>FDI_2018=%{y}<extra></extra>\", \"legendgroup\": \"Trinidad and Tobago\", \"marker\": {\"color\": \"#FECB52\", \"symbol\": \"circle\"}, \"mode\": \"markers\", \"name\": \"Trinidad and Tobago\", \"orientation\": \"v\", \"showlegend\": true, \"type\": \"scatter\", \"x\": [\"Trinidad and Tobago\"], \"xaxis\": \"x\", \"y\": [\"165\"], \"yaxis\": \"y\"}, {\"hovertemplate\": \"Country=%{x}<br>FDI_2018=%{y}<extra></extra>\", \"legendgroup\": \"Africa\", \"marker\": {\"color\": \"#636efa\", \"symbol\": \"circle\"}, \"mode\": \"markers\", \"name\": \"Africa\", \"orientation\": \"v\", \"showlegend\": true, \"type\": \"scatter\", \"x\": [\"Africa\"], \"xaxis\": \"x\", \"y\": [\"5,652\"], \"yaxis\": \"y\"}, {\"hovertemplate\": \"Country=%{x}<br>FDI_2018=%{y}<extra></extra>\", \"legendgroup\": \"South Africa\", \"marker\": {\"color\": \"#EF553B\", \"symbol\": \"circle\"}, \"mode\": \"markers\", \"name\": \"South Africa\", \"orientation\": \"v\", \"showlegend\": true, \"type\": \"scatter\", \"x\": [\"South Africa\"], \"xaxis\": \"x\", \"y\": [\"4,013\"], \"yaxis\": \"y\"}, {\"hovertemplate\": \"Country=%{x}<br>FDI_2018=%{y}<extra></extra>\", \"legendgroup\": \"Benin\", \"marker\": {\"color\": \"#00cc96\", \"symbol\": \"circle\"}, \"mode\": \"markers\", \"name\": \"Benin\", \"orientation\": \"v\", \"showlegend\": true, \"type\": \"scatter\", \"x\": [\"Benin\"], \"xaxis\": \"x\", \"y\": [\"0\"], \"yaxis\": \"y\"}, {\"hovertemplate\": \"Country=%{x}<br>FDI_2018=%{y}<extra></extra>\", \"legendgroup\": \"Botswana\", \"marker\": {\"color\": \"#ab63fa\", \"symbol\": \"circle\"}, \"mode\": \"markers\", \"name\": \"Botswana\", \"orientation\": \"v\", \"showlegend\": true, \"type\": \"scatter\", \"x\": [\"Botswana\"], \"xaxis\": \"x\", \"y\": [\"0\"], \"yaxis\": \"y\"}, {\"hovertemplate\": \"Country=%{x}<br>FDI_2018=%{y}<extra></extra>\", \"legendgroup\": \"Burkina Faso\", \"marker\": {\"color\": \"#FFA15A\", \"symbol\": \"circle\"}, \"mode\": \"markers\", \"name\": \"Burkina Faso\", \"orientation\": \"v\", \"showlegend\": true, \"type\": \"scatter\", \"x\": [\"Burkina Faso\"], \"xaxis\": \"x\", \"y\": [\"-1\"], \"yaxis\": \"y\"}, {\"hovertemplate\": \"Country=%{x}<br>FDI_2018=%{y}<extra></extra>\", \"legendgroup\": \"Burundi\", \"marker\": {\"color\": \"#19d3f3\", \"symbol\": \"circle\"}, \"mode\": \"markers\", \"name\": \"Burundi\", \"orientation\": \"v\", \"showlegend\": true, \"type\": \"scatter\", \"x\": [\"Burundi\"], \"xaxis\": \"x\", \"y\": [\"0\"], \"yaxis\": \"y\"}, {\"hovertemplate\": \"Country=%{x}<br>FDI_2018=%{y}<extra></extra>\", \"legendgroup\": \"Cabo Verde\", \"marker\": {\"color\": \"#FF6692\", \"symbol\": \"circle\"}, \"mode\": \"markers\", \"name\": \"Cabo Verde\", \"orientation\": \"v\", \"showlegend\": true, \"type\": \"scatter\", \"x\": [\"Cabo Verde\"], \"xaxis\": \"x\", \"y\": [\"-2\"], \"yaxis\": \"y\"}, {\"hovertemplate\": \"Country=%{x}<br>FDI_2018=%{y}<extra></extra>\", \"legendgroup\": \"Chad\", \"marker\": {\"color\": \"#B6E880\", \"symbol\": \"circle\"}, \"mode\": \"markers\", \"name\": \"Chad\", \"orientation\": \"v\", \"showlegend\": true, \"type\": \"scatter\", \"x\": [\"Chad\"], \"xaxis\": \"x\", \"y\": [\"1\"], \"yaxis\": \"y\"}, {\"hovertemplate\": \"Country=%{x}<br>FDI_2018=%{y}<extra></extra>\", \"legendgroup\": \"Comoros\", \"marker\": {\"color\": \"#FF97FF\", \"symbol\": \"circle\"}, \"mode\": \"markers\", \"name\": \"Comoros\", \"orientation\": \"v\", \"showlegend\": true, \"type\": \"scatter\", \"x\": [\"Comoros\"], \"xaxis\": \"x\", \"y\": [\"0\"], \"yaxis\": \"y\"}, {\"hovertemplate\": \"Country=%{x}<br>FDI_2018=%{y}<extra></extra>\", \"legendgroup\": \"Djibouti\", \"marker\": {\"color\": \"#FECB52\", \"symbol\": \"circle\"}, \"mode\": \"markers\", \"name\": \"Djibouti\", \"orientation\": \"v\", \"showlegend\": true, \"type\": \"scatter\", \"x\": [\"Djibouti\"], \"xaxis\": \"x\", \"y\": [\"0\"], \"yaxis\": \"y\"}, {\"hovertemplate\": \"Country=%{x}<br>FDI_2018=%{y}<extra></extra>\", \"legendgroup\": \"Egypt\", \"marker\": {\"color\": \"#636efa\", \"symbol\": \"circle\"}, \"mode\": \"markers\", \"name\": \"Egypt\", \"orientation\": \"v\", \"showlegend\": true, \"type\": \"scatter\", \"x\": [\"Egypt\"], \"xaxis\": \"x\", \"y\": [\"-43\"], \"yaxis\": \"y\"}, {\"hovertemplate\": \"Country=%{x}<br>FDI_2018=%{y}<extra></extra>\", \"legendgroup\": \"Eritrea\", \"marker\": {\"color\": \"#EF553B\", \"symbol\": \"circle\"}, \"mode\": \"markers\", \"name\": \"Eritrea\", \"orientation\": \"v\", \"showlegend\": true, \"type\": \"scatter\", \"x\": [\"Eritrea\"], \"xaxis\": \"x\", \"y\": [\"0\"], \"yaxis\": \"y\"}, {\"hovertemplate\": \"Country=%{x}<br>FDI_2018=%{y}<extra></extra>\", \"legendgroup\": \"Eswatini\", \"marker\": {\"color\": \"#00cc96\", \"symbol\": \"circle\"}, \"mode\": \"markers\", \"name\": \"Eswatini\", \"orientation\": \"v\", \"showlegend\": true, \"type\": \"scatter\", \"x\": [\"Eswatini\"], \"xaxis\": \"x\", \"y\": [\"0\"], \"yaxis\": \"y\"}, {\"hovertemplate\": \"Country=%{x}<br>FDI_2018=%{y}<extra></extra>\", \"legendgroup\": \"Gambia\", \"marker\": {\"color\": \"#ab63fa\", \"symbol\": \"circle\"}, \"mode\": \"markers\", \"name\": \"Gambia\", \"orientation\": \"v\", \"showlegend\": true, \"type\": \"scatter\", \"x\": [\"Gambia\"], \"xaxis\": \"x\", \"y\": [\"0\"], \"yaxis\": \"y\"}, {\"hovertemplate\": \"Country=%{x}<br>FDI_2018=%{y}<extra></extra>\", \"legendgroup\": \"Ghana\", \"marker\": {\"color\": \"#FFA15A\", \"symbol\": \"circle\"}, \"mode\": \"markers\", \"name\": \"Ghana\", \"orientation\": \"v\", \"showlegend\": true, \"type\": \"scatter\", \"x\": [\"Ghana\"], \"xaxis\": \"x\", \"y\": [\"-4\"], \"yaxis\": \"y\"}, {\"hovertemplate\": \"Country=%{x}<br>FDI_2018=%{y}<extra></extra>\", \"legendgroup\": \"Guinea-Bissau\", \"marker\": {\"color\": \"#19d3f3\", \"symbol\": \"circle\"}, \"mode\": \"markers\", \"name\": \"Guinea-Bissau\", \"orientation\": \"v\", \"showlegend\": true, \"type\": \"scatter\", \"x\": [\"Guinea-Bissau\"], \"xaxis\": \"x\", \"y\": [\"0\"], \"yaxis\": \"y\"}, {\"hovertemplate\": \"Country=%{x}<br>FDI_2018=%{y}<extra></extra>\", \"legendgroup\": \"Lesotho\", \"marker\": {\"color\": \"#FF6692\", \"symbol\": \"circle\"}, \"mode\": \"markers\", \"name\": \"Lesotho\", \"orientation\": \"v\", \"showlegend\": true, \"type\": \"scatter\", \"x\": [\"Lesotho\"], \"xaxis\": \"x\", \"y\": [\"0\"], \"yaxis\": \"y\"}, {\"hovertemplate\": \"Country=%{x}<br>FDI_2018=%{y}<extra></extra>\", \"legendgroup\": \"Liberia\", \"marker\": {\"color\": \"#B6E880\", \"symbol\": \"circle\"}, \"mode\": \"markers\", \"name\": \"Liberia\", \"orientation\": \"v\", \"showlegend\": true, \"type\": \"scatter\", \"x\": [\"Liberia\"], \"xaxis\": \"x\", \"y\": [\"466\"], \"yaxis\": \"y\"}, {\"hovertemplate\": \"Country=%{x}<br>FDI_2018=%{y}<extra></extra>\", \"legendgroup\": \"Mali\", \"marker\": {\"color\": \"#FF97FF\", \"symbol\": \"circle\"}, \"mode\": \"markers\", \"name\": \"Mali\", \"orientation\": \"v\", \"showlegend\": true, \"type\": \"scatter\", \"x\": [\"Mali\"], \"xaxis\": \"x\", \"y\": [\"-1\"], \"yaxis\": \"y\"}, {\"hovertemplate\": \"Country=%{x}<br>FDI_2018=%{y}<extra></extra>\", \"legendgroup\": \"Mauritania\", \"marker\": {\"color\": \"#FECB52\", \"symbol\": \"circle\"}, \"mode\": \"markers\", \"name\": \"Mauritania\", \"orientation\": \"v\", \"showlegend\": true, \"type\": \"scatter\", \"x\": [\"Mauritania\"], \"xaxis\": \"x\", \"y\": [\"0\"], \"yaxis\": \"y\"}, {\"hovertemplate\": \"Country=%{x}<br>FDI_2018=%{y}<extra></extra>\", \"legendgroup\": \"Mauritius\", \"marker\": {\"color\": \"#636efa\", \"symbol\": \"circle\"}, \"mode\": \"markers\", \"name\": \"Mauritius\", \"orientation\": \"v\", \"showlegend\": true, \"type\": \"scatter\", \"x\": [\"Mauritius\"], \"xaxis\": \"x\", \"y\": [\"487\"], \"yaxis\": \"y\"}, {\"hovertemplate\": \"Country=%{x}<br>FDI_2018=%{y}<extra></extra>\", \"legendgroup\": \"Nigeria\", \"marker\": {\"color\": \"#EF553B\", \"symbol\": \"circle\"}, \"mode\": \"markers\", \"name\": \"Nigeria\", \"orientation\": \"v\", \"showlegend\": true, \"type\": \"scatter\", \"x\": [\"Nigeria\"], \"xaxis\": \"x\", \"y\": [\"81\"], \"yaxis\": \"y\"}, {\"hovertemplate\": \"Country=%{x}<br>FDI_2018=%{y}<extra></extra>\", \"legendgroup\": \"Rwanda\", \"marker\": {\"color\": \"#00cc96\", \"symbol\": \"circle\"}, \"mode\": \"markers\", \"name\": \"Rwanda\", \"orientation\": \"v\", \"showlegend\": true, \"type\": \"scatter\", \"x\": [\"Rwanda\"], \"xaxis\": \"x\", \"y\": [\"0\"], \"yaxis\": \"y\"}, {\"hovertemplate\": \"Country=%{x}<br>FDI_2018=%{y}<extra></extra>\", \"legendgroup\": \"Sao Tome and Principe\", \"marker\": {\"color\": \"#ab63fa\", \"symbol\": \"circle\"}, \"mode\": \"markers\", \"name\": \"Sao Tome and Principe\", \"orientation\": \"v\", \"showlegend\": true, \"type\": \"scatter\", \"x\": [\"Sao Tome and Principe\"], \"xaxis\": \"x\", \"y\": [\"0\"], \"yaxis\": \"y\"}, {\"hovertemplate\": \"Country=%{x}<br>FDI_2018=%{y}<extra></extra>\", \"legendgroup\": \"Sierra Leone\", \"marker\": {\"color\": \"#FFA15A\", \"symbol\": \"circle\"}, \"mode\": \"markers\", \"name\": \"Sierra Leone\", \"orientation\": \"v\", \"showlegend\": true, \"type\": \"scatter\", \"x\": [\"Sierra Leone\"], \"xaxis\": \"x\", \"y\": [\"0\"], \"yaxis\": \"y\"}, {\"hovertemplate\": \"Country=%{x}<br>FDI_2018=%{y}<extra></extra>\", \"legendgroup\": \"South Sudan\", \"marker\": {\"color\": \"#19d3f3\", \"symbol\": \"circle\"}, \"mode\": \"markers\", \"name\": \"South Sudan\", \"orientation\": \"v\", \"showlegend\": true, \"type\": \"scatter\", \"x\": [\"South Sudan\"], \"xaxis\": \"x\", \"y\": [\"0\"], \"yaxis\": \"y\"}, {\"hovertemplate\": \"Country=%{x}<br>FDI_2018=%{y}<extra></extra>\", \"legendgroup\": \"Togo\", \"marker\": {\"color\": \"#FF6692\", \"symbol\": \"circle\"}, \"mode\": \"markers\", \"name\": \"Togo\", \"orientation\": \"v\", \"showlegend\": true, \"type\": \"scatter\", \"x\": [\"Togo\"], \"xaxis\": \"x\", \"y\": [\"0\"], \"yaxis\": \"y\"}, {\"hovertemplate\": \"Country=%{x}<br>FDI_2018=%{y}<extra></extra>\", \"legendgroup\": \"Tunisia\", \"marker\": {\"color\": \"#B6E880\", \"symbol\": \"circle\"}, \"mode\": \"markers\", \"name\": \"Tunisia\", \"orientation\": \"v\", \"showlegend\": true, \"type\": \"scatter\", \"x\": [\"Tunisia\"], \"xaxis\": \"x\", \"y\": [\"1\"], \"yaxis\": \"y\"}, {\"hovertemplate\": \"Country=%{x}<br>FDI_2018=%{y}<extra></extra>\", \"legendgroup\": \"Western Sahara\", \"marker\": {\"color\": \"#FF97FF\", \"symbol\": \"circle\"}, \"mode\": \"markers\", \"name\": \"Western Sahara\", \"orientation\": \"v\", \"showlegend\": true, \"type\": \"scatter\", \"x\": [\"Western Sahara\"], \"xaxis\": \"x\", \"y\": [\"0\"], \"yaxis\": \"y\"}, {\"hovertemplate\": \"Country=%{x}<br>FDI_2018=%{y}<extra></extra>\", \"legendgroup\": \"Zambia\", \"marker\": {\"color\": \"#FECB52\", \"symbol\": \"circle\"}, \"mode\": \"markers\", \"name\": \"Zambia\", \"orientation\": \"v\", \"showlegend\": true, \"type\": \"scatter\", \"x\": [\"Zambia\"], \"xaxis\": \"x\", \"y\": [\"-6\"], \"yaxis\": \"y\"}, {\"hovertemplate\": \"Country=%{x}<br>FDI_2018=%{y}<extra></extra>\", \"legendgroup\": \"Middle East\", \"marker\": {\"color\": \"#636efa\", \"symbol\": \"circle\"}, \"mode\": \"markers\", \"name\": \"Middle East\", \"orientation\": \"v\", \"showlegend\": true, \"type\": \"scatter\", \"x\": [\"Middle East\"], \"xaxis\": \"x\", \"y\": [\"29,329\"], \"yaxis\": \"y\"}, {\"hovertemplate\": \"Country=%{x}<br>FDI_2018=%{y}<extra></extra>\", \"legendgroup\": \"Israel\", \"marker\": {\"color\": \"#EF553B\", \"symbol\": \"circle\"}, \"mode\": \"markers\", \"name\": \"Israel\", \"orientation\": \"v\", \"showlegend\": true, \"type\": \"scatter\", \"x\": [\"Israel\"], \"xaxis\": \"x\", \"y\": [\"13,982\"], \"yaxis\": \"y\"}, {\"hovertemplate\": \"Country=%{x}<br>FDI_2018=%{y}<extra></extra>\", \"legendgroup\": \"Kuwait\", \"marker\": {\"color\": \"#00cc96\", \"symbol\": \"circle\"}, \"mode\": \"markers\", \"name\": \"Kuwait\", \"orientation\": \"v\", \"showlegend\": true, \"type\": \"scatter\", \"x\": [\"Kuwait\"], \"xaxis\": \"x\", \"y\": [\"1,276\"], \"yaxis\": \"y\"}, {\"hovertemplate\": \"Country=%{x}<br>FDI_2018=%{y}<extra></extra>\", \"legendgroup\": \"Lebanon\", \"marker\": {\"color\": \"#ab63fa\", \"symbol\": \"circle\"}, \"mode\": \"markers\", \"name\": \"Lebanon\", \"orientation\": \"v\", \"showlegend\": true, \"type\": \"scatter\", \"x\": [\"Lebanon\"], \"xaxis\": \"x\", \"y\": [\"19\"], \"yaxis\": \"y\"}, {\"hovertemplate\": \"Country=%{x}<br>FDI_2018=%{y}<extra></extra>\", \"legendgroup\": \"Saudi Arabia\", \"marker\": {\"color\": \"#FFA15A\", \"symbol\": \"circle\"}, \"mode\": \"markers\", \"name\": \"Saudi Arabia\", \"orientation\": \"v\", \"showlegend\": true, \"type\": \"scatter\", \"x\": [\"Saudi Arabia\"], \"xaxis\": \"x\", \"y\": [\"6,912\"], \"yaxis\": \"y\"}, {\"hovertemplate\": \"Country=%{x}<br>FDI_2018=%{y}<extra></extra>\", \"legendgroup\": \"United Arab Emirates\", \"marker\": {\"color\": \"#19d3f3\", \"symbol\": \"circle\"}, \"mode\": \"markers\", \"name\": \"United Arab Emirates\", \"orientation\": \"v\", \"showlegend\": true, \"type\": \"scatter\", \"x\": [\"United Arab Emirates\"], \"xaxis\": \"x\", \"y\": [\"5,530\"], \"yaxis\": \"y\"}, {\"hovertemplate\": \"Country=%{x}<br>FDI_2018=%{y}<extra></extra>\", \"legendgroup\": \"Oman\", \"marker\": {\"color\": \"#FF6692\", \"symbol\": \"circle\"}, \"mode\": \"markers\", \"name\": \"Oman\", \"orientation\": \"v\", \"showlegend\": true, \"type\": \"scatter\", \"x\": [\"Oman\"], \"xaxis\": \"x\", \"y\": [\"15\"], \"yaxis\": \"y\"}, {\"hovertemplate\": \"Country=%{x}<br>FDI_2018=%{y}<extra></extra>\", \"legendgroup\": \"Syria\", \"marker\": {\"color\": \"#B6E880\", \"symbol\": \"circle\"}, \"mode\": \"markers\", \"name\": \"Syria\", \"orientation\": \"v\", \"showlegend\": true, \"type\": \"scatter\", \"x\": [\"Syria\"], \"xaxis\": \"x\", \"y\": [\"0\"], \"yaxis\": \"y\"}, {\"hovertemplate\": \"Country=%{x}<br>FDI_2018=%{y}<extra></extra>\", \"legendgroup\": \"Yemen\", \"marker\": {\"color\": \"#FF97FF\", \"symbol\": \"circle\"}, \"mode\": \"markers\", \"name\": \"Yemen\", \"orientation\": \"v\", \"showlegend\": true, \"type\": \"scatter\", \"x\": [\"Yemen\"], \"xaxis\": \"x\", \"y\": [\"0\"], \"yaxis\": \"y\"}, {\"hovertemplate\": \"Country=%{x}<br>FDI_2018=%{y}<extra></extra>\", \"legendgroup\": \"Asia and Pacific\", \"marker\": {\"color\": \"#FECB52\", \"symbol\": \"circle\"}, \"mode\": \"markers\", \"name\": \"Asia and Pacific\", \"orientation\": \"v\", \"showlegend\": true, \"type\": \"scatter\", \"x\": [\"Asia and Pacific\"], \"xaxis\": \"x\", \"y\": [\"701,193\"], \"yaxis\": \"y\"}, {\"hovertemplate\": \"Country=%{x}<br>FDI_2018=%{y}<extra></extra>\", \"legendgroup\": \"Australia\", \"marker\": {\"color\": \"#636efa\", \"symbol\": \"circle\"}, \"mode\": \"markers\", \"name\": \"Australia\", \"orientation\": \"v\", \"showlegend\": true, \"type\": \"scatter\", \"x\": [\"Australia\"], \"xaxis\": \"x\", \"y\": [\"63,070\"], \"yaxis\": \"y\"}, {\"hovertemplate\": \"Country=%{x}<br>FDI_2018=%{y}<extra></extra>\", \"legendgroup\": \"China\", \"marker\": {\"color\": \"#EF553B\", \"symbol\": \"circle\"}, \"mode\": \"markers\", \"name\": \"China\", \"orientation\": \"v\", \"showlegend\": true, \"type\": \"scatter\", \"x\": [\"China\"], \"xaxis\": \"x\", \"y\": [\"33,543\"], \"yaxis\": \"y\"}, {\"hovertemplate\": \"Country=%{x}<br>FDI_2018=%{y}<extra></extra>\", \"legendgroup\": \"Hong Kong\", \"marker\": {\"color\": \"#00cc96\", \"symbol\": \"circle\"}, \"mode\": \"markers\", \"name\": \"Hong Kong\", \"orientation\": \"v\", \"showlegend\": true, \"type\": \"scatter\", \"x\": [\"Hong Kong\"], \"xaxis\": \"x\", \"y\": [\"13,159\"], \"yaxis\": \"y\"}, {\"hovertemplate\": \"Country=%{x}<br>FDI_2018=%{y}<extra></extra>\", \"legendgroup\": \"India\", \"marker\": {\"color\": \"#ab63fa\", \"symbol\": \"circle\"}, \"mode\": \"markers\", \"name\": \"India\", \"orientation\": \"v\", \"showlegend\": true, \"type\": \"scatter\", \"x\": [\"India\"], \"xaxis\": \"x\", \"y\": [\"5,127\"], \"yaxis\": \"y\"}, {\"hovertemplate\": \"Country=%{x}<br>FDI_2018=%{y}<extra></extra>\", \"legendgroup\": \"Japan\", \"marker\": {\"color\": \"#FFA15A\", \"symbol\": \"circle\"}, \"mode\": \"markers\", \"name\": \"Japan\", \"orientation\": \"v\", \"showlegend\": true, \"type\": \"scatter\", \"x\": [\"Japan\"], \"xaxis\": \"x\", \"y\": [\"493,763\"], \"yaxis\": \"y\"}, {\"hovertemplate\": \"Country=%{x}<br>FDI_2018=%{y}<extra></extra>\", \"legendgroup\": \"Malaysia\", \"marker\": {\"color\": \"#19d3f3\", \"symbol\": \"circle\"}, \"mode\": \"markers\", \"name\": \"Malaysia\", \"orientation\": \"v\", \"showlegend\": true, \"type\": \"scatter\", \"x\": [\"Malaysia\"], \"xaxis\": \"x\", \"y\": [\"1,218\"], \"yaxis\": \"y\"}, {\"hovertemplate\": \"Country=%{x}<br>FDI_2018=%{y}<extra></extra>\", \"legendgroup\": \"New Zealand\", \"marker\": {\"color\": \"#FF6692\", \"symbol\": \"circle\"}, \"mode\": \"markers\", \"name\": \"New Zealand\", \"orientation\": \"v\", \"showlegend\": true, \"type\": \"scatter\", \"x\": [\"New Zealand\"], \"xaxis\": \"x\", \"y\": [\"2,107\"], \"yaxis\": \"y\"}, {\"hovertemplate\": \"Country=%{x}<br>FDI_2018=%{y}<extra></extra>\", \"legendgroup\": \"Singapore\", \"marker\": {\"color\": \"#B6E880\", \"symbol\": \"circle\"}, \"mode\": \"markers\", \"name\": \"Singapore\", \"orientation\": \"v\", \"showlegend\": true, \"type\": \"scatter\", \"x\": [\"Singapore\"], \"xaxis\": \"x\", \"y\": [\"18,267\"], \"yaxis\": \"y\"}, {\"hovertemplate\": \"Country=%{x}<br>FDI_2018=%{y}<extra></extra>\", \"legendgroup\": \"South Korea\", \"marker\": {\"color\": \"#FF97FF\", \"symbol\": \"circle\"}, \"mode\": \"markers\", \"name\": \"South Korea\", \"orientation\": \"v\", \"showlegend\": true, \"type\": \"scatter\", \"x\": [\"South Korea\"], \"xaxis\": \"x\", \"y\": [\"56,612\"], \"yaxis\": \"y\"}, {\"hovertemplate\": \"Country=%{x}<br>FDI_2018=%{y}<extra></extra>\", \"legendgroup\": \"Taiwan\", \"marker\": {\"color\": \"#FECB52\", \"symbol\": \"circle\"}, \"mode\": \"markers\", \"name\": \"Taiwan\", \"orientation\": \"v\", \"showlegend\": true, \"type\": \"scatter\", \"x\": [\"Taiwan\"], \"xaxis\": \"x\", \"y\": [\"10,512\"], \"yaxis\": \"y\"}, {\"hovertemplate\": \"Country=%{x}<br>FDI_2018=%{y}<extra></extra>\", \"legendgroup\": \"Bangladesh\", \"marker\": {\"color\": \"#636efa\", \"symbol\": \"circle\"}, \"mode\": \"markers\", \"name\": \"Bangladesh\", \"orientation\": \"v\", \"showlegend\": true, \"type\": \"scatter\", \"x\": [\"Bangladesh\"], \"xaxis\": \"x\", \"y\": [\"12\"], \"yaxis\": \"y\"}, {\"hovertemplate\": \"Country=%{x}<br>FDI_2018=%{y}<extra></extra>\", \"legendgroup\": \"Bhutan\", \"marker\": {\"color\": \"#EF553B\", \"symbol\": \"circle\"}, \"mode\": \"markers\", \"name\": \"Bhutan\", \"orientation\": \"v\", \"showlegend\": true, \"type\": \"scatter\", \"x\": [\"Bhutan\"], \"xaxis\": \"x\", \"y\": [\"0\"], \"yaxis\": \"y\"}, {\"hovertemplate\": \"Country=%{x}<br>FDI_2018=%{y}<extra></extra>\", \"legendgroup\": \"Burma\", \"marker\": {\"color\": \"#00cc96\", \"symbol\": \"circle\"}, \"mode\": \"markers\", \"name\": \"Burma\", \"orientation\": \"v\", \"showlegend\": true, \"type\": \"scatter\", \"x\": [\"Burma\"], \"xaxis\": \"x\", \"y\": [\"3\"], \"yaxis\": \"y\"}, {\"hovertemplate\": \"Country=%{x}<br>FDI_2018=%{y}<extra></extra>\", \"legendgroup\": \"Cambodia\", \"marker\": {\"color\": \"#ab63fa\", \"symbol\": \"circle\"}, \"mode\": \"markers\", \"name\": \"Cambodia\", \"orientation\": \"v\", \"showlegend\": true, \"type\": \"scatter\", \"x\": [\"Cambodia\"], \"xaxis\": \"x\", \"y\": [\"4\"], \"yaxis\": \"y\"}, {\"hovertemplate\": \"Country=%{x}<br>FDI_2018=%{y}<extra></extra>\", \"legendgroup\": \"French Islands, Indian Ocean\", \"marker\": {\"color\": \"#FFA15A\", \"symbol\": \"circle\"}, \"mode\": \"markers\", \"name\": \"French Islands, Indian Ocean\", \"orientation\": \"v\", \"showlegend\": true, \"type\": \"scatter\", \"x\": [\"French Islands, Indian Ocean\"], \"xaxis\": \"x\", \"y\": [\"0\"], \"yaxis\": \"y\"}, {\"hovertemplate\": \"Country=%{x}<br>FDI_2018=%{y}<extra></extra>\", \"legendgroup\": \"Indonesia\", \"marker\": {\"color\": \"#19d3f3\", \"symbol\": \"circle\"}, \"mode\": \"markers\", \"name\": \"Indonesia\", \"orientation\": \"v\", \"showlegend\": true, \"type\": \"scatter\", \"x\": [\"Indonesia\"], \"xaxis\": \"x\", \"y\": [\"344\"], \"yaxis\": \"y\"}, {\"hovertemplate\": \"Country=%{x}<br>FDI_2018=%{y}<extra></extra>\", \"legendgroup\": \"Kiribati\", \"marker\": {\"color\": \"#FF6692\", \"symbol\": \"circle\"}, \"mode\": \"markers\", \"name\": \"Kiribati\", \"orientation\": \"v\", \"showlegend\": true, \"type\": \"scatter\", \"x\": [\"Kiribati\"], \"xaxis\": \"x\", \"y\": [\"0\"], \"yaxis\": \"y\"}, {\"hovertemplate\": \"Country=%{x}<br>FDI_2018=%{y}<extra></extra>\", \"legendgroup\": \"Laos\", \"marker\": {\"color\": \"#B6E880\", \"symbol\": \"circle\"}, \"mode\": \"markers\", \"name\": \"Laos\", \"orientation\": \"v\", \"showlegend\": true, \"type\": \"scatter\", \"x\": [\"Laos\"], \"xaxis\": \"x\", \"y\": [\"0\"], \"yaxis\": \"y\"}, {\"hovertemplate\": \"Country=%{x}<br>FDI_2018=%{y}<extra></extra>\", \"legendgroup\": \"Maldives\", \"marker\": {\"color\": \"#FF97FF\", \"symbol\": \"circle\"}, \"mode\": \"markers\", \"name\": \"Maldives\", \"orientation\": \"v\", \"showlegend\": true, \"type\": \"scatter\", \"x\": [\"Maldives\"], \"xaxis\": \"x\", \"y\": [\"0\"], \"yaxis\": \"y\"}, {\"hovertemplate\": \"Country=%{x}<br>FDI_2018=%{y}<extra></extra>\", \"legendgroup\": \"Micronesia\", \"marker\": {\"color\": \"#FECB52\", \"symbol\": \"circle\"}, \"mode\": \"markers\", \"name\": \"Micronesia\", \"orientation\": \"v\", \"showlegend\": true, \"type\": \"scatter\", \"x\": [\"Micronesia\"], \"xaxis\": \"x\", \"y\": [\"1\"], \"yaxis\": \"y\"}, {\"hovertemplate\": \"Country=%{x}<br>FDI_2018=%{y}<extra></extra>\", \"legendgroup\": \"Nauru\", \"marker\": {\"color\": \"#636efa\", \"symbol\": \"circle\"}, \"mode\": \"markers\", \"name\": \"Nauru\", \"orientation\": \"v\", \"showlegend\": true, \"type\": \"scatter\", \"x\": [\"Nauru\"], \"xaxis\": \"x\", \"y\": [\"0\"], \"yaxis\": \"y\"}, {\"hovertemplate\": \"Country=%{x}<br>FDI_2018=%{y}<extra></extra>\", \"legendgroup\": \"North Korea\", \"marker\": {\"color\": \"#EF553B\", \"symbol\": \"circle\"}, \"mode\": \"markers\", \"name\": \"North Korea\", \"orientation\": \"v\", \"showlegend\": true, \"type\": \"scatter\", \"x\": [\"North Korea\"], \"xaxis\": \"x\", \"y\": [\"0\"], \"yaxis\": \"y\"}, {\"hovertemplate\": \"Country=%{x}<br>FDI_2018=%{y}<extra></extra>\", \"legendgroup\": \"Pakistan\", \"marker\": {\"color\": \"#00cc96\", \"symbol\": \"circle\"}, \"mode\": \"markers\", \"name\": \"Pakistan\", \"orientation\": \"v\", \"showlegend\": true, \"type\": \"scatter\", \"x\": [\"Pakistan\"], \"xaxis\": \"x\", \"y\": [\"167\"], \"yaxis\": \"y\"}, {\"hovertemplate\": \"Country=%{x}<br>FDI_2018=%{y}<extra></extra>\", \"legendgroup\": \"Papua New Guinea\", \"marker\": {\"color\": \"#ab63fa\", \"symbol\": \"circle\"}, \"mode\": \"markers\", \"name\": \"Papua New Guinea\", \"orientation\": \"v\", \"showlegend\": true, \"type\": \"scatter\", \"x\": [\"Papua New Guinea\"], \"xaxis\": \"x\", \"y\": [\"1\"], \"yaxis\": \"y\"}, {\"hovertemplate\": \"Country=%{x}<br>FDI_2018=%{y}<extra></extra>\", \"legendgroup\": \"Philippines\", \"marker\": {\"color\": \"#FFA15A\", \"symbol\": \"circle\"}, \"mode\": \"markers\", \"name\": \"Philippines\", \"orientation\": \"v\", \"showlegend\": true, \"type\": \"scatter\", \"x\": [\"Philippines\"], \"xaxis\": \"x\", \"y\": [\"361\"], \"yaxis\": \"y\"}, {\"hovertemplate\": \"Country=%{x}<br>FDI_2018=%{y}<extra></extra>\", \"legendgroup\": \"Solomon Islands\", \"marker\": {\"color\": \"#19d3f3\", \"symbol\": \"circle\"}, \"mode\": \"markers\", \"name\": \"Solomon Islands\", \"orientation\": \"v\", \"showlegend\": true, \"type\": \"scatter\", \"x\": [\"Solomon Islands\"], \"xaxis\": \"x\", \"y\": [\"0\"], \"yaxis\": \"y\"}, {\"hovertemplate\": \"Country=%{x}<br>FDI_2018=%{y}<extra></extra>\", \"legendgroup\": \"Sri Lanka\", \"marker\": {\"color\": \"#FF6692\", \"symbol\": \"circle\"}, \"mode\": \"markers\", \"name\": \"Sri Lanka\", \"orientation\": \"v\", \"showlegend\": true, \"type\": \"scatter\", \"x\": [\"Sri Lanka\"], \"xaxis\": \"x\", \"y\": [\"66\"], \"yaxis\": \"y\"}, {\"hovertemplate\": \"Country=%{x}<br>FDI_2018=%{y}<extra></extra>\", \"legendgroup\": \"Thailand\", \"marker\": {\"color\": \"#B6E880\", \"symbol\": \"circle\"}, \"mode\": \"markers\", \"name\": \"Thailand\", \"orientation\": \"v\", \"showlegend\": true, \"type\": \"scatter\", \"x\": [\"Thailand\"], \"xaxis\": \"x\", \"y\": [\"2,136\"], \"yaxis\": \"y\"}, {\"hovertemplate\": \"Country=%{x}<br>FDI_2018=%{y}<extra></extra>\", \"legendgroup\": \"Timor-Leste\", \"marker\": {\"color\": \"#FF97FF\", \"symbol\": \"circle\"}, \"mode\": \"markers\", \"name\": \"Timor-Leste\", \"orientation\": \"v\", \"showlegend\": true, \"type\": \"scatter\", \"x\": [\"Timor-Leste\"], \"xaxis\": \"x\", \"y\": [\"0\"], \"yaxis\": \"y\"}, {\"hovertemplate\": \"Country=%{x}<br>FDI_2018=%{y}<extra></extra>\", \"legendgroup\": \"Tongo\", \"marker\": {\"color\": \"#FECB52\", \"symbol\": \"circle\"}, \"mode\": \"markers\", \"name\": \"Tongo\", \"orientation\": \"v\", \"showlegend\": true, \"type\": \"scatter\", \"x\": [\"Tongo\"], \"xaxis\": \"x\", \"y\": [\"0\"], \"yaxis\": \"y\"}, {\"hovertemplate\": \"Country=%{x}<br>FDI_2018=%{y}<extra></extra>\", \"legendgroup\": \"Tuvalu\", \"marker\": {\"color\": \"#636efa\", \"symbol\": \"circle\"}, \"mode\": \"markers\", \"name\": \"Tuvalu\", \"orientation\": \"v\", \"showlegend\": true, \"type\": \"scatter\", \"x\": [\"Tuvalu\"], \"xaxis\": \"x\", \"y\": [\"0\"], \"yaxis\": \"y\"}, {\"hovertemplate\": \"Country=%{x}<br>FDI_2018=%{y}<extra></extra>\", \"legendgroup\": \"United Kingdom Islands, Indian Ocean\", \"marker\": {\"color\": \"#EF553B\", \"symbol\": \"circle\"}, \"mode\": \"markers\", \"name\": \"United Kingdom Islands, Indian Ocean\", \"orientation\": \"v\", \"showlegend\": true, \"type\": \"scatter\", \"x\": [\"United Kingdom Islands, Indian Ocean\"], \"xaxis\": \"x\", \"y\": [\"-1\"], \"yaxis\": \"y\"}, {\"hovertemplate\": \"Country=%{x}<br>FDI_2018=%{y}<extra></extra>\", \"legendgroup\": \"Vietnam\", \"marker\": {\"color\": \"#00cc96\", \"symbol\": \"circle\"}, \"mode\": \"markers\", \"name\": \"Vietnam\", \"orientation\": \"v\", \"showlegend\": true, \"type\": \"scatter\", \"x\": [\"Vietnam\"], \"xaxis\": \"x\", \"y\": [\"59\"], \"yaxis\": \"y\"}],                        {\"legend\": {\"title\": {\"text\": \"Country\"}, \"tracegroupgap\": 0}, \"margin\": {\"t\": 60}, \"template\": {\"data\": {\"bar\": [{\"error_x\": {\"color\": \"#2a3f5f\"}, \"error_y\": {\"color\": \"#2a3f5f\"}, \"marker\": {\"line\": {\"color\": \"#E5ECF6\", \"width\": 0.5}}, \"type\": \"bar\"}], \"barpolar\": [{\"marker\": {\"line\": {\"color\": \"#E5ECF6\", \"width\": 0.5}}, \"type\": \"barpolar\"}], \"carpet\": [{\"aaxis\": {\"endlinecolor\": \"#2a3f5f\", \"gridcolor\": \"white\", \"linecolor\": \"white\", \"minorgridcolor\": \"white\", \"startlinecolor\": \"#2a3f5f\"}, \"baxis\": {\"endlinecolor\": \"#2a3f5f\", \"gridcolor\": \"white\", \"linecolor\": \"white\", \"minorgridcolor\": \"white\", \"startlinecolor\": \"#2a3f5f\"}, \"type\": \"carpet\"}], \"choropleth\": [{\"colorbar\": {\"outlinewidth\": 0, \"ticks\": \"\"}, \"type\": \"choropleth\"}], \"contour\": [{\"colorbar\": {\"outlinewidth\": 0, \"ticks\": \"\"}, \"colorscale\": [[0.0, \"#0d0887\"], [0.1111111111111111, \"#46039f\"], [0.2222222222222222, \"#7201a8\"], [0.3333333333333333, \"#9c179e\"], [0.4444444444444444, \"#bd3786\"], [0.5555555555555556, \"#d8576b\"], [0.6666666666666666, \"#ed7953\"], [0.7777777777777778, \"#fb9f3a\"], [0.8888888888888888, \"#fdca26\"], [1.0, \"#f0f921\"]], \"type\": \"contour\"}], \"contourcarpet\": [{\"colorbar\": {\"outlinewidth\": 0, \"ticks\": \"\"}, \"type\": \"contourcarpet\"}], \"heatmap\": [{\"colorbar\": {\"outlinewidth\": 0, \"ticks\": \"\"}, \"colorscale\": [[0.0, \"#0d0887\"], [0.1111111111111111, \"#46039f\"], [0.2222222222222222, \"#7201a8\"], [0.3333333333333333, \"#9c179e\"], [0.4444444444444444, \"#bd3786\"], [0.5555555555555556, \"#d8576b\"], [0.6666666666666666, \"#ed7953\"], [0.7777777777777778, \"#fb9f3a\"], [0.8888888888888888, \"#fdca26\"], [1.0, \"#f0f921\"]], \"type\": \"heatmap\"}], \"heatmapgl\": [{\"colorbar\": {\"outlinewidth\": 0, \"ticks\": \"\"}, \"colorscale\": [[0.0, \"#0d0887\"], [0.1111111111111111, \"#46039f\"], [0.2222222222222222, \"#7201a8\"], [0.3333333333333333, \"#9c179e\"], [0.4444444444444444, \"#bd3786\"], [0.5555555555555556, \"#d8576b\"], [0.6666666666666666, \"#ed7953\"], [0.7777777777777778, \"#fb9f3a\"], [0.8888888888888888, \"#fdca26\"], [1.0, \"#f0f921\"]], \"type\": \"heatmapgl\"}], \"histogram\": [{\"marker\": {\"colorbar\": {\"outlinewidth\": 0, \"ticks\": \"\"}}, \"type\": \"histogram\"}], \"histogram2d\": [{\"colorbar\": {\"outlinewidth\": 0, \"ticks\": \"\"}, \"colorscale\": [[0.0, \"#0d0887\"], [0.1111111111111111, \"#46039f\"], [0.2222222222222222, \"#7201a8\"], [0.3333333333333333, \"#9c179e\"], [0.4444444444444444, \"#bd3786\"], [0.5555555555555556, \"#d8576b\"], [0.6666666666666666, \"#ed7953\"], [0.7777777777777778, \"#fb9f3a\"], [0.8888888888888888, \"#fdca26\"], [1.0, \"#f0f921\"]], \"type\": \"histogram2d\"}], \"histogram2dcontour\": [{\"colorbar\": {\"outlinewidth\": 0, \"ticks\": \"\"}, \"colorscale\": [[0.0, \"#0d0887\"], [0.1111111111111111, \"#46039f\"], [0.2222222222222222, \"#7201a8\"], [0.3333333333333333, \"#9c179e\"], [0.4444444444444444, \"#bd3786\"], [0.5555555555555556, \"#d8576b\"], [0.6666666666666666, \"#ed7953\"], [0.7777777777777778, \"#fb9f3a\"], [0.8888888888888888, \"#fdca26\"], [1.0, \"#f0f921\"]], \"type\": \"histogram2dcontour\"}], \"mesh3d\": [{\"colorbar\": {\"outlinewidth\": 0, \"ticks\": \"\"}, \"type\": \"mesh3d\"}], \"parcoords\": [{\"line\": {\"colorbar\": {\"outlinewidth\": 0, \"ticks\": \"\"}}, \"type\": \"parcoords\"}], \"pie\": [{\"automargin\": true, \"type\": \"pie\"}], \"scatter\": [{\"marker\": {\"colorbar\": {\"outlinewidth\": 0, \"ticks\": \"\"}}, \"type\": \"scatter\"}], \"scatter3d\": [{\"line\": {\"colorbar\": {\"outlinewidth\": 0, \"ticks\": \"\"}}, \"marker\": {\"colorbar\": {\"outlinewidth\": 0, \"ticks\": \"\"}}, \"type\": \"scatter3d\"}], \"scattercarpet\": [{\"marker\": {\"colorbar\": {\"outlinewidth\": 0, \"ticks\": \"\"}}, \"type\": \"scattercarpet\"}], \"scattergeo\": [{\"marker\": {\"colorbar\": {\"outlinewidth\": 0, \"ticks\": \"\"}}, \"type\": \"scattergeo\"}], \"scattergl\": [{\"marker\": {\"colorbar\": {\"outlinewidth\": 0, \"ticks\": \"\"}}, \"type\": \"scattergl\"}], \"scattermapbox\": [{\"marker\": {\"colorbar\": {\"outlinewidth\": 0, \"ticks\": \"\"}}, \"type\": \"scattermapbox\"}], \"scatterpolar\": [{\"marker\": {\"colorbar\": {\"outlinewidth\": 0, \"ticks\": \"\"}}, \"type\": \"scatterpolar\"}], \"scatterpolargl\": [{\"marker\": {\"colorbar\": {\"outlinewidth\": 0, \"ticks\": \"\"}}, \"type\": \"scatterpolargl\"}], \"scatterternary\": [{\"marker\": {\"colorbar\": {\"outlinewidth\": 0, \"ticks\": \"\"}}, \"type\": \"scatterternary\"}], \"surface\": [{\"colorbar\": {\"outlinewidth\": 0, \"ticks\": \"\"}, \"colorscale\": [[0.0, \"#0d0887\"], [0.1111111111111111, \"#46039f\"], [0.2222222222222222, \"#7201a8\"], [0.3333333333333333, \"#9c179e\"], [0.4444444444444444, \"#bd3786\"], [0.5555555555555556, \"#d8576b\"], [0.6666666666666666, \"#ed7953\"], [0.7777777777777778, \"#fb9f3a\"], [0.8888888888888888, \"#fdca26\"], [1.0, \"#f0f921\"]], \"type\": \"surface\"}], \"table\": [{\"cells\": {\"fill\": {\"color\": \"#EBF0F8\"}, \"line\": {\"color\": \"white\"}}, \"header\": {\"fill\": {\"color\": \"#C8D4E3\"}, \"line\": {\"color\": \"white\"}}, \"type\": \"table\"}]}, \"layout\": {\"annotationdefaults\": {\"arrowcolor\": \"#2a3f5f\", \"arrowhead\": 0, \"arrowwidth\": 1}, \"coloraxis\": {\"colorbar\": {\"outlinewidth\": 0, \"ticks\": \"\"}}, \"colorscale\": {\"diverging\": [[0, \"#8e0152\"], [0.1, \"#c51b7d\"], [0.2, \"#de77ae\"], [0.3, \"#f1b6da\"], [0.4, \"#fde0ef\"], [0.5, \"#f7f7f7\"], [0.6, \"#e6f5d0\"], [0.7, \"#b8e186\"], [0.8, \"#7fbc41\"], [0.9, \"#4d9221\"], [1, \"#276419\"]], \"sequential\": [[0.0, \"#0d0887\"], [0.1111111111111111, \"#46039f\"], [0.2222222222222222, \"#7201a8\"], [0.3333333333333333, \"#9c179e\"], [0.4444444444444444, \"#bd3786\"], [0.5555555555555556, \"#d8576b\"], [0.6666666666666666, \"#ed7953\"], [0.7777777777777778, \"#fb9f3a\"], [0.8888888888888888, \"#fdca26\"], [1.0, \"#f0f921\"]], \"sequentialminus\": [[0.0, \"#0d0887\"], [0.1111111111111111, \"#46039f\"], [0.2222222222222222, \"#7201a8\"], [0.3333333333333333, \"#9c179e\"], [0.4444444444444444, \"#bd3786\"], [0.5555555555555556, \"#d8576b\"], [0.6666666666666666, \"#ed7953\"], [0.7777777777777778, \"#fb9f3a\"], [0.8888888888888888, \"#fdca26\"], [1.0, \"#f0f921\"]]}, \"colorway\": [\"#636efa\", \"#EF553B\", \"#00cc96\", \"#ab63fa\", \"#FFA15A\", \"#19d3f3\", \"#FF6692\", \"#B6E880\", \"#FF97FF\", \"#FECB52\"], \"font\": {\"color\": \"#2a3f5f\"}, \"geo\": {\"bgcolor\": \"white\", \"lakecolor\": \"white\", \"landcolor\": \"#E5ECF6\", \"showlakes\": true, \"showland\": true, \"subunitcolor\": \"white\"}, \"hoverlabel\": {\"align\": \"left\"}, \"hovermode\": \"closest\", \"mapbox\": {\"style\": \"light\"}, \"paper_bgcolor\": \"white\", \"plot_bgcolor\": \"#E5ECF6\", \"polar\": {\"angularaxis\": {\"gridcolor\": \"white\", \"linecolor\": \"white\", \"ticks\": \"\"}, \"bgcolor\": \"#E5ECF6\", \"radialaxis\": {\"gridcolor\": \"white\", \"linecolor\": \"white\", \"ticks\": \"\"}}, \"scene\": {\"xaxis\": {\"backgroundcolor\": \"#E5ECF6\", \"gridcolor\": \"white\", \"gridwidth\": 2, \"linecolor\": \"white\", \"showbackground\": true, \"ticks\": \"\", \"zerolinecolor\": \"white\"}, \"yaxis\": {\"backgroundcolor\": \"#E5ECF6\", \"gridcolor\": \"white\", \"gridwidth\": 2, \"linecolor\": \"white\", \"showbackground\": true, \"ticks\": \"\", \"zerolinecolor\": \"white\"}, \"zaxis\": {\"backgroundcolor\": \"#E5ECF6\", \"gridcolor\": \"white\", \"gridwidth\": 2, \"linecolor\": \"white\", \"showbackground\": true, \"ticks\": \"\", \"zerolinecolor\": \"white\"}}, \"shapedefaults\": {\"line\": {\"color\": \"#2a3f5f\"}}, \"ternary\": {\"aaxis\": {\"gridcolor\": \"white\", \"linecolor\": \"white\", \"ticks\": \"\"}, \"baxis\": {\"gridcolor\": \"white\", \"linecolor\": \"white\", \"ticks\": \"\"}, \"bgcolor\": \"#E5ECF6\", \"caxis\": {\"gridcolor\": \"white\", \"linecolor\": \"white\", \"ticks\": \"\"}}, \"title\": {\"x\": 0.05}, \"xaxis\": {\"automargin\": true, \"gridcolor\": \"white\", \"linecolor\": \"white\", \"ticks\": \"\", \"title\": {\"standoff\": 15}, \"zerolinecolor\": \"white\", \"zerolinewidth\": 2}, \"yaxis\": {\"automargin\": true, \"gridcolor\": \"white\", \"linecolor\": \"white\", \"ticks\": \"\", \"title\": {\"standoff\": 15}, \"zerolinecolor\": \"white\", \"zerolinewidth\": 2}}}, \"xaxis\": {\"anchor\": \"y\", \"categoryarray\": [\"Canada\", \"Austria\", \"Belgium\", \"Denmark\", \"Finland\", \"France\", \"Germany\", \"Ireland\", \"Italy\", \"Luxembourg\", \"Netherlands\", \"Norway\", \"Spain\", \"Sweden\", \"Switzerland\", \"United Kingdom\", \"Andorra\", \"Armenia\", \"Azerbaijan\", \"Belarus\", \"Georgia\", \"Gibraltar\", \"Hungary\", \"Kosovo\", \"Kyrgyzstan\", \"Malta\", \"Moldova\", \"Monaco\", \"North Macedonia\", \"Portugal\", \"Russia\", \"San Marino\", \"Serbia\", \"Slovakia\", \"Slovenia\", \"Tajikistan\", \"Turkey\", \"Turkmenistan\", \"Vatican City\", \"Brazil\", \"Mexico\", \"Panama\", \"Venezuela\", \"Argentina\", \"Belize\", \"Chile\", \"Colombia\", \"Costa Rica\", \"Ecuador\", \"El Salvador\", \"French Guiana\", \"Honduras\", \"Nicaragua\", \"Peru\", \"Uruguay\", \"Bahamas\", \"Bermuda\", \"Curacao 2\", \"Netherlands Antilles 3\", \"United Kingdom Islands, Caribbean  4\", \"Antigua and Barbuda\", \"Barbados\", \"Dominican Republic\", \"French Islands, Caribbean\", \"Haiti\", \"Jamaica\", \"Sint Maarten 2\", \"St. Pierre and Miquelon\", \"St. Vincent and the Grenadines\", \"Trinidad and Tobago\", \"Africa\", \"South Africa\", \"Benin\", \"Botswana\", \"Burkina Faso\", \"Burundi\", \"Cabo Verde\", \"Chad\", \"Comoros\", \"Djibouti\", \"Egypt\", \"Eritrea\", \"Eswatini\", \"Gambia\", \"Ghana\", \"Guinea-Bissau\", \"Lesotho\", \"Liberia\", \"Mali\", \"Mauritania\", \"Mauritius\", \"Nigeria\", \"Rwanda\", \"Sao Tome and Principe\", \"Sierra Leone\", \"South Sudan\", \"Togo\", \"Tunisia\", \"Western Sahara\", \"Zambia\", \"Middle East\", \"Israel\", \"Kuwait\", \"Lebanon\", \"Saudi Arabia\", \"United Arab Emirates\", \"Oman\", \"Syria\", \"Yemen\", \"Asia and Pacific\", \"Australia\", \"China\", \"Hong Kong\", \"India\", \"Japan\", \"Malaysia\", \"New Zealand\", \"Singapore\", \"South Korea\", \"Taiwan\", \"Bangladesh\", \"Bhutan\", \"Burma\", \"Cambodia\", \"French Islands, Indian Ocean\", \"Indonesia\", \"Kiribati\", \"Laos\", \"Maldives\", \"Micronesia\", \"Nauru\", \"North Korea\", \"Pakistan\", \"Papua New Guinea\", \"Philippines\", \"Solomon Islands\", \"Sri Lanka\", \"Thailand\", \"Timor-Leste\", \"Tongo\", \"Tuvalu\", \"United Kingdom Islands, Indian Ocean\", \"Vietnam\"], \"categoryorder\": \"array\", \"domain\": [0.0, 1.0], \"title\": {\"text\": \"Country\"}}, \"yaxis\": {\"anchor\": \"x\", \"domain\": [0.0, 1.0], \"title\": {\"text\": \"FDI_2018\"}}},                        {\"responsive\": true}                    ).then(function(){\n",
       "                            \n",
       "var gd = document.getElementById('9699cbb4-fda4-4497-bc3f-221062591bf4');\n",
       "var x = new MutationObserver(function (mutations, observer) {{\n",
       "        var display = window.getComputedStyle(gd).display;\n",
       "        if (!display || display === 'none') {{\n",
       "            console.log([gd, 'removed!']);\n",
       "            Plotly.purge(gd);\n",
       "            observer.disconnect();\n",
       "        }}\n",
       "}});\n",
       "\n",
       "// Listen for the removal of the full notebook cells\n",
       "var notebookContainer = gd.closest('#notebook-container');\n",
       "if (notebookContainer) {{\n",
       "    x.observe(notebookContainer, {childList: true});\n",
       "}}\n",
       "\n",
       "// Listen for the clearing of the current output cell\n",
       "var outputEl = gd.closest('.output');\n",
       "if (outputEl) {{\n",
       "    x.observe(outputEl, {childList: true});\n",
       "}}\n",
       "\n",
       "                        })                };                });            </script>        </div>"
      ]
     },
     "metadata": {},
     "output_type": "display_data"
    }
   ],
   "source": [
    "df = px.data.iris()\n",
    "# Use directly Columns as argument. You can use tab completion for this!\n",
    "fig = px.scatter(fdi__171819_df, x=\"Country\", y=\"FDI_2018\", color=\"Country\")\n",
    "fig.show()"
   ]
  },
  {
   "cell_type": "code",
   "execution_count": null,
   "metadata": {},
   "outputs": [],
   "source": []
  }
 ],
 "metadata": {
  "environment": {
   "name": "common-cpu.m55",
   "type": "gcloud",
   "uri": "gcr.io/deeplearning-platform-release/base-cpu:m55"
  },
  "kernelspec": {
   "display_name": "Python 3",
   "language": "python",
   "name": "python3"
  },
  "language_info": {
   "codemirror_mode": {
    "name": "ipython",
    "version": 3
   },
   "file_extension": ".py",
   "mimetype": "text/x-python",
   "name": "python",
   "nbconvert_exporter": "python",
   "pygments_lexer": "ipython3",
   "version": "3.7.8"
  }
 },
 "nbformat": 4,
 "nbformat_minor": 4
}
